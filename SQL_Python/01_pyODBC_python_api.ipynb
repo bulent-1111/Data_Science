{
 "cells": [
  {
   "cell_type": "markdown",
   "metadata": {},
   "source": [
    "pyODBC"
   ]
  },
  {
   "cell_type": "code",
   "execution_count": 1,
   "metadata": {},
   "outputs": [
    {
     "name": "stdout",
     "output_type": "stream",
     "text": [
      "Collecting pyodbc\n",
      "  Downloading pyodbc-4.0.32.tar.gz (280 kB)\n",
      "  Preparing metadata (setup.py): started\n",
      "  Preparing metadata (setup.py): finished with status 'done'\n",
      "Using legacy 'setup.py install' for pyodbc, since package 'wheel' is not installed.\n",
      "Installing collected packages: pyodbc\n",
      "    Running setup.py install for pyodbc: started\n",
      "    Running setup.py install for pyodbc: finished with status 'error'\n",
      "Note: you may need to restart the kernel to use updated packages.\n"
     ]
    },
    {
     "name": "stderr",
     "output_type": "stream",
     "text": [
      "    ERROR: Command errored out with exit status 1:\n",
      "     command: 'C:\\Users\\bulen\\AppData\\Local\\Programs\\Python\\Python310\\python.exe' -u -c 'import io, os, sys, setuptools, tokenize; sys.argv[0] = '\"'\"'C:\\\\Users\\\\bulen\\\\AppData\\\\Local\\\\Temp\\\\pip-install-evi88xlo\\\\pyodbc_0ccf077cbf5d475b9cfd9d4c136fce87\\\\setup.py'\"'\"'; __file__='\"'\"'C:\\\\Users\\\\bulen\\\\AppData\\\\Local\\\\Temp\\\\pip-install-evi88xlo\\\\pyodbc_0ccf077cbf5d475b9cfd9d4c136fce87\\\\setup.py'\"'\"';f = getattr(tokenize, '\"'\"'open'\"'\"', open)(__file__) if os.path.exists(__file__) else io.StringIO('\"'\"'from setuptools import setup; setup()'\"'\"');code = f.read().replace('\"'\"'\\r\\n'\"'\"', '\"'\"'\\n'\"'\"');f.close();exec(compile(code, __file__, '\"'\"'exec'\"'\"'))' install --record 'C:\\Users\\bulen\\AppData\\Local\\Temp\\pip-record-f2nzu4a8\\install-record.txt' --single-version-externally-managed --compile --install-headers 'C:\\Users\\bulen\\AppData\\Local\\Programs\\Python\\Python310\\Include\\pyodbc'\n",
      "         cwd: C:\\Users\\bulen\\AppData\\Local\\Temp\\pip-install-evi88xlo\\pyodbc_0ccf077cbf5d475b9cfd9d4c136fce87\\\n",
      "    Complete output (5 lines):\n",
      "    running install\n",
      "    running build\n",
      "    running build_ext\n",
      "    building 'pyodbc' extension\n",
      "    error: Microsoft Visual C++ 14.0 or greater is required. Get it with \"Microsoft C++ Build Tools\": https://visualstudio.microsoft.com/visual-cpp-build-tools/\n",
      "    ----------------------------------------\n",
      "ERROR: Command errored out with exit status 1: 'C:\\Users\\bulen\\AppData\\Local\\Programs\\Python\\Python310\\python.exe' -u -c 'import io, os, sys, setuptools, tokenize; sys.argv[0] = '\"'\"'C:\\\\Users\\\\bulen\\\\AppData\\\\Local\\\\Temp\\\\pip-install-evi88xlo\\\\pyodbc_0ccf077cbf5d475b9cfd9d4c136fce87\\\\setup.py'\"'\"'; __file__='\"'\"'C:\\\\Users\\\\bulen\\\\AppData\\\\Local\\\\Temp\\\\pip-install-evi88xlo\\\\pyodbc_0ccf077cbf5d475b9cfd9d4c136fce87\\\\setup.py'\"'\"';f = getattr(tokenize, '\"'\"'open'\"'\"', open)(__file__) if os.path.exists(__file__) else io.StringIO('\"'\"'from setuptools import setup; setup()'\"'\"');code = f.read().replace('\"'\"'\\r\\n'\"'\"', '\"'\"'\\n'\"'\"');f.close();exec(compile(code, __file__, '\"'\"'exec'\"'\"'))' install --record 'C:\\Users\\bulen\\AppData\\Local\\Temp\\pip-record-f2nzu4a8\\install-record.txt' --single-version-externally-managed --compile --install-headers 'C:\\Users\\bulen\\AppData\\Local\\Programs\\Python\\Python310\\Include\\pyodbc' Check the logs for full command output.\n",
      "WARNING: You are using pip version 21.3.1; however, version 22.0.3 is available.\n",
      "You should consider upgrading via the 'C:\\Users\\bulen\\AppData\\Local\\Programs\\Python\\Python310\\python.exe -m pip install --upgrade pip' command.\n"
     ]
    }
   ],
   "source": [
    "pip install pyodbc"
   ]
  },
  {
   "cell_type": "code",
   "execution_count": null,
   "metadata": {},
   "outputs": [],
   "source": []
  }
 ],
 "metadata": {
  "interpreter": {
   "hash": "9920565f38e5baefdb4026c37eef4637400a2582ed12a30c7a979c1724ec1673"
  },
  "kernelspec": {
   "display_name": "Python 3.10.2 64-bit",
   "language": "python",
   "name": "python3"
  },
  "language_info": {
   "codemirror_mode": {
    "name": "ipython",
    "version": 3
   },
   "file_extension": ".py",
   "mimetype": "text/x-python",
   "name": "python",
   "nbconvert_exporter": "python",
   "pygments_lexer": "ipython3",
   "version": "3.10.2"
  },
  "orig_nbformat": 4
 },
 "nbformat": 4,
 "nbformat_minor": 2
}
