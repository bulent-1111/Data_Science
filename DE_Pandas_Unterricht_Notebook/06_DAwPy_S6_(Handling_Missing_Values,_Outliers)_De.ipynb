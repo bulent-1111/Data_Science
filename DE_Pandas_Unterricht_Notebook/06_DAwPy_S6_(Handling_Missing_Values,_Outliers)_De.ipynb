{
 "cells": [
  {
   "cell_type": "markdown",
   "metadata": {
    "id": "IlgneDcCDyzP"
   },
   "source": [
    "___\n",
    "\n",
    "<p style=\"text-align: center;\"><img src=\"https://docs.google.com/uc?id=1lY0Uj5R04yMY3-ZppPWxqCr5pvBLYPnV\" class=\"img-fluid\" alt=\"CLRSWY\"></p>\n",
    "\n",
    "___"
   ]
  },
  {
   "cell_type": "markdown",
   "metadata": {
    "id": "U08URC_kDyzW"
   },
   "source": [
    "<head>\n",
    "    <center><title>~ Pandas Datenrahmen | Lektion-3 ~</title></center>\n",
    "</head>"
   ]
  },
  {
   "cell_type": "markdown",
   "metadata": {
    "lang": "de"
   },
   "source": [
    "# Fehlende Werte und Ausreißer"
   ]
  },
  {
   "cell_type": "markdown",
   "metadata": {
    "lang": "de"
   },
   "source": [
    "## Umgang | Handhabung mit fehlenden Werten"
   ]
  },
  {
   "cell_type": "code",
   "execution_count": 476,
   "metadata": {
    "id": "-bhPlyEyDyzY"
   },
   "outputs": [],
   "source": [
    "import numpy as np\n",
    "import pandas as pd\n",
    "import seaborn as sns"
   ]
  },
  {
   "cell_type": "code",
   "execution_count": 477,
   "metadata": {
    "id": "tbH43uTM98fP",
    "outputId": "05e86669-82f3-425c-8478-14a47097b792"
   },
   "outputs": [
    {
     "data": {
      "text/html": [
       "<div>\n",
       "<style scoped>\n",
       "    .dataframe tbody tr th:only-of-type {\n",
       "        vertical-align: middle;\n",
       "    }\n",
       "\n",
       "    .dataframe tbody tr th {\n",
       "        vertical-align: top;\n",
       "    }\n",
       "\n",
       "    .dataframe thead th {\n",
       "        text-align: right;\n",
       "    }\n",
       "</style>\n",
       "<table border=\"1\" class=\"dataframe\">\n",
       "  <thead>\n",
       "    <tr style=\"text-align: right;\">\n",
       "      <th></th>\n",
       "      <th>id</th>\n",
       "      <th>gender</th>\n",
       "      <th>status</th>\n",
       "      <th>dept</th>\n",
       "      <th>dept_</th>\n",
       "      <th>var1</th>\n",
       "      <th>var2</th>\n",
       "      <th>salary</th>\n",
       "    </tr>\n",
       "  </thead>\n",
       "  <tbody>\n",
       "    <tr>\n",
       "      <th>0</th>\n",
       "      <td>P001</td>\n",
       "      <td>M</td>\n",
       "      <td>FT</td>\n",
       "      <td>DS</td>\n",
       "      <td>1</td>\n",
       "      <td>2</td>\n",
       "      <td>8.0</td>\n",
       "      <td>NaN</td>\n",
       "    </tr>\n",
       "    <tr>\n",
       "      <th>1</th>\n",
       "      <td>P002</td>\n",
       "      <td>F</td>\n",
       "      <td>PT</td>\n",
       "      <td>FS</td>\n",
       "      <td>FS</td>\n",
       "      <td>3</td>\n",
       "      <td>NaN</td>\n",
       "      <td>54.0</td>\n",
       "    </tr>\n",
       "    <tr>\n",
       "      <th>2</th>\n",
       "      <td>P003</td>\n",
       "      <td>M</td>\n",
       "      <td>-</td>\n",
       "      <td>AWS</td>\n",
       "      <td>None</td>\n",
       "      <td>5</td>\n",
       "      <td>5.0</td>\n",
       "      <td>59.0</td>\n",
       "    </tr>\n",
       "    <tr>\n",
       "      <th>3</th>\n",
       "      <td>P004</td>\n",
       "      <td>F</td>\n",
       "      <td>FT</td>\n",
       "      <td>AWS</td>\n",
       "      <td>AWS</td>\n",
       "      <td>nan</td>\n",
       "      <td>8.0</td>\n",
       "      <td>120.0</td>\n",
       "    </tr>\n",
       "    <tr>\n",
       "      <th>4</th>\n",
       "      <td>P005</td>\n",
       "      <td>M</td>\n",
       "      <td>PT</td>\n",
       "      <td>DS</td>\n",
       "      <td>5.2</td>\n",
       "      <td>7</td>\n",
       "      <td>11.0</td>\n",
       "      <td>58.0</td>\n",
       "    </tr>\n",
       "    <tr>\n",
       "      <th>5</th>\n",
       "      <td>P006</td>\n",
       "      <td>F</td>\n",
       "      <td>PT</td>\n",
       "      <td>NaN</td>\n",
       "      <td>NaN</td>\n",
       "      <td>1</td>\n",
       "      <td>NaN</td>\n",
       "      <td>75.0</td>\n",
       "    </tr>\n",
       "    <tr>\n",
       "      <th>6</th>\n",
       "      <td>P007</td>\n",
       "      <td>M</td>\n",
       "      <td>FT</td>\n",
       "      <td>FS</td>\n",
       "      <td>FS</td>\n",
       "      <td>nan</td>\n",
       "      <td>NaN</td>\n",
       "      <td>NaN</td>\n",
       "    </tr>\n",
       "    <tr>\n",
       "      <th>7</th>\n",
       "      <td>P008</td>\n",
       "      <td>F</td>\n",
       "      <td>-</td>\n",
       "      <td>FS</td>\n",
       "      <td>FS</td>\n",
       "      <td>10</td>\n",
       "      <td>2.0</td>\n",
       "      <td>136.0</td>\n",
       "    </tr>\n",
       "    <tr>\n",
       "      <th>8</th>\n",
       "      <td>P009</td>\n",
       "      <td>M</td>\n",
       "      <td>PT</td>\n",
       "      <td>NaN</td>\n",
       "      <td>NaN</td>\n",
       "      <td>14</td>\n",
       "      <td>3.0</td>\n",
       "      <td>60.0</td>\n",
       "    </tr>\n",
       "    <tr>\n",
       "      <th>9</th>\n",
       "      <td>P010</td>\n",
       "      <td>F</td>\n",
       "      <td>FT</td>\n",
       "      <td>DS</td>\n",
       "      <td>DS</td>\n",
       "      <td>-</td>\n",
       "      <td>7.0</td>\n",
       "      <td>125.0</td>\n",
       "    </tr>\n",
       "    <tr>\n",
       "      <th>10</th>\n",
       "      <td>P011</td>\n",
       "      <td>M</td>\n",
       "      <td>NaN</td>\n",
       "      <td>AWS</td>\n",
       "      <td>AWS</td>\n",
       "      <td>6</td>\n",
       "      <td>9.0</td>\n",
       "      <td>NaN</td>\n",
       "    </tr>\n",
       "  </tbody>\n",
       "</table>\n",
       "</div>"
      ],
      "text/plain": [
       "      id gender status dept dept_ var1  var2  salary\n",
       "0   P001      M     FT   DS     1    2   8.0     NaN\n",
       "1   P002      F     PT   FS    FS    3   NaN    54.0\n",
       "2   P003      M      -  AWS  None    5   5.0    59.0\n",
       "3   P004      F     FT  AWS   AWS  nan   8.0   120.0\n",
       "4   P005      M     PT   DS   5.2    7  11.0    58.0\n",
       "5   P006      F     PT  NaN   NaN    1   NaN    75.0\n",
       "6   P007      M     FT   FS    FS  nan   NaN     NaN\n",
       "7   P008      F      -   FS    FS   10   2.0   136.0\n",
       "8   P009      M     PT  NaN   NaN   14   3.0    60.0\n",
       "9   P010      F     FT   DS    DS    -   7.0   125.0\n",
       "10  P011      M    NaN  AWS   AWS    6   9.0     NaN"
      ]
     },
     "execution_count": 477,
     "metadata": {},
     "output_type": "execute_result"
    }
   ],
   "source": [
    "id_no = [\"P001\", \"P002\", \"P003\", \"P004\", \"P005\", \"P006\", \"P007\", \"P008\", \"P009\", \"P010\", \"P011\"]\n",
    "gender = [\"M\", \"F\", \"M\", \"F\", \"M\", \"F\", \"M\", \"F\", \"M\", \"F\", \"M\"]\n",
    "status = [\"FT\", \"PT\", \"-\", \"FT\", \"PT\", \"PT\", \"FT\", \"-\", \"PT\", \"FT\", np.nan]\n",
    "dept = [\"DS\", \"FS\", \"AWS\", \"AWS\", \"DS\", np.nan, \"FS\", \"FS\", np.nan, \"DS\",\"AWS\"]\n",
    "dept_ = [1, \"FS\", None, \"AWS\", 5.2, np.nan, \"FS\", \"FS\", np.nan, \"DS\", \"AWS\"]\n",
    "V1 = np.array([2, 3, 5, np.nan, 7, 1, np.nan, 10, 14, \"-\", 6])\n",
    "V2 = np.array([8, np.nan, 5, 8, 11, np.nan, np.nan, 2, 3, 7, 9])\n",
    "salary = np.array([np.nan, 54, 59, 120, 58, 75, np.nan, 136, 60, 125, np.nan])\n",
    "df = pd.DataFrame({\"id\": id_no,\n",
    "                   \"gender\": gender,\n",
    "                   \"status\": status,\n",
    "                   \"dept\": dept,\n",
    "                   \"dept_\": dept_,\n",
    "                   \"var1\": V1,\n",
    "                   \"var2\": V2,\n",
    "                   \"salary\": salary})\n",
    "df"
   ]
  },
  {
   "cell_type": "markdown",
   "metadata": {},
   "source": [
    "###  NaN - \"Not a Number\""
   ]
  },
  {
   "cell_type": "markdown",
   "metadata": {},
   "source": [
    "#### ``str`` type and ``nan`` type zusammen in einer Liste:"
   ]
  },
  {
   "cell_type": "code",
   "execution_count": 478,
   "metadata": {},
   "outputs": [
    {
     "data": {
      "text/plain": [
       "([1, 'FS', None, 'AWS', 5.2], str, str, str, str, str, float)"
      ]
     },
     "execution_count": 478,
     "metadata": {},
     "output_type": "execute_result"
    }
   ],
   "source": [
    "dept_[0:5], type(dept[0]), type(dept[1]), type(dept[2]), type(dept[3]), type(dept[4]), type(dept[5]) "
   ]
  },
  {
   "cell_type": "code",
   "execution_count": 479,
   "metadata": {},
   "outputs": [
    {
     "data": {
      "text/plain": [
       "FS     3\n",
       "NaN    3\n",
       "AWS    2\n",
       "1      1\n",
       "5.2    1\n",
       "DS     1\n",
       "Name: dept_, dtype: int64"
      ]
     },
     "execution_count": 479,
     "metadata": {},
     "output_type": "execute_result"
    }
   ],
   "source": [
    "df[\"dept_\"].value_counts(dropna=False)"
   ]
  },
  {
   "cell_type": "code",
   "execution_count": 480,
   "metadata": {},
   "outputs": [
    {
     "data": {
      "text/plain": [
       "FS     3\n",
       "AWS    2\n",
       "1      1\n",
       "5.2    1\n",
       "DS     1\n",
       "Name: dept_, dtype: int64"
      ]
     },
     "execution_count": 480,
     "metadata": {},
     "output_type": "execute_result"
    }
   ],
   "source": [
    "df[\"dept_\"].value_counts()"
   ]
  },
  {
   "cell_type": "code",
   "execution_count": 481,
   "metadata": {},
   "outputs": [
    {
     "data": {
      "text/plain": [
       "3"
      ]
     },
     "execution_count": 481,
     "metadata": {},
     "output_type": "execute_result"
    }
   ],
   "source": [
    "df[\"dept_\"].isnull().sum()"
   ]
  },
  {
   "cell_type": "markdown",
   "metadata": {},
   "source": [
    "#### ``str`` type and ``nan`` type zusammen in einem Array:"
   ]
  },
  {
   "cell_type": "markdown",
   "metadata": {},
   "source": [
    "##### V1"
   ]
  },
  {
   "cell_type": "code",
   "execution_count": 482,
   "metadata": {},
   "outputs": [
    {
     "data": {
      "text/plain": [
       "(array(['2', '3', '5', 'nan', '7', '1', 'nan', '10', '14', '-', '6'],\n",
       "       dtype='<U32'),\n",
       " numpy.str_,\n",
       " numpy.str_,\n",
       " numpy.str_)"
      ]
     },
     "execution_count": 482,
     "metadata": {},
     "output_type": "execute_result"
    }
   ],
   "source": [
    "V1, type(V1[1]), type(V1[3]), type(V1[6]) "
   ]
  },
  {
   "cell_type": "code",
   "execution_count": 483,
   "metadata": {},
   "outputs": [
    {
     "data": {
      "text/plain": [
       "nan    2\n",
       "2      1\n",
       "3      1\n",
       "5      1\n",
       "7      1\n",
       "1      1\n",
       "10     1\n",
       "14     1\n",
       "-      1\n",
       "6      1\n",
       "Name: var1, dtype: int64"
      ]
     },
     "execution_count": 483,
     "metadata": {},
     "output_type": "execute_result"
    }
   ],
   "source": [
    "df[\"var1\"].value_counts(dropna=False)"
   ]
  },
  {
   "cell_type": "code",
   "execution_count": 484,
   "metadata": {},
   "outputs": [
    {
     "data": {
      "text/plain": [
       "nan    2\n",
       "2      1\n",
       "3      1\n",
       "5      1\n",
       "7      1\n",
       "1      1\n",
       "10     1\n",
       "14     1\n",
       "-      1\n",
       "6      1\n",
       "Name: var1, dtype: int64"
      ]
     },
     "execution_count": 484,
     "metadata": {},
     "output_type": "execute_result"
    }
   ],
   "source": [
    "df[\"var1\"].value_counts()"
   ]
  },
  {
   "cell_type": "code",
   "execution_count": 485,
   "metadata": {},
   "outputs": [
    {
     "data": {
      "text/plain": [
       "0"
      ]
     },
     "execution_count": 485,
     "metadata": {},
     "output_type": "execute_result"
    }
   ],
   "source": [
    "df[\"var1\"].isnull().sum()"
   ]
  },
  {
   "cell_type": "markdown",
   "metadata": {},
   "source": [
    "##### V2"
   ]
  },
  {
   "cell_type": "code",
   "execution_count": 486,
   "metadata": {},
   "outputs": [
    {
     "data": {
      "text/plain": [
       "(array([ 8., nan,  5.,  8., 11., nan, nan,  2.,  3.,  7.,  9.]),\n",
       " numpy.float64,\n",
       " numpy.float64,\n",
       " numpy.float64)"
      ]
     },
     "execution_count": 486,
     "metadata": {},
     "output_type": "execute_result"
    }
   ],
   "source": [
    "V2, type(V2[1]), type(V2[3]), type(V2[6])"
   ]
  },
  {
   "cell_type": "code",
   "execution_count": 487,
   "metadata": {},
   "outputs": [
    {
     "data": {
      "text/plain": [
       "NaN     3\n",
       "8.0     2\n",
       "5.0     1\n",
       "11.0    1\n",
       "2.0     1\n",
       "3.0     1\n",
       "7.0     1\n",
       "9.0     1\n",
       "Name: var2, dtype: int64"
      ]
     },
     "execution_count": 487,
     "metadata": {},
     "output_type": "execute_result"
    }
   ],
   "source": [
    "df[\"var2\"].value_counts(dropna=False)"
   ]
  },
  {
   "cell_type": "code",
   "execution_count": 488,
   "metadata": {},
   "outputs": [
    {
     "data": {
      "text/plain": [
       "8.0     2\n",
       "5.0     1\n",
       "11.0    1\n",
       "2.0     1\n",
       "3.0     1\n",
       "7.0     1\n",
       "9.0     1\n",
       "Name: var2, dtype: int64"
      ]
     },
     "execution_count": 488,
     "metadata": {},
     "output_type": "execute_result"
    }
   ],
   "source": [
    "df[\"var2\"].value_counts()"
   ]
  },
  {
   "cell_type": "code",
   "execution_count": 489,
   "metadata": {},
   "outputs": [
    {
     "data": {
      "text/plain": [
       "3"
      ]
     },
     "execution_count": 489,
     "metadata": {},
     "output_type": "execute_result"
    }
   ],
   "source": [
    "df[\"var2\"].isnull().sum()"
   ]
  },
  {
   "cell_type": "code",
   "execution_count": 490,
   "metadata": {},
   "outputs": [
    {
     "data": {
      "text/plain": [
       "(array([ nan,  54.,  59., 120.,  58.,  75.,  nan, 136.,  60., 125.,  nan]),\n",
       " numpy.float64,\n",
       " numpy.float64,\n",
       " numpy.float64)"
      ]
     },
     "execution_count": 490,
     "metadata": {},
     "output_type": "execute_result"
    }
   ],
   "source": [
    "salary, type(salary[1]), type(salary[3]), type(salary[6])"
   ]
  },
  {
   "cell_type": "code",
   "execution_count": 491,
   "metadata": {},
   "outputs": [
    {
     "data": {
      "text/plain": [
       "NaN      3\n",
       "54.0     1\n",
       "59.0     1\n",
       "120.0    1\n",
       "58.0     1\n",
       "75.0     1\n",
       "136.0    1\n",
       "60.0     1\n",
       "125.0    1\n",
       "Name: salary, dtype: int64"
      ]
     },
     "execution_count": 491,
     "metadata": {},
     "output_type": "execute_result"
    }
   ],
   "source": [
    "df[\"salary\"].value_counts(dropna=False)"
   ]
  },
  {
   "cell_type": "code",
   "execution_count": 492,
   "metadata": {},
   "outputs": [
    {
     "data": {
      "text/plain": [
       "54.0     1\n",
       "59.0     1\n",
       "120.0    1\n",
       "58.0     1\n",
       "75.0     1\n",
       "136.0    1\n",
       "60.0     1\n",
       "125.0    1\n",
       "Name: salary, dtype: int64"
      ]
     },
     "execution_count": 492,
     "metadata": {},
     "output_type": "execute_result"
    }
   ],
   "source": [
    "df[\"salary\"].value_counts()"
   ]
  },
  {
   "cell_type": "code",
   "execution_count": 493,
   "metadata": {},
   "outputs": [
    {
     "data": {
      "text/plain": [
       "3"
      ]
     },
     "execution_count": 493,
     "metadata": {},
     "output_type": "execute_result"
    }
   ],
   "source": [
    "df[\"salary\"].isnull().sum()"
   ]
  },
  {
   "cell_type": "markdown",
   "metadata": {},
   "source": [
    "#### Object Type"
   ]
  },
  {
   "cell_type": "code",
   "execution_count": 494,
   "metadata": {},
   "outputs": [
    {
     "name": "stdout",
     "output_type": "stream",
     "text": [
      "<class 'pandas.core.frame.DataFrame'>\n",
      "RangeIndex: 11 entries, 0 to 10\n",
      "Data columns (total 8 columns):\n",
      " #   Column  Non-Null Count  Dtype  \n",
      "---  ------  --------------  -----  \n",
      " 0   id      11 non-null     object \n",
      " 1   gender  11 non-null     object \n",
      " 2   status  10 non-null     object \n",
      " 3   dept    9 non-null      object \n",
      " 4   dept_   8 non-null      object \n",
      " 5   var1    11 non-null     object \n",
      " 6   var2    8 non-null      float64\n",
      " 7   salary  8 non-null      float64\n",
      "dtypes: float64(2), object(6)\n",
      "memory usage: 832.0+ bytes\n"
     ]
    }
   ],
   "source": [
    "df.info()"
   ]
  },
  {
   "cell_type": "code",
   "execution_count": 495,
   "metadata": {},
   "outputs": [
    {
     "data": {
      "text/plain": [
       "0        1\n",
       "1       FS\n",
       "2     None\n",
       "3      AWS\n",
       "4      5.2\n",
       "5      NaN\n",
       "6       FS\n",
       "7       FS\n",
       "8      NaN\n",
       "9       DS\n",
       "10     AWS\n",
       "Name: dept_, dtype: object"
      ]
     },
     "execution_count": 495,
     "metadata": {},
     "output_type": "execute_result"
    }
   ],
   "source": [
    "df[\"dept_\"]"
   ]
  },
  {
   "cell_type": "code",
   "execution_count": 496,
   "metadata": {},
   "outputs": [
    {
     "data": {
      "text/plain": [
       "(int, str, NoneType, str, float)"
      ]
     },
     "execution_count": 496,
     "metadata": {},
     "output_type": "execute_result"
    }
   ],
   "source": [
    "type(df[\"dept_\"][0]), type(df[\"dept_\"][1]), type(df[\"dept_\"][2]), type(df[\"dept_\"][3]), type(df[\"dept_\"][5])"
   ]
  },
  {
   "cell_type": "code",
   "execution_count": 497,
   "metadata": {},
   "outputs": [
    {
     "data": {
      "text/plain": [
       "0       2\n",
       "1       3\n",
       "2       5\n",
       "3     nan\n",
       "4       7\n",
       "5       1\n",
       "6     nan\n",
       "7      10\n",
       "8      14\n",
       "9       -\n",
       "10      6\n",
       "Name: var1, dtype: object"
      ]
     },
     "execution_count": 497,
     "metadata": {},
     "output_type": "execute_result"
    }
   ],
   "source": [
    "df[\"var1\"]"
   ]
  },
  {
   "cell_type": "code",
   "execution_count": 498,
   "metadata": {},
   "outputs": [
    {
     "data": {
      "text/plain": [
       "(str, str, str)"
      ]
     },
     "execution_count": 498,
     "metadata": {},
     "output_type": "execute_result"
    }
   ],
   "source": [
    "type(df[\"var1\"][0]), type(df[\"var1\"][3]), type(df[\"var1\"][9])"
   ]
  },
  {
   "cell_type": "code",
   "execution_count": 499,
   "metadata": {},
   "outputs": [
    {
     "data": {
      "text/plain": [
       "0      8.0\n",
       "1      NaN\n",
       "2      5.0\n",
       "3      8.0\n",
       "4     11.0\n",
       "5      NaN\n",
       "6      NaN\n",
       "7      2.0\n",
       "8      3.0\n",
       "9      7.0\n",
       "10     9.0\n",
       "Name: var2, dtype: float64"
      ]
     },
     "execution_count": 499,
     "metadata": {},
     "output_type": "execute_result"
    }
   ],
   "source": [
    "df[\"var2\"]"
   ]
  },
  {
   "cell_type": "code",
   "execution_count": 500,
   "metadata": {},
   "outputs": [
    {
     "data": {
      "text/plain": [
       "(numpy.float64, numpy.float64, numpy.float64)"
      ]
     },
     "execution_count": 500,
     "metadata": {},
     "output_type": "execute_result"
    }
   ],
   "source": [
    "type(df[\"var2\"][0]), type(df[\"var2\"][1]), type(df[\"var2\"][3])"
   ]
  },
  {
   "cell_type": "code",
   "execution_count": 501,
   "metadata": {},
   "outputs": [
    {
     "data": {
      "text/plain": [
       "0       NaN\n",
       "1      54.0\n",
       "2      59.0\n",
       "3     120.0\n",
       "4      58.0\n",
       "5      75.0\n",
       "6       NaN\n",
       "7     136.0\n",
       "8      60.0\n",
       "9     125.0\n",
       "10      NaN\n",
       "Name: salary, dtype: float64"
      ]
     },
     "execution_count": 501,
     "metadata": {},
     "output_type": "execute_result"
    }
   ],
   "source": [
    "df[\"salary\"]"
   ]
  },
  {
   "cell_type": "code",
   "execution_count": 502,
   "metadata": {},
   "outputs": [
    {
     "data": {
      "text/plain": [
       "(numpy.float64, numpy.float64, numpy.float64)"
      ]
     },
     "execution_count": 502,
     "metadata": {},
     "output_type": "execute_result"
    }
   ],
   "source": [
    "type(df[\"salary\"][0]), type(df[\"salary\"][1]), type(df[\"salary\"][3])"
   ]
  },
  {
   "cell_type": "code",
   "execution_count": 503,
   "metadata": {},
   "outputs": [
    {
     "data": {
      "text/html": [
       "<div>\n",
       "<style scoped>\n",
       "    .dataframe tbody tr th:only-of-type {\n",
       "        vertical-align: middle;\n",
       "    }\n",
       "\n",
       "    .dataframe tbody tr th {\n",
       "        vertical-align: top;\n",
       "    }\n",
       "\n",
       "    .dataframe thead th {\n",
       "        text-align: right;\n",
       "    }\n",
       "</style>\n",
       "<table border=\"1\" class=\"dataframe\">\n",
       "  <thead>\n",
       "    <tr style=\"text-align: right;\">\n",
       "      <th></th>\n",
       "      <th>id</th>\n",
       "      <th>gender</th>\n",
       "      <th>status</th>\n",
       "      <th>dept</th>\n",
       "      <th>var1</th>\n",
       "      <th>var2</th>\n",
       "      <th>salary</th>\n",
       "    </tr>\n",
       "  </thead>\n",
       "  <tbody>\n",
       "    <tr>\n",
       "      <th>0</th>\n",
       "      <td>P001</td>\n",
       "      <td>M</td>\n",
       "      <td>FT</td>\n",
       "      <td>DS</td>\n",
       "      <td>2</td>\n",
       "      <td>8.0</td>\n",
       "      <td>NaN</td>\n",
       "    </tr>\n",
       "    <tr>\n",
       "      <th>1</th>\n",
       "      <td>P002</td>\n",
       "      <td>F</td>\n",
       "      <td>PT</td>\n",
       "      <td>FS</td>\n",
       "      <td>3</td>\n",
       "      <td>NaN</td>\n",
       "      <td>54.0</td>\n",
       "    </tr>\n",
       "    <tr>\n",
       "      <th>2</th>\n",
       "      <td>P003</td>\n",
       "      <td>M</td>\n",
       "      <td>-</td>\n",
       "      <td>AWS</td>\n",
       "      <td>5</td>\n",
       "      <td>5.0</td>\n",
       "      <td>59.0</td>\n",
       "    </tr>\n",
       "    <tr>\n",
       "      <th>3</th>\n",
       "      <td>P004</td>\n",
       "      <td>F</td>\n",
       "      <td>FT</td>\n",
       "      <td>AWS</td>\n",
       "      <td>nan</td>\n",
       "      <td>8.0</td>\n",
       "      <td>120.0</td>\n",
       "    </tr>\n",
       "    <tr>\n",
       "      <th>4</th>\n",
       "      <td>P005</td>\n",
       "      <td>M</td>\n",
       "      <td>PT</td>\n",
       "      <td>DS</td>\n",
       "      <td>7</td>\n",
       "      <td>11.0</td>\n",
       "      <td>58.0</td>\n",
       "    </tr>\n",
       "    <tr>\n",
       "      <th>5</th>\n",
       "      <td>P006</td>\n",
       "      <td>F</td>\n",
       "      <td>PT</td>\n",
       "      <td>NaN</td>\n",
       "      <td>1</td>\n",
       "      <td>NaN</td>\n",
       "      <td>75.0</td>\n",
       "    </tr>\n",
       "    <tr>\n",
       "      <th>6</th>\n",
       "      <td>P007</td>\n",
       "      <td>M</td>\n",
       "      <td>FT</td>\n",
       "      <td>FS</td>\n",
       "      <td>nan</td>\n",
       "      <td>NaN</td>\n",
       "      <td>NaN</td>\n",
       "    </tr>\n",
       "    <tr>\n",
       "      <th>7</th>\n",
       "      <td>P008</td>\n",
       "      <td>F</td>\n",
       "      <td>-</td>\n",
       "      <td>FS</td>\n",
       "      <td>10</td>\n",
       "      <td>2.0</td>\n",
       "      <td>136.0</td>\n",
       "    </tr>\n",
       "    <tr>\n",
       "      <th>8</th>\n",
       "      <td>P009</td>\n",
       "      <td>M</td>\n",
       "      <td>PT</td>\n",
       "      <td>NaN</td>\n",
       "      <td>14</td>\n",
       "      <td>3.0</td>\n",
       "      <td>60.0</td>\n",
       "    </tr>\n",
       "    <tr>\n",
       "      <th>9</th>\n",
       "      <td>P010</td>\n",
       "      <td>F</td>\n",
       "      <td>FT</td>\n",
       "      <td>DS</td>\n",
       "      <td>-</td>\n",
       "      <td>7.0</td>\n",
       "      <td>125.0</td>\n",
       "    </tr>\n",
       "    <tr>\n",
       "      <th>10</th>\n",
       "      <td>P011</td>\n",
       "      <td>M</td>\n",
       "      <td>NaN</td>\n",
       "      <td>AWS</td>\n",
       "      <td>6</td>\n",
       "      <td>9.0</td>\n",
       "      <td>NaN</td>\n",
       "    </tr>\n",
       "  </tbody>\n",
       "</table>\n",
       "</div>"
      ],
      "text/plain": [
       "      id gender status dept var1  var2  salary\n",
       "0   P001      M     FT   DS    2   8.0     NaN\n",
       "1   P002      F     PT   FS    3   NaN    54.0\n",
       "2   P003      M      -  AWS    5   5.0    59.0\n",
       "3   P004      F     FT  AWS  nan   8.0   120.0\n",
       "4   P005      M     PT   DS    7  11.0    58.0\n",
       "5   P006      F     PT  NaN    1   NaN    75.0\n",
       "6   P007      M     FT   FS  nan   NaN     NaN\n",
       "7   P008      F      -   FS   10   2.0   136.0\n",
       "8   P009      M     PT  NaN   14   3.0    60.0\n",
       "9   P010      F     FT   DS    -   7.0   125.0\n",
       "10  P011      M    NaN  AWS    6   9.0     NaN"
      ]
     },
     "execution_count": 503,
     "metadata": {},
     "output_type": "execute_result"
    }
   ],
   "source": [
    "df = df.drop(\"dept_\", axis=1)\n",
    "df"
   ]
  },
  {
   "cell_type": "markdown",
   "metadata": {
    "id": "Hs6sPY5O98fR"
   },
   "source": [
    "## Type of NaN Werten"
   ]
  },
  {
   "cell_type": "code",
   "execution_count": 504,
   "metadata": {},
   "outputs": [
    {
     "data": {
      "text/html": [
       "<div>\n",
       "<style scoped>\n",
       "    .dataframe tbody tr th:only-of-type {\n",
       "        vertical-align: middle;\n",
       "    }\n",
       "\n",
       "    .dataframe tbody tr th {\n",
       "        vertical-align: top;\n",
       "    }\n",
       "\n",
       "    .dataframe thead th {\n",
       "        text-align: right;\n",
       "    }\n",
       "</style>\n",
       "<table border=\"1\" class=\"dataframe\">\n",
       "  <thead>\n",
       "    <tr style=\"text-align: right;\">\n",
       "      <th></th>\n",
       "      <th>0</th>\n",
       "      <th>1</th>\n",
       "      <th>2</th>\n",
       "      <th>3</th>\n",
       "      <th>4</th>\n",
       "      <th>5</th>\n",
       "      <th>6</th>\n",
       "      <th>7</th>\n",
       "      <th>8</th>\n",
       "      <th>9</th>\n",
       "      <th>10</th>\n",
       "    </tr>\n",
       "  </thead>\n",
       "  <tbody>\n",
       "    <tr>\n",
       "      <th>id</th>\n",
       "      <td>P001</td>\n",
       "      <td>P002</td>\n",
       "      <td>P003</td>\n",
       "      <td>P004</td>\n",
       "      <td>P005</td>\n",
       "      <td>P006</td>\n",
       "      <td>P007</td>\n",
       "      <td>P008</td>\n",
       "      <td>P009</td>\n",
       "      <td>P010</td>\n",
       "      <td>P011</td>\n",
       "    </tr>\n",
       "    <tr>\n",
       "      <th>gender</th>\n",
       "      <td>M</td>\n",
       "      <td>F</td>\n",
       "      <td>M</td>\n",
       "      <td>F</td>\n",
       "      <td>M</td>\n",
       "      <td>F</td>\n",
       "      <td>M</td>\n",
       "      <td>F</td>\n",
       "      <td>M</td>\n",
       "      <td>F</td>\n",
       "      <td>M</td>\n",
       "    </tr>\n",
       "    <tr>\n",
       "      <th>status</th>\n",
       "      <td>FT</td>\n",
       "      <td>PT</td>\n",
       "      <td>-</td>\n",
       "      <td>FT</td>\n",
       "      <td>PT</td>\n",
       "      <td>PT</td>\n",
       "      <td>FT</td>\n",
       "      <td>-</td>\n",
       "      <td>PT</td>\n",
       "      <td>FT</td>\n",
       "      <td>NaN</td>\n",
       "    </tr>\n",
       "    <tr>\n",
       "      <th>dept</th>\n",
       "      <td>DS</td>\n",
       "      <td>FS</td>\n",
       "      <td>AWS</td>\n",
       "      <td>AWS</td>\n",
       "      <td>DS</td>\n",
       "      <td>NaN</td>\n",
       "      <td>FS</td>\n",
       "      <td>FS</td>\n",
       "      <td>NaN</td>\n",
       "      <td>DS</td>\n",
       "      <td>AWS</td>\n",
       "    </tr>\n",
       "    <tr>\n",
       "      <th>var1</th>\n",
       "      <td>2</td>\n",
       "      <td>3</td>\n",
       "      <td>5</td>\n",
       "      <td>nan</td>\n",
       "      <td>7</td>\n",
       "      <td>1</td>\n",
       "      <td>nan</td>\n",
       "      <td>10</td>\n",
       "      <td>14</td>\n",
       "      <td>-</td>\n",
       "      <td>6</td>\n",
       "    </tr>\n",
       "  </tbody>\n",
       "</table>\n",
       "</div>"
      ],
      "text/plain": [
       "          0     1     2     3     4     5     6     7     8     9     10\n",
       "id      P001  P002  P003  P004  P005  P006  P007  P008  P009  P010  P011\n",
       "gender     M     F     M     F     M     F     M     F     M     F     M\n",
       "status    FT    PT     -    FT    PT    PT    FT     -    PT    FT   NaN\n",
       "dept      DS    FS   AWS   AWS    DS   NaN    FS    FS   NaN    DS   AWS\n",
       "var1       2     3     5   nan     7     1   nan    10    14     -     6"
      ]
     },
     "execution_count": 504,
     "metadata": {},
     "output_type": "execute_result"
    }
   ],
   "source": [
    "df.select_dtypes(include=object).T"
   ]
  },
  {
   "cell_type": "code",
   "execution_count": 505,
   "metadata": {},
   "outputs": [
    {
     "data": {
      "text/html": [
       "<div>\n",
       "<style scoped>\n",
       "    .dataframe tbody tr th:only-of-type {\n",
       "        vertical-align: middle;\n",
       "    }\n",
       "\n",
       "    .dataframe tbody tr th {\n",
       "        vertical-align: top;\n",
       "    }\n",
       "\n",
       "    .dataframe thead th {\n",
       "        text-align: right;\n",
       "    }\n",
       "</style>\n",
       "<table border=\"1\" class=\"dataframe\">\n",
       "  <thead>\n",
       "    <tr style=\"text-align: right;\">\n",
       "      <th></th>\n",
       "      <th>count</th>\n",
       "      <th>unique</th>\n",
       "      <th>top</th>\n",
       "      <th>freq</th>\n",
       "      <th>mean</th>\n",
       "      <th>std</th>\n",
       "      <th>min</th>\n",
       "      <th>25%</th>\n",
       "      <th>50%</th>\n",
       "      <th>75%</th>\n",
       "      <th>max</th>\n",
       "    </tr>\n",
       "  </thead>\n",
       "  <tbody>\n",
       "    <tr>\n",
       "      <th>id</th>\n",
       "      <td>11</td>\n",
       "      <td>11</td>\n",
       "      <td>P001</td>\n",
       "      <td>1</td>\n",
       "      <td>NaN</td>\n",
       "      <td>NaN</td>\n",
       "      <td>NaN</td>\n",
       "      <td>NaN</td>\n",
       "      <td>NaN</td>\n",
       "      <td>NaN</td>\n",
       "      <td>NaN</td>\n",
       "    </tr>\n",
       "    <tr>\n",
       "      <th>gender</th>\n",
       "      <td>11</td>\n",
       "      <td>2</td>\n",
       "      <td>M</td>\n",
       "      <td>6</td>\n",
       "      <td>NaN</td>\n",
       "      <td>NaN</td>\n",
       "      <td>NaN</td>\n",
       "      <td>NaN</td>\n",
       "      <td>NaN</td>\n",
       "      <td>NaN</td>\n",
       "      <td>NaN</td>\n",
       "    </tr>\n",
       "    <tr>\n",
       "      <th>status</th>\n",
       "      <td>10</td>\n",
       "      <td>3</td>\n",
       "      <td>FT</td>\n",
       "      <td>4</td>\n",
       "      <td>NaN</td>\n",
       "      <td>NaN</td>\n",
       "      <td>NaN</td>\n",
       "      <td>NaN</td>\n",
       "      <td>NaN</td>\n",
       "      <td>NaN</td>\n",
       "      <td>NaN</td>\n",
       "    </tr>\n",
       "    <tr>\n",
       "      <th>dept</th>\n",
       "      <td>9</td>\n",
       "      <td>3</td>\n",
       "      <td>DS</td>\n",
       "      <td>3</td>\n",
       "      <td>NaN</td>\n",
       "      <td>NaN</td>\n",
       "      <td>NaN</td>\n",
       "      <td>NaN</td>\n",
       "      <td>NaN</td>\n",
       "      <td>NaN</td>\n",
       "      <td>NaN</td>\n",
       "    </tr>\n",
       "    <tr>\n",
       "      <th>var1</th>\n",
       "      <td>11</td>\n",
       "      <td>10</td>\n",
       "      <td>nan</td>\n",
       "      <td>2</td>\n",
       "      <td>NaN</td>\n",
       "      <td>NaN</td>\n",
       "      <td>NaN</td>\n",
       "      <td>NaN</td>\n",
       "      <td>NaN</td>\n",
       "      <td>NaN</td>\n",
       "      <td>NaN</td>\n",
       "    </tr>\n",
       "    <tr>\n",
       "      <th>var2</th>\n",
       "      <td>8.0</td>\n",
       "      <td>NaN</td>\n",
       "      <td>NaN</td>\n",
       "      <td>NaN</td>\n",
       "      <td>6.625</td>\n",
       "      <td>3.067689</td>\n",
       "      <td>2.0</td>\n",
       "      <td>4.5</td>\n",
       "      <td>7.5</td>\n",
       "      <td>8.25</td>\n",
       "      <td>11.0</td>\n",
       "    </tr>\n",
       "    <tr>\n",
       "      <th>salary</th>\n",
       "      <td>8.0</td>\n",
       "      <td>NaN</td>\n",
       "      <td>NaN</td>\n",
       "      <td>NaN</td>\n",
       "      <td>85.875</td>\n",
       "      <td>34.868887</td>\n",
       "      <td>54.0</td>\n",
       "      <td>58.75</td>\n",
       "      <td>67.5</td>\n",
       "      <td>121.25</td>\n",
       "      <td>136.0</td>\n",
       "    </tr>\n",
       "  </tbody>\n",
       "</table>\n",
       "</div>"
      ],
      "text/plain": [
       "       count unique   top freq    mean        std   min    25%   50%     75%  \\\n",
       "id        11     11  P001    1     NaN        NaN   NaN    NaN   NaN     NaN   \n",
       "gender    11      2     M    6     NaN        NaN   NaN    NaN   NaN     NaN   \n",
       "status    10      3    FT    4     NaN        NaN   NaN    NaN   NaN     NaN   \n",
       "dept       9      3    DS    3     NaN        NaN   NaN    NaN   NaN     NaN   \n",
       "var1      11     10   nan    2     NaN        NaN   NaN    NaN   NaN     NaN   \n",
       "var2     8.0    NaN   NaN  NaN   6.625   3.067689   2.0    4.5   7.5    8.25   \n",
       "salary   8.0    NaN   NaN  NaN  85.875  34.868887  54.0  58.75  67.5  121.25   \n",
       "\n",
       "          max  \n",
       "id        NaN  \n",
       "gender    NaN  \n",
       "status    NaN  \n",
       "dept      NaN  \n",
       "var1      NaN  \n",
       "var2     11.0  \n",
       "salary  136.0  "
      ]
     },
     "execution_count": 505,
     "metadata": {},
     "output_type": "execute_result"
    }
   ],
   "source": [
    "df.describe(include=\"all\").transpose()"
   ]
  },
  {
   "cell_type": "code",
   "execution_count": 506,
   "metadata": {
    "id": "aZzv2Qc298fS",
    "outputId": "24cae3b7-cb7f-4112-c5cf-a8a55d8365d5"
   },
   "outputs": [
    {
     "name": "stdout",
     "output_type": "stream",
     "text": [
      "<class 'pandas.core.frame.DataFrame'>\n",
      "RangeIndex: 11 entries, 0 to 10\n",
      "Data columns (total 7 columns):\n",
      " #   Column  Non-Null Count  Dtype  \n",
      "---  ------  --------------  -----  \n",
      " 0   id      11 non-null     object \n",
      " 1   gender  11 non-null     object \n",
      " 2   status  10 non-null     object \n",
      " 3   dept    9 non-null      object \n",
      " 4   var1    11 non-null     object \n",
      " 5   var2    8 non-null      float64\n",
      " 6   salary  8 non-null      float64\n",
      "dtypes: float64(2), object(5)\n",
      "memory usage: 744.0+ bytes\n"
     ]
    }
   ],
   "source": [
    "df.info()"
   ]
  },
  {
   "cell_type": "code",
   "execution_count": 507,
   "metadata": {
    "id": "IpveKW7298fT",
    "outputId": "b3ed5417-96b2-4237-9e50-42a52b8319ea"
   },
   "outputs": [
    {
     "data": {
      "text/plain": [
       "float"
      ]
     },
     "execution_count": 507,
     "metadata": {},
     "output_type": "execute_result"
    }
   ],
   "source": [
    "type(np.nan)"
   ]
  },
  {
   "cell_type": "code",
   "execution_count": 508,
   "metadata": {
    "id": "3G3R9T7t98fV",
    "outputId": "e2bcf7d4-6240-4eaf-cda0-dde94cf632cc"
   },
   "outputs": [
    {
     "data": {
      "text/plain": [
       "float"
      ]
     },
     "execution_count": 508,
     "metadata": {},
     "output_type": "execute_result"
    }
   ],
   "source": [
    "type(np.NaN)"
   ]
  },
  {
   "cell_type": "code",
   "execution_count": 509,
   "metadata": {
    "id": "4f7bfNjG98fZ",
    "outputId": "1ddfb17b-4aa1-4536-aeda-36e281a52696"
   },
   "outputs": [
    {
     "data": {
      "text/plain": [
       "NoneType"
      ]
     },
     "execution_count": 509,
     "metadata": {},
     "output_type": "execute_result"
    }
   ],
   "source": [
    "type(None)"
   ]
  },
  {
   "cell_type": "markdown",
   "metadata": {
    "id": "A3Bf1wQ_98fd"
   },
   "source": [
    "## Fehlende Werte erkennen"
   ]
  },
  {
   "cell_type": "markdown",
   "metadata": {
    "id": "QzoLMyxAPR9W"
   },
   "source": [
    "- NaN steht für \"not a number\" und ist ein numerischer Datentyp, der zur Darstellung von undefinierten oder nicht darstellbaren Werten verwendet wird.\n",
    "\n",
    "- Beispielsweise ist 0/0 als reelle Zahl undefiniert und wird daher durch NaN dargestellt. Die Quadratwurzel einer negativen Zahl ist eine imaginäre Zahl, die nicht als reelle Zahl dargestellt werden kann, also wird sie durch NaN dargestellt.\n",
    "\n",
    "- NaN wird in einer Berechnung auch Variablen zugewiesen, die keine Werte haben und noch berechnet werden müssen."
   ]
  },
  {
   "cell_type": "code",
   "execution_count": 510,
   "metadata": {
    "id": "ewEREqw198fe",
    "outputId": "e1bf2656-61a9-4c4b-b211-56db9b483002"
   },
   "outputs": [
    {
     "data": {
      "text/html": [
       "<div>\n",
       "<style scoped>\n",
       "    .dataframe tbody tr th:only-of-type {\n",
       "        vertical-align: middle;\n",
       "    }\n",
       "\n",
       "    .dataframe tbody tr th {\n",
       "        vertical-align: top;\n",
       "    }\n",
       "\n",
       "    .dataframe thead th {\n",
       "        text-align: right;\n",
       "    }\n",
       "</style>\n",
       "<table border=\"1\" class=\"dataframe\">\n",
       "  <thead>\n",
       "    <tr style=\"text-align: right;\">\n",
       "      <th></th>\n",
       "      <th>id</th>\n",
       "      <th>gender</th>\n",
       "      <th>status</th>\n",
       "      <th>dept</th>\n",
       "      <th>var1</th>\n",
       "      <th>var2</th>\n",
       "      <th>salary</th>\n",
       "    </tr>\n",
       "  </thead>\n",
       "  <tbody>\n",
       "    <tr>\n",
       "      <th>0</th>\n",
       "      <td>P001</td>\n",
       "      <td>M</td>\n",
       "      <td>FT</td>\n",
       "      <td>DS</td>\n",
       "      <td>2</td>\n",
       "      <td>8.0</td>\n",
       "      <td>NaN</td>\n",
       "    </tr>\n",
       "    <tr>\n",
       "      <th>1</th>\n",
       "      <td>P002</td>\n",
       "      <td>F</td>\n",
       "      <td>PT</td>\n",
       "      <td>FS</td>\n",
       "      <td>3</td>\n",
       "      <td>NaN</td>\n",
       "      <td>54.0</td>\n",
       "    </tr>\n",
       "    <tr>\n",
       "      <th>2</th>\n",
       "      <td>P003</td>\n",
       "      <td>M</td>\n",
       "      <td>-</td>\n",
       "      <td>AWS</td>\n",
       "      <td>5</td>\n",
       "      <td>5.0</td>\n",
       "      <td>59.0</td>\n",
       "    </tr>\n",
       "    <tr>\n",
       "      <th>3</th>\n",
       "      <td>P004</td>\n",
       "      <td>F</td>\n",
       "      <td>FT</td>\n",
       "      <td>AWS</td>\n",
       "      <td>nan</td>\n",
       "      <td>8.0</td>\n",
       "      <td>120.0</td>\n",
       "    </tr>\n",
       "    <tr>\n",
       "      <th>4</th>\n",
       "      <td>P005</td>\n",
       "      <td>M</td>\n",
       "      <td>PT</td>\n",
       "      <td>DS</td>\n",
       "      <td>7</td>\n",
       "      <td>11.0</td>\n",
       "      <td>58.0</td>\n",
       "    </tr>\n",
       "    <tr>\n",
       "      <th>5</th>\n",
       "      <td>P006</td>\n",
       "      <td>F</td>\n",
       "      <td>PT</td>\n",
       "      <td>NaN</td>\n",
       "      <td>1</td>\n",
       "      <td>NaN</td>\n",
       "      <td>75.0</td>\n",
       "    </tr>\n",
       "    <tr>\n",
       "      <th>6</th>\n",
       "      <td>P007</td>\n",
       "      <td>M</td>\n",
       "      <td>FT</td>\n",
       "      <td>FS</td>\n",
       "      <td>nan</td>\n",
       "      <td>NaN</td>\n",
       "      <td>NaN</td>\n",
       "    </tr>\n",
       "    <tr>\n",
       "      <th>7</th>\n",
       "      <td>P008</td>\n",
       "      <td>F</td>\n",
       "      <td>-</td>\n",
       "      <td>FS</td>\n",
       "      <td>10</td>\n",
       "      <td>2.0</td>\n",
       "      <td>136.0</td>\n",
       "    </tr>\n",
       "    <tr>\n",
       "      <th>8</th>\n",
       "      <td>P009</td>\n",
       "      <td>M</td>\n",
       "      <td>PT</td>\n",
       "      <td>NaN</td>\n",
       "      <td>14</td>\n",
       "      <td>3.0</td>\n",
       "      <td>60.0</td>\n",
       "    </tr>\n",
       "    <tr>\n",
       "      <th>9</th>\n",
       "      <td>P010</td>\n",
       "      <td>F</td>\n",
       "      <td>FT</td>\n",
       "      <td>DS</td>\n",
       "      <td>-</td>\n",
       "      <td>7.0</td>\n",
       "      <td>125.0</td>\n",
       "    </tr>\n",
       "    <tr>\n",
       "      <th>10</th>\n",
       "      <td>P011</td>\n",
       "      <td>M</td>\n",
       "      <td>NaN</td>\n",
       "      <td>AWS</td>\n",
       "      <td>6</td>\n",
       "      <td>9.0</td>\n",
       "      <td>NaN</td>\n",
       "    </tr>\n",
       "  </tbody>\n",
       "</table>\n",
       "</div>"
      ],
      "text/plain": [
       "      id gender status dept var1  var2  salary\n",
       "0   P001      M     FT   DS    2   8.0     NaN\n",
       "1   P002      F     PT   FS    3   NaN    54.0\n",
       "2   P003      M      -  AWS    5   5.0    59.0\n",
       "3   P004      F     FT  AWS  nan   8.0   120.0\n",
       "4   P005      M     PT   DS    7  11.0    58.0\n",
       "5   P006      F     PT  NaN    1   NaN    75.0\n",
       "6   P007      M     FT   FS  nan   NaN     NaN\n",
       "7   P008      F      -   FS   10   2.0   136.0\n",
       "8   P009      M     PT  NaN   14   3.0    60.0\n",
       "9   P010      F     FT   DS    -   7.0   125.0\n",
       "10  P011      M    NaN  AWS    6   9.0     NaN"
      ]
     },
     "execution_count": 510,
     "metadata": {},
     "output_type": "execute_result"
    }
   ],
   "source": [
    "df"
   ]
  },
  {
   "cell_type": "code",
   "execution_count": 511,
   "metadata": {
    "id": "oO8Ldod798ff",
    "outputId": "4e669d60-94e6-4436-e42c-5d94e121fb16"
   },
   "outputs": [
    {
     "data": {
      "text/html": [
       "<div>\n",
       "<style scoped>\n",
       "    .dataframe tbody tr th:only-of-type {\n",
       "        vertical-align: middle;\n",
       "    }\n",
       "\n",
       "    .dataframe tbody tr th {\n",
       "        vertical-align: top;\n",
       "    }\n",
       "\n",
       "    .dataframe thead th {\n",
       "        text-align: right;\n",
       "    }\n",
       "</style>\n",
       "<table border=\"1\" class=\"dataframe\">\n",
       "  <thead>\n",
       "    <tr style=\"text-align: right;\">\n",
       "      <th></th>\n",
       "      <th>id</th>\n",
       "      <th>gender</th>\n",
       "      <th>status</th>\n",
       "      <th>dept</th>\n",
       "      <th>var1</th>\n",
       "      <th>var2</th>\n",
       "      <th>salary</th>\n",
       "    </tr>\n",
       "  </thead>\n",
       "  <tbody>\n",
       "    <tr>\n",
       "      <th>0</th>\n",
       "      <td>False</td>\n",
       "      <td>False</td>\n",
       "      <td>False</td>\n",
       "      <td>False</td>\n",
       "      <td>False</td>\n",
       "      <td>False</td>\n",
       "      <td>True</td>\n",
       "    </tr>\n",
       "    <tr>\n",
       "      <th>1</th>\n",
       "      <td>False</td>\n",
       "      <td>False</td>\n",
       "      <td>False</td>\n",
       "      <td>False</td>\n",
       "      <td>False</td>\n",
       "      <td>True</td>\n",
       "      <td>False</td>\n",
       "    </tr>\n",
       "    <tr>\n",
       "      <th>2</th>\n",
       "      <td>False</td>\n",
       "      <td>False</td>\n",
       "      <td>False</td>\n",
       "      <td>False</td>\n",
       "      <td>False</td>\n",
       "      <td>False</td>\n",
       "      <td>False</td>\n",
       "    </tr>\n",
       "    <tr>\n",
       "      <th>3</th>\n",
       "      <td>False</td>\n",
       "      <td>False</td>\n",
       "      <td>False</td>\n",
       "      <td>False</td>\n",
       "      <td>False</td>\n",
       "      <td>False</td>\n",
       "      <td>False</td>\n",
       "    </tr>\n",
       "    <tr>\n",
       "      <th>4</th>\n",
       "      <td>False</td>\n",
       "      <td>False</td>\n",
       "      <td>False</td>\n",
       "      <td>False</td>\n",
       "      <td>False</td>\n",
       "      <td>False</td>\n",
       "      <td>False</td>\n",
       "    </tr>\n",
       "    <tr>\n",
       "      <th>5</th>\n",
       "      <td>False</td>\n",
       "      <td>False</td>\n",
       "      <td>False</td>\n",
       "      <td>True</td>\n",
       "      <td>False</td>\n",
       "      <td>True</td>\n",
       "      <td>False</td>\n",
       "    </tr>\n",
       "    <tr>\n",
       "      <th>6</th>\n",
       "      <td>False</td>\n",
       "      <td>False</td>\n",
       "      <td>False</td>\n",
       "      <td>False</td>\n",
       "      <td>False</td>\n",
       "      <td>True</td>\n",
       "      <td>True</td>\n",
       "    </tr>\n",
       "    <tr>\n",
       "      <th>7</th>\n",
       "      <td>False</td>\n",
       "      <td>False</td>\n",
       "      <td>False</td>\n",
       "      <td>False</td>\n",
       "      <td>False</td>\n",
       "      <td>False</td>\n",
       "      <td>False</td>\n",
       "    </tr>\n",
       "    <tr>\n",
       "      <th>8</th>\n",
       "      <td>False</td>\n",
       "      <td>False</td>\n",
       "      <td>False</td>\n",
       "      <td>True</td>\n",
       "      <td>False</td>\n",
       "      <td>False</td>\n",
       "      <td>False</td>\n",
       "    </tr>\n",
       "    <tr>\n",
       "      <th>9</th>\n",
       "      <td>False</td>\n",
       "      <td>False</td>\n",
       "      <td>False</td>\n",
       "      <td>False</td>\n",
       "      <td>False</td>\n",
       "      <td>False</td>\n",
       "      <td>False</td>\n",
       "    </tr>\n",
       "    <tr>\n",
       "      <th>10</th>\n",
       "      <td>False</td>\n",
       "      <td>False</td>\n",
       "      <td>True</td>\n",
       "      <td>False</td>\n",
       "      <td>False</td>\n",
       "      <td>False</td>\n",
       "      <td>True</td>\n",
       "    </tr>\n",
       "  </tbody>\n",
       "</table>\n",
       "</div>"
      ],
      "text/plain": [
       "       id  gender  status   dept   var1   var2  salary\n",
       "0   False   False   False  False  False  False    True\n",
       "1   False   False   False  False  False   True   False\n",
       "2   False   False   False  False  False  False   False\n",
       "3   False   False   False  False  False  False   False\n",
       "4   False   False   False  False  False  False   False\n",
       "5   False   False   False   True  False   True   False\n",
       "6   False   False   False  False  False   True    True\n",
       "7   False   False   False  False  False  False   False\n",
       "8   False   False   False   True  False  False   False\n",
       "9   False   False   False  False  False  False   False\n",
       "10  False   False    True  False  False  False    True"
      ]
     },
     "execution_count": 511,
     "metadata": {},
     "output_type": "execute_result"
    }
   ],
   "source": [
    "df.isnull()\n",
    "#df.isna()"
   ]
  },
  {
   "cell_type": "code",
   "execution_count": 512,
   "metadata": {
    "id": "ZjS4PtQq98ff",
    "outputId": "d406660c-5f8d-41cd-bd5f-89b886226c0b"
   },
   "outputs": [
    {
     "data": {
      "text/html": [
       "<div>\n",
       "<style scoped>\n",
       "    .dataframe tbody tr th:only-of-type {\n",
       "        vertical-align: middle;\n",
       "    }\n",
       "\n",
       "    .dataframe tbody tr th {\n",
       "        vertical-align: top;\n",
       "    }\n",
       "\n",
       "    .dataframe thead th {\n",
       "        text-align: right;\n",
       "    }\n",
       "</style>\n",
       "<table border=\"1\" class=\"dataframe\">\n",
       "  <thead>\n",
       "    <tr style=\"text-align: right;\">\n",
       "      <th></th>\n",
       "      <th>id</th>\n",
       "      <th>gender</th>\n",
       "      <th>status</th>\n",
       "      <th>dept</th>\n",
       "      <th>var1</th>\n",
       "      <th>var2</th>\n",
       "      <th>salary</th>\n",
       "    </tr>\n",
       "  </thead>\n",
       "  <tbody>\n",
       "    <tr>\n",
       "      <th>0</th>\n",
       "      <td>True</td>\n",
       "      <td>True</td>\n",
       "      <td>True</td>\n",
       "      <td>True</td>\n",
       "      <td>True</td>\n",
       "      <td>True</td>\n",
       "      <td>False</td>\n",
       "    </tr>\n",
       "    <tr>\n",
       "      <th>1</th>\n",
       "      <td>True</td>\n",
       "      <td>True</td>\n",
       "      <td>True</td>\n",
       "      <td>True</td>\n",
       "      <td>True</td>\n",
       "      <td>False</td>\n",
       "      <td>True</td>\n",
       "    </tr>\n",
       "    <tr>\n",
       "      <th>2</th>\n",
       "      <td>True</td>\n",
       "      <td>True</td>\n",
       "      <td>True</td>\n",
       "      <td>True</td>\n",
       "      <td>True</td>\n",
       "      <td>True</td>\n",
       "      <td>True</td>\n",
       "    </tr>\n",
       "    <tr>\n",
       "      <th>3</th>\n",
       "      <td>True</td>\n",
       "      <td>True</td>\n",
       "      <td>True</td>\n",
       "      <td>True</td>\n",
       "      <td>True</td>\n",
       "      <td>True</td>\n",
       "      <td>True</td>\n",
       "    </tr>\n",
       "    <tr>\n",
       "      <th>4</th>\n",
       "      <td>True</td>\n",
       "      <td>True</td>\n",
       "      <td>True</td>\n",
       "      <td>True</td>\n",
       "      <td>True</td>\n",
       "      <td>True</td>\n",
       "      <td>True</td>\n",
       "    </tr>\n",
       "    <tr>\n",
       "      <th>5</th>\n",
       "      <td>True</td>\n",
       "      <td>True</td>\n",
       "      <td>True</td>\n",
       "      <td>False</td>\n",
       "      <td>True</td>\n",
       "      <td>False</td>\n",
       "      <td>True</td>\n",
       "    </tr>\n",
       "    <tr>\n",
       "      <th>6</th>\n",
       "      <td>True</td>\n",
       "      <td>True</td>\n",
       "      <td>True</td>\n",
       "      <td>True</td>\n",
       "      <td>True</td>\n",
       "      <td>False</td>\n",
       "      <td>False</td>\n",
       "    </tr>\n",
       "    <tr>\n",
       "      <th>7</th>\n",
       "      <td>True</td>\n",
       "      <td>True</td>\n",
       "      <td>True</td>\n",
       "      <td>True</td>\n",
       "      <td>True</td>\n",
       "      <td>True</td>\n",
       "      <td>True</td>\n",
       "    </tr>\n",
       "    <tr>\n",
       "      <th>8</th>\n",
       "      <td>True</td>\n",
       "      <td>True</td>\n",
       "      <td>True</td>\n",
       "      <td>False</td>\n",
       "      <td>True</td>\n",
       "      <td>True</td>\n",
       "      <td>True</td>\n",
       "    </tr>\n",
       "    <tr>\n",
       "      <th>9</th>\n",
       "      <td>True</td>\n",
       "      <td>True</td>\n",
       "      <td>True</td>\n",
       "      <td>True</td>\n",
       "      <td>True</td>\n",
       "      <td>True</td>\n",
       "      <td>True</td>\n",
       "    </tr>\n",
       "    <tr>\n",
       "      <th>10</th>\n",
       "      <td>True</td>\n",
       "      <td>True</td>\n",
       "      <td>False</td>\n",
       "      <td>True</td>\n",
       "      <td>True</td>\n",
       "      <td>True</td>\n",
       "      <td>False</td>\n",
       "    </tr>\n",
       "  </tbody>\n",
       "</table>\n",
       "</div>"
      ],
      "text/plain": [
       "      id  gender  status   dept  var1   var2  salary\n",
       "0   True    True    True   True  True   True   False\n",
       "1   True    True    True   True  True  False    True\n",
       "2   True    True    True   True  True   True    True\n",
       "3   True    True    True   True  True   True    True\n",
       "4   True    True    True   True  True   True    True\n",
       "5   True    True    True  False  True  False    True\n",
       "6   True    True    True   True  True  False   False\n",
       "7   True    True    True   True  True   True    True\n",
       "8   True    True    True  False  True   True    True\n",
       "9   True    True    True   True  True   True    True\n",
       "10  True    True   False   True  True   True   False"
      ]
     },
     "execution_count": 512,
     "metadata": {},
     "output_type": "execute_result"
    }
   ],
   "source": [
    "df.notnull()\n",
    "#df.notna()"
   ]
  },
  {
   "cell_type": "code",
   "execution_count": 513,
   "metadata": {
    "id": "L9g77m2798ff",
    "outputId": "673d8b15-b871-4ebb-f965-33fabf203169"
   },
   "outputs": [
    {
     "data": {
      "text/plain": [
       "id        False\n",
       "gender    False\n",
       "status     True\n",
       "dept       True\n",
       "var1      False\n",
       "var2       True\n",
       "salary     True\n",
       "dtype: bool"
      ]
     },
     "execution_count": 513,
     "metadata": {},
     "output_type": "execute_result"
    }
   ],
   "source": [
    "# Spalten/Variablen mit fehlenden Werten:\n",
    "df.isnull().any()"
   ]
  },
  {
   "cell_type": "code",
   "execution_count": 514,
   "metadata": {
    "id": "UZPEgSyV98fg",
    "outputId": "22d4289f-9923-42bd-a23a-d7caf46dea0d",
    "scrolled": true
   },
   "outputs": [
    {
     "data": {
      "text/plain": [
       "0      True\n",
       "1      True\n",
       "2     False\n",
       "3     False\n",
       "4     False\n",
       "5      True\n",
       "6      True\n",
       "7     False\n",
       "8      True\n",
       "9     False\n",
       "10     True\n",
       "dtype: bool"
      ]
     },
     "execution_count": 514,
     "metadata": {},
     "output_type": "execute_result"
    }
   ],
   "source": [
    "# Zeilen mit fehlenden Werten:\n",
    "df.isnull().any(axis=1)"
   ]
  },
  {
   "cell_type": "code",
   "execution_count": 515,
   "metadata": {
    "id": "7kltqjtd98fg",
    "outputId": "432ca188-4f0a-4882-c3b0-705a3fe566d6",
    "scrolled": false
   },
   "outputs": [
    {
     "data": {
      "text/html": [
       "<div>\n",
       "<style scoped>\n",
       "    .dataframe tbody tr th:only-of-type {\n",
       "        vertical-align: middle;\n",
       "    }\n",
       "\n",
       "    .dataframe tbody tr th {\n",
       "        vertical-align: top;\n",
       "    }\n",
       "\n",
       "    .dataframe thead th {\n",
       "        text-align: right;\n",
       "    }\n",
       "</style>\n",
       "<table border=\"1\" class=\"dataframe\">\n",
       "  <thead>\n",
       "    <tr style=\"text-align: right;\">\n",
       "      <th></th>\n",
       "      <th>id</th>\n",
       "      <th>gender</th>\n",
       "      <th>status</th>\n",
       "      <th>dept</th>\n",
       "      <th>var1</th>\n",
       "      <th>var2</th>\n",
       "      <th>salary</th>\n",
       "    </tr>\n",
       "  </thead>\n",
       "  <tbody>\n",
       "    <tr>\n",
       "      <th>0</th>\n",
       "      <td>P001</td>\n",
       "      <td>M</td>\n",
       "      <td>FT</td>\n",
       "      <td>DS</td>\n",
       "      <td>2</td>\n",
       "      <td>8.0</td>\n",
       "      <td>NaN</td>\n",
       "    </tr>\n",
       "    <tr>\n",
       "      <th>1</th>\n",
       "      <td>P002</td>\n",
       "      <td>F</td>\n",
       "      <td>PT</td>\n",
       "      <td>FS</td>\n",
       "      <td>3</td>\n",
       "      <td>NaN</td>\n",
       "      <td>54.0</td>\n",
       "    </tr>\n",
       "    <tr>\n",
       "      <th>5</th>\n",
       "      <td>P006</td>\n",
       "      <td>F</td>\n",
       "      <td>PT</td>\n",
       "      <td>NaN</td>\n",
       "      <td>1</td>\n",
       "      <td>NaN</td>\n",
       "      <td>75.0</td>\n",
       "    </tr>\n",
       "    <tr>\n",
       "      <th>6</th>\n",
       "      <td>P007</td>\n",
       "      <td>M</td>\n",
       "      <td>FT</td>\n",
       "      <td>FS</td>\n",
       "      <td>nan</td>\n",
       "      <td>NaN</td>\n",
       "      <td>NaN</td>\n",
       "    </tr>\n",
       "    <tr>\n",
       "      <th>8</th>\n",
       "      <td>P009</td>\n",
       "      <td>M</td>\n",
       "      <td>PT</td>\n",
       "      <td>NaN</td>\n",
       "      <td>14</td>\n",
       "      <td>3.0</td>\n",
       "      <td>60.0</td>\n",
       "    </tr>\n",
       "    <tr>\n",
       "      <th>10</th>\n",
       "      <td>P011</td>\n",
       "      <td>M</td>\n",
       "      <td>NaN</td>\n",
       "      <td>AWS</td>\n",
       "      <td>6</td>\n",
       "      <td>9.0</td>\n",
       "      <td>NaN</td>\n",
       "    </tr>\n",
       "  </tbody>\n",
       "</table>\n",
       "</div>"
      ],
      "text/plain": [
       "      id gender status dept var1  var2  salary\n",
       "0   P001      M     FT   DS    2   8.0     NaN\n",
       "1   P002      F     PT   FS    3   NaN    54.0\n",
       "5   P006      F     PT  NaN    1   NaN    75.0\n",
       "6   P007      M     FT   FS  nan   NaN     NaN\n",
       "8   P009      M     PT  NaN   14   3.0    60.0\n",
       "10  P011      M    NaN  AWS    6   9.0     NaN"
      ]
     },
     "execution_count": 515,
     "metadata": {},
     "output_type": "execute_result"
    }
   ],
   "source": [
    "df[df.isnull().any(axis=1)]"
   ]
  },
  {
   "cell_type": "code",
   "execution_count": 516,
   "metadata": {
    "id": "xbRAgnjyDyzj",
    "outputId": "cdd5954c-97c6-4b22-d512-bd15e8781aac"
   },
   "outputs": [
    {
     "data": {
      "text/html": [
       "<div>\n",
       "<style scoped>\n",
       "    .dataframe tbody tr th:only-of-type {\n",
       "        vertical-align: middle;\n",
       "    }\n",
       "\n",
       "    .dataframe tbody tr th {\n",
       "        vertical-align: top;\n",
       "    }\n",
       "\n",
       "    .dataframe thead th {\n",
       "        text-align: right;\n",
       "    }\n",
       "</style>\n",
       "<table border=\"1\" class=\"dataframe\">\n",
       "  <thead>\n",
       "    <tr style=\"text-align: right;\">\n",
       "      <th></th>\n",
       "      <th>id</th>\n",
       "      <th>gender</th>\n",
       "      <th>status</th>\n",
       "      <th>dept</th>\n",
       "      <th>var1</th>\n",
       "      <th>var2</th>\n",
       "      <th>salary</th>\n",
       "    </tr>\n",
       "  </thead>\n",
       "  <tbody>\n",
       "    <tr>\n",
       "      <th>2</th>\n",
       "      <td>P003</td>\n",
       "      <td>M</td>\n",
       "      <td>-</td>\n",
       "      <td>AWS</td>\n",
       "      <td>5</td>\n",
       "      <td>5.0</td>\n",
       "      <td>59.0</td>\n",
       "    </tr>\n",
       "    <tr>\n",
       "      <th>3</th>\n",
       "      <td>P004</td>\n",
       "      <td>F</td>\n",
       "      <td>FT</td>\n",
       "      <td>AWS</td>\n",
       "      <td>nan</td>\n",
       "      <td>8.0</td>\n",
       "      <td>120.0</td>\n",
       "    </tr>\n",
       "    <tr>\n",
       "      <th>4</th>\n",
       "      <td>P005</td>\n",
       "      <td>M</td>\n",
       "      <td>PT</td>\n",
       "      <td>DS</td>\n",
       "      <td>7</td>\n",
       "      <td>11.0</td>\n",
       "      <td>58.0</td>\n",
       "    </tr>\n",
       "    <tr>\n",
       "      <th>7</th>\n",
       "      <td>P008</td>\n",
       "      <td>F</td>\n",
       "      <td>-</td>\n",
       "      <td>FS</td>\n",
       "      <td>10</td>\n",
       "      <td>2.0</td>\n",
       "      <td>136.0</td>\n",
       "    </tr>\n",
       "    <tr>\n",
       "      <th>9</th>\n",
       "      <td>P010</td>\n",
       "      <td>F</td>\n",
       "      <td>FT</td>\n",
       "      <td>DS</td>\n",
       "      <td>-</td>\n",
       "      <td>7.0</td>\n",
       "      <td>125.0</td>\n",
       "    </tr>\n",
       "  </tbody>\n",
       "</table>\n",
       "</div>"
      ],
      "text/plain": [
       "     id gender status dept var1  var2  salary\n",
       "2  P003      M      -  AWS    5   5.0    59.0\n",
       "3  P004      F     FT  AWS  nan   8.0   120.0\n",
       "4  P005      M     PT   DS    7  11.0    58.0\n",
       "7  P008      F      -   FS   10   2.0   136.0\n",
       "9  P010      F     FT   DS    -   7.0   125.0"
      ]
     },
     "execution_count": 516,
     "metadata": {},
     "output_type": "execute_result"
    }
   ],
   "source": [
    "# Zeilen mit allen notnull-Werten mit '~'\n",
    "df[~df.isnull().any(axis = 1)]"
   ]
  },
  {
   "cell_type": "code",
   "execution_count": 517,
   "metadata": {
    "id": "YNfESs_v98fh",
    "outputId": "3c789b2e-6dac-478f-f112-0b13d45639ab"
   },
   "outputs": [
    {
     "data": {
      "text/html": [
       "<div>\n",
       "<style scoped>\n",
       "    .dataframe tbody tr th:only-of-type {\n",
       "        vertical-align: middle;\n",
       "    }\n",
       "\n",
       "    .dataframe tbody tr th {\n",
       "        vertical-align: top;\n",
       "    }\n",
       "\n",
       "    .dataframe thead th {\n",
       "        text-align: right;\n",
       "    }\n",
       "</style>\n",
       "<table border=\"1\" class=\"dataframe\">\n",
       "  <thead>\n",
       "    <tr style=\"text-align: right;\">\n",
       "      <th></th>\n",
       "      <th>id</th>\n",
       "      <th>gender</th>\n",
       "      <th>status</th>\n",
       "      <th>dept</th>\n",
       "      <th>var1</th>\n",
       "      <th>var2</th>\n",
       "      <th>salary</th>\n",
       "    </tr>\n",
       "  </thead>\n",
       "  <tbody>\n",
       "    <tr>\n",
       "      <th>2</th>\n",
       "      <td>P003</td>\n",
       "      <td>M</td>\n",
       "      <td>-</td>\n",
       "      <td>AWS</td>\n",
       "      <td>5</td>\n",
       "      <td>5.0</td>\n",
       "      <td>59.0</td>\n",
       "    </tr>\n",
       "    <tr>\n",
       "      <th>3</th>\n",
       "      <td>P004</td>\n",
       "      <td>F</td>\n",
       "      <td>FT</td>\n",
       "      <td>AWS</td>\n",
       "      <td>nan</td>\n",
       "      <td>8.0</td>\n",
       "      <td>120.0</td>\n",
       "    </tr>\n",
       "    <tr>\n",
       "      <th>4</th>\n",
       "      <td>P005</td>\n",
       "      <td>M</td>\n",
       "      <td>PT</td>\n",
       "      <td>DS</td>\n",
       "      <td>7</td>\n",
       "      <td>11.0</td>\n",
       "      <td>58.0</td>\n",
       "    </tr>\n",
       "    <tr>\n",
       "      <th>7</th>\n",
       "      <td>P008</td>\n",
       "      <td>F</td>\n",
       "      <td>-</td>\n",
       "      <td>FS</td>\n",
       "      <td>10</td>\n",
       "      <td>2.0</td>\n",
       "      <td>136.0</td>\n",
       "    </tr>\n",
       "    <tr>\n",
       "      <th>9</th>\n",
       "      <td>P010</td>\n",
       "      <td>F</td>\n",
       "      <td>FT</td>\n",
       "      <td>DS</td>\n",
       "      <td>-</td>\n",
       "      <td>7.0</td>\n",
       "      <td>125.0</td>\n",
       "    </tr>\n",
       "  </tbody>\n",
       "</table>\n",
       "</div>"
      ],
      "text/plain": [
       "     id gender status dept var1  var2  salary\n",
       "2  P003      M      -  AWS    5   5.0    59.0\n",
       "3  P004      F     FT  AWS  nan   8.0   120.0\n",
       "4  P005      M     PT   DS    7  11.0    58.0\n",
       "7  P008      F      -   FS   10   2.0   136.0\n",
       "9  P010      F     FT   DS    -   7.0   125.0"
      ]
     },
     "execution_count": 517,
     "metadata": {},
     "output_type": "execute_result"
    }
   ],
   "source": [
    "df[df.notnull().all(axis = 1)]"
   ]
  },
  {
   "cell_type": "code",
   "execution_count": 518,
   "metadata": {
    "id": "qZ8eKYrv98fh",
    "outputId": "aafcfedc-28ea-4a18-bc98-81b62e7ad184"
   },
   "outputs": [
    {
     "data": {
      "text/plain": [
       "id        False\n",
       "gender    False\n",
       "status    False\n",
       "dept      False\n",
       "var1      False\n",
       "var2      False\n",
       "salary    False\n",
       "dtype: bool"
      ]
     },
     "execution_count": 518,
     "metadata": {},
     "output_type": "execute_result"
    }
   ],
   "source": [
    "# Spalten, deren alle Werte sind Null:\n",
    "df.isnull().all()"
   ]
  },
  {
   "cell_type": "code",
   "execution_count": 519,
   "metadata": {
    "id": "YvcT-4-b98fh",
    "outputId": "16232fb1-980d-4747-cb90-963e7748b14c"
   },
   "outputs": [
    {
     "data": {
      "text/plain": [
       "0     False\n",
       "1     False\n",
       "2     False\n",
       "3     False\n",
       "4     False\n",
       "5     False\n",
       "6     False\n",
       "7     False\n",
       "8     False\n",
       "9     False\n",
       "10    False\n",
       "dtype: bool"
      ]
     },
     "execution_count": 519,
     "metadata": {},
     "output_type": "execute_result"
    }
   ],
   "source": [
    "# Zeilen, deren alle Werte sind Null:\n",
    "df.isnull().all(axis=1)"
   ]
  },
  {
   "cell_type": "code",
   "execution_count": 520,
   "metadata": {
    "id": "n7bP4y2E98fi",
    "outputId": "5a75742f-34ce-4f90-a2c3-c191ce1fbf14"
   },
   "outputs": [
    {
     "data": {
      "text/html": [
       "<div>\n",
       "<style scoped>\n",
       "    .dataframe tbody tr th:only-of-type {\n",
       "        vertical-align: middle;\n",
       "    }\n",
       "\n",
       "    .dataframe tbody tr th {\n",
       "        vertical-align: top;\n",
       "    }\n",
       "\n",
       "    .dataframe thead th {\n",
       "        text-align: right;\n",
       "    }\n",
       "</style>\n",
       "<table border=\"1\" class=\"dataframe\">\n",
       "  <thead>\n",
       "    <tr style=\"text-align: right;\">\n",
       "      <th></th>\n",
       "      <th>id</th>\n",
       "      <th>gender</th>\n",
       "      <th>status</th>\n",
       "      <th>dept</th>\n",
       "      <th>var1</th>\n",
       "      <th>var2</th>\n",
       "      <th>salary</th>\n",
       "    </tr>\n",
       "  </thead>\n",
       "  <tbody>\n",
       "  </tbody>\n",
       "</table>\n",
       "</div>"
      ],
      "text/plain": [
       "Empty DataFrame\n",
       "Columns: [id, gender, status, dept, var1, var2, salary]\n",
       "Index: []"
      ]
     },
     "execution_count": 520,
     "metadata": {},
     "output_type": "execute_result"
    }
   ],
   "source": [
    "# Spalten abrufen, deren alle Werte null sind:\n",
    "df[df.isnull().all(axis=1)]"
   ]
  },
  {
   "cell_type": "code",
   "execution_count": 521,
   "metadata": {
    "id": "Jd_CAydl98fi",
    "outputId": "d65ebdd0-e1be-4230-98b5-68cccf6bd3c9"
   },
   "outputs": [
    {
     "data": {
      "text/plain": [
       "id        0\n",
       "gender    0\n",
       "status    1\n",
       "dept      2\n",
       "var1      0\n",
       "var2      3\n",
       "salary    3\n",
       "dtype: int64"
      ]
     },
     "execution_count": 521,
     "metadata": {},
     "output_type": "execute_result"
    }
   ],
   "source": [
    "# Anzahl fehlender Werte in den Spalten:\n",
    "df.isnull().sum()"
   ]
  },
  {
   "cell_type": "code",
   "execution_count": 522,
   "metadata": {
    "id": "U0Q6KRA698fi",
    "outputId": "5188192c-3fa6-40f5-f3aa-60ed0a7960f2"
   },
   "outputs": [
    {
     "data": {
      "text/plain": [
       "9"
      ]
     },
     "execution_count": 522,
     "metadata": {},
     "output_type": "execute_result"
    }
   ],
   "source": [
    "# Anzahl fehlender Werte im gesamten Datenrahmen:\n",
    "df.isnull().sum().sum()"
   ]
  },
  {
   "cell_type": "code",
   "execution_count": 523,
   "metadata": {
    "id": "0J96YHqi98fj",
    "outputId": "7799ab9c-0bc0-44b8-d4ee-abecb4345503"
   },
   "outputs": [
    {
     "data": {
      "text/plain": [
       "0      True\n",
       "1     False\n",
       "2     False\n",
       "3     False\n",
       "4     False\n",
       "5     False\n",
       "6      True\n",
       "7     False\n",
       "8     False\n",
       "9     False\n",
       "10     True\n",
       "Name: salary, dtype: bool"
      ]
     },
     "execution_count": 523,
     "metadata": {},
     "output_type": "execute_result"
    }
   ],
   "source": [
    "df.salary.isnull()"
   ]
  },
  {
   "cell_type": "code",
   "execution_count": 524,
   "metadata": {
    "id": "Mv7yvw-e98fj",
    "outputId": "2b5df24b-c58f-4afa-bb29-cf1a1c995634"
   },
   "outputs": [
    {
     "data": {
      "text/plain": [
       "True"
      ]
     },
     "execution_count": 524,
     "metadata": {},
     "output_type": "execute_result"
    }
   ],
   "source": [
    "df.salary.isnull().any()"
   ]
  },
  {
   "cell_type": "code",
   "execution_count": 525,
   "metadata": {
    "id": "eaBufmUK98fj",
    "outputId": "f51fee65-d04f-4239-bf02-dd79f480f257"
   },
   "outputs": [
    {
     "data": {
      "text/plain": [
       "3"
      ]
     },
     "execution_count": 525,
     "metadata": {},
     "output_type": "execute_result"
    }
   ],
   "source": [
    "df.salary.isnull().sum()"
   ]
  },
  {
   "cell_type": "code",
   "execution_count": 526,
   "metadata": {
    "id": "xiQq5m0D98fk",
    "outputId": "151efeb7-1c86-400b-eca4-638e293ba526"
   },
   "outputs": [
    {
     "data": {
      "text/plain": [
       "id         0.00\n",
       "gender     0.00\n",
       "status     9.09\n",
       "dept      18.18\n",
       "var1       0.00\n",
       "var2      27.27\n",
       "salary    27.27\n",
       "dtype: float64"
      ]
     },
     "execution_count": 526,
     "metadata": {},
     "output_type": "execute_result"
    }
   ],
   "source": [
    "# Prozentsatz von Nullwerten nach Spalten\n",
    "round(df.isnull().sum()/len(df)*100, 2)"
   ]
  },
  {
   "cell_type": "markdown",
   "metadata": {
    "id": "GBdWnW3b98fk"
   },
   "source": [
    "## Konvertieren unangemessener Werte in NaN-Werte\n",
    "\n",
    "- map()\n",
    "- replace()"
   ]
  },
  {
   "cell_type": "code",
   "execution_count": 527,
   "metadata": {
    "id": "GYIgPjmb98fk",
    "outputId": "5d660862-33a7-4af3-b715-5eaadbad7f68"
   },
   "outputs": [
    {
     "data": {
      "text/html": [
       "<div>\n",
       "<style scoped>\n",
       "    .dataframe tbody tr th:only-of-type {\n",
       "        vertical-align: middle;\n",
       "    }\n",
       "\n",
       "    .dataframe tbody tr th {\n",
       "        vertical-align: top;\n",
       "    }\n",
       "\n",
       "    .dataframe thead th {\n",
       "        text-align: right;\n",
       "    }\n",
       "</style>\n",
       "<table border=\"1\" class=\"dataframe\">\n",
       "  <thead>\n",
       "    <tr style=\"text-align: right;\">\n",
       "      <th></th>\n",
       "      <th>id</th>\n",
       "      <th>gender</th>\n",
       "      <th>status</th>\n",
       "      <th>dept</th>\n",
       "      <th>var1</th>\n",
       "      <th>var2</th>\n",
       "      <th>salary</th>\n",
       "    </tr>\n",
       "  </thead>\n",
       "  <tbody>\n",
       "    <tr>\n",
       "      <th>0</th>\n",
       "      <td>P001</td>\n",
       "      <td>M</td>\n",
       "      <td>FT</td>\n",
       "      <td>DS</td>\n",
       "      <td>2</td>\n",
       "      <td>8.0</td>\n",
       "      <td>NaN</td>\n",
       "    </tr>\n",
       "    <tr>\n",
       "      <th>1</th>\n",
       "      <td>P002</td>\n",
       "      <td>F</td>\n",
       "      <td>PT</td>\n",
       "      <td>FS</td>\n",
       "      <td>3</td>\n",
       "      <td>NaN</td>\n",
       "      <td>54.0</td>\n",
       "    </tr>\n",
       "    <tr>\n",
       "      <th>2</th>\n",
       "      <td>P003</td>\n",
       "      <td>M</td>\n",
       "      <td>-</td>\n",
       "      <td>AWS</td>\n",
       "      <td>5</td>\n",
       "      <td>5.0</td>\n",
       "      <td>59.0</td>\n",
       "    </tr>\n",
       "    <tr>\n",
       "      <th>3</th>\n",
       "      <td>P004</td>\n",
       "      <td>F</td>\n",
       "      <td>FT</td>\n",
       "      <td>AWS</td>\n",
       "      <td>nan</td>\n",
       "      <td>8.0</td>\n",
       "      <td>120.0</td>\n",
       "    </tr>\n",
       "    <tr>\n",
       "      <th>4</th>\n",
       "      <td>P005</td>\n",
       "      <td>M</td>\n",
       "      <td>PT</td>\n",
       "      <td>DS</td>\n",
       "      <td>7</td>\n",
       "      <td>11.0</td>\n",
       "      <td>58.0</td>\n",
       "    </tr>\n",
       "    <tr>\n",
       "      <th>5</th>\n",
       "      <td>P006</td>\n",
       "      <td>F</td>\n",
       "      <td>PT</td>\n",
       "      <td>NaN</td>\n",
       "      <td>1</td>\n",
       "      <td>NaN</td>\n",
       "      <td>75.0</td>\n",
       "    </tr>\n",
       "    <tr>\n",
       "      <th>6</th>\n",
       "      <td>P007</td>\n",
       "      <td>M</td>\n",
       "      <td>FT</td>\n",
       "      <td>FS</td>\n",
       "      <td>nan</td>\n",
       "      <td>NaN</td>\n",
       "      <td>NaN</td>\n",
       "    </tr>\n",
       "    <tr>\n",
       "      <th>7</th>\n",
       "      <td>P008</td>\n",
       "      <td>F</td>\n",
       "      <td>-</td>\n",
       "      <td>FS</td>\n",
       "      <td>10</td>\n",
       "      <td>2.0</td>\n",
       "      <td>136.0</td>\n",
       "    </tr>\n",
       "    <tr>\n",
       "      <th>8</th>\n",
       "      <td>P009</td>\n",
       "      <td>M</td>\n",
       "      <td>PT</td>\n",
       "      <td>NaN</td>\n",
       "      <td>14</td>\n",
       "      <td>3.0</td>\n",
       "      <td>60.0</td>\n",
       "    </tr>\n",
       "    <tr>\n",
       "      <th>9</th>\n",
       "      <td>P010</td>\n",
       "      <td>F</td>\n",
       "      <td>FT</td>\n",
       "      <td>DS</td>\n",
       "      <td>-</td>\n",
       "      <td>7.0</td>\n",
       "      <td>125.0</td>\n",
       "    </tr>\n",
       "    <tr>\n",
       "      <th>10</th>\n",
       "      <td>P011</td>\n",
       "      <td>M</td>\n",
       "      <td>NaN</td>\n",
       "      <td>AWS</td>\n",
       "      <td>6</td>\n",
       "      <td>9.0</td>\n",
       "      <td>NaN</td>\n",
       "    </tr>\n",
       "  </tbody>\n",
       "</table>\n",
       "</div>"
      ],
      "text/plain": [
       "      id gender status dept var1  var2  salary\n",
       "0   P001      M     FT   DS    2   8.0     NaN\n",
       "1   P002      F     PT   FS    3   NaN    54.0\n",
       "2   P003      M      -  AWS    5   5.0    59.0\n",
       "3   P004      F     FT  AWS  nan   8.0   120.0\n",
       "4   P005      M     PT   DS    7  11.0    58.0\n",
       "5   P006      F     PT  NaN    1   NaN    75.0\n",
       "6   P007      M     FT   FS  nan   NaN     NaN\n",
       "7   P008      F      -   FS   10   2.0   136.0\n",
       "8   P009      M     PT  NaN   14   3.0    60.0\n",
       "9   P010      F     FT   DS    -   7.0   125.0\n",
       "10  P011      M    NaN  AWS    6   9.0     NaN"
      ]
     },
     "execution_count": 527,
     "metadata": {},
     "output_type": "execute_result"
    }
   ],
   "source": [
    "df"
   ]
  },
  {
   "cell_type": "code",
   "execution_count": 528,
   "metadata": {
    "id": "K_EzvaIg98fl",
    "outputId": "15a0d516-5e5c-443a-e0e5-50db58d731df"
   },
   "outputs": [
    {
     "data": {
      "text/plain": [
       "0    NaN\n",
       "1    NaN\n",
       "2    NaN\n",
       "3    NaN\n",
       "4    NaN\n",
       "5    NaN\n",
       "6    NaN\n",
       "7    NaN\n",
       "8    NaN\n",
       "9    NaN\n",
       "10   NaN\n",
       "Name: var1, dtype: float64"
      ]
     },
     "execution_count": 528,
     "metadata": {},
     "output_type": "execute_result"
    }
   ],
   "source": [
    "df[\"var1\"].map({\"-\":np.nan})"
   ]
  },
  {
   "cell_type": "code",
   "execution_count": 529,
   "metadata": {
    "id": "OmMVdjci98fl",
    "outputId": "1f85c0ad-f50d-4e01-f994-e97e785b7c36"
   },
   "outputs": [
    {
     "data": {
      "text/plain": [
       "0       2\n",
       "1       3\n",
       "2       5\n",
       "3     nan\n",
       "4       7\n",
       "5       1\n",
       "6     nan\n",
       "7      10\n",
       "8      14\n",
       "9     NaN\n",
       "10      6\n",
       "Name: var1, dtype: object"
      ]
     },
     "execution_count": 529,
     "metadata": {},
     "output_type": "execute_result"
    }
   ],
   "source": [
    "df[\"var1\"].replace(to_replace=\"-\", value=np.nan)"
   ]
  },
  {
   "cell_type": "code",
   "execution_count": 530,
   "metadata": {},
   "outputs": [
    {
     "data": {
      "text/plain": [
       "1"
      ]
     },
     "execution_count": 530,
     "metadata": {},
     "output_type": "execute_result"
    }
   ],
   "source": [
    "df[\"var1\"].replace(to_replace=\"-\", value=np.nan).isnull().sum()"
   ]
  },
  {
   "cell_type": "code",
   "execution_count": 531,
   "metadata": {
    "id": "xRbkx3G998fm",
    "outputId": "b231aa77-ceb7-483d-ecc5-6739d4a6f3d5"
   },
   "outputs": [
    {
     "data": {
      "text/plain": [
       "0      2.0\n",
       "1      3.0\n",
       "2      5.0\n",
       "3      NaN\n",
       "4      7.0\n",
       "5      1.0\n",
       "6      NaN\n",
       "7     10.0\n",
       "8     14.0\n",
       "9      NaN\n",
       "10     6.0\n",
       "Name: var1, dtype: float64"
      ]
     },
     "execution_count": 531,
     "metadata": {},
     "output_type": "execute_result"
    }
   ],
   "source": [
    "df[\"var1\"].replace(\"-\", np.nan).astype(\"float\")"
   ]
  },
  {
   "cell_type": "code",
   "execution_count": 532,
   "metadata": {},
   "outputs": [
    {
     "data": {
      "text/plain": [
       "0"
      ]
     },
     "execution_count": 532,
     "metadata": {},
     "output_type": "execute_result"
    }
   ],
   "source": [
    "df[\"var1\"].isnull().sum()"
   ]
  },
  {
   "cell_type": "code",
   "execution_count": 533,
   "metadata": {},
   "outputs": [
    {
     "data": {
      "text/plain": [
       "0       2\n",
       "1       3\n",
       "2       5\n",
       "3     nan\n",
       "4       7\n",
       "5       1\n",
       "6     nan\n",
       "7      10\n",
       "8      14\n",
       "9       -\n",
       "10      6\n",
       "Name: var1, dtype: object"
      ]
     },
     "execution_count": 533,
     "metadata": {},
     "output_type": "execute_result"
    }
   ],
   "source": [
    "df[\"var1\"]"
   ]
  },
  {
   "cell_type": "code",
   "execution_count": 534,
   "metadata": {},
   "outputs": [
    {
     "data": {
      "text/plain": [
       "(str, str, str)"
      ]
     },
     "execution_count": 534,
     "metadata": {},
     "output_type": "execute_result"
    }
   ],
   "source": [
    "type(df[\"var1\"][3]), type(df[\"var1\"][6]), type(df[\"var1\"][9])"
   ]
  },
  {
   "cell_type": "code",
   "execution_count": 535,
   "metadata": {},
   "outputs": [
    {
     "data": {
      "text/plain": [
       "0       2\n",
       "1       3\n",
       "2       5\n",
       "3     nan\n",
       "4       7\n",
       "5       1\n",
       "6     nan\n",
       "7      10\n",
       "8      14\n",
       "9       -\n",
       "10      6\n",
       "Name: var1, dtype: object"
      ]
     },
     "execution_count": 535,
     "metadata": {},
     "output_type": "execute_result"
    }
   ],
   "source": [
    "df['var1']"
   ]
  },
  {
   "cell_type": "code",
   "execution_count": 536,
   "metadata": {},
   "outputs": [
    {
     "data": {
      "text/plain": [
       "3"
      ]
     },
     "execution_count": 536,
     "metadata": {},
     "output_type": "execute_result"
    }
   ],
   "source": [
    "df[\"var1\"].replace(\"-\", np.nan).astype(\"float\").isnull().sum()  \n",
    "# Diese String-Nans warteten als passive Nan, sie kehrten zu ihrer Essenz zurück, wenn sie Float eingaben"
   ]
  },
  {
   "cell_type": "code",
   "execution_count": 537,
   "metadata": {
    "id": "Si0XdK--98fo",
    "outputId": "4024283c-36d0-4ecb-c777-362b01be18bf"
   },
   "outputs": [
    {
     "data": {
      "text/plain": [
       "0       2\n",
       "1       3\n",
       "2       5\n",
       "3     nan\n",
       "4       7\n",
       "5       1\n",
       "6     nan\n",
       "7      10\n",
       "8      14\n",
       "9       -\n",
       "10      6\n",
       "Name: var1, dtype: object"
      ]
     },
     "execution_count": 537,
     "metadata": {},
     "output_type": "execute_result"
    }
   ],
   "source": [
    "df.var1"
   ]
  },
  {
   "cell_type": "code",
   "execution_count": 538,
   "metadata": {
    "id": "iOTT6KQ898fp"
   },
   "outputs": [],
   "source": [
    "df[\"var1\"] = df[\"var1\"].replace(\"-\", np.nan).astype(\"float\")"
   ]
  },
  {
   "cell_type": "code",
   "execution_count": 539,
   "metadata": {
    "id": "Ss8EakKd98fq",
    "outputId": "6bb7520e-b693-4da8-fb9f-4cb5003eb69e"
   },
   "outputs": [
    {
     "data": {
      "text/plain": [
       "0      2.0\n",
       "1      3.0\n",
       "2      5.0\n",
       "3      NaN\n",
       "4      7.0\n",
       "5      1.0\n",
       "6      NaN\n",
       "7     10.0\n",
       "8     14.0\n",
       "9      NaN\n",
       "10     6.0\n",
       "Name: var1, dtype: float64"
      ]
     },
     "execution_count": 539,
     "metadata": {},
     "output_type": "execute_result"
    }
   ],
   "source": [
    "df[\"var1\"]"
   ]
  },
  {
   "cell_type": "code",
   "execution_count": 540,
   "metadata": {},
   "outputs": [
    {
     "data": {
      "text/plain": [
       "NaN     3\n",
       "2.0     1\n",
       "3.0     1\n",
       "5.0     1\n",
       "7.0     1\n",
       "1.0     1\n",
       "10.0    1\n",
       "14.0    1\n",
       "6.0     1\n",
       "Name: var1, dtype: int64"
      ]
     },
     "execution_count": 540,
     "metadata": {},
     "output_type": "execute_result"
    }
   ],
   "source": [
    "df[\"var1\"].value_counts(dropna=False)"
   ]
  },
  {
   "cell_type": "code",
   "execution_count": 541,
   "metadata": {},
   "outputs": [
    {
     "data": {
      "text/plain": [
       "(0      FT\n",
       " 1      PT\n",
       " 2       -\n",
       " 3      FT\n",
       " 4      PT\n",
       " 5      PT\n",
       " 6      FT\n",
       " 7       -\n",
       " 8      PT\n",
       " 9      FT\n",
       " 10    NaN\n",
       " Name: status, dtype: object,\n",
       " str,\n",
       " str,\n",
       " str,\n",
       " float)"
      ]
     },
     "execution_count": 541,
     "metadata": {},
     "output_type": "execute_result"
    }
   ],
   "source": [
    "df[\"status\"], type(df[\"status\"][0]), type(df[\"status\"][2]), type(df[\"status\"][7]), type(df[\"status\"][10])"
   ]
  },
  {
   "cell_type": "code",
   "execution_count": 542,
   "metadata": {
    "id": "PTbmMgnc98fq",
    "outputId": "2d922305-ae4e-4ef7-90db-2f78a73af257"
   },
   "outputs": [
    {
     "data": {
      "text/plain": [
       "0      FT\n",
       "1      PT\n",
       "2     NaN\n",
       "3      FT\n",
       "4      PT\n",
       "5      PT\n",
       "6      FT\n",
       "7     NaN\n",
       "8      PT\n",
       "9      FT\n",
       "10    NaN\n",
       "Name: status, dtype: object"
      ]
     },
     "execution_count": 542,
     "metadata": {},
     "output_type": "execute_result"
    }
   ],
   "source": [
    "df[\"status\"] = df[\"status\"].replace(\"-\", np.nan)\n",
    "df[\"status\"]"
   ]
  },
  {
   "cell_type": "code",
   "execution_count": 543,
   "metadata": {},
   "outputs": [
    {
     "data": {
      "text/plain": [
       "(0      FT\n",
       " 1      PT\n",
       " 2     NaN\n",
       " 3      FT\n",
       " 4      PT\n",
       " 5      PT\n",
       " 6      FT\n",
       " 7     NaN\n",
       " 8      PT\n",
       " 9      FT\n",
       " 10    NaN\n",
       " Name: status, dtype: object,\n",
       " str,\n",
       " float,\n",
       " float)"
      ]
     },
     "execution_count": 543,
     "metadata": {},
     "output_type": "execute_result"
    }
   ],
   "source": [
    "df[\"status\"], type(df[\"status\"][0]), type(df[\"status\"][2]), type(df[\"status\"][10])"
   ]
  },
  {
   "cell_type": "code",
   "execution_count": 544,
   "metadata": {
    "id": "MsUUs2nQ98fr",
    "outputId": "d23a8c55-6a5d-462f-fb01-a3762d15b62e"
   },
   "outputs": [
    {
     "data": {
      "text/html": [
       "<div>\n",
       "<style scoped>\n",
       "    .dataframe tbody tr th:only-of-type {\n",
       "        vertical-align: middle;\n",
       "    }\n",
       "\n",
       "    .dataframe tbody tr th {\n",
       "        vertical-align: top;\n",
       "    }\n",
       "\n",
       "    .dataframe thead th {\n",
       "        text-align: right;\n",
       "    }\n",
       "</style>\n",
       "<table border=\"1\" class=\"dataframe\">\n",
       "  <thead>\n",
       "    <tr style=\"text-align: right;\">\n",
       "      <th></th>\n",
       "      <th>id</th>\n",
       "      <th>gender</th>\n",
       "      <th>status</th>\n",
       "      <th>dept</th>\n",
       "      <th>var1</th>\n",
       "      <th>var2</th>\n",
       "      <th>salary</th>\n",
       "    </tr>\n",
       "  </thead>\n",
       "  <tbody>\n",
       "    <tr>\n",
       "      <th>0</th>\n",
       "      <td>P001</td>\n",
       "      <td>M</td>\n",
       "      <td>FT</td>\n",
       "      <td>DS</td>\n",
       "      <td>2.0</td>\n",
       "      <td>8.0</td>\n",
       "      <td>NaN</td>\n",
       "    </tr>\n",
       "    <tr>\n",
       "      <th>1</th>\n",
       "      <td>P002</td>\n",
       "      <td>F</td>\n",
       "      <td>PT</td>\n",
       "      <td>FS</td>\n",
       "      <td>3.0</td>\n",
       "      <td>NaN</td>\n",
       "      <td>54.0</td>\n",
       "    </tr>\n",
       "    <tr>\n",
       "      <th>2</th>\n",
       "      <td>P003</td>\n",
       "      <td>M</td>\n",
       "      <td>NaN</td>\n",
       "      <td>AWS</td>\n",
       "      <td>5.0</td>\n",
       "      <td>5.0</td>\n",
       "      <td>59.0</td>\n",
       "    </tr>\n",
       "    <tr>\n",
       "      <th>3</th>\n",
       "      <td>P004</td>\n",
       "      <td>F</td>\n",
       "      <td>FT</td>\n",
       "      <td>AWS</td>\n",
       "      <td>NaN</td>\n",
       "      <td>8.0</td>\n",
       "      <td>120.0</td>\n",
       "    </tr>\n",
       "    <tr>\n",
       "      <th>4</th>\n",
       "      <td>P005</td>\n",
       "      <td>M</td>\n",
       "      <td>PT</td>\n",
       "      <td>DS</td>\n",
       "      <td>7.0</td>\n",
       "      <td>11.0</td>\n",
       "      <td>58.0</td>\n",
       "    </tr>\n",
       "    <tr>\n",
       "      <th>5</th>\n",
       "      <td>P006</td>\n",
       "      <td>F</td>\n",
       "      <td>PT</td>\n",
       "      <td>NaN</td>\n",
       "      <td>1.0</td>\n",
       "      <td>NaN</td>\n",
       "      <td>75.0</td>\n",
       "    </tr>\n",
       "    <tr>\n",
       "      <th>6</th>\n",
       "      <td>P007</td>\n",
       "      <td>M</td>\n",
       "      <td>FT</td>\n",
       "      <td>FS</td>\n",
       "      <td>NaN</td>\n",
       "      <td>NaN</td>\n",
       "      <td>NaN</td>\n",
       "    </tr>\n",
       "    <tr>\n",
       "      <th>7</th>\n",
       "      <td>P008</td>\n",
       "      <td>F</td>\n",
       "      <td>NaN</td>\n",
       "      <td>FS</td>\n",
       "      <td>10.0</td>\n",
       "      <td>2.0</td>\n",
       "      <td>136.0</td>\n",
       "    </tr>\n",
       "    <tr>\n",
       "      <th>8</th>\n",
       "      <td>P009</td>\n",
       "      <td>M</td>\n",
       "      <td>PT</td>\n",
       "      <td>NaN</td>\n",
       "      <td>14.0</td>\n",
       "      <td>3.0</td>\n",
       "      <td>60.0</td>\n",
       "    </tr>\n",
       "    <tr>\n",
       "      <th>9</th>\n",
       "      <td>P010</td>\n",
       "      <td>F</td>\n",
       "      <td>FT</td>\n",
       "      <td>DS</td>\n",
       "      <td>NaN</td>\n",
       "      <td>7.0</td>\n",
       "      <td>125.0</td>\n",
       "    </tr>\n",
       "    <tr>\n",
       "      <th>10</th>\n",
       "      <td>P011</td>\n",
       "      <td>M</td>\n",
       "      <td>NaN</td>\n",
       "      <td>AWS</td>\n",
       "      <td>6.0</td>\n",
       "      <td>9.0</td>\n",
       "      <td>NaN</td>\n",
       "    </tr>\n",
       "  </tbody>\n",
       "</table>\n",
       "</div>"
      ],
      "text/plain": [
       "      id gender status dept  var1  var2  salary\n",
       "0   P001      M     FT   DS   2.0   8.0     NaN\n",
       "1   P002      F     PT   FS   3.0   NaN    54.0\n",
       "2   P003      M    NaN  AWS   5.0   5.0    59.0\n",
       "3   P004      F     FT  AWS   NaN   8.0   120.0\n",
       "4   P005      M     PT   DS   7.0  11.0    58.0\n",
       "5   P006      F     PT  NaN   1.0   NaN    75.0\n",
       "6   P007      M     FT   FS   NaN   NaN     NaN\n",
       "7   P008      F    NaN   FS  10.0   2.0   136.0\n",
       "8   P009      M     PT  NaN  14.0   3.0    60.0\n",
       "9   P010      F     FT   DS   NaN   7.0   125.0\n",
       "10  P011      M    NaN  AWS   6.0   9.0     NaN"
      ]
     },
     "execution_count": 544,
     "metadata": {},
     "output_type": "execute_result"
    }
   ],
   "source": [
    "df"
   ]
  },
  {
   "cell_type": "code",
   "execution_count": 545,
   "metadata": {
    "id": "Dv2Hn1kv98fs",
    "outputId": "0afd09f4-5ae9-47e5-bcb0-3caa040ae742"
   },
   "outputs": [
    {
     "data": {
      "text/plain": [
       "id        0\n",
       "gender    0\n",
       "status    3\n",
       "dept      2\n",
       "var1      3\n",
       "var2      3\n",
       "salary    3\n",
       "dtype: int64"
      ]
     },
     "execution_count": 545,
     "metadata": {},
     "output_type": "execute_result"
    }
   ],
   "source": [
    "df.isnull().sum()"
   ]
  },
  {
   "cell_type": "code",
   "execution_count": 546,
   "metadata": {},
   "outputs": [
    {
     "data": {
      "text/plain": [
       "14"
      ]
     },
     "execution_count": 546,
     "metadata": {},
     "output_type": "execute_result"
    }
   ],
   "source": [
    "df.isnull().sum().sum()\n",
    "# Jetz haben wir 15 NaN-Werte aber echte float NaNs"
   ]
  },
  {
   "cell_type": "code",
   "execution_count": 547,
   "metadata": {},
   "outputs": [
    {
     "data": {
      "text/plain": [
       "P001    1\n",
       "P002    1\n",
       "P003    1\n",
       "P004    1\n",
       "P005    1\n",
       "P006    1\n",
       "P007    1\n",
       "P008    1\n",
       "P009    1\n",
       "P010    1\n",
       "P011    1\n",
       "Name: id, dtype: int64"
      ]
     },
     "execution_count": 547,
     "metadata": {},
     "output_type": "execute_result"
    }
   ],
   "source": [
    "df[\"id\"].value_counts()"
   ]
  },
  {
   "cell_type": "code",
   "execution_count": 548,
   "metadata": {},
   "outputs": [
    {
     "data": {
      "text/plain": [
       "M    6\n",
       "F    5\n",
       "Name: gender, dtype: int64"
      ]
     },
     "execution_count": 548,
     "metadata": {},
     "output_type": "execute_result"
    }
   ],
   "source": [
    "df[\"gender\"].value_counts()"
   ]
  },
  {
   "cell_type": "code",
   "execution_count": 549,
   "metadata": {},
   "outputs": [
    {
     "data": {
      "text/plain": [
       "FT    4\n",
       "PT    4\n",
       "Name: status, dtype: int64"
      ]
     },
     "execution_count": 549,
     "metadata": {},
     "output_type": "execute_result"
    }
   ],
   "source": [
    "df[\"status\"].value_counts()"
   ]
  },
  {
   "cell_type": "code",
   "execution_count": 550,
   "metadata": {},
   "outputs": [
    {
     "data": {
      "text/plain": [
       "DS     3\n",
       "FS     3\n",
       "AWS    3\n",
       "Name: dept, dtype: int64"
      ]
     },
     "execution_count": 550,
     "metadata": {},
     "output_type": "execute_result"
    }
   ],
   "source": [
    "df[\"dept\"].value_counts()"
   ]
  },
  {
   "cell_type": "code",
   "execution_count": 551,
   "metadata": {},
   "outputs": [
    {
     "data": {
      "text/plain": [
       "2.0     1\n",
       "3.0     1\n",
       "5.0     1\n",
       "7.0     1\n",
       "1.0     1\n",
       "10.0    1\n",
       "14.0    1\n",
       "6.0     1\n",
       "Name: var1, dtype: int64"
      ]
     },
     "execution_count": 551,
     "metadata": {},
     "output_type": "execute_result"
    }
   ],
   "source": [
    "df[\"var1\"].value_counts()"
   ]
  },
  {
   "cell_type": "code",
   "execution_count": 552,
   "metadata": {},
   "outputs": [
    {
     "data": {
      "text/plain": [
       "8.0     2\n",
       "5.0     1\n",
       "11.0    1\n",
       "2.0     1\n",
       "3.0     1\n",
       "7.0     1\n",
       "9.0     1\n",
       "Name: var2, dtype: int64"
      ]
     },
     "execution_count": 552,
     "metadata": {},
     "output_type": "execute_result"
    }
   ],
   "source": [
    "df[\"var2\"].value_counts()"
   ]
  },
  {
   "cell_type": "code",
   "execution_count": 553,
   "metadata": {},
   "outputs": [
    {
     "data": {
      "text/plain": [
       "54.0     1\n",
       "59.0     1\n",
       "120.0    1\n",
       "58.0     1\n",
       "75.0     1\n",
       "136.0    1\n",
       "60.0     1\n",
       "125.0    1\n",
       "Name: salary, dtype: int64"
      ]
     },
     "execution_count": 553,
     "metadata": {},
     "output_type": "execute_result"
    }
   ],
   "source": [
    "df[\"salary\"].value_counts()"
   ]
  },
  {
   "cell_type": "markdown",
   "metadata": {
    "id": "djWju_X-PR9T"
   },
   "source": [
    "## Umgangmethoden von fehlenden Werten\n",
    "- Löschen von Zeilen: Wenn mehr als 70-75 % fehlende Werte vorhanden sind\n",
    "\n",
    "- Ersetzen durch Mittelwert/Medianwert/Modus (Imputation): Diese können auf ein Merkmal mit numerischen Daten angewendet werden.\n",
    "\n",
    "- Zuweisen einer eindeutigen Kategorie: Wenn ein kategoriales Merkmal eine bestimmte Anzahl von Klassen hat, können wir eine andere Klasse zuweisen.\n",
    "\n",
    "- Vorhersagen der fehlenden Werte: Wir können die Nullen mit Hilfe eines maschinellen Lernalgorithmen, bespielweise wie der linearen Regression.\n",
    "\n",
    "- Verwenden von Algorithmen, die fehlende Werte unterstützen: KNN ist ein maschineller Lernalgorithmen, der nach dem Prinzip der Entfernungsmessung arbeitet. Dieser Algorithmus kann verwendet werden, wenn im Datensatz Nullen vorhanden sind. KNN berücksichtigt die fehlenden Werte, indem es die Mehrheit der K nächsten Werte nimmt"
   ]
  },
  {
   "cell_type": "markdown",
   "metadata": {
    "id": "F_0xNPexDyzk"
   },
   "source": [
    " ### Dropping (Fallenlassen)\n",
    " \n",
    " - dropna()\n",
    " - drop()"
   ]
  },
  {
   "cell_type": "markdown",
   "metadata": {},
   "source": [
    "### ``dropna()``"
   ]
  },
  {
   "cell_type": "code",
   "execution_count": 554,
   "metadata": {
    "id": "u_76SqebDyza",
    "outputId": "da19b97c-8143-4ac4-ee66-07b8eb6b2067"
   },
   "outputs": [
    {
     "data": {
      "text/html": [
       "<div>\n",
       "<style scoped>\n",
       "    .dataframe tbody tr th:only-of-type {\n",
       "        vertical-align: middle;\n",
       "    }\n",
       "\n",
       "    .dataframe tbody tr th {\n",
       "        vertical-align: top;\n",
       "    }\n",
       "\n",
       "    .dataframe thead th {\n",
       "        text-align: right;\n",
       "    }\n",
       "</style>\n",
       "<table border=\"1\" class=\"dataframe\">\n",
       "  <thead>\n",
       "    <tr style=\"text-align: right;\">\n",
       "      <th></th>\n",
       "      <th>id</th>\n",
       "      <th>gender</th>\n",
       "      <th>status</th>\n",
       "      <th>dept</th>\n",
       "      <th>var1</th>\n",
       "      <th>var2</th>\n",
       "      <th>salary</th>\n",
       "    </tr>\n",
       "  </thead>\n",
       "  <tbody>\n",
       "    <tr>\n",
       "      <th>4</th>\n",
       "      <td>P005</td>\n",
       "      <td>M</td>\n",
       "      <td>PT</td>\n",
       "      <td>DS</td>\n",
       "      <td>7.0</td>\n",
       "      <td>11.0</td>\n",
       "      <td>58.0</td>\n",
       "    </tr>\n",
       "  </tbody>\n",
       "</table>\n",
       "</div>"
      ],
      "text/plain": [
       "     id gender status dept  var1  var2  salary\n",
       "4  P005      M     PT   DS   7.0  11.0    58.0"
      ]
     },
     "execution_count": 554,
     "metadata": {},
     "output_type": "execute_result"
    }
   ],
   "source": [
    "# Es entfernt die Zeilen, die einen (mindestens einen) fehlenden Wert enthalten.\n",
    "df.dropna(axis=0, how=\"any\", thresh=None, inplace=False)\n",
    "# how : {'any','all'}, der Standard 'any', \n",
    "# thresh : Erfordert so viele Nicht-NA-Werte."
   ]
  },
  {
   "cell_type": "code",
   "execution_count": 555,
   "metadata": {
    "id": "Q48-pj1EDyzb",
    "outputId": "95c5447c-cf04-4423-c84b-a2a8fe0a318f"
   },
   "outputs": [
    {
     "data": {
      "text/html": [
       "<div>\n",
       "<style scoped>\n",
       "    .dataframe tbody tr th:only-of-type {\n",
       "        vertical-align: middle;\n",
       "    }\n",
       "\n",
       "    .dataframe tbody tr th {\n",
       "        vertical-align: top;\n",
       "    }\n",
       "\n",
       "    .dataframe thead th {\n",
       "        text-align: right;\n",
       "    }\n",
       "</style>\n",
       "<table border=\"1\" class=\"dataframe\">\n",
       "  <thead>\n",
       "    <tr style=\"text-align: right;\">\n",
       "      <th></th>\n",
       "      <th>id</th>\n",
       "      <th>gender</th>\n",
       "    </tr>\n",
       "  </thead>\n",
       "  <tbody>\n",
       "    <tr>\n",
       "      <th>0</th>\n",
       "      <td>P001</td>\n",
       "      <td>M</td>\n",
       "    </tr>\n",
       "    <tr>\n",
       "      <th>1</th>\n",
       "      <td>P002</td>\n",
       "      <td>F</td>\n",
       "    </tr>\n",
       "    <tr>\n",
       "      <th>2</th>\n",
       "      <td>P003</td>\n",
       "      <td>M</td>\n",
       "    </tr>\n",
       "    <tr>\n",
       "      <th>3</th>\n",
       "      <td>P004</td>\n",
       "      <td>F</td>\n",
       "    </tr>\n",
       "    <tr>\n",
       "      <th>4</th>\n",
       "      <td>P005</td>\n",
       "      <td>M</td>\n",
       "    </tr>\n",
       "    <tr>\n",
       "      <th>5</th>\n",
       "      <td>P006</td>\n",
       "      <td>F</td>\n",
       "    </tr>\n",
       "    <tr>\n",
       "      <th>6</th>\n",
       "      <td>P007</td>\n",
       "      <td>M</td>\n",
       "    </tr>\n",
       "    <tr>\n",
       "      <th>7</th>\n",
       "      <td>P008</td>\n",
       "      <td>F</td>\n",
       "    </tr>\n",
       "    <tr>\n",
       "      <th>8</th>\n",
       "      <td>P009</td>\n",
       "      <td>M</td>\n",
       "    </tr>\n",
       "    <tr>\n",
       "      <th>9</th>\n",
       "      <td>P010</td>\n",
       "      <td>F</td>\n",
       "    </tr>\n",
       "    <tr>\n",
       "      <th>10</th>\n",
       "      <td>P011</td>\n",
       "      <td>M</td>\n",
       "    </tr>\n",
       "  </tbody>\n",
       "</table>\n",
       "</div>"
      ],
      "text/plain": [
       "      id gender\n",
       "0   P001      M\n",
       "1   P002      F\n",
       "2   P003      M\n",
       "3   P004      F\n",
       "4   P005      M\n",
       "5   P006      F\n",
       "6   P007      M\n",
       "7   P008      F\n",
       "8   P009      M\n",
       "9   P010      F\n",
       "10  P011      M"
      ]
     },
     "execution_count": 555,
     "metadata": {},
     "output_type": "execute_result"
    }
   ],
   "source": [
    "# Es entfernt die Spalten, die einen (mindestens einen fehlenden Wert) fehlenden Wert enthalten\n",
    "df.dropna(axis=1, how=\"any\", thresh=None, inplace=False)"
   ]
  },
  {
   "cell_type": "code",
   "execution_count": 556,
   "metadata": {
    "id": "CC5mVsBL98fu",
    "outputId": "a192c25c-48b1-4acf-87d2-3b0686e099f5"
   },
   "outputs": [
    {
     "data": {
      "text/html": [
       "<div>\n",
       "<style scoped>\n",
       "    .dataframe tbody tr th:only-of-type {\n",
       "        vertical-align: middle;\n",
       "    }\n",
       "\n",
       "    .dataframe tbody tr th {\n",
       "        vertical-align: top;\n",
       "    }\n",
       "\n",
       "    .dataframe thead th {\n",
       "        text-align: right;\n",
       "    }\n",
       "</style>\n",
       "<table border=\"1\" class=\"dataframe\">\n",
       "  <thead>\n",
       "    <tr style=\"text-align: right;\">\n",
       "      <th></th>\n",
       "      <th>id</th>\n",
       "      <th>gender</th>\n",
       "      <th>status</th>\n",
       "      <th>dept</th>\n",
       "      <th>var1</th>\n",
       "      <th>var2</th>\n",
       "      <th>salary</th>\n",
       "    </tr>\n",
       "  </thead>\n",
       "  <tbody>\n",
       "    <tr>\n",
       "      <th>0</th>\n",
       "      <td>P001</td>\n",
       "      <td>M</td>\n",
       "      <td>FT</td>\n",
       "      <td>DS</td>\n",
       "      <td>2.0</td>\n",
       "      <td>8.0</td>\n",
       "      <td>NaN</td>\n",
       "    </tr>\n",
       "    <tr>\n",
       "      <th>1</th>\n",
       "      <td>P002</td>\n",
       "      <td>F</td>\n",
       "      <td>PT</td>\n",
       "      <td>FS</td>\n",
       "      <td>3.0</td>\n",
       "      <td>NaN</td>\n",
       "      <td>54.0</td>\n",
       "    </tr>\n",
       "    <tr>\n",
       "      <th>2</th>\n",
       "      <td>P003</td>\n",
       "      <td>M</td>\n",
       "      <td>NaN</td>\n",
       "      <td>AWS</td>\n",
       "      <td>5.0</td>\n",
       "      <td>5.0</td>\n",
       "      <td>59.0</td>\n",
       "    </tr>\n",
       "    <tr>\n",
       "      <th>3</th>\n",
       "      <td>P004</td>\n",
       "      <td>F</td>\n",
       "      <td>FT</td>\n",
       "      <td>AWS</td>\n",
       "      <td>NaN</td>\n",
       "      <td>8.0</td>\n",
       "      <td>120.0</td>\n",
       "    </tr>\n",
       "    <tr>\n",
       "      <th>4</th>\n",
       "      <td>P005</td>\n",
       "      <td>M</td>\n",
       "      <td>PT</td>\n",
       "      <td>DS</td>\n",
       "      <td>7.0</td>\n",
       "      <td>11.0</td>\n",
       "      <td>58.0</td>\n",
       "    </tr>\n",
       "    <tr>\n",
       "      <th>5</th>\n",
       "      <td>P006</td>\n",
       "      <td>F</td>\n",
       "      <td>PT</td>\n",
       "      <td>NaN</td>\n",
       "      <td>1.0</td>\n",
       "      <td>NaN</td>\n",
       "      <td>75.0</td>\n",
       "    </tr>\n",
       "    <tr>\n",
       "      <th>6</th>\n",
       "      <td>P007</td>\n",
       "      <td>M</td>\n",
       "      <td>FT</td>\n",
       "      <td>FS</td>\n",
       "      <td>NaN</td>\n",
       "      <td>NaN</td>\n",
       "      <td>NaN</td>\n",
       "    </tr>\n",
       "    <tr>\n",
       "      <th>7</th>\n",
       "      <td>P008</td>\n",
       "      <td>F</td>\n",
       "      <td>NaN</td>\n",
       "      <td>FS</td>\n",
       "      <td>10.0</td>\n",
       "      <td>2.0</td>\n",
       "      <td>136.0</td>\n",
       "    </tr>\n",
       "    <tr>\n",
       "      <th>8</th>\n",
       "      <td>P009</td>\n",
       "      <td>M</td>\n",
       "      <td>PT</td>\n",
       "      <td>NaN</td>\n",
       "      <td>14.0</td>\n",
       "      <td>3.0</td>\n",
       "      <td>60.0</td>\n",
       "    </tr>\n",
       "    <tr>\n",
       "      <th>9</th>\n",
       "      <td>P010</td>\n",
       "      <td>F</td>\n",
       "      <td>FT</td>\n",
       "      <td>DS</td>\n",
       "      <td>NaN</td>\n",
       "      <td>7.0</td>\n",
       "      <td>125.0</td>\n",
       "    </tr>\n",
       "    <tr>\n",
       "      <th>10</th>\n",
       "      <td>P011</td>\n",
       "      <td>M</td>\n",
       "      <td>NaN</td>\n",
       "      <td>AWS</td>\n",
       "      <td>6.0</td>\n",
       "      <td>9.0</td>\n",
       "      <td>NaN</td>\n",
       "    </tr>\n",
       "  </tbody>\n",
       "</table>\n",
       "</div>"
      ],
      "text/plain": [
       "      id gender status dept  var1  var2  salary\n",
       "0   P001      M     FT   DS   2.0   8.0     NaN\n",
       "1   P002      F     PT   FS   3.0   NaN    54.0\n",
       "2   P003      M    NaN  AWS   5.0   5.0    59.0\n",
       "3   P004      F     FT  AWS   NaN   8.0   120.0\n",
       "4   P005      M     PT   DS   7.0  11.0    58.0\n",
       "5   P006      F     PT  NaN   1.0   NaN    75.0\n",
       "6   P007      M     FT   FS   NaN   NaN     NaN\n",
       "7   P008      F    NaN   FS  10.0   2.0   136.0\n",
       "8   P009      M     PT  NaN  14.0   3.0    60.0\n",
       "9   P010      F     FT   DS   NaN   7.0   125.0\n",
       "10  P011      M    NaN  AWS   6.0   9.0     NaN"
      ]
     },
     "execution_count": 556,
     "metadata": {},
     "output_type": "execute_result"
    }
   ],
   "source": [
    "df.dropna(axis=1, how=\"all\", thresh=None, inplace=False)"
   ]
  },
  {
   "cell_type": "code",
   "execution_count": 557,
   "metadata": {
    "id": "8lVBelrCDyzo",
    "outputId": "c86399b4-720f-47b7-9065-e79ce31fd01c"
   },
   "outputs": [
    {
     "data": {
      "text/html": [
       "<div>\n",
       "<style scoped>\n",
       "    .dataframe tbody tr th:only-of-type {\n",
       "        vertical-align: middle;\n",
       "    }\n",
       "\n",
       "    .dataframe tbody tr th {\n",
       "        vertical-align: top;\n",
       "    }\n",
       "\n",
       "    .dataframe thead th {\n",
       "        text-align: right;\n",
       "    }\n",
       "</style>\n",
       "<table border=\"1\" class=\"dataframe\">\n",
       "  <thead>\n",
       "    <tr style=\"text-align: right;\">\n",
       "      <th></th>\n",
       "      <th>id</th>\n",
       "      <th>gender</th>\n",
       "      <th>status</th>\n",
       "      <th>dept</th>\n",
       "      <th>var1</th>\n",
       "      <th>var2</th>\n",
       "      <th>salary</th>\n",
       "      <th>NaNs</th>\n",
       "    </tr>\n",
       "  </thead>\n",
       "  <tbody>\n",
       "    <tr>\n",
       "      <th>0</th>\n",
       "      <td>P001</td>\n",
       "      <td>M</td>\n",
       "      <td>FT</td>\n",
       "      <td>DS</td>\n",
       "      <td>2.0</td>\n",
       "      <td>8.0</td>\n",
       "      <td>NaN</td>\n",
       "      <td>NaN</td>\n",
       "    </tr>\n",
       "    <tr>\n",
       "      <th>1</th>\n",
       "      <td>P002</td>\n",
       "      <td>F</td>\n",
       "      <td>PT</td>\n",
       "      <td>FS</td>\n",
       "      <td>3.0</td>\n",
       "      <td>NaN</td>\n",
       "      <td>54.0</td>\n",
       "      <td>NaN</td>\n",
       "    </tr>\n",
       "    <tr>\n",
       "      <th>2</th>\n",
       "      <td>P003</td>\n",
       "      <td>M</td>\n",
       "      <td>NaN</td>\n",
       "      <td>AWS</td>\n",
       "      <td>5.0</td>\n",
       "      <td>5.0</td>\n",
       "      <td>59.0</td>\n",
       "      <td>NaN</td>\n",
       "    </tr>\n",
       "    <tr>\n",
       "      <th>3</th>\n",
       "      <td>P004</td>\n",
       "      <td>F</td>\n",
       "      <td>FT</td>\n",
       "      <td>AWS</td>\n",
       "      <td>NaN</td>\n",
       "      <td>8.0</td>\n",
       "      <td>120.0</td>\n",
       "      <td>NaN</td>\n",
       "    </tr>\n",
       "    <tr>\n",
       "      <th>4</th>\n",
       "      <td>P005</td>\n",
       "      <td>M</td>\n",
       "      <td>PT</td>\n",
       "      <td>DS</td>\n",
       "      <td>7.0</td>\n",
       "      <td>11.0</td>\n",
       "      <td>58.0</td>\n",
       "      <td>NaN</td>\n",
       "    </tr>\n",
       "    <tr>\n",
       "      <th>5</th>\n",
       "      <td>P006</td>\n",
       "      <td>F</td>\n",
       "      <td>PT</td>\n",
       "      <td>NaN</td>\n",
       "      <td>1.0</td>\n",
       "      <td>NaN</td>\n",
       "      <td>75.0</td>\n",
       "      <td>NaN</td>\n",
       "    </tr>\n",
       "    <tr>\n",
       "      <th>6</th>\n",
       "      <td>P007</td>\n",
       "      <td>M</td>\n",
       "      <td>FT</td>\n",
       "      <td>FS</td>\n",
       "      <td>NaN</td>\n",
       "      <td>NaN</td>\n",
       "      <td>NaN</td>\n",
       "      <td>NaN</td>\n",
       "    </tr>\n",
       "    <tr>\n",
       "      <th>7</th>\n",
       "      <td>P008</td>\n",
       "      <td>F</td>\n",
       "      <td>NaN</td>\n",
       "      <td>FS</td>\n",
       "      <td>10.0</td>\n",
       "      <td>2.0</td>\n",
       "      <td>136.0</td>\n",
       "      <td>NaN</td>\n",
       "    </tr>\n",
       "    <tr>\n",
       "      <th>8</th>\n",
       "      <td>P009</td>\n",
       "      <td>M</td>\n",
       "      <td>PT</td>\n",
       "      <td>NaN</td>\n",
       "      <td>14.0</td>\n",
       "      <td>3.0</td>\n",
       "      <td>60.0</td>\n",
       "      <td>NaN</td>\n",
       "    </tr>\n",
       "    <tr>\n",
       "      <th>9</th>\n",
       "      <td>P010</td>\n",
       "      <td>F</td>\n",
       "      <td>FT</td>\n",
       "      <td>DS</td>\n",
       "      <td>NaN</td>\n",
       "      <td>7.0</td>\n",
       "      <td>125.0</td>\n",
       "      <td>NaN</td>\n",
       "    </tr>\n",
       "    <tr>\n",
       "      <th>10</th>\n",
       "      <td>P011</td>\n",
       "      <td>M</td>\n",
       "      <td>NaN</td>\n",
       "      <td>AWS</td>\n",
       "      <td>6.0</td>\n",
       "      <td>9.0</td>\n",
       "      <td>NaN</td>\n",
       "      <td>NaN</td>\n",
       "    </tr>\n",
       "  </tbody>\n",
       "</table>\n",
       "</div>"
      ],
      "text/plain": [
       "      id gender status dept  var1  var2  salary  NaNs\n",
       "0   P001      M     FT   DS   2.0   8.0     NaN   NaN\n",
       "1   P002      F     PT   FS   3.0   NaN    54.0   NaN\n",
       "2   P003      M    NaN  AWS   5.0   5.0    59.0   NaN\n",
       "3   P004      F     FT  AWS   NaN   8.0   120.0   NaN\n",
       "4   P005      M     PT   DS   7.0  11.0    58.0   NaN\n",
       "5   P006      F     PT  NaN   1.0   NaN    75.0   NaN\n",
       "6   P007      M     FT   FS   NaN   NaN     NaN   NaN\n",
       "7   P008      F    NaN   FS  10.0   2.0   136.0   NaN\n",
       "8   P009      M     PT  NaN  14.0   3.0    60.0   NaN\n",
       "9   P010      F     FT   DS   NaN   7.0   125.0   NaN\n",
       "10  P011      M    NaN  AWS   6.0   9.0     NaN   NaN"
      ]
     },
     "execution_count": 557,
     "metadata": {},
     "output_type": "execute_result"
    }
   ],
   "source": [
    "# Lassen Sie uns eine Spalte erstellen, die voller fehlender Werte ist.\n",
    "df[\"NaNs\"] = np.nan\n",
    "df"
   ]
  },
  {
   "cell_type": "code",
   "execution_count": 558,
   "metadata": {
    "id": "jhezkG4mDyzp",
    "outputId": "2ed9bd3a-b147-4ddb-a684-65b5788c7dba"
   },
   "outputs": [
    {
     "data": {
      "text/html": [
       "<div>\n",
       "<style scoped>\n",
       "    .dataframe tbody tr th:only-of-type {\n",
       "        vertical-align: middle;\n",
       "    }\n",
       "\n",
       "    .dataframe tbody tr th {\n",
       "        vertical-align: top;\n",
       "    }\n",
       "\n",
       "    .dataframe thead th {\n",
       "        text-align: right;\n",
       "    }\n",
       "</style>\n",
       "<table border=\"1\" class=\"dataframe\">\n",
       "  <thead>\n",
       "    <tr style=\"text-align: right;\">\n",
       "      <th></th>\n",
       "      <th>id</th>\n",
       "      <th>gender</th>\n",
       "      <th>status</th>\n",
       "      <th>dept</th>\n",
       "      <th>var1</th>\n",
       "      <th>var2</th>\n",
       "      <th>salary</th>\n",
       "    </tr>\n",
       "  </thead>\n",
       "  <tbody>\n",
       "    <tr>\n",
       "      <th>0</th>\n",
       "      <td>P001</td>\n",
       "      <td>M</td>\n",
       "      <td>FT</td>\n",
       "      <td>DS</td>\n",
       "      <td>2.0</td>\n",
       "      <td>8.0</td>\n",
       "      <td>NaN</td>\n",
       "    </tr>\n",
       "    <tr>\n",
       "      <th>1</th>\n",
       "      <td>P002</td>\n",
       "      <td>F</td>\n",
       "      <td>PT</td>\n",
       "      <td>FS</td>\n",
       "      <td>3.0</td>\n",
       "      <td>NaN</td>\n",
       "      <td>54.0</td>\n",
       "    </tr>\n",
       "    <tr>\n",
       "      <th>2</th>\n",
       "      <td>P003</td>\n",
       "      <td>M</td>\n",
       "      <td>NaN</td>\n",
       "      <td>AWS</td>\n",
       "      <td>5.0</td>\n",
       "      <td>5.0</td>\n",
       "      <td>59.0</td>\n",
       "    </tr>\n",
       "    <tr>\n",
       "      <th>3</th>\n",
       "      <td>P004</td>\n",
       "      <td>F</td>\n",
       "      <td>FT</td>\n",
       "      <td>AWS</td>\n",
       "      <td>NaN</td>\n",
       "      <td>8.0</td>\n",
       "      <td>120.0</td>\n",
       "    </tr>\n",
       "    <tr>\n",
       "      <th>4</th>\n",
       "      <td>P005</td>\n",
       "      <td>M</td>\n",
       "      <td>PT</td>\n",
       "      <td>DS</td>\n",
       "      <td>7.0</td>\n",
       "      <td>11.0</td>\n",
       "      <td>58.0</td>\n",
       "    </tr>\n",
       "    <tr>\n",
       "      <th>5</th>\n",
       "      <td>P006</td>\n",
       "      <td>F</td>\n",
       "      <td>PT</td>\n",
       "      <td>NaN</td>\n",
       "      <td>1.0</td>\n",
       "      <td>NaN</td>\n",
       "      <td>75.0</td>\n",
       "    </tr>\n",
       "    <tr>\n",
       "      <th>6</th>\n",
       "      <td>P007</td>\n",
       "      <td>M</td>\n",
       "      <td>FT</td>\n",
       "      <td>FS</td>\n",
       "      <td>NaN</td>\n",
       "      <td>NaN</td>\n",
       "      <td>NaN</td>\n",
       "    </tr>\n",
       "    <tr>\n",
       "      <th>7</th>\n",
       "      <td>P008</td>\n",
       "      <td>F</td>\n",
       "      <td>NaN</td>\n",
       "      <td>FS</td>\n",
       "      <td>10.0</td>\n",
       "      <td>2.0</td>\n",
       "      <td>136.0</td>\n",
       "    </tr>\n",
       "    <tr>\n",
       "      <th>8</th>\n",
       "      <td>P009</td>\n",
       "      <td>M</td>\n",
       "      <td>PT</td>\n",
       "      <td>NaN</td>\n",
       "      <td>14.0</td>\n",
       "      <td>3.0</td>\n",
       "      <td>60.0</td>\n",
       "    </tr>\n",
       "    <tr>\n",
       "      <th>9</th>\n",
       "      <td>P010</td>\n",
       "      <td>F</td>\n",
       "      <td>FT</td>\n",
       "      <td>DS</td>\n",
       "      <td>NaN</td>\n",
       "      <td>7.0</td>\n",
       "      <td>125.0</td>\n",
       "    </tr>\n",
       "    <tr>\n",
       "      <th>10</th>\n",
       "      <td>P011</td>\n",
       "      <td>M</td>\n",
       "      <td>NaN</td>\n",
       "      <td>AWS</td>\n",
       "      <td>6.0</td>\n",
       "      <td>9.0</td>\n",
       "      <td>NaN</td>\n",
       "    </tr>\n",
       "  </tbody>\n",
       "</table>\n",
       "</div>"
      ],
      "text/plain": [
       "      id gender status dept  var1  var2  salary\n",
       "0   P001      M     FT   DS   2.0   8.0     NaN\n",
       "1   P002      F     PT   FS   3.0   NaN    54.0\n",
       "2   P003      M    NaN  AWS   5.0   5.0    59.0\n",
       "3   P004      F     FT  AWS   NaN   8.0   120.0\n",
       "4   P005      M     PT   DS   7.0  11.0    58.0\n",
       "5   P006      F     PT  NaN   1.0   NaN    75.0\n",
       "6   P007      M     FT   FS   NaN   NaN     NaN\n",
       "7   P008      F    NaN   FS  10.0   2.0   136.0\n",
       "8   P009      M     PT  NaN  14.0   3.0    60.0\n",
       "9   P010      F     FT   DS   NaN   7.0   125.0\n",
       "10  P011      M    NaN  AWS   6.0   9.0     NaN"
      ]
     },
     "execution_count": 558,
     "metadata": {},
     "output_type": "execute_result"
    }
   ],
   "source": [
    "# Lassen Sie uns jetzt die Spalte löschen, die voller fehlender Werte ist.\n",
    "df.dropna(axis=1, how=\"all\", inplace=True)\n",
    "df"
   ]
  },
  {
   "cell_type": "code",
   "execution_count": 559,
   "metadata": {
    "id": "GYvEi1PDDyzb",
    "outputId": "dc6ac82b-9ec6-45f5-b2f5-4b1aca112805"
   },
   "outputs": [
    {
     "data": {
      "text/html": [
       "<div>\n",
       "<style scoped>\n",
       "    .dataframe tbody tr th:only-of-type {\n",
       "        vertical-align: middle;\n",
       "    }\n",
       "\n",
       "    .dataframe tbody tr th {\n",
       "        vertical-align: top;\n",
       "    }\n",
       "\n",
       "    .dataframe thead th {\n",
       "        text-align: right;\n",
       "    }\n",
       "</style>\n",
       "<table border=\"1\" class=\"dataframe\">\n",
       "  <thead>\n",
       "    <tr style=\"text-align: right;\">\n",
       "      <th></th>\n",
       "      <th>id</th>\n",
       "      <th>gender</th>\n",
       "      <th>dept</th>\n",
       "    </tr>\n",
       "  </thead>\n",
       "  <tbody>\n",
       "    <tr>\n",
       "      <th>0</th>\n",
       "      <td>P001</td>\n",
       "      <td>M</td>\n",
       "      <td>DS</td>\n",
       "    </tr>\n",
       "    <tr>\n",
       "      <th>1</th>\n",
       "      <td>P002</td>\n",
       "      <td>F</td>\n",
       "      <td>FS</td>\n",
       "    </tr>\n",
       "    <tr>\n",
       "      <th>2</th>\n",
       "      <td>P003</td>\n",
       "      <td>M</td>\n",
       "      <td>AWS</td>\n",
       "    </tr>\n",
       "    <tr>\n",
       "      <th>3</th>\n",
       "      <td>P004</td>\n",
       "      <td>F</td>\n",
       "      <td>AWS</td>\n",
       "    </tr>\n",
       "    <tr>\n",
       "      <th>4</th>\n",
       "      <td>P005</td>\n",
       "      <td>M</td>\n",
       "      <td>DS</td>\n",
       "    </tr>\n",
       "    <tr>\n",
       "      <th>5</th>\n",
       "      <td>P006</td>\n",
       "      <td>F</td>\n",
       "      <td>NaN</td>\n",
       "    </tr>\n",
       "    <tr>\n",
       "      <th>6</th>\n",
       "      <td>P007</td>\n",
       "      <td>M</td>\n",
       "      <td>FS</td>\n",
       "    </tr>\n",
       "    <tr>\n",
       "      <th>7</th>\n",
       "      <td>P008</td>\n",
       "      <td>F</td>\n",
       "      <td>FS</td>\n",
       "    </tr>\n",
       "    <tr>\n",
       "      <th>8</th>\n",
       "      <td>P009</td>\n",
       "      <td>M</td>\n",
       "      <td>NaN</td>\n",
       "    </tr>\n",
       "    <tr>\n",
       "      <th>9</th>\n",
       "      <td>P010</td>\n",
       "      <td>F</td>\n",
       "      <td>DS</td>\n",
       "    </tr>\n",
       "    <tr>\n",
       "      <th>10</th>\n",
       "      <td>P011</td>\n",
       "      <td>M</td>\n",
       "      <td>AWS</td>\n",
       "    </tr>\n",
       "  </tbody>\n",
       "</table>\n",
       "</div>"
      ],
      "text/plain": [
       "      id gender dept\n",
       "0   P001      M   DS\n",
       "1   P002      F   FS\n",
       "2   P003      M  AWS\n",
       "3   P004      F  AWS\n",
       "4   P005      M   DS\n",
       "5   P006      F  NaN\n",
       "6   P007      M   FS\n",
       "7   P008      F   FS\n",
       "8   P009      M  NaN\n",
       "9   P010      F   DS\n",
       "10  P011      M  AWS"
      ]
     },
     "execution_count": 559,
     "metadata": {},
     "output_type": "execute_result"
    }
   ],
   "source": [
    "df.dropna(axis=1, how=\"any\", thresh=9, inplace=False)"
   ]
  },
  {
   "cell_type": "markdown",
   "metadata": {},
   "source": [
    "### ``drop()``"
   ]
  },
  {
   "cell_type": "code",
   "execution_count": 560,
   "metadata": {
    "id": "q9t54owu98fx",
    "outputId": "f4af2727-1eb6-4cf5-c03c-86da01697f9f"
   },
   "outputs": [
    {
     "data": {
      "text/html": [
       "<div>\n",
       "<style scoped>\n",
       "    .dataframe tbody tr th:only-of-type {\n",
       "        vertical-align: middle;\n",
       "    }\n",
       "\n",
       "    .dataframe tbody tr th {\n",
       "        vertical-align: top;\n",
       "    }\n",
       "\n",
       "    .dataframe thead th {\n",
       "        text-align: right;\n",
       "    }\n",
       "</style>\n",
       "<table border=\"1\" class=\"dataframe\">\n",
       "  <thead>\n",
       "    <tr style=\"text-align: right;\">\n",
       "      <th></th>\n",
       "      <th>id</th>\n",
       "      <th>gender</th>\n",
       "      <th>status</th>\n",
       "      <th>dept</th>\n",
       "      <th>var1</th>\n",
       "      <th>var2</th>\n",
       "      <th>salary</th>\n",
       "    </tr>\n",
       "  </thead>\n",
       "  <tbody>\n",
       "    <tr>\n",
       "      <th>0</th>\n",
       "      <td>P001</td>\n",
       "      <td>M</td>\n",
       "      <td>FT</td>\n",
       "      <td>DS</td>\n",
       "      <td>2.0</td>\n",
       "      <td>8.0</td>\n",
       "      <td>NaN</td>\n",
       "    </tr>\n",
       "    <tr>\n",
       "      <th>2</th>\n",
       "      <td>P003</td>\n",
       "      <td>M</td>\n",
       "      <td>NaN</td>\n",
       "      <td>AWS</td>\n",
       "      <td>5.0</td>\n",
       "      <td>5.0</td>\n",
       "      <td>59.0</td>\n",
       "    </tr>\n",
       "    <tr>\n",
       "      <th>4</th>\n",
       "      <td>P005</td>\n",
       "      <td>M</td>\n",
       "      <td>PT</td>\n",
       "      <td>DS</td>\n",
       "      <td>7.0</td>\n",
       "      <td>11.0</td>\n",
       "      <td>58.0</td>\n",
       "    </tr>\n",
       "    <tr>\n",
       "      <th>6</th>\n",
       "      <td>P007</td>\n",
       "      <td>M</td>\n",
       "      <td>FT</td>\n",
       "      <td>FS</td>\n",
       "      <td>NaN</td>\n",
       "      <td>NaN</td>\n",
       "      <td>NaN</td>\n",
       "    </tr>\n",
       "    <tr>\n",
       "      <th>7</th>\n",
       "      <td>P008</td>\n",
       "      <td>F</td>\n",
       "      <td>NaN</td>\n",
       "      <td>FS</td>\n",
       "      <td>10.0</td>\n",
       "      <td>2.0</td>\n",
       "      <td>136.0</td>\n",
       "    </tr>\n",
       "    <tr>\n",
       "      <th>8</th>\n",
       "      <td>P009</td>\n",
       "      <td>M</td>\n",
       "      <td>PT</td>\n",
       "      <td>NaN</td>\n",
       "      <td>14.0</td>\n",
       "      <td>3.0</td>\n",
       "      <td>60.0</td>\n",
       "    </tr>\n",
       "    <tr>\n",
       "      <th>9</th>\n",
       "      <td>P010</td>\n",
       "      <td>F</td>\n",
       "      <td>FT</td>\n",
       "      <td>DS</td>\n",
       "      <td>NaN</td>\n",
       "      <td>7.0</td>\n",
       "      <td>125.0</td>\n",
       "    </tr>\n",
       "    <tr>\n",
       "      <th>10</th>\n",
       "      <td>P011</td>\n",
       "      <td>M</td>\n",
       "      <td>NaN</td>\n",
       "      <td>AWS</td>\n",
       "      <td>6.0</td>\n",
       "      <td>9.0</td>\n",
       "      <td>NaN</td>\n",
       "    </tr>\n",
       "  </tbody>\n",
       "</table>\n",
       "</div>"
      ],
      "text/plain": [
       "      id gender status dept  var1  var2  salary\n",
       "0   P001      M     FT   DS   2.0   8.0     NaN\n",
       "2   P003      M    NaN  AWS   5.0   5.0    59.0\n",
       "4   P005      M     PT   DS   7.0  11.0    58.0\n",
       "6   P007      M     FT   FS   NaN   NaN     NaN\n",
       "7   P008      F    NaN   FS  10.0   2.0   136.0\n",
       "8   P009      M     PT  NaN  14.0   3.0    60.0\n",
       "9   P010      F     FT   DS   NaN   7.0   125.0\n",
       "10  P011      M    NaN  AWS   6.0   9.0     NaN"
      ]
     },
     "execution_count": 560,
     "metadata": {},
     "output_type": "execute_result"
    }
   ],
   "source": [
    "df.drop(index=[1, 3, 5], axis=0)"
   ]
  },
  {
   "cell_type": "code",
   "execution_count": 561,
   "metadata": {
    "id": "5Kwj_g3K98fx",
    "outputId": "cd84193f-10c8-404a-82c6-7700fbed1081"
   },
   "outputs": [
    {
     "data": {
      "text/html": [
       "<div>\n",
       "<style scoped>\n",
       "    .dataframe tbody tr th:only-of-type {\n",
       "        vertical-align: middle;\n",
       "    }\n",
       "\n",
       "    .dataframe tbody tr th {\n",
       "        vertical-align: top;\n",
       "    }\n",
       "\n",
       "    .dataframe thead th {\n",
       "        text-align: right;\n",
       "    }\n",
       "</style>\n",
       "<table border=\"1\" class=\"dataframe\">\n",
       "  <thead>\n",
       "    <tr style=\"text-align: right;\">\n",
       "      <th></th>\n",
       "      <th>gender</th>\n",
       "      <th>status</th>\n",
       "      <th>dept</th>\n",
       "      <th>var2</th>\n",
       "      <th>salary</th>\n",
       "    </tr>\n",
       "  </thead>\n",
       "  <tbody>\n",
       "    <tr>\n",
       "      <th>0</th>\n",
       "      <td>M</td>\n",
       "      <td>FT</td>\n",
       "      <td>DS</td>\n",
       "      <td>8.0</td>\n",
       "      <td>NaN</td>\n",
       "    </tr>\n",
       "    <tr>\n",
       "      <th>1</th>\n",
       "      <td>F</td>\n",
       "      <td>PT</td>\n",
       "      <td>FS</td>\n",
       "      <td>NaN</td>\n",
       "      <td>54.0</td>\n",
       "    </tr>\n",
       "    <tr>\n",
       "      <th>2</th>\n",
       "      <td>M</td>\n",
       "      <td>NaN</td>\n",
       "      <td>AWS</td>\n",
       "      <td>5.0</td>\n",
       "      <td>59.0</td>\n",
       "    </tr>\n",
       "    <tr>\n",
       "      <th>3</th>\n",
       "      <td>F</td>\n",
       "      <td>FT</td>\n",
       "      <td>AWS</td>\n",
       "      <td>8.0</td>\n",
       "      <td>120.0</td>\n",
       "    </tr>\n",
       "    <tr>\n",
       "      <th>4</th>\n",
       "      <td>M</td>\n",
       "      <td>PT</td>\n",
       "      <td>DS</td>\n",
       "      <td>11.0</td>\n",
       "      <td>58.0</td>\n",
       "    </tr>\n",
       "    <tr>\n",
       "      <th>5</th>\n",
       "      <td>F</td>\n",
       "      <td>PT</td>\n",
       "      <td>NaN</td>\n",
       "      <td>NaN</td>\n",
       "      <td>75.0</td>\n",
       "    </tr>\n",
       "    <tr>\n",
       "      <th>6</th>\n",
       "      <td>M</td>\n",
       "      <td>FT</td>\n",
       "      <td>FS</td>\n",
       "      <td>NaN</td>\n",
       "      <td>NaN</td>\n",
       "    </tr>\n",
       "    <tr>\n",
       "      <th>7</th>\n",
       "      <td>F</td>\n",
       "      <td>NaN</td>\n",
       "      <td>FS</td>\n",
       "      <td>2.0</td>\n",
       "      <td>136.0</td>\n",
       "    </tr>\n",
       "    <tr>\n",
       "      <th>8</th>\n",
       "      <td>M</td>\n",
       "      <td>PT</td>\n",
       "      <td>NaN</td>\n",
       "      <td>3.0</td>\n",
       "      <td>60.0</td>\n",
       "    </tr>\n",
       "    <tr>\n",
       "      <th>9</th>\n",
       "      <td>F</td>\n",
       "      <td>FT</td>\n",
       "      <td>DS</td>\n",
       "      <td>7.0</td>\n",
       "      <td>125.0</td>\n",
       "    </tr>\n",
       "    <tr>\n",
       "      <th>10</th>\n",
       "      <td>M</td>\n",
       "      <td>NaN</td>\n",
       "      <td>AWS</td>\n",
       "      <td>9.0</td>\n",
       "      <td>NaN</td>\n",
       "    </tr>\n",
       "  </tbody>\n",
       "</table>\n",
       "</div>"
      ],
      "text/plain": [
       "   gender status dept  var2  salary\n",
       "0       M     FT   DS   8.0     NaN\n",
       "1       F     PT   FS   NaN    54.0\n",
       "2       M    NaN  AWS   5.0    59.0\n",
       "3       F     FT  AWS   8.0   120.0\n",
       "4       M     PT   DS  11.0    58.0\n",
       "5       F     PT  NaN   NaN    75.0\n",
       "6       M     FT   FS   NaN     NaN\n",
       "7       F    NaN   FS   2.0   136.0\n",
       "8       M     PT  NaN   3.0    60.0\n",
       "9       F     FT   DS   7.0   125.0\n",
       "10      M    NaN  AWS   9.0     NaN"
      ]
     },
     "execution_count": 561,
     "metadata": {},
     "output_type": "execute_result"
    }
   ],
   "source": [
    "df.drop(columns=[\"id\", \"var1\"], axis=1)"
   ]
  },
  {
   "cell_type": "markdown",
   "metadata": {
    "id": "0GmBZxqVDyzq"
   },
   "source": [
    " ### Filling\n"
   ]
  },
  {
   "cell_type": "code",
   "execution_count": 562,
   "metadata": {
    "id": "NTOuQnKKDyzr",
    "outputId": "960cbc88-cd62-4e16-ba09-2d763ec508a4",
    "scrolled": true
   },
   "outputs": [
    {
     "data": {
      "text/html": [
       "<div>\n",
       "<style scoped>\n",
       "    .dataframe tbody tr th:only-of-type {\n",
       "        vertical-align: middle;\n",
       "    }\n",
       "\n",
       "    .dataframe tbody tr th {\n",
       "        vertical-align: top;\n",
       "    }\n",
       "\n",
       "    .dataframe thead th {\n",
       "        text-align: right;\n",
       "    }\n",
       "</style>\n",
       "<table border=\"1\" class=\"dataframe\">\n",
       "  <thead>\n",
       "    <tr style=\"text-align: right;\">\n",
       "      <th></th>\n",
       "      <th>id</th>\n",
       "      <th>gender</th>\n",
       "      <th>status</th>\n",
       "      <th>dept</th>\n",
       "      <th>var1</th>\n",
       "      <th>var2</th>\n",
       "      <th>salary</th>\n",
       "    </tr>\n",
       "  </thead>\n",
       "  <tbody>\n",
       "    <tr>\n",
       "      <th>0</th>\n",
       "      <td>P001</td>\n",
       "      <td>M</td>\n",
       "      <td>FT</td>\n",
       "      <td>DS</td>\n",
       "      <td>2.0</td>\n",
       "      <td>8.0</td>\n",
       "      <td>NaN</td>\n",
       "    </tr>\n",
       "    <tr>\n",
       "      <th>1</th>\n",
       "      <td>P002</td>\n",
       "      <td>F</td>\n",
       "      <td>PT</td>\n",
       "      <td>FS</td>\n",
       "      <td>3.0</td>\n",
       "      <td>NaN</td>\n",
       "      <td>54.0</td>\n",
       "    </tr>\n",
       "    <tr>\n",
       "      <th>2</th>\n",
       "      <td>P003</td>\n",
       "      <td>M</td>\n",
       "      <td>NaN</td>\n",
       "      <td>AWS</td>\n",
       "      <td>5.0</td>\n",
       "      <td>5.0</td>\n",
       "      <td>59.0</td>\n",
       "    </tr>\n",
       "    <tr>\n",
       "      <th>3</th>\n",
       "      <td>P004</td>\n",
       "      <td>F</td>\n",
       "      <td>FT</td>\n",
       "      <td>AWS</td>\n",
       "      <td>NaN</td>\n",
       "      <td>8.0</td>\n",
       "      <td>120.0</td>\n",
       "    </tr>\n",
       "    <tr>\n",
       "      <th>4</th>\n",
       "      <td>P005</td>\n",
       "      <td>M</td>\n",
       "      <td>PT</td>\n",
       "      <td>DS</td>\n",
       "      <td>7.0</td>\n",
       "      <td>11.0</td>\n",
       "      <td>58.0</td>\n",
       "    </tr>\n",
       "    <tr>\n",
       "      <th>5</th>\n",
       "      <td>P006</td>\n",
       "      <td>F</td>\n",
       "      <td>PT</td>\n",
       "      <td>NaN</td>\n",
       "      <td>1.0</td>\n",
       "      <td>NaN</td>\n",
       "      <td>75.0</td>\n",
       "    </tr>\n",
       "    <tr>\n",
       "      <th>6</th>\n",
       "      <td>P007</td>\n",
       "      <td>M</td>\n",
       "      <td>FT</td>\n",
       "      <td>FS</td>\n",
       "      <td>NaN</td>\n",
       "      <td>NaN</td>\n",
       "      <td>NaN</td>\n",
       "    </tr>\n",
       "    <tr>\n",
       "      <th>7</th>\n",
       "      <td>P008</td>\n",
       "      <td>F</td>\n",
       "      <td>NaN</td>\n",
       "      <td>FS</td>\n",
       "      <td>10.0</td>\n",
       "      <td>2.0</td>\n",
       "      <td>136.0</td>\n",
       "    </tr>\n",
       "    <tr>\n",
       "      <th>8</th>\n",
       "      <td>P009</td>\n",
       "      <td>M</td>\n",
       "      <td>PT</td>\n",
       "      <td>NaN</td>\n",
       "      <td>14.0</td>\n",
       "      <td>3.0</td>\n",
       "      <td>60.0</td>\n",
       "    </tr>\n",
       "    <tr>\n",
       "      <th>9</th>\n",
       "      <td>P010</td>\n",
       "      <td>F</td>\n",
       "      <td>FT</td>\n",
       "      <td>DS</td>\n",
       "      <td>NaN</td>\n",
       "      <td>7.0</td>\n",
       "      <td>125.0</td>\n",
       "    </tr>\n",
       "    <tr>\n",
       "      <th>10</th>\n",
       "      <td>P011</td>\n",
       "      <td>M</td>\n",
       "      <td>NaN</td>\n",
       "      <td>AWS</td>\n",
       "      <td>6.0</td>\n",
       "      <td>9.0</td>\n",
       "      <td>NaN</td>\n",
       "    </tr>\n",
       "  </tbody>\n",
       "</table>\n",
       "</div>"
      ],
      "text/plain": [
       "      id gender status dept  var1  var2  salary\n",
       "0   P001      M     FT   DS   2.0   8.0     NaN\n",
       "1   P002      F     PT   FS   3.0   NaN    54.0\n",
       "2   P003      M    NaN  AWS   5.0   5.0    59.0\n",
       "3   P004      F     FT  AWS   NaN   8.0   120.0\n",
       "4   P005      M     PT   DS   7.0  11.0    58.0\n",
       "5   P006      F     PT  NaN   1.0   NaN    75.0\n",
       "6   P007      M     FT   FS   NaN   NaN     NaN\n",
       "7   P008      F    NaN   FS  10.0   2.0   136.0\n",
       "8   P009      M     PT  NaN  14.0   3.0    60.0\n",
       "9   P010      F     FT   DS   NaN   7.0   125.0\n",
       "10  P011      M    NaN  AWS   6.0   9.0     NaN"
      ]
     },
     "execution_count": 562,
     "metadata": {},
     "output_type": "execute_result"
    }
   ],
   "source": [
    "df"
   ]
  },
  {
   "cell_type": "markdown",
   "metadata": {
    "id": "OdUsVrEVDyzr"
   },
   "source": [
    "#### Füllen mit einem bestimmten Wert"
   ]
  },
  {
   "cell_type": "code",
   "execution_count": 563,
   "metadata": {
    "id": "4r33TmTM98fz",
    "outputId": "c5860f1e-5e08-4dfa-8aad-c04f8e48ae3b"
   },
   "outputs": [
    {
     "data": {
      "text/html": [
       "<div>\n",
       "<style scoped>\n",
       "    .dataframe tbody tr th:only-of-type {\n",
       "        vertical-align: middle;\n",
       "    }\n",
       "\n",
       "    .dataframe tbody tr th {\n",
       "        vertical-align: top;\n",
       "    }\n",
       "\n",
       "    .dataframe thead th {\n",
       "        text-align: right;\n",
       "    }\n",
       "</style>\n",
       "<table border=\"1\" class=\"dataframe\">\n",
       "  <thead>\n",
       "    <tr style=\"text-align: right;\">\n",
       "      <th></th>\n",
       "      <th>id</th>\n",
       "      <th>gender</th>\n",
       "      <th>status</th>\n",
       "      <th>dept</th>\n",
       "      <th>var1</th>\n",
       "      <th>var2</th>\n",
       "      <th>salary</th>\n",
       "    </tr>\n",
       "  </thead>\n",
       "  <tbody>\n",
       "    <tr>\n",
       "      <th>0</th>\n",
       "      <td>P001</td>\n",
       "      <td>M</td>\n",
       "      <td>FT</td>\n",
       "      <td>DS</td>\n",
       "      <td>2.0</td>\n",
       "      <td>8.0</td>\n",
       "      <td>00000</td>\n",
       "    </tr>\n",
       "    <tr>\n",
       "      <th>1</th>\n",
       "      <td>P002</td>\n",
       "      <td>F</td>\n",
       "      <td>PT</td>\n",
       "      <td>FS</td>\n",
       "      <td>3.0</td>\n",
       "      <td>00000</td>\n",
       "      <td>54.0</td>\n",
       "    </tr>\n",
       "    <tr>\n",
       "      <th>2</th>\n",
       "      <td>P003</td>\n",
       "      <td>M</td>\n",
       "      <td>00000</td>\n",
       "      <td>AWS</td>\n",
       "      <td>5.0</td>\n",
       "      <td>5.0</td>\n",
       "      <td>59.0</td>\n",
       "    </tr>\n",
       "    <tr>\n",
       "      <th>3</th>\n",
       "      <td>P004</td>\n",
       "      <td>F</td>\n",
       "      <td>FT</td>\n",
       "      <td>AWS</td>\n",
       "      <td>00000</td>\n",
       "      <td>8.0</td>\n",
       "      <td>120.0</td>\n",
       "    </tr>\n",
       "    <tr>\n",
       "      <th>4</th>\n",
       "      <td>P005</td>\n",
       "      <td>M</td>\n",
       "      <td>PT</td>\n",
       "      <td>DS</td>\n",
       "      <td>7.0</td>\n",
       "      <td>11.0</td>\n",
       "      <td>58.0</td>\n",
       "    </tr>\n",
       "    <tr>\n",
       "      <th>5</th>\n",
       "      <td>P006</td>\n",
       "      <td>F</td>\n",
       "      <td>PT</td>\n",
       "      <td>00000</td>\n",
       "      <td>1.0</td>\n",
       "      <td>00000</td>\n",
       "      <td>75.0</td>\n",
       "    </tr>\n",
       "    <tr>\n",
       "      <th>6</th>\n",
       "      <td>P007</td>\n",
       "      <td>M</td>\n",
       "      <td>FT</td>\n",
       "      <td>FS</td>\n",
       "      <td>00000</td>\n",
       "      <td>00000</td>\n",
       "      <td>00000</td>\n",
       "    </tr>\n",
       "    <tr>\n",
       "      <th>7</th>\n",
       "      <td>P008</td>\n",
       "      <td>F</td>\n",
       "      <td>00000</td>\n",
       "      <td>FS</td>\n",
       "      <td>10.0</td>\n",
       "      <td>2.0</td>\n",
       "      <td>136.0</td>\n",
       "    </tr>\n",
       "    <tr>\n",
       "      <th>8</th>\n",
       "      <td>P009</td>\n",
       "      <td>M</td>\n",
       "      <td>PT</td>\n",
       "      <td>00000</td>\n",
       "      <td>14.0</td>\n",
       "      <td>3.0</td>\n",
       "      <td>60.0</td>\n",
       "    </tr>\n",
       "    <tr>\n",
       "      <th>9</th>\n",
       "      <td>P010</td>\n",
       "      <td>F</td>\n",
       "      <td>FT</td>\n",
       "      <td>DS</td>\n",
       "      <td>00000</td>\n",
       "      <td>7.0</td>\n",
       "      <td>125.0</td>\n",
       "    </tr>\n",
       "    <tr>\n",
       "      <th>10</th>\n",
       "      <td>P011</td>\n",
       "      <td>M</td>\n",
       "      <td>00000</td>\n",
       "      <td>AWS</td>\n",
       "      <td>6.0</td>\n",
       "      <td>9.0</td>\n",
       "      <td>00000</td>\n",
       "    </tr>\n",
       "  </tbody>\n",
       "</table>\n",
       "</div>"
      ],
      "text/plain": [
       "      id gender status   dept   var1   var2 salary\n",
       "0   P001      M     FT     DS    2.0    8.0  00000\n",
       "1   P002      F     PT     FS    3.0  00000   54.0\n",
       "2   P003      M  00000    AWS    5.0    5.0   59.0\n",
       "3   P004      F     FT    AWS  00000    8.0  120.0\n",
       "4   P005      M     PT     DS    7.0   11.0   58.0\n",
       "5   P006      F     PT  00000    1.0  00000   75.0\n",
       "6   P007      M     FT     FS  00000  00000  00000\n",
       "7   P008      F  00000     FS   10.0    2.0  136.0\n",
       "8   P009      M     PT  00000   14.0    3.0   60.0\n",
       "9   P010      F     FT     DS  00000    7.0  125.0\n",
       "10  P011      M  00000    AWS    6.0    9.0  00000"
      ]
     },
     "execution_count": 563,
     "metadata": {},
     "output_type": "execute_result"
    }
   ],
   "source": [
    "df.fillna(\"00000\")"
   ]
  },
  {
   "cell_type": "code",
   "execution_count": 564,
   "metadata": {
    "id": "z5bjvfP7Dyzs",
    "outputId": "4ab3702f-e1b0-43f2-ce73-f6b60663e067"
   },
   "outputs": [
    {
     "data": {
      "text/plain": [
       "0      2.0\n",
       "1      3.0\n",
       "2      5.0\n",
       "3      NaN\n",
       "4      7.0\n",
       "5      1.0\n",
       "6      NaN\n",
       "7     10.0\n",
       "8     14.0\n",
       "9      NaN\n",
       "10     6.0\n",
       "Name: var1, dtype: float64"
      ]
     },
     "execution_count": 564,
     "metadata": {},
     "output_type": "execute_result"
    }
   ],
   "source": [
    "df[\"var1\"]"
   ]
  },
  {
   "cell_type": "code",
   "execution_count": 565,
   "metadata": {
    "id": "2gTzGNjGDyzs",
    "outputId": "ebf9982a-1c9f-49a2-c3ec-fafa132f9751"
   },
   "outputs": [
    {
     "data": {
      "text/plain": [
       "0       2.0\n",
       "1       3.0\n",
       "2       5.0\n",
       "3     00000\n",
       "4       7.0\n",
       "5       1.0\n",
       "6     00000\n",
       "7      10.0\n",
       "8      14.0\n",
       "9     00000\n",
       "10      6.0\n",
       "Name: var1, dtype: object"
      ]
     },
     "execution_count": 565,
     "metadata": {},
     "output_type": "execute_result"
    }
   ],
   "source": [
    "df[\"var1\"].fillna(\"00000\")"
   ]
  },
  {
   "cell_type": "markdown",
   "metadata": {
    "id": "f2UjYRTMDyzt"
   },
   "source": [
    "#### Füllen mit einem beliebigen richtigen Wert"
   ]
  },
  {
   "cell_type": "markdown",
   "metadata": {},
   "source": [
    "#### ``mean`` ``median``"
   ]
  },
  {
   "cell_type": "code",
   "execution_count": 566,
   "metadata": {
    "id": "esVMtoW1Dyzt",
    "outputId": "a0271bad-51c4-4c2a-88c0-85fc5cff6771"
   },
   "outputs": [
    {
     "data": {
      "text/plain": [
       "6.0"
      ]
     },
     "execution_count": 566,
     "metadata": {},
     "output_type": "execute_result"
    }
   ],
   "source": [
    "df[\"var1\"].mean()"
   ]
  },
  {
   "cell_type": "code",
   "execution_count": 567,
   "metadata": {
    "id": "wbt9LmaUDyzt",
    "outputId": "06d4f39d-9036-4584-f1de-8626c30f5c8d"
   },
   "outputs": [
    {
     "data": {
      "text/plain": [
       "0        2.0\n",
       "1        3.0\n",
       "2        5.0\n",
       "3     6000.0\n",
       "4        7.0\n",
       "5        1.0\n",
       "6     6000.0\n",
       "7       10.0\n",
       "8       14.0\n",
       "9     6000.0\n",
       "10       6.0\n",
       "Name: var1, dtype: float64"
      ]
     },
     "execution_count": 567,
     "metadata": {},
     "output_type": "execute_result"
    }
   ],
   "source": [
    "df[\"var1\"].fillna(df[\"var1\"].mean()*1000)"
   ]
  },
  {
   "cell_type": "code",
   "execution_count": 568,
   "metadata": {
    "id": "kS4RJcrW98f1",
    "outputId": "2f933573-e2f6-401a-fe21-927e99f57767"
   },
   "outputs": [
    {
     "data": {
      "text/plain": [
       "5.5"
      ]
     },
     "execution_count": 568,
     "metadata": {},
     "output_type": "execute_result"
    }
   ],
   "source": [
    "df[\"var1\"].median()"
   ]
  },
  {
   "cell_type": "code",
   "execution_count": 569,
   "metadata": {
    "id": "ZipgaqV_98f2",
    "outputId": "96232e86-db25-4d6d-b15e-3f42b1b6a865"
   },
   "outputs": [
    {
     "data": {
      "text/plain": [
       "0        2.0\n",
       "1        3.0\n",
       "2        5.0\n",
       "3     5500.0\n",
       "4        7.0\n",
       "5        1.0\n",
       "6     5500.0\n",
       "7       10.0\n",
       "8       14.0\n",
       "9     5500.0\n",
       "10       6.0\n",
       "Name: var1, dtype: float64"
      ]
     },
     "execution_count": 569,
     "metadata": {},
     "output_type": "execute_result"
    }
   ],
   "source": [
    "df[\"var1\"].fillna(df[\"var1\"].median()*1000)"
   ]
  },
  {
   "cell_type": "code",
   "execution_count": 570,
   "metadata": {
    "id": "K0aHKHTl98f4",
    "outputId": "6fc241b5-4f83-4e22-9323-534b6d1b5ae7"
   },
   "outputs": [
    {
     "name": "stderr",
     "output_type": "stream",
     "text": [
      "C:\\Users\\bulen\\AppData\\Local\\Temp/ipykernel_23084/3698961737.py:1: FutureWarning: Dropping of nuisance columns in DataFrame reductions (with 'numeric_only=None') is deprecated; in a future version this will raise TypeError.  Select only valid columns before calling the reduction.\n",
      "  df.mean()\n"
     ]
    },
    {
     "data": {
      "text/plain": [
       "var1       6.000\n",
       "var2       6.625\n",
       "salary    85.875\n",
       "dtype: float64"
      ]
     },
     "execution_count": 570,
     "metadata": {},
     "output_type": "execute_result"
    }
   ],
   "source": [
    "df.mean()"
   ]
  },
  {
   "cell_type": "code",
   "execution_count": 571,
   "metadata": {
    "id": "69mqyq3g98f5",
    "outputId": "54423afa-fc53-4388-d9ed-a68409394b6b"
   },
   "outputs": [
    {
     "name": "stderr",
     "output_type": "stream",
     "text": [
      "C:\\Users\\bulen\\AppData\\Local\\Temp/ipykernel_23084/730498975.py:1: FutureWarning: Dropping of nuisance columns in DataFrame reductions (with 'numeric_only=None') is deprecated; in a future version this will raise TypeError.  Select only valid columns before calling the reduction.\n",
      "  df.fillna(df.mean()*1000)\n"
     ]
    },
    {
     "data": {
      "text/html": [
       "<div>\n",
       "<style scoped>\n",
       "    .dataframe tbody tr th:only-of-type {\n",
       "        vertical-align: middle;\n",
       "    }\n",
       "\n",
       "    .dataframe tbody tr th {\n",
       "        vertical-align: top;\n",
       "    }\n",
       "\n",
       "    .dataframe thead th {\n",
       "        text-align: right;\n",
       "    }\n",
       "</style>\n",
       "<table border=\"1\" class=\"dataframe\">\n",
       "  <thead>\n",
       "    <tr style=\"text-align: right;\">\n",
       "      <th></th>\n",
       "      <th>id</th>\n",
       "      <th>gender</th>\n",
       "      <th>status</th>\n",
       "      <th>dept</th>\n",
       "      <th>var1</th>\n",
       "      <th>var2</th>\n",
       "      <th>salary</th>\n",
       "    </tr>\n",
       "  </thead>\n",
       "  <tbody>\n",
       "    <tr>\n",
       "      <th>0</th>\n",
       "      <td>P001</td>\n",
       "      <td>M</td>\n",
       "      <td>FT</td>\n",
       "      <td>DS</td>\n",
       "      <td>2.0</td>\n",
       "      <td>8.0</td>\n",
       "      <td>85875.0</td>\n",
       "    </tr>\n",
       "    <tr>\n",
       "      <th>1</th>\n",
       "      <td>P002</td>\n",
       "      <td>F</td>\n",
       "      <td>PT</td>\n",
       "      <td>FS</td>\n",
       "      <td>3.0</td>\n",
       "      <td>6625.0</td>\n",
       "      <td>54.0</td>\n",
       "    </tr>\n",
       "    <tr>\n",
       "      <th>2</th>\n",
       "      <td>P003</td>\n",
       "      <td>M</td>\n",
       "      <td>NaN</td>\n",
       "      <td>AWS</td>\n",
       "      <td>5.0</td>\n",
       "      <td>5.0</td>\n",
       "      <td>59.0</td>\n",
       "    </tr>\n",
       "    <tr>\n",
       "      <th>3</th>\n",
       "      <td>P004</td>\n",
       "      <td>F</td>\n",
       "      <td>FT</td>\n",
       "      <td>AWS</td>\n",
       "      <td>6000.0</td>\n",
       "      <td>8.0</td>\n",
       "      <td>120.0</td>\n",
       "    </tr>\n",
       "    <tr>\n",
       "      <th>4</th>\n",
       "      <td>P005</td>\n",
       "      <td>M</td>\n",
       "      <td>PT</td>\n",
       "      <td>DS</td>\n",
       "      <td>7.0</td>\n",
       "      <td>11.0</td>\n",
       "      <td>58.0</td>\n",
       "    </tr>\n",
       "    <tr>\n",
       "      <th>5</th>\n",
       "      <td>P006</td>\n",
       "      <td>F</td>\n",
       "      <td>PT</td>\n",
       "      <td>NaN</td>\n",
       "      <td>1.0</td>\n",
       "      <td>6625.0</td>\n",
       "      <td>75.0</td>\n",
       "    </tr>\n",
       "    <tr>\n",
       "      <th>6</th>\n",
       "      <td>P007</td>\n",
       "      <td>M</td>\n",
       "      <td>FT</td>\n",
       "      <td>FS</td>\n",
       "      <td>6000.0</td>\n",
       "      <td>6625.0</td>\n",
       "      <td>85875.0</td>\n",
       "    </tr>\n",
       "    <tr>\n",
       "      <th>7</th>\n",
       "      <td>P008</td>\n",
       "      <td>F</td>\n",
       "      <td>NaN</td>\n",
       "      <td>FS</td>\n",
       "      <td>10.0</td>\n",
       "      <td>2.0</td>\n",
       "      <td>136.0</td>\n",
       "    </tr>\n",
       "    <tr>\n",
       "      <th>8</th>\n",
       "      <td>P009</td>\n",
       "      <td>M</td>\n",
       "      <td>PT</td>\n",
       "      <td>NaN</td>\n",
       "      <td>14.0</td>\n",
       "      <td>3.0</td>\n",
       "      <td>60.0</td>\n",
       "    </tr>\n",
       "    <tr>\n",
       "      <th>9</th>\n",
       "      <td>P010</td>\n",
       "      <td>F</td>\n",
       "      <td>FT</td>\n",
       "      <td>DS</td>\n",
       "      <td>6000.0</td>\n",
       "      <td>7.0</td>\n",
       "      <td>125.0</td>\n",
       "    </tr>\n",
       "    <tr>\n",
       "      <th>10</th>\n",
       "      <td>P011</td>\n",
       "      <td>M</td>\n",
       "      <td>NaN</td>\n",
       "      <td>AWS</td>\n",
       "      <td>6.0</td>\n",
       "      <td>9.0</td>\n",
       "      <td>85875.0</td>\n",
       "    </tr>\n",
       "  </tbody>\n",
       "</table>\n",
       "</div>"
      ],
      "text/plain": [
       "      id gender status dept    var1    var2   salary\n",
       "0   P001      M     FT   DS     2.0     8.0  85875.0\n",
       "1   P002      F     PT   FS     3.0  6625.0     54.0\n",
       "2   P003      M    NaN  AWS     5.0     5.0     59.0\n",
       "3   P004      F     FT  AWS  6000.0     8.0    120.0\n",
       "4   P005      M     PT   DS     7.0    11.0     58.0\n",
       "5   P006      F     PT  NaN     1.0  6625.0     75.0\n",
       "6   P007      M     FT   FS  6000.0  6625.0  85875.0\n",
       "7   P008      F    NaN   FS    10.0     2.0    136.0\n",
       "8   P009      M     PT  NaN    14.0     3.0     60.0\n",
       "9   P010      F     FT   DS  6000.0     7.0    125.0\n",
       "10  P011      M    NaN  AWS     6.0     9.0  85875.0"
      ]
     },
     "execution_count": 571,
     "metadata": {},
     "output_type": "execute_result"
    }
   ],
   "source": [
    "df.fillna(df.mean()*1000)"
   ]
  },
  {
   "cell_type": "code",
   "execution_count": 572,
   "metadata": {
    "id": "gM-7iYA698f6",
    "outputId": "3cf84487-96f1-4558-8cfb-8f9f91110da2"
   },
   "outputs": [
    {
     "data": {
      "text/html": [
       "<div>\n",
       "<style scoped>\n",
       "    .dataframe tbody tr th:only-of-type {\n",
       "        vertical-align: middle;\n",
       "    }\n",
       "\n",
       "    .dataframe tbody tr th {\n",
       "        vertical-align: top;\n",
       "    }\n",
       "\n",
       "    .dataframe thead th {\n",
       "        text-align: right;\n",
       "    }\n",
       "</style>\n",
       "<table border=\"1\" class=\"dataframe\">\n",
       "  <thead>\n",
       "    <tr style=\"text-align: right;\">\n",
       "      <th></th>\n",
       "      <th>id</th>\n",
       "      <th>gender</th>\n",
       "      <th>status</th>\n",
       "      <th>dept</th>\n",
       "      <th>var1</th>\n",
       "      <th>var2</th>\n",
       "      <th>salary</th>\n",
       "    </tr>\n",
       "  </thead>\n",
       "  <tbody>\n",
       "    <tr>\n",
       "      <th>0</th>\n",
       "      <td>P001</td>\n",
       "      <td>M</td>\n",
       "      <td>FT</td>\n",
       "      <td>DS</td>\n",
       "      <td>2.0</td>\n",
       "      <td>8.0</td>\n",
       "      <td>NaN</td>\n",
       "    </tr>\n",
       "    <tr>\n",
       "      <th>1</th>\n",
       "      <td>P002</td>\n",
       "      <td>F</td>\n",
       "      <td>PT</td>\n",
       "      <td>FS</td>\n",
       "      <td>3.0</td>\n",
       "      <td>7500.0</td>\n",
       "      <td>54.0</td>\n",
       "    </tr>\n",
       "    <tr>\n",
       "      <th>2</th>\n",
       "      <td>P003</td>\n",
       "      <td>M</td>\n",
       "      <td>NaN</td>\n",
       "      <td>AWS</td>\n",
       "      <td>5.0</td>\n",
       "      <td>5.0</td>\n",
       "      <td>59.0</td>\n",
       "    </tr>\n",
       "    <tr>\n",
       "      <th>3</th>\n",
       "      <td>P004</td>\n",
       "      <td>F</td>\n",
       "      <td>FT</td>\n",
       "      <td>AWS</td>\n",
       "      <td>6000.0</td>\n",
       "      <td>8.0</td>\n",
       "      <td>120.0</td>\n",
       "    </tr>\n",
       "    <tr>\n",
       "      <th>4</th>\n",
       "      <td>P005</td>\n",
       "      <td>M</td>\n",
       "      <td>PT</td>\n",
       "      <td>DS</td>\n",
       "      <td>7.0</td>\n",
       "      <td>11.0</td>\n",
       "      <td>58.0</td>\n",
       "    </tr>\n",
       "    <tr>\n",
       "      <th>5</th>\n",
       "      <td>P006</td>\n",
       "      <td>F</td>\n",
       "      <td>PT</td>\n",
       "      <td>other</td>\n",
       "      <td>1.0</td>\n",
       "      <td>7500.0</td>\n",
       "      <td>75.0</td>\n",
       "    </tr>\n",
       "    <tr>\n",
       "      <th>6</th>\n",
       "      <td>P007</td>\n",
       "      <td>M</td>\n",
       "      <td>FT</td>\n",
       "      <td>FS</td>\n",
       "      <td>6000.0</td>\n",
       "      <td>7500.0</td>\n",
       "      <td>NaN</td>\n",
       "    </tr>\n",
       "    <tr>\n",
       "      <th>7</th>\n",
       "      <td>P008</td>\n",
       "      <td>F</td>\n",
       "      <td>NaN</td>\n",
       "      <td>FS</td>\n",
       "      <td>10.0</td>\n",
       "      <td>2.0</td>\n",
       "      <td>136.0</td>\n",
       "    </tr>\n",
       "    <tr>\n",
       "      <th>8</th>\n",
       "      <td>P009</td>\n",
       "      <td>M</td>\n",
       "      <td>PT</td>\n",
       "      <td>other</td>\n",
       "      <td>14.0</td>\n",
       "      <td>3.0</td>\n",
       "      <td>60.0</td>\n",
       "    </tr>\n",
       "    <tr>\n",
       "      <th>9</th>\n",
       "      <td>P010</td>\n",
       "      <td>F</td>\n",
       "      <td>FT</td>\n",
       "      <td>DS</td>\n",
       "      <td>6000.0</td>\n",
       "      <td>7.0</td>\n",
       "      <td>125.0</td>\n",
       "    </tr>\n",
       "    <tr>\n",
       "      <th>10</th>\n",
       "      <td>P011</td>\n",
       "      <td>M</td>\n",
       "      <td>NaN</td>\n",
       "      <td>AWS</td>\n",
       "      <td>6.0</td>\n",
       "      <td>9.0</td>\n",
       "      <td>NaN</td>\n",
       "    </tr>\n",
       "  </tbody>\n",
       "</table>\n",
       "</div>"
      ],
      "text/plain": [
       "      id gender status   dept    var1    var2  salary\n",
       "0   P001      M     FT     DS     2.0     8.0     NaN\n",
       "1   P002      F     PT     FS     3.0  7500.0    54.0\n",
       "2   P003      M    NaN    AWS     5.0     5.0    59.0\n",
       "3   P004      F     FT    AWS  6000.0     8.0   120.0\n",
       "4   P005      M     PT     DS     7.0    11.0    58.0\n",
       "5   P006      F     PT  other     1.0  7500.0    75.0\n",
       "6   P007      M     FT     FS  6000.0  7500.0     NaN\n",
       "7   P008      F    NaN     FS    10.0     2.0   136.0\n",
       "8   P009      M     PT  other    14.0     3.0    60.0\n",
       "9   P010      F     FT     DS  6000.0     7.0   125.0\n",
       "10  P011      M    NaN    AWS     6.0     9.0     NaN"
      ]
     },
     "execution_count": 572,
     "metadata": {},
     "output_type": "execute_result"
    }
   ],
   "source": [
    "df.fillna({\"dept\":\"other\", \"var1\":df.var1.mean()*1000, \"var2\":df.var2.median()*1000})"
   ]
  },
  {
   "cell_type": "code",
   "execution_count": 573,
   "metadata": {
    "id": "NS8gKmbt98f6",
    "outputId": "dde69f67-fa88-4043-8aa5-a89082f3bdf0"
   },
   "outputs": [
    {
     "name": "stderr",
     "output_type": "stream",
     "text": [
      "C:\\Users\\bulen\\AppData\\Local\\Temp/ipykernel_23084/2456245347.py:1: FutureWarning: Dropping of nuisance columns in DataFrame reductions (with 'numeric_only=None') is deprecated; in a future version this will raise TypeError.  Select only valid columns before calling the reduction.\n",
      "  df.mean()[[\"var1\",\"var2\"]]\n"
     ]
    },
    {
     "data": {
      "text/plain": [
       "var1    6.000\n",
       "var2    6.625\n",
       "dtype: float64"
      ]
     },
     "execution_count": 573,
     "metadata": {},
     "output_type": "execute_result"
    }
   ],
   "source": [
    "df.mean()[[\"var1\",\"var2\"]]"
   ]
  },
  {
   "cell_type": "code",
   "execution_count": 574,
   "metadata": {
    "id": "WlTy8ivM98gG",
    "outputId": "ebfb310b-346c-4872-ec7d-5286db62ff25"
   },
   "outputs": [
    {
     "name": "stderr",
     "output_type": "stream",
     "text": [
      "C:\\Users\\bulen\\AppData\\Local\\Temp/ipykernel_23084/599779694.py:1: FutureWarning: Dropping of nuisance columns in DataFrame reductions (with 'numeric_only=None') is deprecated; in a future version this will raise TypeError.  Select only valid columns before calling the reduction.\n",
      "  df.fillna(df.mean()[[\"var1\",\"var2\"]]*1000)\n"
     ]
    },
    {
     "data": {
      "text/html": [
       "<div>\n",
       "<style scoped>\n",
       "    .dataframe tbody tr th:only-of-type {\n",
       "        vertical-align: middle;\n",
       "    }\n",
       "\n",
       "    .dataframe tbody tr th {\n",
       "        vertical-align: top;\n",
       "    }\n",
       "\n",
       "    .dataframe thead th {\n",
       "        text-align: right;\n",
       "    }\n",
       "</style>\n",
       "<table border=\"1\" class=\"dataframe\">\n",
       "  <thead>\n",
       "    <tr style=\"text-align: right;\">\n",
       "      <th></th>\n",
       "      <th>id</th>\n",
       "      <th>gender</th>\n",
       "      <th>status</th>\n",
       "      <th>dept</th>\n",
       "      <th>var1</th>\n",
       "      <th>var2</th>\n",
       "      <th>salary</th>\n",
       "    </tr>\n",
       "  </thead>\n",
       "  <tbody>\n",
       "    <tr>\n",
       "      <th>0</th>\n",
       "      <td>P001</td>\n",
       "      <td>M</td>\n",
       "      <td>FT</td>\n",
       "      <td>DS</td>\n",
       "      <td>2.0</td>\n",
       "      <td>8.0</td>\n",
       "      <td>NaN</td>\n",
       "    </tr>\n",
       "    <tr>\n",
       "      <th>1</th>\n",
       "      <td>P002</td>\n",
       "      <td>F</td>\n",
       "      <td>PT</td>\n",
       "      <td>FS</td>\n",
       "      <td>3.0</td>\n",
       "      <td>6625.0</td>\n",
       "      <td>54.0</td>\n",
       "    </tr>\n",
       "    <tr>\n",
       "      <th>2</th>\n",
       "      <td>P003</td>\n",
       "      <td>M</td>\n",
       "      <td>NaN</td>\n",
       "      <td>AWS</td>\n",
       "      <td>5.0</td>\n",
       "      <td>5.0</td>\n",
       "      <td>59.0</td>\n",
       "    </tr>\n",
       "    <tr>\n",
       "      <th>3</th>\n",
       "      <td>P004</td>\n",
       "      <td>F</td>\n",
       "      <td>FT</td>\n",
       "      <td>AWS</td>\n",
       "      <td>6000.0</td>\n",
       "      <td>8.0</td>\n",
       "      <td>120.0</td>\n",
       "    </tr>\n",
       "    <tr>\n",
       "      <th>4</th>\n",
       "      <td>P005</td>\n",
       "      <td>M</td>\n",
       "      <td>PT</td>\n",
       "      <td>DS</td>\n",
       "      <td>7.0</td>\n",
       "      <td>11.0</td>\n",
       "      <td>58.0</td>\n",
       "    </tr>\n",
       "    <tr>\n",
       "      <th>5</th>\n",
       "      <td>P006</td>\n",
       "      <td>F</td>\n",
       "      <td>PT</td>\n",
       "      <td>NaN</td>\n",
       "      <td>1.0</td>\n",
       "      <td>6625.0</td>\n",
       "      <td>75.0</td>\n",
       "    </tr>\n",
       "    <tr>\n",
       "      <th>6</th>\n",
       "      <td>P007</td>\n",
       "      <td>M</td>\n",
       "      <td>FT</td>\n",
       "      <td>FS</td>\n",
       "      <td>6000.0</td>\n",
       "      <td>6625.0</td>\n",
       "      <td>NaN</td>\n",
       "    </tr>\n",
       "    <tr>\n",
       "      <th>7</th>\n",
       "      <td>P008</td>\n",
       "      <td>F</td>\n",
       "      <td>NaN</td>\n",
       "      <td>FS</td>\n",
       "      <td>10.0</td>\n",
       "      <td>2.0</td>\n",
       "      <td>136.0</td>\n",
       "    </tr>\n",
       "    <tr>\n",
       "      <th>8</th>\n",
       "      <td>P009</td>\n",
       "      <td>M</td>\n",
       "      <td>PT</td>\n",
       "      <td>NaN</td>\n",
       "      <td>14.0</td>\n",
       "      <td>3.0</td>\n",
       "      <td>60.0</td>\n",
       "    </tr>\n",
       "    <tr>\n",
       "      <th>9</th>\n",
       "      <td>P010</td>\n",
       "      <td>F</td>\n",
       "      <td>FT</td>\n",
       "      <td>DS</td>\n",
       "      <td>6000.0</td>\n",
       "      <td>7.0</td>\n",
       "      <td>125.0</td>\n",
       "    </tr>\n",
       "    <tr>\n",
       "      <th>10</th>\n",
       "      <td>P011</td>\n",
       "      <td>M</td>\n",
       "      <td>NaN</td>\n",
       "      <td>AWS</td>\n",
       "      <td>6.0</td>\n",
       "      <td>9.0</td>\n",
       "      <td>NaN</td>\n",
       "    </tr>\n",
       "  </tbody>\n",
       "</table>\n",
       "</div>"
      ],
      "text/plain": [
       "      id gender status dept    var1    var2  salary\n",
       "0   P001      M     FT   DS     2.0     8.0     NaN\n",
       "1   P002      F     PT   FS     3.0  6625.0    54.0\n",
       "2   P003      M    NaN  AWS     5.0     5.0    59.0\n",
       "3   P004      F     FT  AWS  6000.0     8.0   120.0\n",
       "4   P005      M     PT   DS     7.0    11.0    58.0\n",
       "5   P006      F     PT  NaN     1.0  6625.0    75.0\n",
       "6   P007      M     FT   FS  6000.0  6625.0     NaN\n",
       "7   P008      F    NaN   FS    10.0     2.0   136.0\n",
       "8   P009      M     PT  NaN    14.0     3.0    60.0\n",
       "9   P010      F     FT   DS  6000.0     7.0   125.0\n",
       "10  P011      M    NaN  AWS     6.0     9.0     NaN"
      ]
     },
     "execution_count": 574,
     "metadata": {},
     "output_type": "execute_result"
    }
   ],
   "source": [
    "df.fillna(df.mean()[[\"var1\",\"var2\"]]*1000)"
   ]
  },
  {
   "cell_type": "code",
   "execution_count": 575,
   "metadata": {
    "id": "LUQSaJeMDyzw",
    "outputId": "b3f6955a-c844-4d04-aa4e-4808b1691d78"
   },
   "outputs": [
    {
     "data": {
      "text/html": [
       "<div>\n",
       "<style scoped>\n",
       "    .dataframe tbody tr th:only-of-type {\n",
       "        vertical-align: middle;\n",
       "    }\n",
       "\n",
       "    .dataframe tbody tr th {\n",
       "        vertical-align: top;\n",
       "    }\n",
       "\n",
       "    .dataframe thead th {\n",
       "        text-align: right;\n",
       "    }\n",
       "</style>\n",
       "<table border=\"1\" class=\"dataframe\">\n",
       "  <thead>\n",
       "    <tr style=\"text-align: right;\">\n",
       "      <th></th>\n",
       "      <th>id</th>\n",
       "      <th>gender</th>\n",
       "      <th>status</th>\n",
       "      <th>dept</th>\n",
       "      <th>var1</th>\n",
       "      <th>var2</th>\n",
       "      <th>salary</th>\n",
       "    </tr>\n",
       "  </thead>\n",
       "  <tbody>\n",
       "    <tr>\n",
       "      <th>0</th>\n",
       "      <td>True</td>\n",
       "      <td>True</td>\n",
       "      <td>True</td>\n",
       "      <td>True</td>\n",
       "      <td>True</td>\n",
       "      <td>True</td>\n",
       "      <td>False</td>\n",
       "    </tr>\n",
       "    <tr>\n",
       "      <th>1</th>\n",
       "      <td>True</td>\n",
       "      <td>True</td>\n",
       "      <td>True</td>\n",
       "      <td>True</td>\n",
       "      <td>True</td>\n",
       "      <td>False</td>\n",
       "      <td>True</td>\n",
       "    </tr>\n",
       "    <tr>\n",
       "      <th>2</th>\n",
       "      <td>True</td>\n",
       "      <td>True</td>\n",
       "      <td>False</td>\n",
       "      <td>True</td>\n",
       "      <td>True</td>\n",
       "      <td>True</td>\n",
       "      <td>True</td>\n",
       "    </tr>\n",
       "    <tr>\n",
       "      <th>3</th>\n",
       "      <td>True</td>\n",
       "      <td>True</td>\n",
       "      <td>True</td>\n",
       "      <td>True</td>\n",
       "      <td>False</td>\n",
       "      <td>True</td>\n",
       "      <td>True</td>\n",
       "    </tr>\n",
       "    <tr>\n",
       "      <th>4</th>\n",
       "      <td>True</td>\n",
       "      <td>True</td>\n",
       "      <td>True</td>\n",
       "      <td>True</td>\n",
       "      <td>True</td>\n",
       "      <td>True</td>\n",
       "      <td>True</td>\n",
       "    </tr>\n",
       "    <tr>\n",
       "      <th>5</th>\n",
       "      <td>True</td>\n",
       "      <td>True</td>\n",
       "      <td>True</td>\n",
       "      <td>False</td>\n",
       "      <td>True</td>\n",
       "      <td>False</td>\n",
       "      <td>True</td>\n",
       "    </tr>\n",
       "    <tr>\n",
       "      <th>6</th>\n",
       "      <td>True</td>\n",
       "      <td>True</td>\n",
       "      <td>True</td>\n",
       "      <td>True</td>\n",
       "      <td>False</td>\n",
       "      <td>False</td>\n",
       "      <td>False</td>\n",
       "    </tr>\n",
       "    <tr>\n",
       "      <th>7</th>\n",
       "      <td>True</td>\n",
       "      <td>True</td>\n",
       "      <td>False</td>\n",
       "      <td>True</td>\n",
       "      <td>True</td>\n",
       "      <td>True</td>\n",
       "      <td>True</td>\n",
       "    </tr>\n",
       "    <tr>\n",
       "      <th>8</th>\n",
       "      <td>True</td>\n",
       "      <td>True</td>\n",
       "      <td>True</td>\n",
       "      <td>False</td>\n",
       "      <td>True</td>\n",
       "      <td>True</td>\n",
       "      <td>True</td>\n",
       "    </tr>\n",
       "    <tr>\n",
       "      <th>9</th>\n",
       "      <td>True</td>\n",
       "      <td>True</td>\n",
       "      <td>True</td>\n",
       "      <td>True</td>\n",
       "      <td>False</td>\n",
       "      <td>True</td>\n",
       "      <td>True</td>\n",
       "    </tr>\n",
       "    <tr>\n",
       "      <th>10</th>\n",
       "      <td>True</td>\n",
       "      <td>True</td>\n",
       "      <td>False</td>\n",
       "      <td>True</td>\n",
       "      <td>True</td>\n",
       "      <td>True</td>\n",
       "      <td>False</td>\n",
       "    </tr>\n",
       "  </tbody>\n",
       "</table>\n",
       "</div>"
      ],
      "text/plain": [
       "      id  gender  status   dept   var1   var2  salary\n",
       "0   True    True    True   True   True   True   False\n",
       "1   True    True    True   True   True  False    True\n",
       "2   True    True   False   True   True   True    True\n",
       "3   True    True    True   True  False   True    True\n",
       "4   True    True    True   True   True   True    True\n",
       "5   True    True    True  False   True  False    True\n",
       "6   True    True    True   True  False  False   False\n",
       "7   True    True   False   True   True   True    True\n",
       "8   True    True    True  False   True   True    True\n",
       "9   True    True    True   True  False   True    True\n",
       "10  True    True   False   True   True   True   False"
      ]
     },
     "execution_count": 575,
     "metadata": {},
     "output_type": "execute_result"
    }
   ],
   "source": [
    "pd.notna(df)"
   ]
  },
  {
   "cell_type": "code",
   "execution_count": 576,
   "metadata": {
    "id": "xMhJT_FvDyzw",
    "outputId": "727c2246-b6ad-4844-c847-da05d57b5f47",
    "scrolled": false
   },
   "outputs": [
    {
     "name": "stderr",
     "output_type": "stream",
     "text": [
      "C:\\Users\\bulen\\AppData\\Local\\Temp/ipykernel_23084/789757219.py:1: FutureWarning: Dropping of nuisance columns in DataFrame reductions (with 'numeric_only=None') is deprecated; in a future version this will raise TypeError.  Select only valid columns before calling the reduction.\n",
      "  df.where(cond=pd.notna(df), other=df.mean()*1000, axis=1)\n"
     ]
    },
    {
     "data": {
      "text/html": [
       "<div>\n",
       "<style scoped>\n",
       "    .dataframe tbody tr th:only-of-type {\n",
       "        vertical-align: middle;\n",
       "    }\n",
       "\n",
       "    .dataframe tbody tr th {\n",
       "        vertical-align: top;\n",
       "    }\n",
       "\n",
       "    .dataframe thead th {\n",
       "        text-align: right;\n",
       "    }\n",
       "</style>\n",
       "<table border=\"1\" class=\"dataframe\">\n",
       "  <thead>\n",
       "    <tr style=\"text-align: right;\">\n",
       "      <th></th>\n",
       "      <th>id</th>\n",
       "      <th>gender</th>\n",
       "      <th>status</th>\n",
       "      <th>dept</th>\n",
       "      <th>var1</th>\n",
       "      <th>var2</th>\n",
       "      <th>salary</th>\n",
       "    </tr>\n",
       "  </thead>\n",
       "  <tbody>\n",
       "    <tr>\n",
       "      <th>0</th>\n",
       "      <td>P001</td>\n",
       "      <td>M</td>\n",
       "      <td>FT</td>\n",
       "      <td>DS</td>\n",
       "      <td>2.0</td>\n",
       "      <td>8.0</td>\n",
       "      <td>85875.0</td>\n",
       "    </tr>\n",
       "    <tr>\n",
       "      <th>1</th>\n",
       "      <td>P002</td>\n",
       "      <td>F</td>\n",
       "      <td>PT</td>\n",
       "      <td>FS</td>\n",
       "      <td>3.0</td>\n",
       "      <td>6625.0</td>\n",
       "      <td>54.0</td>\n",
       "    </tr>\n",
       "    <tr>\n",
       "      <th>2</th>\n",
       "      <td>P003</td>\n",
       "      <td>M</td>\n",
       "      <td>NaN</td>\n",
       "      <td>AWS</td>\n",
       "      <td>5.0</td>\n",
       "      <td>5.0</td>\n",
       "      <td>59.0</td>\n",
       "    </tr>\n",
       "    <tr>\n",
       "      <th>3</th>\n",
       "      <td>P004</td>\n",
       "      <td>F</td>\n",
       "      <td>FT</td>\n",
       "      <td>AWS</td>\n",
       "      <td>6000.0</td>\n",
       "      <td>8.0</td>\n",
       "      <td>120.0</td>\n",
       "    </tr>\n",
       "    <tr>\n",
       "      <th>4</th>\n",
       "      <td>P005</td>\n",
       "      <td>M</td>\n",
       "      <td>PT</td>\n",
       "      <td>DS</td>\n",
       "      <td>7.0</td>\n",
       "      <td>11.0</td>\n",
       "      <td>58.0</td>\n",
       "    </tr>\n",
       "    <tr>\n",
       "      <th>5</th>\n",
       "      <td>P006</td>\n",
       "      <td>F</td>\n",
       "      <td>PT</td>\n",
       "      <td>NaN</td>\n",
       "      <td>1.0</td>\n",
       "      <td>6625.0</td>\n",
       "      <td>75.0</td>\n",
       "    </tr>\n",
       "    <tr>\n",
       "      <th>6</th>\n",
       "      <td>P007</td>\n",
       "      <td>M</td>\n",
       "      <td>FT</td>\n",
       "      <td>FS</td>\n",
       "      <td>6000.0</td>\n",
       "      <td>6625.0</td>\n",
       "      <td>85875.0</td>\n",
       "    </tr>\n",
       "    <tr>\n",
       "      <th>7</th>\n",
       "      <td>P008</td>\n",
       "      <td>F</td>\n",
       "      <td>NaN</td>\n",
       "      <td>FS</td>\n",
       "      <td>10.0</td>\n",
       "      <td>2.0</td>\n",
       "      <td>136.0</td>\n",
       "    </tr>\n",
       "    <tr>\n",
       "      <th>8</th>\n",
       "      <td>P009</td>\n",
       "      <td>M</td>\n",
       "      <td>PT</td>\n",
       "      <td>NaN</td>\n",
       "      <td>14.0</td>\n",
       "      <td>3.0</td>\n",
       "      <td>60.0</td>\n",
       "    </tr>\n",
       "    <tr>\n",
       "      <th>9</th>\n",
       "      <td>P010</td>\n",
       "      <td>F</td>\n",
       "      <td>FT</td>\n",
       "      <td>DS</td>\n",
       "      <td>6000.0</td>\n",
       "      <td>7.0</td>\n",
       "      <td>125.0</td>\n",
       "    </tr>\n",
       "    <tr>\n",
       "      <th>10</th>\n",
       "      <td>P011</td>\n",
       "      <td>M</td>\n",
       "      <td>NaN</td>\n",
       "      <td>AWS</td>\n",
       "      <td>6.0</td>\n",
       "      <td>9.0</td>\n",
       "      <td>85875.0</td>\n",
       "    </tr>\n",
       "  </tbody>\n",
       "</table>\n",
       "</div>"
      ],
      "text/plain": [
       "      id gender status dept    var1    var2   salary\n",
       "0   P001      M     FT   DS     2.0     8.0  85875.0\n",
       "1   P002      F     PT   FS     3.0  6625.0     54.0\n",
       "2   P003      M    NaN  AWS     5.0     5.0     59.0\n",
       "3   P004      F     FT  AWS  6000.0     8.0    120.0\n",
       "4   P005      M     PT   DS     7.0    11.0     58.0\n",
       "5   P006      F     PT  NaN     1.0  6625.0     75.0\n",
       "6   P007      M     FT   FS  6000.0  6625.0  85875.0\n",
       "7   P008      F    NaN   FS    10.0     2.0    136.0\n",
       "8   P009      M     PT  NaN    14.0     3.0     60.0\n",
       "9   P010      F     FT   DS  6000.0     7.0    125.0\n",
       "10  P011      M    NaN  AWS     6.0     9.0  85875.0"
      ]
     },
     "execution_count": 576,
     "metadata": {},
     "output_type": "execute_result"
    }
   ],
   "source": [
    "df.where(cond=pd.notna(df), other=df.mean()*1000, axis=1)\n",
    "# df.where(pd.notna(df), df.mean(), axis = \"columns\")  # positionell"
   ]
  },
  {
   "cell_type": "markdown",
   "metadata": {},
   "source": [
    "#### ``interpolate``"
   ]
  },
  {
   "cell_type": "code",
   "execution_count": 577,
   "metadata": {
    "id": "xjJn3S6yPR9o",
    "outputId": "914d7bb7-aa6f-4842-8e47-5a9ab4f3e2cf",
    "scrolled": true
   },
   "outputs": [
    {
     "data": {
      "text/html": [
       "<div>\n",
       "<style scoped>\n",
       "    .dataframe tbody tr th:only-of-type {\n",
       "        vertical-align: middle;\n",
       "    }\n",
       "\n",
       "    .dataframe tbody tr th {\n",
       "        vertical-align: top;\n",
       "    }\n",
       "\n",
       "    .dataframe thead th {\n",
       "        text-align: right;\n",
       "    }\n",
       "</style>\n",
       "<table border=\"1\" class=\"dataframe\">\n",
       "  <thead>\n",
       "    <tr style=\"text-align: right;\">\n",
       "      <th></th>\n",
       "      <th>id</th>\n",
       "      <th>gender</th>\n",
       "      <th>status</th>\n",
       "      <th>dept</th>\n",
       "      <th>var1</th>\n",
       "      <th>var2</th>\n",
       "      <th>salary</th>\n",
       "    </tr>\n",
       "  </thead>\n",
       "  <tbody>\n",
       "    <tr>\n",
       "      <th>0</th>\n",
       "      <td>P001</td>\n",
       "      <td>M</td>\n",
       "      <td>FT</td>\n",
       "      <td>DS</td>\n",
       "      <td>2.0</td>\n",
       "      <td>8.0</td>\n",
       "      <td>NaN</td>\n",
       "    </tr>\n",
       "    <tr>\n",
       "      <th>1</th>\n",
       "      <td>P002</td>\n",
       "      <td>F</td>\n",
       "      <td>PT</td>\n",
       "      <td>FS</td>\n",
       "      <td>3.0</td>\n",
       "      <td>6.5</td>\n",
       "      <td>54.0</td>\n",
       "    </tr>\n",
       "    <tr>\n",
       "      <th>2</th>\n",
       "      <td>P003</td>\n",
       "      <td>M</td>\n",
       "      <td>NaN</td>\n",
       "      <td>AWS</td>\n",
       "      <td>5.0</td>\n",
       "      <td>5.0</td>\n",
       "      <td>59.0</td>\n",
       "    </tr>\n",
       "    <tr>\n",
       "      <th>3</th>\n",
       "      <td>P004</td>\n",
       "      <td>F</td>\n",
       "      <td>FT</td>\n",
       "      <td>AWS</td>\n",
       "      <td>6.0</td>\n",
       "      <td>8.0</td>\n",
       "      <td>120.0</td>\n",
       "    </tr>\n",
       "    <tr>\n",
       "      <th>4</th>\n",
       "      <td>P005</td>\n",
       "      <td>M</td>\n",
       "      <td>PT</td>\n",
       "      <td>DS</td>\n",
       "      <td>7.0</td>\n",
       "      <td>11.0</td>\n",
       "      <td>58.0</td>\n",
       "    </tr>\n",
       "    <tr>\n",
       "      <th>5</th>\n",
       "      <td>P006</td>\n",
       "      <td>F</td>\n",
       "      <td>PT</td>\n",
       "      <td>NaN</td>\n",
       "      <td>1.0</td>\n",
       "      <td>8.0</td>\n",
       "      <td>75.0</td>\n",
       "    </tr>\n",
       "    <tr>\n",
       "      <th>6</th>\n",
       "      <td>P007</td>\n",
       "      <td>M</td>\n",
       "      <td>FT</td>\n",
       "      <td>FS</td>\n",
       "      <td>5.5</td>\n",
       "      <td>5.0</td>\n",
       "      <td>105.5</td>\n",
       "    </tr>\n",
       "    <tr>\n",
       "      <th>7</th>\n",
       "      <td>P008</td>\n",
       "      <td>F</td>\n",
       "      <td>NaN</td>\n",
       "      <td>FS</td>\n",
       "      <td>10.0</td>\n",
       "      <td>2.0</td>\n",
       "      <td>136.0</td>\n",
       "    </tr>\n",
       "    <tr>\n",
       "      <th>8</th>\n",
       "      <td>P009</td>\n",
       "      <td>M</td>\n",
       "      <td>PT</td>\n",
       "      <td>NaN</td>\n",
       "      <td>14.0</td>\n",
       "      <td>3.0</td>\n",
       "      <td>60.0</td>\n",
       "    </tr>\n",
       "    <tr>\n",
       "      <th>9</th>\n",
       "      <td>P010</td>\n",
       "      <td>F</td>\n",
       "      <td>FT</td>\n",
       "      <td>DS</td>\n",
       "      <td>10.0</td>\n",
       "      <td>7.0</td>\n",
       "      <td>125.0</td>\n",
       "    </tr>\n",
       "    <tr>\n",
       "      <th>10</th>\n",
       "      <td>P011</td>\n",
       "      <td>M</td>\n",
       "      <td>NaN</td>\n",
       "      <td>AWS</td>\n",
       "      <td>6.0</td>\n",
       "      <td>9.0</td>\n",
       "      <td>125.0</td>\n",
       "    </tr>\n",
       "  </tbody>\n",
       "</table>\n",
       "</div>"
      ],
      "text/plain": [
       "      id gender status dept  var1  var2  salary\n",
       "0   P001      M     FT   DS   2.0   8.0     NaN\n",
       "1   P002      F     PT   FS   3.0   6.5    54.0\n",
       "2   P003      M    NaN  AWS   5.0   5.0    59.0\n",
       "3   P004      F     FT  AWS   6.0   8.0   120.0\n",
       "4   P005      M     PT   DS   7.0  11.0    58.0\n",
       "5   P006      F     PT  NaN   1.0   8.0    75.0\n",
       "6   P007      M     FT   FS   5.5   5.0   105.5\n",
       "7   P008      F    NaN   FS  10.0   2.0   136.0\n",
       "8   P009      M     PT  NaN  14.0   3.0    60.0\n",
       "9   P010      F     FT   DS  10.0   7.0   125.0\n",
       "10  P011      M    NaN  AWS   6.0   9.0   125.0"
      ]
     },
     "execution_count": 577,
     "metadata": {},
     "output_type": "execute_result"
    }
   ],
   "source": [
    "df.interpolate() # Füllen Sie NaN-Werte mithilfe einer Interpolationsmethode."
   ]
  },
  {
   "cell_type": "code",
   "execution_count": 578,
   "metadata": {},
   "outputs": [],
   "source": [
    "# df.interpolate(axis=1) \n",
    "# TypeError: Cannot interpolate with all object-dtype columns in the DataFrame. Try setting at least one column to a numeric dtype."
   ]
  },
  {
   "cell_type": "markdown",
   "metadata": {
    "id": "Q7Yy8BDdDyzy"
   },
   "source": [
    "#### Auffüllen der fehlenden Werte kategorialer Variablen"
   ]
  },
  {
   "cell_type": "markdown",
   "metadata": {},
   "source": [
    "#### ``mode``"
   ]
  },
  {
   "cell_type": "code",
   "execution_count": 579,
   "metadata": {
    "id": "FmMuoPQv98gJ",
    "outputId": "46e45a02-8aa6-4db3-ffe1-26baf056ba0e"
   },
   "outputs": [
    {
     "data": {
      "text/html": [
       "<div>\n",
       "<style scoped>\n",
       "    .dataframe tbody tr th:only-of-type {\n",
       "        vertical-align: middle;\n",
       "    }\n",
       "\n",
       "    .dataframe tbody tr th {\n",
       "        vertical-align: top;\n",
       "    }\n",
       "\n",
       "    .dataframe thead th {\n",
       "        text-align: right;\n",
       "    }\n",
       "</style>\n",
       "<table border=\"1\" class=\"dataframe\">\n",
       "  <thead>\n",
       "    <tr style=\"text-align: right;\">\n",
       "      <th></th>\n",
       "      <th>id</th>\n",
       "      <th>gender</th>\n",
       "      <th>status</th>\n",
       "      <th>dept</th>\n",
       "      <th>var1</th>\n",
       "      <th>var2</th>\n",
       "      <th>salary</th>\n",
       "    </tr>\n",
       "  </thead>\n",
       "  <tbody>\n",
       "    <tr>\n",
       "      <th>0</th>\n",
       "      <td>P001</td>\n",
       "      <td>M</td>\n",
       "      <td>FT</td>\n",
       "      <td>DS</td>\n",
       "      <td>2.0</td>\n",
       "      <td>8.0</td>\n",
       "      <td>NaN</td>\n",
       "    </tr>\n",
       "    <tr>\n",
       "      <th>1</th>\n",
       "      <td>P002</td>\n",
       "      <td>F</td>\n",
       "      <td>PT</td>\n",
       "      <td>FS</td>\n",
       "      <td>3.0</td>\n",
       "      <td>NaN</td>\n",
       "      <td>54.0</td>\n",
       "    </tr>\n",
       "    <tr>\n",
       "      <th>2</th>\n",
       "      <td>P003</td>\n",
       "      <td>M</td>\n",
       "      <td>NaN</td>\n",
       "      <td>AWS</td>\n",
       "      <td>5.0</td>\n",
       "      <td>5.0</td>\n",
       "      <td>59.0</td>\n",
       "    </tr>\n",
       "    <tr>\n",
       "      <th>3</th>\n",
       "      <td>P004</td>\n",
       "      <td>F</td>\n",
       "      <td>FT</td>\n",
       "      <td>AWS</td>\n",
       "      <td>NaN</td>\n",
       "      <td>8.0</td>\n",
       "      <td>120.0</td>\n",
       "    </tr>\n",
       "    <tr>\n",
       "      <th>4</th>\n",
       "      <td>P005</td>\n",
       "      <td>M</td>\n",
       "      <td>PT</td>\n",
       "      <td>DS</td>\n",
       "      <td>7.0</td>\n",
       "      <td>11.0</td>\n",
       "      <td>58.0</td>\n",
       "    </tr>\n",
       "    <tr>\n",
       "      <th>5</th>\n",
       "      <td>P006</td>\n",
       "      <td>F</td>\n",
       "      <td>PT</td>\n",
       "      <td>NaN</td>\n",
       "      <td>1.0</td>\n",
       "      <td>NaN</td>\n",
       "      <td>75.0</td>\n",
       "    </tr>\n",
       "    <tr>\n",
       "      <th>6</th>\n",
       "      <td>P007</td>\n",
       "      <td>M</td>\n",
       "      <td>FT</td>\n",
       "      <td>FS</td>\n",
       "      <td>NaN</td>\n",
       "      <td>NaN</td>\n",
       "      <td>NaN</td>\n",
       "    </tr>\n",
       "    <tr>\n",
       "      <th>7</th>\n",
       "      <td>P008</td>\n",
       "      <td>F</td>\n",
       "      <td>NaN</td>\n",
       "      <td>FS</td>\n",
       "      <td>10.0</td>\n",
       "      <td>2.0</td>\n",
       "      <td>136.0</td>\n",
       "    </tr>\n",
       "    <tr>\n",
       "      <th>8</th>\n",
       "      <td>P009</td>\n",
       "      <td>M</td>\n",
       "      <td>PT</td>\n",
       "      <td>NaN</td>\n",
       "      <td>14.0</td>\n",
       "      <td>3.0</td>\n",
       "      <td>60.0</td>\n",
       "    </tr>\n",
       "    <tr>\n",
       "      <th>9</th>\n",
       "      <td>P010</td>\n",
       "      <td>F</td>\n",
       "      <td>FT</td>\n",
       "      <td>DS</td>\n",
       "      <td>NaN</td>\n",
       "      <td>7.0</td>\n",
       "      <td>125.0</td>\n",
       "    </tr>\n",
       "    <tr>\n",
       "      <th>10</th>\n",
       "      <td>P011</td>\n",
       "      <td>M</td>\n",
       "      <td>NaN</td>\n",
       "      <td>AWS</td>\n",
       "      <td>6.0</td>\n",
       "      <td>9.0</td>\n",
       "      <td>NaN</td>\n",
       "    </tr>\n",
       "  </tbody>\n",
       "</table>\n",
       "</div>"
      ],
      "text/plain": [
       "      id gender status dept  var1  var2  salary\n",
       "0   P001      M     FT   DS   2.0   8.0     NaN\n",
       "1   P002      F     PT   FS   3.0   NaN    54.0\n",
       "2   P003      M    NaN  AWS   5.0   5.0    59.0\n",
       "3   P004      F     FT  AWS   NaN   8.0   120.0\n",
       "4   P005      M     PT   DS   7.0  11.0    58.0\n",
       "5   P006      F     PT  NaN   1.0   NaN    75.0\n",
       "6   P007      M     FT   FS   NaN   NaN     NaN\n",
       "7   P008      F    NaN   FS  10.0   2.0   136.0\n",
       "8   P009      M     PT  NaN  14.0   3.0    60.0\n",
       "9   P010      F     FT   DS   NaN   7.0   125.0\n",
       "10  P011      M    NaN  AWS   6.0   9.0     NaN"
      ]
     },
     "execution_count": 579,
     "metadata": {},
     "output_type": "execute_result"
    }
   ],
   "source": [
    "df"
   ]
  },
  {
   "cell_type": "code",
   "execution_count": 580,
   "metadata": {},
   "outputs": [
    {
     "data": {
      "text/plain": [
       "0      DS\n",
       "1      FS\n",
       "2     AWS\n",
       "3     AWS\n",
       "4      DS\n",
       "5     NaN\n",
       "6      FS\n",
       "7      FS\n",
       "8     NaN\n",
       "9      DS\n",
       "10    AWS\n",
       "Name: dept, dtype: object"
      ]
     },
     "execution_count": 580,
     "metadata": {},
     "output_type": "execute_result"
    }
   ],
   "source": [
    "df[\"dept\"]"
   ]
  },
  {
   "cell_type": "code",
   "execution_count": 581,
   "metadata": {},
   "outputs": [
    {
     "data": {
      "text/plain": [
       "2"
      ]
     },
     "execution_count": 581,
     "metadata": {},
     "output_type": "execute_result"
    }
   ],
   "source": [
    "df[\"dept\"].isnull().sum()"
   ]
  },
  {
   "cell_type": "code",
   "execution_count": 582,
   "metadata": {
    "id": "tCkw02-FDyzy",
    "outputId": "2c39d810-359f-4560-cf2f-973bf41c9a51"
   },
   "outputs": [
    {
     "data": {
      "text/plain": [
       "0    AWS\n",
       "1     DS\n",
       "2     FS\n",
       "dtype: object"
      ]
     },
     "execution_count": 582,
     "metadata": {},
     "output_type": "execute_result"
    }
   ],
   "source": [
    "df[\"dept\"].mode()"
   ]
  },
  {
   "cell_type": "code",
   "execution_count": 583,
   "metadata": {},
   "outputs": [
    {
     "data": {
      "text/plain": [
       "'AWS'"
      ]
     },
     "execution_count": 583,
     "metadata": {},
     "output_type": "execute_result"
    }
   ],
   "source": [
    "df[\"dept\"].mode()[0]"
   ]
  },
  {
   "cell_type": "code",
   "execution_count": 584,
   "metadata": {},
   "outputs": [
    {
     "data": {
      "text/plain": [
       "0      DS\n",
       "1      FS\n",
       "2     AWS\n",
       "3     AWS\n",
       "4      DS\n",
       "5     AWS\n",
       "6      FS\n",
       "7      FS\n",
       "8     AWS\n",
       "9      DS\n",
       "10    AWS\n",
       "Name: dept, dtype: object"
      ]
     },
     "execution_count": 584,
     "metadata": {},
     "output_type": "execute_result"
    }
   ],
   "source": [
    "df[\"dept\"].fillna(df[\"dept\"].mode()[0])"
   ]
  },
  {
   "cell_type": "code",
   "execution_count": 585,
   "metadata": {
    "id": "DC924XHtDyzy",
    "outputId": "43df0d9c-223c-409c-c6ee-ceafd34f3f2c"
   },
   "outputs": [
    {
     "data": {
      "text/plain": [
       "0"
      ]
     },
     "execution_count": 585,
     "metadata": {},
     "output_type": "execute_result"
    }
   ],
   "source": [
    "df[\"dept\"].fillna(df[\"dept\"].mode()[0]).isnull().sum()"
   ]
  },
  {
   "cell_type": "markdown",
   "metadata": {},
   "source": [
    "#### ``bfill`` ``ffill``"
   ]
  },
  {
   "cell_type": "code",
   "execution_count": 586,
   "metadata": {
    "id": "O8OKTSDU98gK",
    "outputId": "24a93d35-cdc0-47e9-aa48-d686e4425043"
   },
   "outputs": [
    {
     "data": {
      "text/plain": [
       "0      DS\n",
       "1      FS\n",
       "2     AWS\n",
       "3     AWS\n",
       "4      DS\n",
       "5      FS\n",
       "6      FS\n",
       "7      FS\n",
       "8      DS\n",
       "9      DS\n",
       "10    AWS\n",
       "Name: dept, dtype: object"
      ]
     },
     "execution_count": 586,
     "metadata": {},
     "output_type": "execute_result"
    }
   ],
   "source": [
    "df[\"dept\"].fillna(method=\"bfill\")"
   ]
  },
  {
   "cell_type": "code",
   "execution_count": 587,
   "metadata": {
    "id": "_fenGmKt98gK",
    "outputId": "47137a6c-1371-4de4-d94c-a1c63d3b4b83"
   },
   "outputs": [
    {
     "data": {
      "text/plain": [
       "0     FT\n",
       "1     PT\n",
       "2     PT\n",
       "3     FT\n",
       "4     PT\n",
       "5     PT\n",
       "6     FT\n",
       "7     FT\n",
       "8     PT\n",
       "9     FT\n",
       "10    FT\n",
       "Name: status, dtype: object"
      ]
     },
     "execution_count": 587,
     "metadata": {},
     "output_type": "execute_result"
    }
   ],
   "source": [
    "df[\"status\"].fillna(method = \"ffill\")"
   ]
  },
  {
   "cell_type": "markdown",
   "metadata": {
    "id": "pJ8ijx7RDyzw"
   },
   "source": [
    " #### Füllen nach Bedingung und nach Gruppe der kategorialen Variablen"
   ]
  },
  {
   "cell_type": "code",
   "execution_count": 588,
   "metadata": {
    "id": "J38WrQwk98gK",
    "outputId": "adf5f731-fe39-46b5-b861-5f3d30aefdb8"
   },
   "outputs": [
    {
     "data": {
      "text/html": [
       "<div>\n",
       "<style scoped>\n",
       "    .dataframe tbody tr th:only-of-type {\n",
       "        vertical-align: middle;\n",
       "    }\n",
       "\n",
       "    .dataframe tbody tr th {\n",
       "        vertical-align: top;\n",
       "    }\n",
       "\n",
       "    .dataframe thead th {\n",
       "        text-align: right;\n",
       "    }\n",
       "</style>\n",
       "<table border=\"1\" class=\"dataframe\">\n",
       "  <thead>\n",
       "    <tr style=\"text-align: right;\">\n",
       "      <th></th>\n",
       "      <th>id</th>\n",
       "      <th>gender</th>\n",
       "      <th>status</th>\n",
       "      <th>dept</th>\n",
       "      <th>var1</th>\n",
       "      <th>var2</th>\n",
       "      <th>salary</th>\n",
       "    </tr>\n",
       "  </thead>\n",
       "  <tbody>\n",
       "    <tr>\n",
       "      <th>0</th>\n",
       "      <td>P001</td>\n",
       "      <td>M</td>\n",
       "      <td>FT</td>\n",
       "      <td>DS</td>\n",
       "      <td>2.0</td>\n",
       "      <td>8.0</td>\n",
       "      <td>NaN</td>\n",
       "    </tr>\n",
       "    <tr>\n",
       "      <th>1</th>\n",
       "      <td>P002</td>\n",
       "      <td>F</td>\n",
       "      <td>PT</td>\n",
       "      <td>FS</td>\n",
       "      <td>3.0</td>\n",
       "      <td>NaN</td>\n",
       "      <td>54.0</td>\n",
       "    </tr>\n",
       "    <tr>\n",
       "      <th>2</th>\n",
       "      <td>P003</td>\n",
       "      <td>M</td>\n",
       "      <td>NaN</td>\n",
       "      <td>AWS</td>\n",
       "      <td>5.0</td>\n",
       "      <td>5.0</td>\n",
       "      <td>59.0</td>\n",
       "    </tr>\n",
       "    <tr>\n",
       "      <th>3</th>\n",
       "      <td>P004</td>\n",
       "      <td>F</td>\n",
       "      <td>FT</td>\n",
       "      <td>AWS</td>\n",
       "      <td>NaN</td>\n",
       "      <td>8.0</td>\n",
       "      <td>120.0</td>\n",
       "    </tr>\n",
       "    <tr>\n",
       "      <th>4</th>\n",
       "      <td>P005</td>\n",
       "      <td>M</td>\n",
       "      <td>PT</td>\n",
       "      <td>DS</td>\n",
       "      <td>7.0</td>\n",
       "      <td>11.0</td>\n",
       "      <td>58.0</td>\n",
       "    </tr>\n",
       "    <tr>\n",
       "      <th>5</th>\n",
       "      <td>P006</td>\n",
       "      <td>F</td>\n",
       "      <td>PT</td>\n",
       "      <td>NaN</td>\n",
       "      <td>1.0</td>\n",
       "      <td>NaN</td>\n",
       "      <td>75.0</td>\n",
       "    </tr>\n",
       "    <tr>\n",
       "      <th>6</th>\n",
       "      <td>P007</td>\n",
       "      <td>M</td>\n",
       "      <td>FT</td>\n",
       "      <td>FS</td>\n",
       "      <td>NaN</td>\n",
       "      <td>NaN</td>\n",
       "      <td>NaN</td>\n",
       "    </tr>\n",
       "    <tr>\n",
       "      <th>7</th>\n",
       "      <td>P008</td>\n",
       "      <td>F</td>\n",
       "      <td>NaN</td>\n",
       "      <td>FS</td>\n",
       "      <td>10.0</td>\n",
       "      <td>2.0</td>\n",
       "      <td>136.0</td>\n",
       "    </tr>\n",
       "    <tr>\n",
       "      <th>8</th>\n",
       "      <td>P009</td>\n",
       "      <td>M</td>\n",
       "      <td>PT</td>\n",
       "      <td>NaN</td>\n",
       "      <td>14.0</td>\n",
       "      <td>3.0</td>\n",
       "      <td>60.0</td>\n",
       "    </tr>\n",
       "    <tr>\n",
       "      <th>9</th>\n",
       "      <td>P010</td>\n",
       "      <td>F</td>\n",
       "      <td>FT</td>\n",
       "      <td>DS</td>\n",
       "      <td>NaN</td>\n",
       "      <td>7.0</td>\n",
       "      <td>125.0</td>\n",
       "    </tr>\n",
       "    <tr>\n",
       "      <th>10</th>\n",
       "      <td>P011</td>\n",
       "      <td>M</td>\n",
       "      <td>NaN</td>\n",
       "      <td>AWS</td>\n",
       "      <td>6.0</td>\n",
       "      <td>9.0</td>\n",
       "      <td>NaN</td>\n",
       "    </tr>\n",
       "  </tbody>\n",
       "</table>\n",
       "</div>"
      ],
      "text/plain": [
       "      id gender status dept  var1  var2  salary\n",
       "0   P001      M     FT   DS   2.0   8.0     NaN\n",
       "1   P002      F     PT   FS   3.0   NaN    54.0\n",
       "2   P003      M    NaN  AWS   5.0   5.0    59.0\n",
       "3   P004      F     FT  AWS   NaN   8.0   120.0\n",
       "4   P005      M     PT   DS   7.0  11.0    58.0\n",
       "5   P006      F     PT  NaN   1.0   NaN    75.0\n",
       "6   P007      M     FT   FS   NaN   NaN     NaN\n",
       "7   P008      F    NaN   FS  10.0   2.0   136.0\n",
       "8   P009      M     PT  NaN  14.0   3.0    60.0\n",
       "9   P010      F     FT   DS   NaN   7.0   125.0\n",
       "10  P011      M    NaN  AWS   6.0   9.0     NaN"
      ]
     },
     "execution_count": 588,
     "metadata": {},
     "output_type": "execute_result"
    }
   ],
   "source": [
    "df"
   ]
  },
  {
   "cell_type": "markdown",
   "metadata": {},
   "source": [
    "#### ``dept``"
   ]
  },
  {
   "cell_type": "code",
   "execution_count": 589,
   "metadata": {
    "id": "GYsl-2AR98gL",
    "outputId": "4b1a4de5-f524-45bc-cb65-9fff22c30531"
   },
   "outputs": [
    {
     "data": {
      "text/html": [
       "<div>\n",
       "<style scoped>\n",
       "    .dataframe tbody tr th:only-of-type {\n",
       "        vertical-align: middle;\n",
       "    }\n",
       "\n",
       "    .dataframe tbody tr th {\n",
       "        vertical-align: top;\n",
       "    }\n",
       "\n",
       "    .dataframe thead th {\n",
       "        text-align: right;\n",
       "    }\n",
       "</style>\n",
       "<table border=\"1\" class=\"dataframe\">\n",
       "  <thead>\n",
       "    <tr style=\"text-align: right;\">\n",
       "      <th></th>\n",
       "      <th>id</th>\n",
       "      <th>gender</th>\n",
       "      <th>status</th>\n",
       "      <th>dept</th>\n",
       "      <th>var1</th>\n",
       "      <th>var2</th>\n",
       "      <th>salary</th>\n",
       "    </tr>\n",
       "  </thead>\n",
       "  <tbody>\n",
       "    <tr>\n",
       "      <th>0</th>\n",
       "      <td>P001</td>\n",
       "      <td>M</td>\n",
       "      <td>FT</td>\n",
       "      <td>DS</td>\n",
       "      <td>2.0</td>\n",
       "      <td>8.0</td>\n",
       "      <td>NaN</td>\n",
       "    </tr>\n",
       "    <tr>\n",
       "      <th>1</th>\n",
       "      <td>P002</td>\n",
       "      <td>F</td>\n",
       "      <td>PT</td>\n",
       "      <td>FS</td>\n",
       "      <td>3.0</td>\n",
       "      <td>NaN</td>\n",
       "      <td>54.0</td>\n",
       "    </tr>\n",
       "    <tr>\n",
       "      <th>2</th>\n",
       "      <td>P003</td>\n",
       "      <td>M</td>\n",
       "      <td>NaN</td>\n",
       "      <td>AWS</td>\n",
       "      <td>5.0</td>\n",
       "      <td>5.0</td>\n",
       "      <td>59.0</td>\n",
       "    </tr>\n",
       "    <tr>\n",
       "      <th>3</th>\n",
       "      <td>P004</td>\n",
       "      <td>F</td>\n",
       "      <td>FT</td>\n",
       "      <td>AWS</td>\n",
       "      <td>NaN</td>\n",
       "      <td>8.0</td>\n",
       "      <td>120.0</td>\n",
       "    </tr>\n",
       "    <tr>\n",
       "      <th>4</th>\n",
       "      <td>P005</td>\n",
       "      <td>M</td>\n",
       "      <td>PT</td>\n",
       "      <td>DS</td>\n",
       "      <td>7.0</td>\n",
       "      <td>11.0</td>\n",
       "      <td>58.0</td>\n",
       "    </tr>\n",
       "    <tr>\n",
       "      <th>5</th>\n",
       "      <td>P006</td>\n",
       "      <td>F</td>\n",
       "      <td>PT</td>\n",
       "      <td>DS</td>\n",
       "      <td>1.0</td>\n",
       "      <td>NaN</td>\n",
       "      <td>75.0</td>\n",
       "    </tr>\n",
       "    <tr>\n",
       "      <th>6</th>\n",
       "      <td>P007</td>\n",
       "      <td>M</td>\n",
       "      <td>FT</td>\n",
       "      <td>FS</td>\n",
       "      <td>NaN</td>\n",
       "      <td>NaN</td>\n",
       "      <td>NaN</td>\n",
       "    </tr>\n",
       "    <tr>\n",
       "      <th>7</th>\n",
       "      <td>P008</td>\n",
       "      <td>F</td>\n",
       "      <td>NaN</td>\n",
       "      <td>FS</td>\n",
       "      <td>10.0</td>\n",
       "      <td>2.0</td>\n",
       "      <td>136.0</td>\n",
       "    </tr>\n",
       "    <tr>\n",
       "      <th>8</th>\n",
       "      <td>P009</td>\n",
       "      <td>M</td>\n",
       "      <td>PT</td>\n",
       "      <td>FS</td>\n",
       "      <td>14.0</td>\n",
       "      <td>3.0</td>\n",
       "      <td>60.0</td>\n",
       "    </tr>\n",
       "    <tr>\n",
       "      <th>9</th>\n",
       "      <td>P010</td>\n",
       "      <td>F</td>\n",
       "      <td>FT</td>\n",
       "      <td>DS</td>\n",
       "      <td>NaN</td>\n",
       "      <td>7.0</td>\n",
       "      <td>125.0</td>\n",
       "    </tr>\n",
       "    <tr>\n",
       "      <th>10</th>\n",
       "      <td>P011</td>\n",
       "      <td>M</td>\n",
       "      <td>NaN</td>\n",
       "      <td>AWS</td>\n",
       "      <td>6.0</td>\n",
       "      <td>9.0</td>\n",
       "      <td>NaN</td>\n",
       "    </tr>\n",
       "  </tbody>\n",
       "</table>\n",
       "</div>"
      ],
      "text/plain": [
       "      id gender status dept  var1  var2  salary\n",
       "0   P001      M     FT   DS   2.0   8.0     NaN\n",
       "1   P002      F     PT   FS   3.0   NaN    54.0\n",
       "2   P003      M    NaN  AWS   5.0   5.0    59.0\n",
       "3   P004      F     FT  AWS   NaN   8.0   120.0\n",
       "4   P005      M     PT   DS   7.0  11.0    58.0\n",
       "5   P006      F     PT   DS   1.0   NaN    75.0\n",
       "6   P007      M     FT   FS   NaN   NaN     NaN\n",
       "7   P008      F    NaN   FS  10.0   2.0   136.0\n",
       "8   P009      M     PT   FS  14.0   3.0    60.0\n",
       "9   P010      F     FT   DS   NaN   7.0   125.0\n",
       "10  P011      M    NaN  AWS   6.0   9.0     NaN"
      ]
     },
     "execution_count": 589,
     "metadata": {},
     "output_type": "execute_result"
    }
   ],
   "source": [
    "df[\"dept\"].fillna(method=\"ffill\", inplace=True)\n",
    "df"
   ]
  },
  {
   "cell_type": "markdown",
   "metadata": {},
   "source": [
    "#### ``salary``\n",
    "- Achten Sie auf ``loc`` und ``inplace``!!!"
   ]
  },
  {
   "cell_type": "code",
   "execution_count": 590,
   "metadata": {
    "id": "A26cgOr898gL",
    "outputId": "eb9a6048-1609-4a20-adf0-4d0a70b0ed96"
   },
   "outputs": [
    {
     "data": {
      "text/plain": [
       "3     FT\n",
       "7    NaN\n",
       "9     FT\n",
       "Name: status, dtype: object"
      ]
     },
     "execution_count": 590,
     "metadata": {},
     "output_type": "execute_result"
    }
   ],
   "source": [
    "df.loc[df[\"salary\"]>=100, \"status\"]"
   ]
  },
  {
   "cell_type": "code",
   "execution_count": 591,
   "metadata": {
    "id": "qY_e9aiJ98gL",
    "outputId": "4a3199d9-45fb-4646-b352-13f90a212d8a"
   },
   "outputs": [
    {
     "data": {
      "text/plain": [
       "1     PT\n",
       "2    NaN\n",
       "4     PT\n",
       "5     PT\n",
       "8     PT\n",
       "Name: status, dtype: object"
      ]
     },
     "execution_count": 591,
     "metadata": {},
     "output_type": "execute_result"
    }
   ],
   "source": [
    "df.loc[df[\"salary\"]<100, \"status\"]"
   ]
  },
  {
   "cell_type": "code",
   "execution_count": 592,
   "metadata": {},
   "outputs": [
    {
     "data": {
      "text/plain": [
       "'FT'"
      ]
     },
     "execution_count": 592,
     "metadata": {},
     "output_type": "execute_result"
    }
   ],
   "source": [
    "df[df[\"salary\"]>=100][\"status\"].mode()[0]"
   ]
  },
  {
   "cell_type": "code",
   "execution_count": 593,
   "metadata": {},
   "outputs": [
    {
     "name": "stderr",
     "output_type": "stream",
     "text": [
      "C:\\Users\\bulen\\AppData\\Local\\Temp/ipykernel_23084/267043330.py:1: SettingWithCopyWarning: \n",
      "A value is trying to be set on a copy of a slice from a DataFrame.\n",
      "Try using .loc[row_indexer,col_indexer] = value instead\n",
      "\n",
      "See the caveats in the documentation: https://pandas.pydata.org/pandas-docs/stable/user_guide/indexing.html#returning-a-view-versus-a-copy\n",
      "  df[df[\"salary\"]>=100][\"status\"] = df[df[\"salary\"]>=100][\"status\"].fillna(df[df[\"salary\"]>=100][\"status\"].mode()[0])\n"
     ]
    },
    {
     "data": {
      "text/html": [
       "<div>\n",
       "<style scoped>\n",
       "    .dataframe tbody tr th:only-of-type {\n",
       "        vertical-align: middle;\n",
       "    }\n",
       "\n",
       "    .dataframe tbody tr th {\n",
       "        vertical-align: top;\n",
       "    }\n",
       "\n",
       "    .dataframe thead th {\n",
       "        text-align: right;\n",
       "    }\n",
       "</style>\n",
       "<table border=\"1\" class=\"dataframe\">\n",
       "  <thead>\n",
       "    <tr style=\"text-align: right;\">\n",
       "      <th></th>\n",
       "      <th>id</th>\n",
       "      <th>gender</th>\n",
       "      <th>status</th>\n",
       "      <th>dept</th>\n",
       "      <th>var1</th>\n",
       "      <th>var2</th>\n",
       "      <th>salary</th>\n",
       "    </tr>\n",
       "  </thead>\n",
       "  <tbody>\n",
       "    <tr>\n",
       "      <th>0</th>\n",
       "      <td>P001</td>\n",
       "      <td>M</td>\n",
       "      <td>FT</td>\n",
       "      <td>DS</td>\n",
       "      <td>2.0</td>\n",
       "      <td>8.0</td>\n",
       "      <td>NaN</td>\n",
       "    </tr>\n",
       "    <tr>\n",
       "      <th>1</th>\n",
       "      <td>P002</td>\n",
       "      <td>F</td>\n",
       "      <td>PT</td>\n",
       "      <td>FS</td>\n",
       "      <td>3.0</td>\n",
       "      <td>NaN</td>\n",
       "      <td>54.0</td>\n",
       "    </tr>\n",
       "    <tr>\n",
       "      <th>2</th>\n",
       "      <td>P003</td>\n",
       "      <td>M</td>\n",
       "      <td>NaN</td>\n",
       "      <td>AWS</td>\n",
       "      <td>5.0</td>\n",
       "      <td>5.0</td>\n",
       "      <td>59.0</td>\n",
       "    </tr>\n",
       "    <tr>\n",
       "      <th>3</th>\n",
       "      <td>P004</td>\n",
       "      <td>F</td>\n",
       "      <td>FT</td>\n",
       "      <td>AWS</td>\n",
       "      <td>NaN</td>\n",
       "      <td>8.0</td>\n",
       "      <td>120.0</td>\n",
       "    </tr>\n",
       "    <tr>\n",
       "      <th>4</th>\n",
       "      <td>P005</td>\n",
       "      <td>M</td>\n",
       "      <td>PT</td>\n",
       "      <td>DS</td>\n",
       "      <td>7.0</td>\n",
       "      <td>11.0</td>\n",
       "      <td>58.0</td>\n",
       "    </tr>\n",
       "    <tr>\n",
       "      <th>5</th>\n",
       "      <td>P006</td>\n",
       "      <td>F</td>\n",
       "      <td>PT</td>\n",
       "      <td>DS</td>\n",
       "      <td>1.0</td>\n",
       "      <td>NaN</td>\n",
       "      <td>75.0</td>\n",
       "    </tr>\n",
       "    <tr>\n",
       "      <th>6</th>\n",
       "      <td>P007</td>\n",
       "      <td>M</td>\n",
       "      <td>FT</td>\n",
       "      <td>FS</td>\n",
       "      <td>NaN</td>\n",
       "      <td>NaN</td>\n",
       "      <td>NaN</td>\n",
       "    </tr>\n",
       "    <tr>\n",
       "      <th>7</th>\n",
       "      <td>P008</td>\n",
       "      <td>F</td>\n",
       "      <td>NaN</td>\n",
       "      <td>FS</td>\n",
       "      <td>10.0</td>\n",
       "      <td>2.0</td>\n",
       "      <td>136.0</td>\n",
       "    </tr>\n",
       "    <tr>\n",
       "      <th>8</th>\n",
       "      <td>P009</td>\n",
       "      <td>M</td>\n",
       "      <td>PT</td>\n",
       "      <td>FS</td>\n",
       "      <td>14.0</td>\n",
       "      <td>3.0</td>\n",
       "      <td>60.0</td>\n",
       "    </tr>\n",
       "    <tr>\n",
       "      <th>9</th>\n",
       "      <td>P010</td>\n",
       "      <td>F</td>\n",
       "      <td>FT</td>\n",
       "      <td>DS</td>\n",
       "      <td>NaN</td>\n",
       "      <td>7.0</td>\n",
       "      <td>125.0</td>\n",
       "    </tr>\n",
       "    <tr>\n",
       "      <th>10</th>\n",
       "      <td>P011</td>\n",
       "      <td>M</td>\n",
       "      <td>NaN</td>\n",
       "      <td>AWS</td>\n",
       "      <td>6.0</td>\n",
       "      <td>9.0</td>\n",
       "      <td>NaN</td>\n",
       "    </tr>\n",
       "  </tbody>\n",
       "</table>\n",
       "</div>"
      ],
      "text/plain": [
       "      id gender status dept  var1  var2  salary\n",
       "0   P001      M     FT   DS   2.0   8.0     NaN\n",
       "1   P002      F     PT   FS   3.0   NaN    54.0\n",
       "2   P003      M    NaN  AWS   5.0   5.0    59.0\n",
       "3   P004      F     FT  AWS   NaN   8.0   120.0\n",
       "4   P005      M     PT   DS   7.0  11.0    58.0\n",
       "5   P006      F     PT   DS   1.0   NaN    75.0\n",
       "6   P007      M     FT   FS   NaN   NaN     NaN\n",
       "7   P008      F    NaN   FS  10.0   2.0   136.0\n",
       "8   P009      M     PT   FS  14.0   3.0    60.0\n",
       "9   P010      F     FT   DS   NaN   7.0   125.0\n",
       "10  P011      M    NaN  AWS   6.0   9.0     NaN"
      ]
     },
     "execution_count": 593,
     "metadata": {},
     "output_type": "execute_result"
    }
   ],
   "source": [
    "df[df[\"salary\"]>=100][\"status\"] = df[df[\"salary\"]>=100][\"status\"].fillna(df[df[\"salary\"]>=100][\"status\"].mode()[0])\n",
    "df"
   ]
  },
  {
   "cell_type": "code",
   "execution_count": 594,
   "metadata": {},
   "outputs": [
    {
     "name": "stderr",
     "output_type": "stream",
     "text": [
      "C:\\Users\\bulen\\AppData\\Local\\Temp/ipykernel_23084/49060513.py:1: SettingWithCopyWarning: \n",
      "A value is trying to be set on a copy of a slice from a DataFrame.\n",
      "Try using .loc[row_indexer,col_indexer] = value instead\n",
      "\n",
      "See the caveats in the documentation: https://pandas.pydata.org/pandas-docs/stable/user_guide/indexing.html#returning-a-view-versus-a-copy\n",
      "  df[df[\"salary\"]>=100][\"status\"] = df[df[\"salary\"]<100][\"status\"].fillna(df[df[\"salary\"]<100][\"status\"].mode()[0])\n"
     ]
    },
    {
     "data": {
      "text/html": [
       "<div>\n",
       "<style scoped>\n",
       "    .dataframe tbody tr th:only-of-type {\n",
       "        vertical-align: middle;\n",
       "    }\n",
       "\n",
       "    .dataframe tbody tr th {\n",
       "        vertical-align: top;\n",
       "    }\n",
       "\n",
       "    .dataframe thead th {\n",
       "        text-align: right;\n",
       "    }\n",
       "</style>\n",
       "<table border=\"1\" class=\"dataframe\">\n",
       "  <thead>\n",
       "    <tr style=\"text-align: right;\">\n",
       "      <th></th>\n",
       "      <th>id</th>\n",
       "      <th>gender</th>\n",
       "      <th>status</th>\n",
       "      <th>dept</th>\n",
       "      <th>var1</th>\n",
       "      <th>var2</th>\n",
       "      <th>salary</th>\n",
       "    </tr>\n",
       "  </thead>\n",
       "  <tbody>\n",
       "    <tr>\n",
       "      <th>0</th>\n",
       "      <td>P001</td>\n",
       "      <td>M</td>\n",
       "      <td>FT</td>\n",
       "      <td>DS</td>\n",
       "      <td>2.0</td>\n",
       "      <td>8.0</td>\n",
       "      <td>NaN</td>\n",
       "    </tr>\n",
       "    <tr>\n",
       "      <th>1</th>\n",
       "      <td>P002</td>\n",
       "      <td>F</td>\n",
       "      <td>PT</td>\n",
       "      <td>FS</td>\n",
       "      <td>3.0</td>\n",
       "      <td>NaN</td>\n",
       "      <td>54.0</td>\n",
       "    </tr>\n",
       "    <tr>\n",
       "      <th>2</th>\n",
       "      <td>P003</td>\n",
       "      <td>M</td>\n",
       "      <td>NaN</td>\n",
       "      <td>AWS</td>\n",
       "      <td>5.0</td>\n",
       "      <td>5.0</td>\n",
       "      <td>59.0</td>\n",
       "    </tr>\n",
       "    <tr>\n",
       "      <th>3</th>\n",
       "      <td>P004</td>\n",
       "      <td>F</td>\n",
       "      <td>FT</td>\n",
       "      <td>AWS</td>\n",
       "      <td>NaN</td>\n",
       "      <td>8.0</td>\n",
       "      <td>120.0</td>\n",
       "    </tr>\n",
       "    <tr>\n",
       "      <th>4</th>\n",
       "      <td>P005</td>\n",
       "      <td>M</td>\n",
       "      <td>PT</td>\n",
       "      <td>DS</td>\n",
       "      <td>7.0</td>\n",
       "      <td>11.0</td>\n",
       "      <td>58.0</td>\n",
       "    </tr>\n",
       "    <tr>\n",
       "      <th>5</th>\n",
       "      <td>P006</td>\n",
       "      <td>F</td>\n",
       "      <td>PT</td>\n",
       "      <td>DS</td>\n",
       "      <td>1.0</td>\n",
       "      <td>NaN</td>\n",
       "      <td>75.0</td>\n",
       "    </tr>\n",
       "    <tr>\n",
       "      <th>6</th>\n",
       "      <td>P007</td>\n",
       "      <td>M</td>\n",
       "      <td>FT</td>\n",
       "      <td>FS</td>\n",
       "      <td>NaN</td>\n",
       "      <td>NaN</td>\n",
       "      <td>NaN</td>\n",
       "    </tr>\n",
       "    <tr>\n",
       "      <th>7</th>\n",
       "      <td>P008</td>\n",
       "      <td>F</td>\n",
       "      <td>NaN</td>\n",
       "      <td>FS</td>\n",
       "      <td>10.0</td>\n",
       "      <td>2.0</td>\n",
       "      <td>136.0</td>\n",
       "    </tr>\n",
       "    <tr>\n",
       "      <th>8</th>\n",
       "      <td>P009</td>\n",
       "      <td>M</td>\n",
       "      <td>PT</td>\n",
       "      <td>FS</td>\n",
       "      <td>14.0</td>\n",
       "      <td>3.0</td>\n",
       "      <td>60.0</td>\n",
       "    </tr>\n",
       "    <tr>\n",
       "      <th>9</th>\n",
       "      <td>P010</td>\n",
       "      <td>F</td>\n",
       "      <td>FT</td>\n",
       "      <td>DS</td>\n",
       "      <td>NaN</td>\n",
       "      <td>7.0</td>\n",
       "      <td>125.0</td>\n",
       "    </tr>\n",
       "    <tr>\n",
       "      <th>10</th>\n",
       "      <td>P011</td>\n",
       "      <td>M</td>\n",
       "      <td>NaN</td>\n",
       "      <td>AWS</td>\n",
       "      <td>6.0</td>\n",
       "      <td>9.0</td>\n",
       "      <td>NaN</td>\n",
       "    </tr>\n",
       "  </tbody>\n",
       "</table>\n",
       "</div>"
      ],
      "text/plain": [
       "      id gender status dept  var1  var2  salary\n",
       "0   P001      M     FT   DS   2.0   8.0     NaN\n",
       "1   P002      F     PT   FS   3.0   NaN    54.0\n",
       "2   P003      M    NaN  AWS   5.0   5.0    59.0\n",
       "3   P004      F     FT  AWS   NaN   8.0   120.0\n",
       "4   P005      M     PT   DS   7.0  11.0    58.0\n",
       "5   P006      F     PT   DS   1.0   NaN    75.0\n",
       "6   P007      M     FT   FS   NaN   NaN     NaN\n",
       "7   P008      F    NaN   FS  10.0   2.0   136.0\n",
       "8   P009      M     PT   FS  14.0   3.0    60.0\n",
       "9   P010      F     FT   DS   NaN   7.0   125.0\n",
       "10  P011      M    NaN  AWS   6.0   9.0     NaN"
      ]
     },
     "execution_count": 594,
     "metadata": {},
     "output_type": "execute_result"
    }
   ],
   "source": [
    "df[df[\"salary\"]>=100][\"status\"] = df[df[\"salary\"]<100][\"status\"].fillna(df[df[\"salary\"]<100][\"status\"].mode()[0])\n",
    "df"
   ]
  },
  {
   "cell_type": "code",
   "execution_count": 595,
   "metadata": {},
   "outputs": [
    {
     "data": {
      "text/plain": [
       "'PT'"
      ]
     },
     "execution_count": 595,
     "metadata": {},
     "output_type": "execute_result"
    }
   ],
   "source": [
    "df.loc[df[\"salary\"]<100, \"status\"].mode()[0]"
   ]
  },
  {
   "cell_type": "code",
   "execution_count": 596,
   "metadata": {
    "id": "Ajw99H_c98gM",
    "outputId": "782e1082-25ba-4408-b3bf-8ee20af2c659"
   },
   "outputs": [
    {
     "data": {
      "text/plain": [
       "(3    FT\n",
       " 7    FT\n",
       " 9    FT\n",
       " Name: status, dtype: object,\n",
       " 1    PT\n",
       " 2    PT\n",
       " 4    PT\n",
       " 5    PT\n",
       " 8    PT\n",
       " Name: status, dtype: object)"
      ]
     },
     "execution_count": 596,
     "metadata": {},
     "output_type": "execute_result"
    }
   ],
   "source": [
    "df1 = df.loc[df[\"salary\"]>=100, \"status\"].fillna(df.loc[df[\"salary\"]>=100, \"status\"].mode()[0])\n",
    "df2 = df.loc[df[\"salary\"]<100, \"status\"].fillna(df.loc[df[\"salary\"]<100, \"status\"].mode()[0])\n",
    "df1, df2"
   ]
  },
  {
   "cell_type": "code",
   "execution_count": 597,
   "metadata": {},
   "outputs": [
    {
     "name": "stderr",
     "output_type": "stream",
     "text": [
      "C:\\Users\\bulen\\AppData\\Local\\Programs\\Python\\Python310\\lib\\site-packages\\pandas\\core\\generic.py:6392: SettingWithCopyWarning: \n",
      "A value is trying to be set on a copy of a slice from a DataFrame\n",
      "\n",
      "See the caveats in the documentation: https://pandas.pydata.org/pandas-docs/stable/user_guide/indexing.html#returning-a-view-versus-a-copy\n",
      "  return self._update_inplace(result)\n"
     ]
    }
   ],
   "source": [
    "df[df[\"salary\"]>=100][\"status\"].fillna(df[df[\"salary\"]>=100][\"status\"].mode()[0], inplace=True)"
   ]
  },
  {
   "cell_type": "code",
   "execution_count": 598,
   "metadata": {},
   "outputs": [
    {
     "data": {
      "text/html": [
       "<div>\n",
       "<style scoped>\n",
       "    .dataframe tbody tr th:only-of-type {\n",
       "        vertical-align: middle;\n",
       "    }\n",
       "\n",
       "    .dataframe tbody tr th {\n",
       "        vertical-align: top;\n",
       "    }\n",
       "\n",
       "    .dataframe thead th {\n",
       "        text-align: right;\n",
       "    }\n",
       "</style>\n",
       "<table border=\"1\" class=\"dataframe\">\n",
       "  <thead>\n",
       "    <tr style=\"text-align: right;\">\n",
       "      <th></th>\n",
       "      <th>id</th>\n",
       "      <th>gender</th>\n",
       "      <th>status</th>\n",
       "      <th>dept</th>\n",
       "      <th>var1</th>\n",
       "      <th>var2</th>\n",
       "      <th>salary</th>\n",
       "    </tr>\n",
       "  </thead>\n",
       "  <tbody>\n",
       "    <tr>\n",
       "      <th>0</th>\n",
       "      <td>P001</td>\n",
       "      <td>M</td>\n",
       "      <td>FT</td>\n",
       "      <td>DS</td>\n",
       "      <td>2.0</td>\n",
       "      <td>8.0</td>\n",
       "      <td>NaN</td>\n",
       "    </tr>\n",
       "    <tr>\n",
       "      <th>1</th>\n",
       "      <td>P002</td>\n",
       "      <td>F</td>\n",
       "      <td>PT</td>\n",
       "      <td>FS</td>\n",
       "      <td>3.0</td>\n",
       "      <td>NaN</td>\n",
       "      <td>54.0</td>\n",
       "    </tr>\n",
       "    <tr>\n",
       "      <th>2</th>\n",
       "      <td>P003</td>\n",
       "      <td>M</td>\n",
       "      <td>NaN</td>\n",
       "      <td>AWS</td>\n",
       "      <td>5.0</td>\n",
       "      <td>5.0</td>\n",
       "      <td>59.0</td>\n",
       "    </tr>\n",
       "    <tr>\n",
       "      <th>3</th>\n",
       "      <td>P004</td>\n",
       "      <td>F</td>\n",
       "      <td>FT</td>\n",
       "      <td>AWS</td>\n",
       "      <td>NaN</td>\n",
       "      <td>8.0</td>\n",
       "      <td>120.0</td>\n",
       "    </tr>\n",
       "    <tr>\n",
       "      <th>4</th>\n",
       "      <td>P005</td>\n",
       "      <td>M</td>\n",
       "      <td>PT</td>\n",
       "      <td>DS</td>\n",
       "      <td>7.0</td>\n",
       "      <td>11.0</td>\n",
       "      <td>58.0</td>\n",
       "    </tr>\n",
       "    <tr>\n",
       "      <th>5</th>\n",
       "      <td>P006</td>\n",
       "      <td>F</td>\n",
       "      <td>PT</td>\n",
       "      <td>DS</td>\n",
       "      <td>1.0</td>\n",
       "      <td>NaN</td>\n",
       "      <td>75.0</td>\n",
       "    </tr>\n",
       "    <tr>\n",
       "      <th>6</th>\n",
       "      <td>P007</td>\n",
       "      <td>M</td>\n",
       "      <td>FT</td>\n",
       "      <td>FS</td>\n",
       "      <td>NaN</td>\n",
       "      <td>NaN</td>\n",
       "      <td>NaN</td>\n",
       "    </tr>\n",
       "    <tr>\n",
       "      <th>7</th>\n",
       "      <td>P008</td>\n",
       "      <td>F</td>\n",
       "      <td>NaN</td>\n",
       "      <td>FS</td>\n",
       "      <td>10.0</td>\n",
       "      <td>2.0</td>\n",
       "      <td>136.0</td>\n",
       "    </tr>\n",
       "    <tr>\n",
       "      <th>8</th>\n",
       "      <td>P009</td>\n",
       "      <td>M</td>\n",
       "      <td>PT</td>\n",
       "      <td>FS</td>\n",
       "      <td>14.0</td>\n",
       "      <td>3.0</td>\n",
       "      <td>60.0</td>\n",
       "    </tr>\n",
       "    <tr>\n",
       "      <th>9</th>\n",
       "      <td>P010</td>\n",
       "      <td>F</td>\n",
       "      <td>FT</td>\n",
       "      <td>DS</td>\n",
       "      <td>NaN</td>\n",
       "      <td>7.0</td>\n",
       "      <td>125.0</td>\n",
       "    </tr>\n",
       "    <tr>\n",
       "      <th>10</th>\n",
       "      <td>P011</td>\n",
       "      <td>M</td>\n",
       "      <td>NaN</td>\n",
       "      <td>AWS</td>\n",
       "      <td>6.0</td>\n",
       "      <td>9.0</td>\n",
       "      <td>NaN</td>\n",
       "    </tr>\n",
       "  </tbody>\n",
       "</table>\n",
       "</div>"
      ],
      "text/plain": [
       "      id gender status dept  var1  var2  salary\n",
       "0   P001      M     FT   DS   2.0   8.0     NaN\n",
       "1   P002      F     PT   FS   3.0   NaN    54.0\n",
       "2   P003      M    NaN  AWS   5.0   5.0    59.0\n",
       "3   P004      F     FT  AWS   NaN   8.0   120.0\n",
       "4   P005      M     PT   DS   7.0  11.0    58.0\n",
       "5   P006      F     PT   DS   1.0   NaN    75.0\n",
       "6   P007      M     FT   FS   NaN   NaN     NaN\n",
       "7   P008      F    NaN   FS  10.0   2.0   136.0\n",
       "8   P009      M     PT   FS  14.0   3.0    60.0\n",
       "9   P010      F     FT   DS   NaN   7.0   125.0\n",
       "10  P011      M    NaN  AWS   6.0   9.0     NaN"
      ]
     },
     "execution_count": 598,
     "metadata": {},
     "output_type": "execute_result"
    }
   ],
   "source": [
    "df.loc[df[\"salary\"]>=100, \"status\"].fillna(df.loc[df[\"salary\"]>=100, \"status\"].mode()[0], inplace=True)\n",
    "df    "
   ]
  },
  {
   "cell_type": "code",
   "execution_count": 599,
   "metadata": {
    "id": "A4QpfRo498gM",
    "outputId": "17a425c7-4f0c-4edb-de56-8b1368624df9"
   },
   "outputs": [
    {
     "data": {
      "text/html": [
       "<div>\n",
       "<style scoped>\n",
       "    .dataframe tbody tr th:only-of-type {\n",
       "        vertical-align: middle;\n",
       "    }\n",
       "\n",
       "    .dataframe tbody tr th {\n",
       "        vertical-align: top;\n",
       "    }\n",
       "\n",
       "    .dataframe thead th {\n",
       "        text-align: right;\n",
       "    }\n",
       "</style>\n",
       "<table border=\"1\" class=\"dataframe\">\n",
       "  <thead>\n",
       "    <tr style=\"text-align: right;\">\n",
       "      <th></th>\n",
       "      <th>id</th>\n",
       "      <th>gender</th>\n",
       "      <th>status</th>\n",
       "      <th>dept</th>\n",
       "      <th>var1</th>\n",
       "      <th>var2</th>\n",
       "      <th>salary</th>\n",
       "    </tr>\n",
       "  </thead>\n",
       "  <tbody>\n",
       "    <tr>\n",
       "      <th>0</th>\n",
       "      <td>P001</td>\n",
       "      <td>M</td>\n",
       "      <td>FT</td>\n",
       "      <td>DS</td>\n",
       "      <td>2.0</td>\n",
       "      <td>8.0</td>\n",
       "      <td>NaN</td>\n",
       "    </tr>\n",
       "    <tr>\n",
       "      <th>1</th>\n",
       "      <td>P002</td>\n",
       "      <td>F</td>\n",
       "      <td>PT</td>\n",
       "      <td>FS</td>\n",
       "      <td>3.0</td>\n",
       "      <td>NaN</td>\n",
       "      <td>54.0</td>\n",
       "    </tr>\n",
       "    <tr>\n",
       "      <th>2</th>\n",
       "      <td>P003</td>\n",
       "      <td>M</td>\n",
       "      <td>NaN</td>\n",
       "      <td>AWS</td>\n",
       "      <td>5.0</td>\n",
       "      <td>5.0</td>\n",
       "      <td>59.0</td>\n",
       "    </tr>\n",
       "    <tr>\n",
       "      <th>3</th>\n",
       "      <td>P004</td>\n",
       "      <td>F</td>\n",
       "      <td>FT</td>\n",
       "      <td>AWS</td>\n",
       "      <td>NaN</td>\n",
       "      <td>8.0</td>\n",
       "      <td>120.0</td>\n",
       "    </tr>\n",
       "    <tr>\n",
       "      <th>4</th>\n",
       "      <td>P005</td>\n",
       "      <td>M</td>\n",
       "      <td>PT</td>\n",
       "      <td>DS</td>\n",
       "      <td>7.0</td>\n",
       "      <td>11.0</td>\n",
       "      <td>58.0</td>\n",
       "    </tr>\n",
       "    <tr>\n",
       "      <th>5</th>\n",
       "      <td>P006</td>\n",
       "      <td>F</td>\n",
       "      <td>PT</td>\n",
       "      <td>DS</td>\n",
       "      <td>1.0</td>\n",
       "      <td>NaN</td>\n",
       "      <td>75.0</td>\n",
       "    </tr>\n",
       "    <tr>\n",
       "      <th>6</th>\n",
       "      <td>P007</td>\n",
       "      <td>M</td>\n",
       "      <td>FT</td>\n",
       "      <td>FS</td>\n",
       "      <td>NaN</td>\n",
       "      <td>NaN</td>\n",
       "      <td>NaN</td>\n",
       "    </tr>\n",
       "    <tr>\n",
       "      <th>7</th>\n",
       "      <td>P008</td>\n",
       "      <td>F</td>\n",
       "      <td>FT</td>\n",
       "      <td>FS</td>\n",
       "      <td>10.0</td>\n",
       "      <td>2.0</td>\n",
       "      <td>136.0</td>\n",
       "    </tr>\n",
       "    <tr>\n",
       "      <th>8</th>\n",
       "      <td>P009</td>\n",
       "      <td>M</td>\n",
       "      <td>PT</td>\n",
       "      <td>FS</td>\n",
       "      <td>14.0</td>\n",
       "      <td>3.0</td>\n",
       "      <td>60.0</td>\n",
       "    </tr>\n",
       "    <tr>\n",
       "      <th>9</th>\n",
       "      <td>P010</td>\n",
       "      <td>F</td>\n",
       "      <td>FT</td>\n",
       "      <td>DS</td>\n",
       "      <td>NaN</td>\n",
       "      <td>7.0</td>\n",
       "      <td>125.0</td>\n",
       "    </tr>\n",
       "    <tr>\n",
       "      <th>10</th>\n",
       "      <td>P011</td>\n",
       "      <td>M</td>\n",
       "      <td>NaN</td>\n",
       "      <td>AWS</td>\n",
       "      <td>6.0</td>\n",
       "      <td>9.0</td>\n",
       "      <td>NaN</td>\n",
       "    </tr>\n",
       "  </tbody>\n",
       "</table>\n",
       "</div>"
      ],
      "text/plain": [
       "      id gender status dept  var1  var2  salary\n",
       "0   P001      M     FT   DS   2.0   8.0     NaN\n",
       "1   P002      F     PT   FS   3.0   NaN    54.0\n",
       "2   P003      M    NaN  AWS   5.0   5.0    59.0\n",
       "3   P004      F     FT  AWS   NaN   8.0   120.0\n",
       "4   P005      M     PT   DS   7.0  11.0    58.0\n",
       "5   P006      F     PT   DS   1.0   NaN    75.0\n",
       "6   P007      M     FT   FS   NaN   NaN     NaN\n",
       "7   P008      F     FT   FS  10.0   2.0   136.0\n",
       "8   P009      M     PT   FS  14.0   3.0    60.0\n",
       "9   P010      F     FT   DS   NaN   7.0   125.0\n",
       "10  P011      M    NaN  AWS   6.0   9.0     NaN"
      ]
     },
     "execution_count": 599,
     "metadata": {},
     "output_type": "execute_result"
    }
   ],
   "source": [
    "df.loc[df[\"salary\"]>=100, \"status\"] = df.loc[df[\"salary\"]>=100, \"status\"].fillna(df.loc[df[\"salary\"]>=100, \"status\"].mode()[0])\n",
    "df"
   ]
  },
  {
   "cell_type": "code",
   "execution_count": 600,
   "metadata": {},
   "outputs": [
    {
     "data": {
      "text/html": [
       "<div>\n",
       "<style scoped>\n",
       "    .dataframe tbody tr th:only-of-type {\n",
       "        vertical-align: middle;\n",
       "    }\n",
       "\n",
       "    .dataframe tbody tr th {\n",
       "        vertical-align: top;\n",
       "    }\n",
       "\n",
       "    .dataframe thead th {\n",
       "        text-align: right;\n",
       "    }\n",
       "</style>\n",
       "<table border=\"1\" class=\"dataframe\">\n",
       "  <thead>\n",
       "    <tr style=\"text-align: right;\">\n",
       "      <th></th>\n",
       "      <th>id</th>\n",
       "      <th>gender</th>\n",
       "      <th>status</th>\n",
       "      <th>dept</th>\n",
       "      <th>var1</th>\n",
       "      <th>var2</th>\n",
       "      <th>salary</th>\n",
       "    </tr>\n",
       "  </thead>\n",
       "  <tbody>\n",
       "    <tr>\n",
       "      <th>0</th>\n",
       "      <td>P001</td>\n",
       "      <td>M</td>\n",
       "      <td>FT</td>\n",
       "      <td>DS</td>\n",
       "      <td>2.0</td>\n",
       "      <td>8.0</td>\n",
       "      <td>NaN</td>\n",
       "    </tr>\n",
       "    <tr>\n",
       "      <th>1</th>\n",
       "      <td>P002</td>\n",
       "      <td>F</td>\n",
       "      <td>PT</td>\n",
       "      <td>FS</td>\n",
       "      <td>3.0</td>\n",
       "      <td>NaN</td>\n",
       "      <td>54.0</td>\n",
       "    </tr>\n",
       "    <tr>\n",
       "      <th>2</th>\n",
       "      <td>P003</td>\n",
       "      <td>M</td>\n",
       "      <td>PT</td>\n",
       "      <td>AWS</td>\n",
       "      <td>5.0</td>\n",
       "      <td>5.0</td>\n",
       "      <td>59.0</td>\n",
       "    </tr>\n",
       "    <tr>\n",
       "      <th>3</th>\n",
       "      <td>P004</td>\n",
       "      <td>F</td>\n",
       "      <td>FT</td>\n",
       "      <td>AWS</td>\n",
       "      <td>NaN</td>\n",
       "      <td>8.0</td>\n",
       "      <td>120.0</td>\n",
       "    </tr>\n",
       "    <tr>\n",
       "      <th>4</th>\n",
       "      <td>P005</td>\n",
       "      <td>M</td>\n",
       "      <td>PT</td>\n",
       "      <td>DS</td>\n",
       "      <td>7.0</td>\n",
       "      <td>11.0</td>\n",
       "      <td>58.0</td>\n",
       "    </tr>\n",
       "    <tr>\n",
       "      <th>5</th>\n",
       "      <td>P006</td>\n",
       "      <td>F</td>\n",
       "      <td>PT</td>\n",
       "      <td>DS</td>\n",
       "      <td>1.0</td>\n",
       "      <td>NaN</td>\n",
       "      <td>75.0</td>\n",
       "    </tr>\n",
       "    <tr>\n",
       "      <th>6</th>\n",
       "      <td>P007</td>\n",
       "      <td>M</td>\n",
       "      <td>FT</td>\n",
       "      <td>FS</td>\n",
       "      <td>NaN</td>\n",
       "      <td>NaN</td>\n",
       "      <td>NaN</td>\n",
       "    </tr>\n",
       "    <tr>\n",
       "      <th>7</th>\n",
       "      <td>P008</td>\n",
       "      <td>F</td>\n",
       "      <td>FT</td>\n",
       "      <td>FS</td>\n",
       "      <td>10.0</td>\n",
       "      <td>2.0</td>\n",
       "      <td>136.0</td>\n",
       "    </tr>\n",
       "    <tr>\n",
       "      <th>8</th>\n",
       "      <td>P009</td>\n",
       "      <td>M</td>\n",
       "      <td>PT</td>\n",
       "      <td>FS</td>\n",
       "      <td>14.0</td>\n",
       "      <td>3.0</td>\n",
       "      <td>60.0</td>\n",
       "    </tr>\n",
       "    <tr>\n",
       "      <th>9</th>\n",
       "      <td>P010</td>\n",
       "      <td>F</td>\n",
       "      <td>FT</td>\n",
       "      <td>DS</td>\n",
       "      <td>NaN</td>\n",
       "      <td>7.0</td>\n",
       "      <td>125.0</td>\n",
       "    </tr>\n",
       "    <tr>\n",
       "      <th>10</th>\n",
       "      <td>P011</td>\n",
       "      <td>M</td>\n",
       "      <td>NaN</td>\n",
       "      <td>AWS</td>\n",
       "      <td>6.0</td>\n",
       "      <td>9.0</td>\n",
       "      <td>NaN</td>\n",
       "    </tr>\n",
       "  </tbody>\n",
       "</table>\n",
       "</div>"
      ],
      "text/plain": [
       "      id gender status dept  var1  var2  salary\n",
       "0   P001      M     FT   DS   2.0   8.0     NaN\n",
       "1   P002      F     PT   FS   3.0   NaN    54.0\n",
       "2   P003      M     PT  AWS   5.0   5.0    59.0\n",
       "3   P004      F     FT  AWS   NaN   8.0   120.0\n",
       "4   P005      M     PT   DS   7.0  11.0    58.0\n",
       "5   P006      F     PT   DS   1.0   NaN    75.0\n",
       "6   P007      M     FT   FS   NaN   NaN     NaN\n",
       "7   P008      F     FT   FS  10.0   2.0   136.0\n",
       "8   P009      M     PT   FS  14.0   3.0    60.0\n",
       "9   P010      F     FT   DS   NaN   7.0   125.0\n",
       "10  P011      M    NaN  AWS   6.0   9.0     NaN"
      ]
     },
     "execution_count": 600,
     "metadata": {},
     "output_type": "execute_result"
    }
   ],
   "source": [
    "df.loc[df[\"salary\"]<100, \"status\"] = df.loc[df[\"salary\"]<100, \"status\"].fillna(df.loc[df[\"salary\"]<100, \"status\"].mode()[0])\n",
    "df"
   ]
  },
  {
   "cell_type": "markdown",
   "metadata": {},
   "source": [
    "``.apply(lambda x : x.mode()[0])``"
   ]
  },
  {
   "cell_type": "code",
   "execution_count": 601,
   "metadata": {},
   "outputs": [
    {
     "data": {
      "text/html": [
       "<div>\n",
       "<style scoped>\n",
       "    .dataframe tbody tr th:only-of-type {\n",
       "        vertical-align: middle;\n",
       "    }\n",
       "\n",
       "    .dataframe tbody tr th {\n",
       "        vertical-align: top;\n",
       "    }\n",
       "\n",
       "    .dataframe thead tr th {\n",
       "        text-align: left;\n",
       "    }\n",
       "\n",
       "    .dataframe thead tr:last-of-type th {\n",
       "        text-align: right;\n",
       "    }\n",
       "</style>\n",
       "<table border=\"1\" class=\"dataframe\">\n",
       "  <thead>\n",
       "    <tr>\n",
       "      <th></th>\n",
       "      <th></th>\n",
       "      <th colspan=\"4\" halign=\"left\">status</th>\n",
       "    </tr>\n",
       "    <tr>\n",
       "      <th></th>\n",
       "      <th></th>\n",
       "      <th>count</th>\n",
       "      <th>unique</th>\n",
       "      <th>top</th>\n",
       "      <th>freq</th>\n",
       "    </tr>\n",
       "    <tr>\n",
       "      <th>gender</th>\n",
       "      <th>dept</th>\n",
       "      <th></th>\n",
       "      <th></th>\n",
       "      <th></th>\n",
       "      <th></th>\n",
       "    </tr>\n",
       "  </thead>\n",
       "  <tbody>\n",
       "    <tr>\n",
       "      <th rowspan=\"3\" valign=\"top\">F</th>\n",
       "      <th>AWS</th>\n",
       "      <td>1</td>\n",
       "      <td>1</td>\n",
       "      <td>FT</td>\n",
       "      <td>1</td>\n",
       "    </tr>\n",
       "    <tr>\n",
       "      <th>DS</th>\n",
       "      <td>2</td>\n",
       "      <td>2</td>\n",
       "      <td>PT</td>\n",
       "      <td>1</td>\n",
       "    </tr>\n",
       "    <tr>\n",
       "      <th>FS</th>\n",
       "      <td>2</td>\n",
       "      <td>2</td>\n",
       "      <td>PT</td>\n",
       "      <td>1</td>\n",
       "    </tr>\n",
       "    <tr>\n",
       "      <th rowspan=\"3\" valign=\"top\">M</th>\n",
       "      <th>AWS</th>\n",
       "      <td>1</td>\n",
       "      <td>1</td>\n",
       "      <td>PT</td>\n",
       "      <td>1</td>\n",
       "    </tr>\n",
       "    <tr>\n",
       "      <th>DS</th>\n",
       "      <td>2</td>\n",
       "      <td>2</td>\n",
       "      <td>FT</td>\n",
       "      <td>1</td>\n",
       "    </tr>\n",
       "    <tr>\n",
       "      <th>FS</th>\n",
       "      <td>2</td>\n",
       "      <td>2</td>\n",
       "      <td>FT</td>\n",
       "      <td>1</td>\n",
       "    </tr>\n",
       "  </tbody>\n",
       "</table>\n",
       "</div>"
      ],
      "text/plain": [
       "            status                \n",
       "             count unique top freq\n",
       "gender dept                       \n",
       "F      AWS       1      1  FT    1\n",
       "       DS        2      2  PT    1\n",
       "       FS        2      2  PT    1\n",
       "M      AWS       1      1  PT    1\n",
       "       DS        2      2  FT    1\n",
       "       FS        2      2  FT    1"
      ]
     },
     "execution_count": 601,
     "metadata": {},
     "output_type": "execute_result"
    }
   ],
   "source": [
    "df.groupby([\"gender\", \"dept\"])[[\"status\"]].describe()"
   ]
  },
  {
   "cell_type": "code",
   "execution_count": 602,
   "metadata": {},
   "outputs": [
    {
     "data": {
      "text/plain": [
       "0    FT\n",
       "1    PT\n",
       "dtype: object"
      ]
     },
     "execution_count": 602,
     "metadata": {},
     "output_type": "execute_result"
    }
   ],
   "source": [
    "df[\"status\"].mode()"
   ]
  },
  {
   "cell_type": "code",
   "execution_count": 603,
   "metadata": {
    "id": "HWYpE_Sj98gM",
    "outputId": "e45bea08-a9c6-43bc-c5b6-fb5e509ec24f"
   },
   "outputs": [
    {
     "ename": "KeyError",
     "evalue": "0",
     "output_type": "error",
     "traceback": [
      "\u001b[1;31m---------------------------------------------------------------------------\u001b[0m",
      "\u001b[1;31mKeyError\u001b[0m                                  Traceback (most recent call last)",
      "\u001b[1;32m~\\AppData\\Local\\Programs\\Python\\Python310\\lib\\site-packages\\pandas\\core\\indexes\\base.py\u001b[0m in \u001b[0;36mget_loc\u001b[1;34m(self, key, method, tolerance)\u001b[0m\n\u001b[0;32m   3360\u001b[0m             \u001b[1;32mtry\u001b[0m\u001b[1;33m:\u001b[0m\u001b[1;33m\u001b[0m\u001b[1;33m\u001b[0m\u001b[0m\n\u001b[1;32m-> 3361\u001b[1;33m                 \u001b[1;32mreturn\u001b[0m \u001b[0mself\u001b[0m\u001b[1;33m.\u001b[0m\u001b[0m_engine\u001b[0m\u001b[1;33m.\u001b[0m\u001b[0mget_loc\u001b[0m\u001b[1;33m(\u001b[0m\u001b[0mcasted_key\u001b[0m\u001b[1;33m)\u001b[0m\u001b[1;33m\u001b[0m\u001b[1;33m\u001b[0m\u001b[0m\n\u001b[0m\u001b[0;32m   3362\u001b[0m             \u001b[1;32mexcept\u001b[0m \u001b[0mKeyError\u001b[0m \u001b[1;32mas\u001b[0m \u001b[0merr\u001b[0m\u001b[1;33m:\u001b[0m\u001b[1;33m\u001b[0m\u001b[1;33m\u001b[0m\u001b[0m\n",
      "\u001b[1;32m~\\AppData\\Local\\Programs\\Python\\Python310\\lib\\site-packages\\pandas\\_libs\\index.pyx\u001b[0m in \u001b[0;36mpandas._libs.index.IndexEngine.get_loc\u001b[1;34m()\u001b[0m\n",
      "\u001b[1;32m~\\AppData\\Local\\Programs\\Python\\Python310\\lib\\site-packages\\pandas\\_libs\\index.pyx\u001b[0m in \u001b[0;36mpandas._libs.index.IndexEngine.get_loc\u001b[1;34m()\u001b[0m\n",
      "\u001b[1;32mpandas\\_libs\\hashtable_class_helper.pxi\u001b[0m in \u001b[0;36mpandas._libs.hashtable.PyObjectHashTable.get_item\u001b[1;34m()\u001b[0m\n",
      "\u001b[1;32mpandas\\_libs\\hashtable_class_helper.pxi\u001b[0m in \u001b[0;36mpandas._libs.hashtable.PyObjectHashTable.get_item\u001b[1;34m()\u001b[0m\n",
      "\u001b[1;31mKeyError\u001b[0m: 0",
      "\nThe above exception was the direct cause of the following exception:\n",
      "\u001b[1;31mKeyError\u001b[0m                                  Traceback (most recent call last)",
      "\u001b[1;32m~\\AppData\\Local\\Temp/ipykernel_23084/205253170.py\u001b[0m in \u001b[0;36m<module>\u001b[1;34m\u001b[0m\n\u001b[1;32m----> 1\u001b[1;33m \u001b[0mdf\u001b[0m\u001b[1;33m.\u001b[0m\u001b[0mgroupby\u001b[0m\u001b[1;33m(\u001b[0m\u001b[1;33m[\u001b[0m\u001b[1;34m\"gender\"\u001b[0m\u001b[1;33m,\u001b[0m \u001b[1;34m\"dept\"\u001b[0m\u001b[1;33m]\u001b[0m\u001b[1;33m)\u001b[0m\u001b[1;33m[\u001b[0m\u001b[1;33m[\u001b[0m\u001b[1;34m\"status\"\u001b[0m\u001b[1;33m]\u001b[0m\u001b[1;33m]\u001b[0m\u001b[1;33m.\u001b[0m\u001b[0mapply\u001b[0m\u001b[1;33m(\u001b[0m\u001b[1;32mlambda\u001b[0m \u001b[0mx\u001b[0m \u001b[1;33m:\u001b[0m \u001b[0mx\u001b[0m\u001b[1;33m.\u001b[0m\u001b[0mmode\u001b[0m\u001b[1;33m(\u001b[0m\u001b[1;33m)\u001b[0m\u001b[1;33m[\u001b[0m\u001b[1;36m0\u001b[0m\u001b[1;33m]\u001b[0m\u001b[1;33m)\u001b[0m\u001b[1;33m\u001b[0m\u001b[1;33m\u001b[0m\u001b[0m\n\u001b[0m",
      "\u001b[1;32m~\\AppData\\Local\\Programs\\Python\\Python310\\lib\\site-packages\\pandas\\core\\groupby\\groupby.py\u001b[0m in \u001b[0;36mapply\u001b[1;34m(self, func, *args, **kwargs)\u001b[0m\n\u001b[0;32m   1273\u001b[0m         \u001b[1;32mwith\u001b[0m \u001b[0moption_context\u001b[0m\u001b[1;33m(\u001b[0m\u001b[1;34m\"mode.chained_assignment\"\u001b[0m\u001b[1;33m,\u001b[0m \u001b[1;32mNone\u001b[0m\u001b[1;33m)\u001b[0m\u001b[1;33m:\u001b[0m\u001b[1;33m\u001b[0m\u001b[1;33m\u001b[0m\u001b[0m\n\u001b[0;32m   1274\u001b[0m             \u001b[1;32mtry\u001b[0m\u001b[1;33m:\u001b[0m\u001b[1;33m\u001b[0m\u001b[1;33m\u001b[0m\u001b[0m\n\u001b[1;32m-> 1275\u001b[1;33m                 \u001b[0mresult\u001b[0m \u001b[1;33m=\u001b[0m \u001b[0mself\u001b[0m\u001b[1;33m.\u001b[0m\u001b[0m_python_apply_general\u001b[0m\u001b[1;33m(\u001b[0m\u001b[0mf\u001b[0m\u001b[1;33m,\u001b[0m \u001b[0mself\u001b[0m\u001b[1;33m.\u001b[0m\u001b[0m_selected_obj\u001b[0m\u001b[1;33m)\u001b[0m\u001b[1;33m\u001b[0m\u001b[1;33m\u001b[0m\u001b[0m\n\u001b[0m\u001b[0;32m   1276\u001b[0m             \u001b[1;32mexcept\u001b[0m \u001b[0mTypeError\u001b[0m\u001b[1;33m:\u001b[0m\u001b[1;33m\u001b[0m\u001b[1;33m\u001b[0m\u001b[0m\n\u001b[0;32m   1277\u001b[0m                 \u001b[1;31m# gh-20949\u001b[0m\u001b[1;33m\u001b[0m\u001b[1;33m\u001b[0m\u001b[0m\n",
      "\u001b[1;32m~\\AppData\\Local\\Programs\\Python\\Python310\\lib\\site-packages\\pandas\\core\\groupby\\groupby.py\u001b[0m in \u001b[0;36m_python_apply_general\u001b[1;34m(self, f, data)\u001b[0m\n\u001b[0;32m   1307\u001b[0m             \u001b[0mdata\u001b[0m \u001b[0mafter\u001b[0m \u001b[0mapplying\u001b[0m \u001b[0mf\u001b[0m\u001b[1;33m\u001b[0m\u001b[1;33m\u001b[0m\u001b[0m\n\u001b[0;32m   1308\u001b[0m         \"\"\"\n\u001b[1;32m-> 1309\u001b[1;33m         \u001b[0mkeys\u001b[0m\u001b[1;33m,\u001b[0m \u001b[0mvalues\u001b[0m\u001b[1;33m,\u001b[0m \u001b[0mmutated\u001b[0m \u001b[1;33m=\u001b[0m \u001b[0mself\u001b[0m\u001b[1;33m.\u001b[0m\u001b[0mgrouper\u001b[0m\u001b[1;33m.\u001b[0m\u001b[0mapply\u001b[0m\u001b[1;33m(\u001b[0m\u001b[0mf\u001b[0m\u001b[1;33m,\u001b[0m \u001b[0mdata\u001b[0m\u001b[1;33m,\u001b[0m \u001b[0mself\u001b[0m\u001b[1;33m.\u001b[0m\u001b[0maxis\u001b[0m\u001b[1;33m)\u001b[0m\u001b[1;33m\u001b[0m\u001b[1;33m\u001b[0m\u001b[0m\n\u001b[0m\u001b[0;32m   1310\u001b[0m \u001b[1;33m\u001b[0m\u001b[0m\n\u001b[0;32m   1311\u001b[0m         return self._wrap_applied_output(\n",
      "\u001b[1;32m~\\AppData\\Local\\Programs\\Python\\Python310\\lib\\site-packages\\pandas\\core\\groupby\\ops.py\u001b[0m in \u001b[0;36mapply\u001b[1;34m(self, f, data, axis)\u001b[0m\n\u001b[0;32m    813\u001b[0m             \u001b[1;32mtry\u001b[0m\u001b[1;33m:\u001b[0m\u001b[1;33m\u001b[0m\u001b[1;33m\u001b[0m\u001b[0m\n\u001b[0;32m    814\u001b[0m                 \u001b[0msdata\u001b[0m \u001b[1;33m=\u001b[0m \u001b[0msplitter\u001b[0m\u001b[1;33m.\u001b[0m\u001b[0msorted_data\u001b[0m\u001b[1;33m\u001b[0m\u001b[1;33m\u001b[0m\u001b[0m\n\u001b[1;32m--> 815\u001b[1;33m                 \u001b[0mresult_values\u001b[0m\u001b[1;33m,\u001b[0m \u001b[0mmutated\u001b[0m \u001b[1;33m=\u001b[0m \u001b[0msplitter\u001b[0m\u001b[1;33m.\u001b[0m\u001b[0mfast_apply\u001b[0m\u001b[1;33m(\u001b[0m\u001b[0mf\u001b[0m\u001b[1;33m,\u001b[0m \u001b[0msdata\u001b[0m\u001b[1;33m,\u001b[0m \u001b[0mgroup_keys\u001b[0m\u001b[1;33m)\u001b[0m\u001b[1;33m\u001b[0m\u001b[1;33m\u001b[0m\u001b[0m\n\u001b[0m\u001b[0;32m    816\u001b[0m \u001b[1;33m\u001b[0m\u001b[0m\n\u001b[0;32m    817\u001b[0m             \u001b[1;32mexcept\u001b[0m \u001b[0mIndexError\u001b[0m\u001b[1;33m:\u001b[0m\u001b[1;33m\u001b[0m\u001b[1;33m\u001b[0m\u001b[0m\n",
      "\u001b[1;32m~\\AppData\\Local\\Programs\\Python\\Python310\\lib\\site-packages\\pandas\\core\\groupby\\ops.py\u001b[0m in \u001b[0;36mfast_apply\u001b[1;34m(self, f, sdata, names)\u001b[0m\n\u001b[0;32m   1358\u001b[0m         \u001b[1;31m# must return keys::list, values::list, mutated::bool\u001b[0m\u001b[1;33m\u001b[0m\u001b[1;33m\u001b[0m\u001b[0m\n\u001b[0;32m   1359\u001b[0m         \u001b[0mstarts\u001b[0m\u001b[1;33m,\u001b[0m \u001b[0mends\u001b[0m \u001b[1;33m=\u001b[0m \u001b[0mlib\u001b[0m\u001b[1;33m.\u001b[0m\u001b[0mgenerate_slices\u001b[0m\u001b[1;33m(\u001b[0m\u001b[0mself\u001b[0m\u001b[1;33m.\u001b[0m\u001b[0mslabels\u001b[0m\u001b[1;33m,\u001b[0m \u001b[0mself\u001b[0m\u001b[1;33m.\u001b[0m\u001b[0mngroups\u001b[0m\u001b[1;33m)\u001b[0m\u001b[1;33m\u001b[0m\u001b[1;33m\u001b[0m\u001b[0m\n\u001b[1;32m-> 1360\u001b[1;33m         \u001b[1;32mreturn\u001b[0m \u001b[0mlibreduction\u001b[0m\u001b[1;33m.\u001b[0m\u001b[0mapply_frame_axis0\u001b[0m\u001b[1;33m(\u001b[0m\u001b[0msdata\u001b[0m\u001b[1;33m,\u001b[0m \u001b[0mf\u001b[0m\u001b[1;33m,\u001b[0m \u001b[0mnames\u001b[0m\u001b[1;33m,\u001b[0m \u001b[0mstarts\u001b[0m\u001b[1;33m,\u001b[0m \u001b[0mends\u001b[0m\u001b[1;33m)\u001b[0m\u001b[1;33m\u001b[0m\u001b[1;33m\u001b[0m\u001b[0m\n\u001b[0m\u001b[0;32m   1361\u001b[0m \u001b[1;33m\u001b[0m\u001b[0m\n\u001b[0;32m   1362\u001b[0m     \u001b[1;32mdef\u001b[0m \u001b[0m_chop\u001b[0m\u001b[1;33m(\u001b[0m\u001b[0mself\u001b[0m\u001b[1;33m,\u001b[0m \u001b[0msdata\u001b[0m\u001b[1;33m:\u001b[0m \u001b[0mDataFrame\u001b[0m\u001b[1;33m,\u001b[0m \u001b[0mslice_obj\u001b[0m\u001b[1;33m:\u001b[0m \u001b[0mslice\u001b[0m\u001b[1;33m)\u001b[0m \u001b[1;33m->\u001b[0m \u001b[0mDataFrame\u001b[0m\u001b[1;33m:\u001b[0m\u001b[1;33m\u001b[0m\u001b[1;33m\u001b[0m\u001b[0m\n",
      "\u001b[1;32m~\\AppData\\Local\\Programs\\Python\\Python310\\lib\\site-packages\\pandas\\_libs\\reduction.pyx\u001b[0m in \u001b[0;36mpandas._libs.reduction.apply_frame_axis0\u001b[1;34m()\u001b[0m\n",
      "\u001b[1;32m~\\AppData\\Local\\Temp/ipykernel_23084/205253170.py\u001b[0m in \u001b[0;36m<lambda>\u001b[1;34m(x)\u001b[0m\n\u001b[1;32m----> 1\u001b[1;33m \u001b[0mdf\u001b[0m\u001b[1;33m.\u001b[0m\u001b[0mgroupby\u001b[0m\u001b[1;33m(\u001b[0m\u001b[1;33m[\u001b[0m\u001b[1;34m\"gender\"\u001b[0m\u001b[1;33m,\u001b[0m \u001b[1;34m\"dept\"\u001b[0m\u001b[1;33m]\u001b[0m\u001b[1;33m)\u001b[0m\u001b[1;33m[\u001b[0m\u001b[1;33m[\u001b[0m\u001b[1;34m\"status\"\u001b[0m\u001b[1;33m]\u001b[0m\u001b[1;33m]\u001b[0m\u001b[1;33m.\u001b[0m\u001b[0mapply\u001b[0m\u001b[1;33m(\u001b[0m\u001b[1;32mlambda\u001b[0m \u001b[0mx\u001b[0m \u001b[1;33m:\u001b[0m \u001b[0mx\u001b[0m\u001b[1;33m.\u001b[0m\u001b[0mmode\u001b[0m\u001b[1;33m(\u001b[0m\u001b[1;33m)\u001b[0m\u001b[1;33m[\u001b[0m\u001b[1;36m0\u001b[0m\u001b[1;33m]\u001b[0m\u001b[1;33m)\u001b[0m\u001b[1;33m\u001b[0m\u001b[1;33m\u001b[0m\u001b[0m\n\u001b[0m",
      "\u001b[1;32m~\\AppData\\Local\\Programs\\Python\\Python310\\lib\\site-packages\\pandas\\core\\frame.py\u001b[0m in \u001b[0;36m__getitem__\u001b[1;34m(self, key)\u001b[0m\n\u001b[0;32m   3456\u001b[0m             \u001b[1;32mif\u001b[0m \u001b[0mself\u001b[0m\u001b[1;33m.\u001b[0m\u001b[0mcolumns\u001b[0m\u001b[1;33m.\u001b[0m\u001b[0mnlevels\u001b[0m \u001b[1;33m>\u001b[0m \u001b[1;36m1\u001b[0m\u001b[1;33m:\u001b[0m\u001b[1;33m\u001b[0m\u001b[1;33m\u001b[0m\u001b[0m\n\u001b[0;32m   3457\u001b[0m                 \u001b[1;32mreturn\u001b[0m \u001b[0mself\u001b[0m\u001b[1;33m.\u001b[0m\u001b[0m_getitem_multilevel\u001b[0m\u001b[1;33m(\u001b[0m\u001b[0mkey\u001b[0m\u001b[1;33m)\u001b[0m\u001b[1;33m\u001b[0m\u001b[1;33m\u001b[0m\u001b[0m\n\u001b[1;32m-> 3458\u001b[1;33m             \u001b[0mindexer\u001b[0m \u001b[1;33m=\u001b[0m \u001b[0mself\u001b[0m\u001b[1;33m.\u001b[0m\u001b[0mcolumns\u001b[0m\u001b[1;33m.\u001b[0m\u001b[0mget_loc\u001b[0m\u001b[1;33m(\u001b[0m\u001b[0mkey\u001b[0m\u001b[1;33m)\u001b[0m\u001b[1;33m\u001b[0m\u001b[1;33m\u001b[0m\u001b[0m\n\u001b[0m\u001b[0;32m   3459\u001b[0m             \u001b[1;32mif\u001b[0m \u001b[0mis_integer\u001b[0m\u001b[1;33m(\u001b[0m\u001b[0mindexer\u001b[0m\u001b[1;33m)\u001b[0m\u001b[1;33m:\u001b[0m\u001b[1;33m\u001b[0m\u001b[1;33m\u001b[0m\u001b[0m\n\u001b[0;32m   3460\u001b[0m                 \u001b[0mindexer\u001b[0m \u001b[1;33m=\u001b[0m \u001b[1;33m[\u001b[0m\u001b[0mindexer\u001b[0m\u001b[1;33m]\u001b[0m\u001b[1;33m\u001b[0m\u001b[1;33m\u001b[0m\u001b[0m\n",
      "\u001b[1;32m~\\AppData\\Local\\Programs\\Python\\Python310\\lib\\site-packages\\pandas\\core\\indexes\\base.py\u001b[0m in \u001b[0;36mget_loc\u001b[1;34m(self, key, method, tolerance)\u001b[0m\n\u001b[0;32m   3361\u001b[0m                 \u001b[1;32mreturn\u001b[0m \u001b[0mself\u001b[0m\u001b[1;33m.\u001b[0m\u001b[0m_engine\u001b[0m\u001b[1;33m.\u001b[0m\u001b[0mget_loc\u001b[0m\u001b[1;33m(\u001b[0m\u001b[0mcasted_key\u001b[0m\u001b[1;33m)\u001b[0m\u001b[1;33m\u001b[0m\u001b[1;33m\u001b[0m\u001b[0m\n\u001b[0;32m   3362\u001b[0m             \u001b[1;32mexcept\u001b[0m \u001b[0mKeyError\u001b[0m \u001b[1;32mas\u001b[0m \u001b[0merr\u001b[0m\u001b[1;33m:\u001b[0m\u001b[1;33m\u001b[0m\u001b[1;33m\u001b[0m\u001b[0m\n\u001b[1;32m-> 3363\u001b[1;33m                 \u001b[1;32mraise\u001b[0m \u001b[0mKeyError\u001b[0m\u001b[1;33m(\u001b[0m\u001b[0mkey\u001b[0m\u001b[1;33m)\u001b[0m \u001b[1;32mfrom\u001b[0m \u001b[0merr\u001b[0m\u001b[1;33m\u001b[0m\u001b[1;33m\u001b[0m\u001b[0m\n\u001b[0m\u001b[0;32m   3364\u001b[0m \u001b[1;33m\u001b[0m\u001b[0m\n\u001b[0;32m   3365\u001b[0m         \u001b[1;32mif\u001b[0m \u001b[0mis_scalar\u001b[0m\u001b[1;33m(\u001b[0m\u001b[0mkey\u001b[0m\u001b[1;33m)\u001b[0m \u001b[1;32mand\u001b[0m \u001b[0misna\u001b[0m\u001b[1;33m(\u001b[0m\u001b[0mkey\u001b[0m\u001b[1;33m)\u001b[0m \u001b[1;32mand\u001b[0m \u001b[1;32mnot\u001b[0m \u001b[0mself\u001b[0m\u001b[1;33m.\u001b[0m\u001b[0mhasnans\u001b[0m\u001b[1;33m:\u001b[0m\u001b[1;33m\u001b[0m\u001b[1;33m\u001b[0m\u001b[0m\n",
      "\u001b[1;31mKeyError\u001b[0m: 0"
     ]
    }
   ],
   "source": [
    "df.groupby([\"gender\", \"dept\"])[[\"status\"]].apply(lambda x : x.mode()[0])"
   ]
  },
  {
   "cell_type": "markdown",
   "metadata": {},
   "source": [
    "``.transform(lambda x : x.mode()[0])``"
   ]
  },
  {
   "cell_type": "code",
   "execution_count": null,
   "metadata": {},
   "outputs": [
    {
     "data": {
      "text/html": [
       "<div>\n",
       "<style scoped>\n",
       "    .dataframe tbody tr th:only-of-type {\n",
       "        vertical-align: middle;\n",
       "    }\n",
       "\n",
       "    .dataframe tbody tr th {\n",
       "        vertical-align: top;\n",
       "    }\n",
       "\n",
       "    .dataframe thead th {\n",
       "        text-align: right;\n",
       "    }\n",
       "</style>\n",
       "<table border=\"1\" class=\"dataframe\">\n",
       "  <thead>\n",
       "    <tr style=\"text-align: right;\">\n",
       "      <th></th>\n",
       "      <th>id</th>\n",
       "      <th>gender</th>\n",
       "      <th>status</th>\n",
       "      <th>dept</th>\n",
       "      <th>var1</th>\n",
       "      <th>var2</th>\n",
       "      <th>salary</th>\n",
       "    </tr>\n",
       "  </thead>\n",
       "  <tbody>\n",
       "    <tr>\n",
       "      <th>0</th>\n",
       "      <td>P001</td>\n",
       "      <td>M</td>\n",
       "      <td>FT</td>\n",
       "      <td>DS</td>\n",
       "      <td>2.0</td>\n",
       "      <td>8.0</td>\n",
       "      <td>NaN</td>\n",
       "    </tr>\n",
       "    <tr>\n",
       "      <th>1</th>\n",
       "      <td>P002</td>\n",
       "      <td>F</td>\n",
       "      <td>PT</td>\n",
       "      <td>FS</td>\n",
       "      <td>3.0</td>\n",
       "      <td>NaN</td>\n",
       "      <td>54.0</td>\n",
       "    </tr>\n",
       "    <tr>\n",
       "      <th>2</th>\n",
       "      <td>P003</td>\n",
       "      <td>M</td>\n",
       "      <td>PT</td>\n",
       "      <td>AWS</td>\n",
       "      <td>5.0</td>\n",
       "      <td>5.0</td>\n",
       "      <td>59.0</td>\n",
       "    </tr>\n",
       "    <tr>\n",
       "      <th>3</th>\n",
       "      <td>P004</td>\n",
       "      <td>F</td>\n",
       "      <td>FT</td>\n",
       "      <td>AWS</td>\n",
       "      <td>NaN</td>\n",
       "      <td>8.0</td>\n",
       "      <td>120.0</td>\n",
       "    </tr>\n",
       "    <tr>\n",
       "      <th>4</th>\n",
       "      <td>P005</td>\n",
       "      <td>M</td>\n",
       "      <td>PT</td>\n",
       "      <td>DS</td>\n",
       "      <td>7.0</td>\n",
       "      <td>11.0</td>\n",
       "      <td>58.0</td>\n",
       "    </tr>\n",
       "    <tr>\n",
       "      <th>5</th>\n",
       "      <td>P006</td>\n",
       "      <td>F</td>\n",
       "      <td>PT</td>\n",
       "      <td>DS</td>\n",
       "      <td>1.0</td>\n",
       "      <td>NaN</td>\n",
       "      <td>75.0</td>\n",
       "    </tr>\n",
       "    <tr>\n",
       "      <th>6</th>\n",
       "      <td>P007</td>\n",
       "      <td>M</td>\n",
       "      <td>FT</td>\n",
       "      <td>FS</td>\n",
       "      <td>NaN</td>\n",
       "      <td>NaN</td>\n",
       "      <td>NaN</td>\n",
       "    </tr>\n",
       "    <tr>\n",
       "      <th>7</th>\n",
       "      <td>P008</td>\n",
       "      <td>F</td>\n",
       "      <td>FT</td>\n",
       "      <td>FS</td>\n",
       "      <td>10.0</td>\n",
       "      <td>2.0</td>\n",
       "      <td>136.0</td>\n",
       "    </tr>\n",
       "    <tr>\n",
       "      <th>8</th>\n",
       "      <td>P009</td>\n",
       "      <td>M</td>\n",
       "      <td>PT</td>\n",
       "      <td>FS</td>\n",
       "      <td>14.0</td>\n",
       "      <td>3.0</td>\n",
       "      <td>60.0</td>\n",
       "    </tr>\n",
       "    <tr>\n",
       "      <th>9</th>\n",
       "      <td>P010</td>\n",
       "      <td>F</td>\n",
       "      <td>FT</td>\n",
       "      <td>DS</td>\n",
       "      <td>NaN</td>\n",
       "      <td>7.0</td>\n",
       "      <td>125.0</td>\n",
       "    </tr>\n",
       "    <tr>\n",
       "      <th>10</th>\n",
       "      <td>P011</td>\n",
       "      <td>M</td>\n",
       "      <td>NaN</td>\n",
       "      <td>AWS</td>\n",
       "      <td>6.0</td>\n",
       "      <td>9.0</td>\n",
       "      <td>NaN</td>\n",
       "    </tr>\n",
       "  </tbody>\n",
       "</table>\n",
       "</div>"
      ],
      "text/plain": [
       "      id gender status dept  var1  var2  salary\n",
       "0   P001      M     FT   DS   2.0   8.0     NaN\n",
       "1   P002      F     PT   FS   3.0   NaN    54.0\n",
       "2   P003      M     PT  AWS   5.0   5.0    59.0\n",
       "3   P004      F     FT  AWS   NaN   8.0   120.0\n",
       "4   P005      M     PT   DS   7.0  11.0    58.0\n",
       "5   P006      F     PT   DS   1.0   NaN    75.0\n",
       "6   P007      M     FT   FS   NaN   NaN     NaN\n",
       "7   P008      F     FT   FS  10.0   2.0   136.0\n",
       "8   P009      M     PT   FS  14.0   3.0    60.0\n",
       "9   P010      F     FT   DS   NaN   7.0   125.0\n",
       "10  P011      M    NaN  AWS   6.0   9.0     NaN"
      ]
     },
     "execution_count": 568,
     "metadata": {},
     "output_type": "execute_result"
    }
   ],
   "source": [
    "df"
   ]
  },
  {
   "cell_type": "code",
   "execution_count": null,
   "metadata": {
    "id": "NRb8nKNl98gN",
    "outputId": "a98d8f56-b31e-4de8-f461-46cdeeccd907"
   },
   "outputs": [
    {
     "data": {
      "text/plain": [
       "0     FT\n",
       "1     FT\n",
       "2     PT\n",
       "3     FT\n",
       "4     FT\n",
       "5     FT\n",
       "6     FT\n",
       "7     FT\n",
       "8     FT\n",
       "9     FT\n",
       "10    PT\n",
       "Name: status, dtype: object"
      ]
     },
     "execution_count": 570,
     "metadata": {},
     "output_type": "execute_result"
    }
   ],
   "source": [
    "df.groupby([\"gender\", \"dept\"])[\"status\"].transform(lambda x : x.mode()[0])"
   ]
  },
  {
   "cell_type": "code",
   "execution_count": null,
   "metadata": {
    "id": "7qAeqrOt98gN",
    "outputId": "16fac010-daa6-45dc-b3ee-f8d90f77f090"
   },
   "outputs": [
    {
     "data": {
      "text/html": [
       "<div>\n",
       "<style scoped>\n",
       "    .dataframe tbody tr th:only-of-type {\n",
       "        vertical-align: middle;\n",
       "    }\n",
       "\n",
       "    .dataframe tbody tr th {\n",
       "        vertical-align: top;\n",
       "    }\n",
       "\n",
       "    .dataframe thead th {\n",
       "        text-align: right;\n",
       "    }\n",
       "</style>\n",
       "<table border=\"1\" class=\"dataframe\">\n",
       "  <thead>\n",
       "    <tr style=\"text-align: right;\">\n",
       "      <th></th>\n",
       "      <th>id</th>\n",
       "      <th>gender</th>\n",
       "      <th>status</th>\n",
       "      <th>dept</th>\n",
       "      <th>var1</th>\n",
       "      <th>var2</th>\n",
       "      <th>salary</th>\n",
       "    </tr>\n",
       "  </thead>\n",
       "  <tbody>\n",
       "    <tr>\n",
       "      <th>0</th>\n",
       "      <td>P001</td>\n",
       "      <td>M</td>\n",
       "      <td>FT</td>\n",
       "      <td>DS</td>\n",
       "      <td>2.0</td>\n",
       "      <td>8.0</td>\n",
       "      <td>NaN</td>\n",
       "    </tr>\n",
       "    <tr>\n",
       "      <th>1</th>\n",
       "      <td>P002</td>\n",
       "      <td>F</td>\n",
       "      <td>PT</td>\n",
       "      <td>FS</td>\n",
       "      <td>3.0</td>\n",
       "      <td>NaN</td>\n",
       "      <td>54.0</td>\n",
       "    </tr>\n",
       "    <tr>\n",
       "      <th>2</th>\n",
       "      <td>P003</td>\n",
       "      <td>M</td>\n",
       "      <td>PT</td>\n",
       "      <td>AWS</td>\n",
       "      <td>5.0</td>\n",
       "      <td>5.0</td>\n",
       "      <td>59.0</td>\n",
       "    </tr>\n",
       "    <tr>\n",
       "      <th>3</th>\n",
       "      <td>P004</td>\n",
       "      <td>F</td>\n",
       "      <td>FT</td>\n",
       "      <td>AWS</td>\n",
       "      <td>NaN</td>\n",
       "      <td>8.0</td>\n",
       "      <td>120.0</td>\n",
       "    </tr>\n",
       "    <tr>\n",
       "      <th>4</th>\n",
       "      <td>P005</td>\n",
       "      <td>M</td>\n",
       "      <td>PT</td>\n",
       "      <td>DS</td>\n",
       "      <td>7.0</td>\n",
       "      <td>11.0</td>\n",
       "      <td>58.0</td>\n",
       "    </tr>\n",
       "    <tr>\n",
       "      <th>5</th>\n",
       "      <td>P006</td>\n",
       "      <td>F</td>\n",
       "      <td>PT</td>\n",
       "      <td>DS</td>\n",
       "      <td>1.0</td>\n",
       "      <td>NaN</td>\n",
       "      <td>75.0</td>\n",
       "    </tr>\n",
       "    <tr>\n",
       "      <th>6</th>\n",
       "      <td>P007</td>\n",
       "      <td>M</td>\n",
       "      <td>FT</td>\n",
       "      <td>FS</td>\n",
       "      <td>NaN</td>\n",
       "      <td>NaN</td>\n",
       "      <td>NaN</td>\n",
       "    </tr>\n",
       "    <tr>\n",
       "      <th>7</th>\n",
       "      <td>P008</td>\n",
       "      <td>F</td>\n",
       "      <td>FT</td>\n",
       "      <td>FS</td>\n",
       "      <td>10.0</td>\n",
       "      <td>2.0</td>\n",
       "      <td>136.0</td>\n",
       "    </tr>\n",
       "    <tr>\n",
       "      <th>8</th>\n",
       "      <td>P009</td>\n",
       "      <td>M</td>\n",
       "      <td>PT</td>\n",
       "      <td>FS</td>\n",
       "      <td>14.0</td>\n",
       "      <td>3.0</td>\n",
       "      <td>60.0</td>\n",
       "    </tr>\n",
       "    <tr>\n",
       "      <th>9</th>\n",
       "      <td>P010</td>\n",
       "      <td>F</td>\n",
       "      <td>FT</td>\n",
       "      <td>DS</td>\n",
       "      <td>NaN</td>\n",
       "      <td>7.0</td>\n",
       "      <td>125.0</td>\n",
       "    </tr>\n",
       "    <tr>\n",
       "      <th>10</th>\n",
       "      <td>P011</td>\n",
       "      <td>M</td>\n",
       "      <td>PT</td>\n",
       "      <td>AWS</td>\n",
       "      <td>6.0</td>\n",
       "      <td>9.0</td>\n",
       "      <td>NaN</td>\n",
       "    </tr>\n",
       "  </tbody>\n",
       "</table>\n",
       "</div>"
      ],
      "text/plain": [
       "      id gender status dept  var1  var2  salary\n",
       "0   P001      M     FT   DS   2.0   8.0     NaN\n",
       "1   P002      F     PT   FS   3.0   NaN    54.0\n",
       "2   P003      M     PT  AWS   5.0   5.0    59.0\n",
       "3   P004      F     FT  AWS   NaN   8.0   120.0\n",
       "4   P005      M     PT   DS   7.0  11.0    58.0\n",
       "5   P006      F     PT   DS   1.0   NaN    75.0\n",
       "6   P007      M     FT   FS   NaN   NaN     NaN\n",
       "7   P008      F     FT   FS  10.0   2.0   136.0\n",
       "8   P009      M     PT   FS  14.0   3.0    60.0\n",
       "9   P010      F     FT   DS   NaN   7.0   125.0\n",
       "10  P011      M     PT  AWS   6.0   9.0     NaN"
      ]
     },
     "execution_count": 571,
     "metadata": {},
     "output_type": "execute_result"
    }
   ],
   "source": [
    "df[\"status\"] = df[\"status\"].fillna(df.groupby([\"gender\", \"dept\"])[\"status\"].transform(lambda x : x.mode()[0]))\n",
    "df"
   ]
  },
  {
   "cell_type": "code",
   "execution_count": null,
   "metadata": {
    "id": "GC65ySgoDyzx",
    "outputId": "12ae40f7-9c0a-4b5f-d75b-3b632dd03a8a"
   },
   "outputs": [
    {
     "data": {
      "text/plain": [
       "dept\n",
       "AWS    89.500000\n",
       "DS     86.000000\n",
       "FS     83.333333\n",
       "Name: salary, dtype: float64"
      ]
     },
     "execution_count": 572,
     "metadata": {},
     "output_type": "execute_result"
    }
   ],
   "source": [
    "# in Bezug auf den Durchschnitt von „Gehalt“ in Bezug auf „Abteilung“\n",
    "df.groupby(\"dept\")[\"salary\"].mean()"
   ]
  },
  {
   "cell_type": "code",
   "execution_count": null,
   "metadata": {
    "id": "YcenUr-NDyzx",
    "outputId": "1075335b-130f-4875-aefb-c376a4683fea"
   },
   "outputs": [
    {
     "data": {
      "text/plain": [
       "0     86.000000\n",
       "1     83.333333\n",
       "2     89.500000\n",
       "3     89.500000\n",
       "4     86.000000\n",
       "5     86.000000\n",
       "6     83.333333\n",
       "7     83.333333\n",
       "8     83.333333\n",
       "9     86.000000\n",
       "10    89.500000\n",
       "Name: salary, dtype: float64"
      ]
     },
     "execution_count": 573,
     "metadata": {},
     "output_type": "execute_result"
    }
   ],
   "source": [
    "# Wir haben die Werte der Spalte 'Gehalt' in den Gruppenmittelwert umgewandelt.\n",
    "df.groupby(\"dept\")[\"salary\"].transform(\"mean\")  # Schauen Sie einmal die .transform() an"
   ]
  },
  {
   "cell_type": "code",
   "execution_count": null,
   "metadata": {
    "id": "oRpKoh9UDyzx",
    "outputId": "bb218498-c1f1-4707-daf7-286cd9679332"
   },
   "outputs": [
    {
     "data": {
      "text/plain": [
       "0      86.000000\n",
       "1      54.000000\n",
       "2      59.000000\n",
       "3     120.000000\n",
       "4      58.000000\n",
       "5      75.000000\n",
       "6      83.333333\n",
       "7     136.000000\n",
       "8      60.000000\n",
       "9     125.000000\n",
       "10     89.500000\n",
       "Name: salary, dtype: float64"
      ]
     },
     "execution_count": 574,
     "metadata": {},
     "output_type": "execute_result"
    }
   ],
   "source": [
    "df[\"salary\"].fillna(df.groupby(\"dept\")[\"salary\"].transform(\"mean\"))"
   ]
  },
  {
   "cell_type": "code",
   "execution_count": null,
   "metadata": {
    "id": "oSJbPmQn98gO",
    "outputId": "d48fa4b9-6739-4ede-87f8-9179cb30b8f2"
   },
   "outputs": [
    {
     "data": {
      "text/plain": [
       "status  dept\n",
       "FT      AWS     120.0\n",
       "        DS      125.0\n",
       "        FS      136.0\n",
       "PT      AWS      59.0\n",
       "        DS       66.5\n",
       "        FS       57.0\n",
       "Name: salary, dtype: float64"
      ]
     },
     "execution_count": 575,
     "metadata": {},
     "output_type": "execute_result"
    }
   ],
   "source": [
    "# in Bezug auf den Durchschnitt des „Gehalts“ in Bezug auf „Status und Abteilung“\n",
    "df.groupby([\"status\",\"dept\"])[\"salary\"].mean()"
   ]
  },
  {
   "cell_type": "code",
   "execution_count": null,
   "metadata": {
    "id": "x2Ar8tMo98gP",
    "outputId": "8ffaacd8-f089-4645-e236-a0163a8c0c58"
   },
   "outputs": [
    {
     "data": {
      "text/plain": [
       "0     125.0\n",
       "1      57.0\n",
       "2      59.0\n",
       "3     120.0\n",
       "4      66.5\n",
       "5      66.5\n",
       "6     136.0\n",
       "7     136.0\n",
       "8      57.0\n",
       "9     125.0\n",
       "10     59.0\n",
       "Name: salary, dtype: float64"
      ]
     },
     "execution_count": 576,
     "metadata": {},
     "output_type": "execute_result"
    }
   ],
   "source": [
    "df.groupby([\"status\",\"dept\"])[\"salary\"].transform(\"mean\")"
   ]
  },
  {
   "cell_type": "code",
   "execution_count": null,
   "metadata": {
    "id": "BSle4H6998gP",
    "outputId": "eac055c5-1f63-4735-ad07-3fef9797c66a"
   },
   "outputs": [
    {
     "data": {
      "text/html": [
       "<div>\n",
       "<style scoped>\n",
       "    .dataframe tbody tr th:only-of-type {\n",
       "        vertical-align: middle;\n",
       "    }\n",
       "\n",
       "    .dataframe tbody tr th {\n",
       "        vertical-align: top;\n",
       "    }\n",
       "\n",
       "    .dataframe thead th {\n",
       "        text-align: right;\n",
       "    }\n",
       "</style>\n",
       "<table border=\"1\" class=\"dataframe\">\n",
       "  <thead>\n",
       "    <tr style=\"text-align: right;\">\n",
       "      <th></th>\n",
       "      <th>id</th>\n",
       "      <th>gender</th>\n",
       "      <th>status</th>\n",
       "      <th>dept</th>\n",
       "      <th>var1</th>\n",
       "      <th>var2</th>\n",
       "      <th>salary</th>\n",
       "    </tr>\n",
       "  </thead>\n",
       "  <tbody>\n",
       "    <tr>\n",
       "      <th>0</th>\n",
       "      <td>P001</td>\n",
       "      <td>M</td>\n",
       "      <td>FT</td>\n",
       "      <td>DS</td>\n",
       "      <td>2.0</td>\n",
       "      <td>8.0</td>\n",
       "      <td>125.0</td>\n",
       "    </tr>\n",
       "    <tr>\n",
       "      <th>1</th>\n",
       "      <td>P002</td>\n",
       "      <td>F</td>\n",
       "      <td>PT</td>\n",
       "      <td>FS</td>\n",
       "      <td>3.0</td>\n",
       "      <td>NaN</td>\n",
       "      <td>54.0</td>\n",
       "    </tr>\n",
       "    <tr>\n",
       "      <th>2</th>\n",
       "      <td>P003</td>\n",
       "      <td>M</td>\n",
       "      <td>PT</td>\n",
       "      <td>AWS</td>\n",
       "      <td>5.0</td>\n",
       "      <td>5.0</td>\n",
       "      <td>59.0</td>\n",
       "    </tr>\n",
       "    <tr>\n",
       "      <th>3</th>\n",
       "      <td>P004</td>\n",
       "      <td>F</td>\n",
       "      <td>FT</td>\n",
       "      <td>AWS</td>\n",
       "      <td>NaN</td>\n",
       "      <td>8.0</td>\n",
       "      <td>120.0</td>\n",
       "    </tr>\n",
       "    <tr>\n",
       "      <th>4</th>\n",
       "      <td>P005</td>\n",
       "      <td>M</td>\n",
       "      <td>PT</td>\n",
       "      <td>DS</td>\n",
       "      <td>7.0</td>\n",
       "      <td>11.0</td>\n",
       "      <td>58.0</td>\n",
       "    </tr>\n",
       "    <tr>\n",
       "      <th>5</th>\n",
       "      <td>P006</td>\n",
       "      <td>F</td>\n",
       "      <td>PT</td>\n",
       "      <td>DS</td>\n",
       "      <td>1.0</td>\n",
       "      <td>NaN</td>\n",
       "      <td>75.0</td>\n",
       "    </tr>\n",
       "    <tr>\n",
       "      <th>6</th>\n",
       "      <td>P007</td>\n",
       "      <td>M</td>\n",
       "      <td>FT</td>\n",
       "      <td>FS</td>\n",
       "      <td>NaN</td>\n",
       "      <td>NaN</td>\n",
       "      <td>136.0</td>\n",
       "    </tr>\n",
       "    <tr>\n",
       "      <th>7</th>\n",
       "      <td>P008</td>\n",
       "      <td>F</td>\n",
       "      <td>FT</td>\n",
       "      <td>FS</td>\n",
       "      <td>10.0</td>\n",
       "      <td>2.0</td>\n",
       "      <td>136.0</td>\n",
       "    </tr>\n",
       "    <tr>\n",
       "      <th>8</th>\n",
       "      <td>P009</td>\n",
       "      <td>M</td>\n",
       "      <td>PT</td>\n",
       "      <td>FS</td>\n",
       "      <td>14.0</td>\n",
       "      <td>3.0</td>\n",
       "      <td>60.0</td>\n",
       "    </tr>\n",
       "    <tr>\n",
       "      <th>9</th>\n",
       "      <td>P010</td>\n",
       "      <td>F</td>\n",
       "      <td>FT</td>\n",
       "      <td>DS</td>\n",
       "      <td>NaN</td>\n",
       "      <td>7.0</td>\n",
       "      <td>125.0</td>\n",
       "    </tr>\n",
       "    <tr>\n",
       "      <th>10</th>\n",
       "      <td>P011</td>\n",
       "      <td>M</td>\n",
       "      <td>PT</td>\n",
       "      <td>AWS</td>\n",
       "      <td>6.0</td>\n",
       "      <td>9.0</td>\n",
       "      <td>59.0</td>\n",
       "    </tr>\n",
       "  </tbody>\n",
       "</table>\n",
       "</div>"
      ],
      "text/plain": [
       "      id gender status dept  var1  var2  salary\n",
       "0   P001      M     FT   DS   2.0   8.0   125.0\n",
       "1   P002      F     PT   FS   3.0   NaN    54.0\n",
       "2   P003      M     PT  AWS   5.0   5.0    59.0\n",
       "3   P004      F     FT  AWS   NaN   8.0   120.0\n",
       "4   P005      M     PT   DS   7.0  11.0    58.0\n",
       "5   P006      F     PT   DS   1.0   NaN    75.0\n",
       "6   P007      M     FT   FS   NaN   NaN   136.0\n",
       "7   P008      F     FT   FS  10.0   2.0   136.0\n",
       "8   P009      M     PT   FS  14.0   3.0    60.0\n",
       "9   P010      F     FT   DS   NaN   7.0   125.0\n",
       "10  P011      M     PT  AWS   6.0   9.0    59.0"
      ]
     },
     "execution_count": 577,
     "metadata": {},
     "output_type": "execute_result"
    }
   ],
   "source": [
    "df[\"salary\"].fillna(df.groupby([\"status\",\"dept\"])[\"salary\"].transform(\"mean\"), inplace=True)\n",
    "df"
   ]
  },
  {
   "cell_type": "code",
   "execution_count": null,
   "metadata": {
    "id": "iL9Xw4eE98gP",
    "outputId": "d70562b7-74e1-46b8-a198-3d818ac3c051"
   },
   "outputs": [
    {
     "data": {
      "text/plain": [
       "gender  status\n",
       "F       FT        10.0\n",
       "        PT         2.0\n",
       "M       FT         2.0\n",
       "        PT         8.0\n",
       "Name: var1, dtype: float64"
      ]
     },
     "execution_count": 578,
     "metadata": {},
     "output_type": "execute_result"
    }
   ],
   "source": [
    "df.groupby([\"gender\",\"status\"])[\"var1\"].mean()"
   ]
  },
  {
   "cell_type": "code",
   "execution_count": null,
   "metadata": {
    "id": "-dtSjPv998gP",
    "outputId": "38354e12-e6df-4812-9472-dfa9da8bc5c2"
   },
   "outputs": [
    {
     "data": {
      "text/plain": [
       "0      2.0\n",
       "1      2.0\n",
       "2      8.0\n",
       "3     10.0\n",
       "4      8.0\n",
       "5      2.0\n",
       "6      2.0\n",
       "7     10.0\n",
       "8      8.0\n",
       "9     10.0\n",
       "10     8.0\n",
       "Name: var1, dtype: float64"
      ]
     },
     "execution_count": 579,
     "metadata": {},
     "output_type": "execute_result"
    }
   ],
   "source": [
    "df.groupby([\"gender\",\"status\"])[\"var1\"].transform(\"mean\")"
   ]
  },
  {
   "cell_type": "code",
   "execution_count": null,
   "metadata": {
    "id": "AXsIYT4M98gQ",
    "outputId": "93ad3e48-ef76-43f5-882e-3e1b0d9773bb"
   },
   "outputs": [
    {
     "data": {
      "text/html": [
       "<div>\n",
       "<style scoped>\n",
       "    .dataframe tbody tr th:only-of-type {\n",
       "        vertical-align: middle;\n",
       "    }\n",
       "\n",
       "    .dataframe tbody tr th {\n",
       "        vertical-align: top;\n",
       "    }\n",
       "\n",
       "    .dataframe thead th {\n",
       "        text-align: right;\n",
       "    }\n",
       "</style>\n",
       "<table border=\"1\" class=\"dataframe\">\n",
       "  <thead>\n",
       "    <tr style=\"text-align: right;\">\n",
       "      <th></th>\n",
       "      <th>id</th>\n",
       "      <th>gender</th>\n",
       "      <th>status</th>\n",
       "      <th>dept</th>\n",
       "      <th>var1</th>\n",
       "      <th>var2</th>\n",
       "      <th>salary</th>\n",
       "    </tr>\n",
       "  </thead>\n",
       "  <tbody>\n",
       "    <tr>\n",
       "      <th>0</th>\n",
       "      <td>P001</td>\n",
       "      <td>M</td>\n",
       "      <td>FT</td>\n",
       "      <td>DS</td>\n",
       "      <td>2.0</td>\n",
       "      <td>8.0</td>\n",
       "      <td>125.0</td>\n",
       "    </tr>\n",
       "    <tr>\n",
       "      <th>1</th>\n",
       "      <td>P002</td>\n",
       "      <td>F</td>\n",
       "      <td>PT</td>\n",
       "      <td>FS</td>\n",
       "      <td>3.0</td>\n",
       "      <td>NaN</td>\n",
       "      <td>54.0</td>\n",
       "    </tr>\n",
       "    <tr>\n",
       "      <th>2</th>\n",
       "      <td>P003</td>\n",
       "      <td>M</td>\n",
       "      <td>PT</td>\n",
       "      <td>AWS</td>\n",
       "      <td>5.0</td>\n",
       "      <td>5.0</td>\n",
       "      <td>59.0</td>\n",
       "    </tr>\n",
       "    <tr>\n",
       "      <th>3</th>\n",
       "      <td>P004</td>\n",
       "      <td>F</td>\n",
       "      <td>FT</td>\n",
       "      <td>AWS</td>\n",
       "      <td>10.0</td>\n",
       "      <td>8.0</td>\n",
       "      <td>120.0</td>\n",
       "    </tr>\n",
       "    <tr>\n",
       "      <th>4</th>\n",
       "      <td>P005</td>\n",
       "      <td>M</td>\n",
       "      <td>PT</td>\n",
       "      <td>DS</td>\n",
       "      <td>7.0</td>\n",
       "      <td>11.0</td>\n",
       "      <td>58.0</td>\n",
       "    </tr>\n",
       "    <tr>\n",
       "      <th>5</th>\n",
       "      <td>P006</td>\n",
       "      <td>F</td>\n",
       "      <td>PT</td>\n",
       "      <td>DS</td>\n",
       "      <td>1.0</td>\n",
       "      <td>NaN</td>\n",
       "      <td>75.0</td>\n",
       "    </tr>\n",
       "    <tr>\n",
       "      <th>6</th>\n",
       "      <td>P007</td>\n",
       "      <td>M</td>\n",
       "      <td>FT</td>\n",
       "      <td>FS</td>\n",
       "      <td>2.0</td>\n",
       "      <td>NaN</td>\n",
       "      <td>136.0</td>\n",
       "    </tr>\n",
       "    <tr>\n",
       "      <th>7</th>\n",
       "      <td>P008</td>\n",
       "      <td>F</td>\n",
       "      <td>FT</td>\n",
       "      <td>FS</td>\n",
       "      <td>10.0</td>\n",
       "      <td>2.0</td>\n",
       "      <td>136.0</td>\n",
       "    </tr>\n",
       "    <tr>\n",
       "      <th>8</th>\n",
       "      <td>P009</td>\n",
       "      <td>M</td>\n",
       "      <td>PT</td>\n",
       "      <td>FS</td>\n",
       "      <td>14.0</td>\n",
       "      <td>3.0</td>\n",
       "      <td>60.0</td>\n",
       "    </tr>\n",
       "    <tr>\n",
       "      <th>9</th>\n",
       "      <td>P010</td>\n",
       "      <td>F</td>\n",
       "      <td>FT</td>\n",
       "      <td>DS</td>\n",
       "      <td>10.0</td>\n",
       "      <td>7.0</td>\n",
       "      <td>125.0</td>\n",
       "    </tr>\n",
       "    <tr>\n",
       "      <th>10</th>\n",
       "      <td>P011</td>\n",
       "      <td>M</td>\n",
       "      <td>PT</td>\n",
       "      <td>AWS</td>\n",
       "      <td>6.0</td>\n",
       "      <td>9.0</td>\n",
       "      <td>59.0</td>\n",
       "    </tr>\n",
       "  </tbody>\n",
       "</table>\n",
       "</div>"
      ],
      "text/plain": [
       "      id gender status dept  var1  var2  salary\n",
       "0   P001      M     FT   DS   2.0   8.0   125.0\n",
       "1   P002      F     PT   FS   3.0   NaN    54.0\n",
       "2   P003      M     PT  AWS   5.0   5.0    59.0\n",
       "3   P004      F     FT  AWS  10.0   8.0   120.0\n",
       "4   P005      M     PT   DS   7.0  11.0    58.0\n",
       "5   P006      F     PT   DS   1.0   NaN    75.0\n",
       "6   P007      M     FT   FS   2.0   NaN   136.0\n",
       "7   P008      F     FT   FS  10.0   2.0   136.0\n",
       "8   P009      M     PT   FS  14.0   3.0    60.0\n",
       "9   P010      F     FT   DS  10.0   7.0   125.0\n",
       "10  P011      M     PT  AWS   6.0   9.0    59.0"
      ]
     },
     "execution_count": 580,
     "metadata": {},
     "output_type": "execute_result"
    }
   ],
   "source": [
    "df[\"var1\"].fillna(df.groupby([\"gender\",\"status\"])[\"var1\"].transform(\"mean\"), inplace=True)\n",
    "df"
   ]
  },
  {
   "cell_type": "code",
   "execution_count": null,
   "metadata": {
    "id": "Fx6BySIH98gQ",
    "outputId": "2ed4343c-d5cb-425a-e7b5-80a554fc41fc"
   },
   "outputs": [
    {
     "data": {
      "text/plain": [
       "0      True\n",
       "1     False\n",
       "2     False\n",
       "3     False\n",
       "4     False\n",
       "5     False\n",
       "6      True\n",
       "7     False\n",
       "8     False\n",
       "9     False\n",
       "10    False\n",
       "dtype: bool"
      ]
     },
     "execution_count": 581,
     "metadata": {},
     "output_type": "execute_result"
    }
   ],
   "source": [
    "cond = (df[\"gender\"]==\"M\") & (df[\"status\"]==\"FT\")\n",
    "cond"
   ]
  },
  {
   "cell_type": "code",
   "execution_count": null,
   "metadata": {
    "id": "7y5uXZBZ98gQ",
    "outputId": "c7a4f80d-a54a-4465-fe38-92dcbb7c6f82"
   },
   "outputs": [
    {
     "data": {
      "text/plain": [
       "0    8.0\n",
       "6    NaN\n",
       "Name: var2, dtype: float64"
      ]
     },
     "execution_count": 584,
     "metadata": {},
     "output_type": "execute_result"
    }
   ],
   "source": [
    "df.loc[cond, \"var2\"]"
   ]
  },
  {
   "cell_type": "code",
   "execution_count": null,
   "metadata": {
    "id": "B03k2A3598gR",
    "outputId": "9bb6c5bd-6f67-4f70-a8b8-45ce9cc5f987"
   },
   "outputs": [
    {
     "data": {
      "text/plain": [
       "0    8.0\n",
       "6    8.0\n",
       "Name: var2, dtype: float64"
      ]
     },
     "execution_count": 585,
     "metadata": {},
     "output_type": "execute_result"
    }
   ],
   "source": [
    "df.loc[cond, \"var2\"].fillna(df.loc[cond, \"var2\"].mode()[0])"
   ]
  },
  {
   "cell_type": "code",
   "execution_count": null,
   "metadata": {
    "id": "FGYJWcDf98gR"
   },
   "outputs": [],
   "source": [
    "df[\"var2\"].fillna(df.groupby([\"status\"])[\"var2\"].transform(\"mean\"), inplace = True)"
   ]
  },
  {
   "cell_type": "code",
   "execution_count": null,
   "metadata": {
    "id": "Cg4VW0V598gR",
    "outputId": "fbff6ed8-0443-41b7-9d7e-953c1d8b0b52"
   },
   "outputs": [
    {
     "data": {
      "text/html": [
       "<div>\n",
       "<style scoped>\n",
       "    .dataframe tbody tr th:only-of-type {\n",
       "        vertical-align: middle;\n",
       "    }\n",
       "\n",
       "    .dataframe tbody tr th {\n",
       "        vertical-align: top;\n",
       "    }\n",
       "\n",
       "    .dataframe thead th {\n",
       "        text-align: right;\n",
       "    }\n",
       "</style>\n",
       "<table border=\"1\" class=\"dataframe\">\n",
       "  <thead>\n",
       "    <tr style=\"text-align: right;\">\n",
       "      <th></th>\n",
       "      <th>id</th>\n",
       "      <th>gender</th>\n",
       "      <th>status</th>\n",
       "      <th>dept</th>\n",
       "      <th>var1</th>\n",
       "      <th>var2</th>\n",
       "      <th>salary</th>\n",
       "    </tr>\n",
       "  </thead>\n",
       "  <tbody>\n",
       "    <tr>\n",
       "      <th>0</th>\n",
       "      <td>P001</td>\n",
       "      <td>M</td>\n",
       "      <td>FT</td>\n",
       "      <td>DS</td>\n",
       "      <td>2.0</td>\n",
       "      <td>8.00</td>\n",
       "      <td>125.0</td>\n",
       "    </tr>\n",
       "    <tr>\n",
       "      <th>1</th>\n",
       "      <td>P002</td>\n",
       "      <td>F</td>\n",
       "      <td>PT</td>\n",
       "      <td>FS</td>\n",
       "      <td>3.0</td>\n",
       "      <td>7.00</td>\n",
       "      <td>54.0</td>\n",
       "    </tr>\n",
       "    <tr>\n",
       "      <th>2</th>\n",
       "      <td>P003</td>\n",
       "      <td>M</td>\n",
       "      <td>PT</td>\n",
       "      <td>AWS</td>\n",
       "      <td>5.0</td>\n",
       "      <td>5.00</td>\n",
       "      <td>59.0</td>\n",
       "    </tr>\n",
       "    <tr>\n",
       "      <th>3</th>\n",
       "      <td>P004</td>\n",
       "      <td>F</td>\n",
       "      <td>FT</td>\n",
       "      <td>AWS</td>\n",
       "      <td>10.0</td>\n",
       "      <td>8.00</td>\n",
       "      <td>120.0</td>\n",
       "    </tr>\n",
       "    <tr>\n",
       "      <th>4</th>\n",
       "      <td>P005</td>\n",
       "      <td>M</td>\n",
       "      <td>PT</td>\n",
       "      <td>DS</td>\n",
       "      <td>7.0</td>\n",
       "      <td>11.00</td>\n",
       "      <td>58.0</td>\n",
       "    </tr>\n",
       "    <tr>\n",
       "      <th>5</th>\n",
       "      <td>P006</td>\n",
       "      <td>F</td>\n",
       "      <td>PT</td>\n",
       "      <td>DS</td>\n",
       "      <td>1.0</td>\n",
       "      <td>7.00</td>\n",
       "      <td>75.0</td>\n",
       "    </tr>\n",
       "    <tr>\n",
       "      <th>6</th>\n",
       "      <td>P007</td>\n",
       "      <td>M</td>\n",
       "      <td>FT</td>\n",
       "      <td>FS</td>\n",
       "      <td>2.0</td>\n",
       "      <td>6.25</td>\n",
       "      <td>136.0</td>\n",
       "    </tr>\n",
       "    <tr>\n",
       "      <th>7</th>\n",
       "      <td>P008</td>\n",
       "      <td>F</td>\n",
       "      <td>FT</td>\n",
       "      <td>FS</td>\n",
       "      <td>10.0</td>\n",
       "      <td>2.00</td>\n",
       "      <td>136.0</td>\n",
       "    </tr>\n",
       "    <tr>\n",
       "      <th>8</th>\n",
       "      <td>P009</td>\n",
       "      <td>M</td>\n",
       "      <td>PT</td>\n",
       "      <td>FS</td>\n",
       "      <td>14.0</td>\n",
       "      <td>3.00</td>\n",
       "      <td>60.0</td>\n",
       "    </tr>\n",
       "    <tr>\n",
       "      <th>9</th>\n",
       "      <td>P010</td>\n",
       "      <td>F</td>\n",
       "      <td>FT</td>\n",
       "      <td>DS</td>\n",
       "      <td>10.0</td>\n",
       "      <td>7.00</td>\n",
       "      <td>125.0</td>\n",
       "    </tr>\n",
       "    <tr>\n",
       "      <th>10</th>\n",
       "      <td>P011</td>\n",
       "      <td>M</td>\n",
       "      <td>PT</td>\n",
       "      <td>AWS</td>\n",
       "      <td>6.0</td>\n",
       "      <td>9.00</td>\n",
       "      <td>59.0</td>\n",
       "    </tr>\n",
       "  </tbody>\n",
       "</table>\n",
       "</div>"
      ],
      "text/plain": [
       "      id gender status dept  var1   var2  salary\n",
       "0   P001      M     FT   DS   2.0   8.00   125.0\n",
       "1   P002      F     PT   FS   3.0   7.00    54.0\n",
       "2   P003      M     PT  AWS   5.0   5.00    59.0\n",
       "3   P004      F     FT  AWS  10.0   8.00   120.0\n",
       "4   P005      M     PT   DS   7.0  11.00    58.0\n",
       "5   P006      F     PT   DS   1.0   7.00    75.0\n",
       "6   P007      M     FT   FS   2.0   6.25   136.0\n",
       "7   P008      F     FT   FS  10.0   2.00   136.0\n",
       "8   P009      M     PT   FS  14.0   3.00    60.0\n",
       "9   P010      F     FT   DS  10.0   7.00   125.0\n",
       "10  P011      M     PT  AWS   6.0   9.00    59.0"
      ]
     },
     "execution_count": 587,
     "metadata": {},
     "output_type": "execute_result"
    }
   ],
   "source": [
    "df"
   ]
  },
  {
   "cell_type": "markdown",
   "metadata": {},
   "source": [
    "# Flights Dataset"
   ]
  },
  {
   "cell_type": "markdown",
   "metadata": {
    "id": "zorkPfI398gR"
   },
   "source": [
    "### Füllen mit Interpolation"
   ]
  },
  {
   "cell_type": "code",
   "execution_count": 607,
   "metadata": {
    "id": "di5dNmNt98gS"
   },
   "outputs": [],
   "source": [
    "flights = sns.load_dataset(\"flights\")"
   ]
  },
  {
   "cell_type": "code",
   "execution_count": 608,
   "metadata": {
    "id": "PMhXKj7f98gS",
    "outputId": "143cecd8-1da4-4139-d6fb-0fa9c0bb0e82"
   },
   "outputs": [
    {
     "data": {
      "text/html": [
       "<div>\n",
       "<style scoped>\n",
       "    .dataframe tbody tr th:only-of-type {\n",
       "        vertical-align: middle;\n",
       "    }\n",
       "\n",
       "    .dataframe tbody tr th {\n",
       "        vertical-align: top;\n",
       "    }\n",
       "\n",
       "    .dataframe thead th {\n",
       "        text-align: right;\n",
       "    }\n",
       "</style>\n",
       "<table border=\"1\" class=\"dataframe\">\n",
       "  <thead>\n",
       "    <tr style=\"text-align: right;\">\n",
       "      <th></th>\n",
       "      <th>year</th>\n",
       "      <th>month</th>\n",
       "      <th>passengers</th>\n",
       "    </tr>\n",
       "  </thead>\n",
       "  <tbody>\n",
       "    <tr>\n",
       "      <th>0</th>\n",
       "      <td>1949</td>\n",
       "      <td>Jan</td>\n",
       "      <td>112</td>\n",
       "    </tr>\n",
       "    <tr>\n",
       "      <th>1</th>\n",
       "      <td>1949</td>\n",
       "      <td>Feb</td>\n",
       "      <td>118</td>\n",
       "    </tr>\n",
       "    <tr>\n",
       "      <th>2</th>\n",
       "      <td>1949</td>\n",
       "      <td>Mar</td>\n",
       "      <td>132</td>\n",
       "    </tr>\n",
       "    <tr>\n",
       "      <th>3</th>\n",
       "      <td>1949</td>\n",
       "      <td>Apr</td>\n",
       "      <td>129</td>\n",
       "    </tr>\n",
       "    <tr>\n",
       "      <th>4</th>\n",
       "      <td>1949</td>\n",
       "      <td>May</td>\n",
       "      <td>121</td>\n",
       "    </tr>\n",
       "    <tr>\n",
       "      <th>...</th>\n",
       "      <td>...</td>\n",
       "      <td>...</td>\n",
       "      <td>...</td>\n",
       "    </tr>\n",
       "    <tr>\n",
       "      <th>139</th>\n",
       "      <td>1960</td>\n",
       "      <td>Aug</td>\n",
       "      <td>606</td>\n",
       "    </tr>\n",
       "    <tr>\n",
       "      <th>140</th>\n",
       "      <td>1960</td>\n",
       "      <td>Sep</td>\n",
       "      <td>508</td>\n",
       "    </tr>\n",
       "    <tr>\n",
       "      <th>141</th>\n",
       "      <td>1960</td>\n",
       "      <td>Oct</td>\n",
       "      <td>461</td>\n",
       "    </tr>\n",
       "    <tr>\n",
       "      <th>142</th>\n",
       "      <td>1960</td>\n",
       "      <td>Nov</td>\n",
       "      <td>390</td>\n",
       "    </tr>\n",
       "    <tr>\n",
       "      <th>143</th>\n",
       "      <td>1960</td>\n",
       "      <td>Dec</td>\n",
       "      <td>432</td>\n",
       "    </tr>\n",
       "  </tbody>\n",
       "</table>\n",
       "<p>144 rows × 3 columns</p>\n",
       "</div>"
      ],
      "text/plain": [
       "     year month  passengers\n",
       "0    1949   Jan         112\n",
       "1    1949   Feb         118\n",
       "2    1949   Mar         132\n",
       "3    1949   Apr         129\n",
       "4    1949   May         121\n",
       "..    ...   ...         ...\n",
       "139  1960   Aug         606\n",
       "140  1960   Sep         508\n",
       "141  1960   Oct         461\n",
       "142  1960   Nov         390\n",
       "143  1960   Dec         432\n",
       "\n",
       "[144 rows x 3 columns]"
      ]
     },
     "execution_count": 608,
     "metadata": {},
     "output_type": "execute_result"
    }
   ],
   "source": [
    "flights"
   ]
  },
  {
   "cell_type": "code",
   "execution_count": 609,
   "metadata": {
    "id": "iRqQJ6ZO98gS",
    "outputId": "7cad7d5e-fd10-483e-f80d-381aaecf458c"
   },
   "outputs": [
    {
     "data": {
      "text/plain": [
       "year          0\n",
       "month         0\n",
       "passengers    0\n",
       "dtype: int64"
      ]
     },
     "execution_count": 609,
     "metadata": {},
     "output_type": "execute_result"
    }
   ],
   "source": [
    "flights.isnull().sum()"
   ]
  },
  {
   "cell_type": "code",
   "execution_count": 610,
   "metadata": {
    "id": "SRkQS61D98gT",
    "outputId": "0ed6192e-c14d-4ecf-ca47-afafa0d5549a"
   },
   "outputs": [
    {
     "data": {
      "text/plain": [
       "<AxesSubplot:>"
      ]
     },
     "execution_count": 610,
     "metadata": {},
     "output_type": "execute_result"
    },
    {
     "data": {
      "image/png": "[encoded data removed]",
      "text/plain": [
       "<Figure size 432x288 with 1 Axes>"
      ]
     },
     "metadata": {
      "needs_background": "light"
     },
     "output_type": "display_data"
    }
   ],
   "source": [
    "flights.passengers.plot()"
   ]
  },
  {
   "cell_type": "code",
   "execution_count": 611,
   "metadata": {
    "id": "QQvDDNRa98gT"
   },
   "outputs": [],
   "source": [
    "flights.loc[np.random.randint(0, 144, 20),\"passengers\"] = None"
   ]
  },
  {
   "cell_type": "code",
   "execution_count": 612,
   "metadata": {
    "id": "KnbUdZj198gT",
    "outputId": "bdcd717f-037d-4b18-bd87-c5b7e9f7dcf2"
   },
   "outputs": [
    {
     "data": {
      "text/plain": [
       "year           0\n",
       "month          0\n",
       "passengers    20\n",
       "dtype: int64"
      ]
     },
     "execution_count": 612,
     "metadata": {},
     "output_type": "execute_result"
    }
   ],
   "source": [
    "flights.isnull().sum()"
   ]
  },
  {
   "cell_type": "code",
   "execution_count": 605,
   "metadata": {
    "id": "SY2j_Foz98gT",
    "outputId": "a94bc6fe-ed55-4485-c618-2365e4d61da3"
   },
   "outputs": [
    {
     "data": {
      "text/plain": [
       "<AxesSubplot:>"
      ]
     },
     "execution_count": 605,
     "metadata": {},
     "output_type": "execute_result"
    },
    {
     "data": {
      "image/png": "[encoded data removed]",
      "text/plain": [
       "<Figure size 432x288 with 1 Axes>"
      ]
     },
     "metadata": {
      "needs_background": "light"
     },
     "output_type": "display_data"
    }
   ],
   "source": [
    "flights.passengers.plot()"
   ]
  },
  {
   "cell_type": "code",
   "execution_count": 606,
   "metadata": {
    "id": "L8mLfMjp98gU",
    "outputId": "4524391f-7ad8-4de3-a3e1-a5031e7681f4"
   },
   "outputs": [
    {
     "data": {
      "text/plain": [
       "<AxesSubplot:>"
      ]
     },
     "execution_count": 606,
     "metadata": {},
     "output_type": "execute_result"
    },
    {
     "data": {
      "image/png": "[encoded data removed]",
      "text/plain": [
       "<Figure size 432x288 with 1 Axes>"
      ]
     },
     "metadata": {
      "needs_background": "light"
     },
     "output_type": "display_data"
    }
   ],
   "source": [
    "flights[\"passengers\"].interpolate().plot(kind=\"line\")"
   ]
  },
  {
   "cell_type": "code",
   "execution_count": 607,
   "metadata": {
    "id": "bem3miF398gU",
    "outputId": "6d2bfa1b-18ce-4d3c-a269-8a1248c20bc9"
   },
   "outputs": [
    {
     "data": {
      "text/plain": [
       "<AxesSubplot:>"
      ]
     },
     "execution_count": 607,
     "metadata": {},
     "output_type": "execute_result"
    },
    {
     "data": {
      "image/png": "[encoded data removed]",
      "text/plain": [
       "<Figure size 432x288 with 1 Axes>"
      ]
     },
     "metadata": {
      "needs_background": "light"
     },
     "output_type": "display_data"
    }
   ],
   "source": [
    "flights[\"passengers\"].fillna(method = \"ffill\").plot(kind=\"line\")"
   ]
  },
  {
   "cell_type": "markdown",
   "metadata": {
    "id": "9epCaloEDyzz"
   },
   "source": [
    "## Umgang mit Ausreißern"
   ]
  },
  {
   "cell_type": "markdown",
   "metadata": {
    "id": "XcFDXSrZPR9p"
   },
   "source": [
    "- Ausreißer sind ungewöhnliche Werte in Ihrem Datensatz und können statistische Analysen verzerren und ihre Annahmen verletzen. \n",
    "- Ausreißer erhöhen die Variabilität Ihrer Daten, was die statistische Aussagekraft verringert. Folglich kann das Ausschließen von Ausreißern dazu führen, dass Ihre Ergebnisse statistisch signifikant werden. \n",
    "- Ausreißer können einen unverhältnismäßigen Einfluss auf statistische Ergebnisse haben, wie z. B. den Mittelwert, was zu irreführenden Interpretationen führen kann. In diesem Fall lässt der Mittelwert den Eindruck erwecken, dass die Datenwerte höher sind, als sie tatsächlich sind."
   ]
  },
  {
   "cell_type": "markdown",
   "metadata": {
    "id": "t4a64Hsr98gW"
   },
   "source": [
    "### Ursachen für Ausreißer\n",
    "- Fehler bei der Dateneingabe\n",
    "- ErsteMessfehler oder Instrumentenfehler\n",
    "- Stichprobenfehler\n",
    "- Datenverarbeitungsfehler\n",
    "- Natürliche Neuheiten in Daten"
   ]
  },
  {
   "cell_type": "markdown",
   "metadata": {
    "id": "l8c99aJ798gW"
   },
   "source": [
    "### Richtlinie zum Umgang mit Ausreißern\n",
    "\n",
    "- Ein Messfehler oder Dateneingabefehler, korrigieren Sie den Fehler wenn möglich. Wenn Sie es nicht beheben können, entfernen Sie diese Beobachtung, weil Sie wissen, dass es falsch ist.\n",
    "- Kein Teil der Population, die Sie untersuchen (d. h. ungewöhnliche Eigenschaften oder Bedingungen), Sie können den Ausreißer rechtmäßig entfernen.\n",
    "- Einen natürlichen Teil der Bevölkerung, den Sie untersuchen, sollten Sie nicht entfernen."
   ]
  },
  {
   "cell_type": "markdown",
   "metadata": {
    "id": "-ubsHXY6Dyzz"
   },
   "source": [
    "## Fangen und Erkennen von Ausreißern"
   ]
  },
  {
   "cell_type": "code",
   "execution_count": 608,
   "metadata": {
    "id": "3OOBIidWDyz0",
    "outputId": "f2529d03-9fbe-4a3e-9090-57c5aa1c8368"
   },
   "outputs": [
    {
     "data": {
      "text/html": [
       "<div>\n",
       "<style scoped>\n",
       "    .dataframe tbody tr th:only-of-type {\n",
       "        vertical-align: middle;\n",
       "    }\n",
       "\n",
       "    .dataframe tbody tr th {\n",
       "        vertical-align: top;\n",
       "    }\n",
       "\n",
       "    .dataframe thead th {\n",
       "        text-align: right;\n",
       "    }\n",
       "</style>\n",
       "<table border=\"1\" class=\"dataframe\">\n",
       "  <thead>\n",
       "    <tr style=\"text-align: right;\">\n",
       "      <th></th>\n",
       "      <th>carat</th>\n",
       "      <th>depth</th>\n",
       "      <th>table</th>\n",
       "      <th>price</th>\n",
       "      <th>x</th>\n",
       "      <th>y</th>\n",
       "      <th>z</th>\n",
       "    </tr>\n",
       "  </thead>\n",
       "  <tbody>\n",
       "    <tr>\n",
       "      <th>0</th>\n",
       "      <td>0.23</td>\n",
       "      <td>61.5</td>\n",
       "      <td>55.0</td>\n",
       "      <td>326</td>\n",
       "      <td>3.95</td>\n",
       "      <td>3.98</td>\n",
       "      <td>2.43</td>\n",
       "    </tr>\n",
       "    <tr>\n",
       "      <th>1</th>\n",
       "      <td>0.21</td>\n",
       "      <td>59.8</td>\n",
       "      <td>61.0</td>\n",
       "      <td>326</td>\n",
       "      <td>3.89</td>\n",
       "      <td>3.84</td>\n",
       "      <td>2.31</td>\n",
       "    </tr>\n",
       "    <tr>\n",
       "      <th>2</th>\n",
       "      <td>0.23</td>\n",
       "      <td>56.9</td>\n",
       "      <td>65.0</td>\n",
       "      <td>327</td>\n",
       "      <td>4.05</td>\n",
       "      <td>4.07</td>\n",
       "      <td>2.31</td>\n",
       "    </tr>\n",
       "    <tr>\n",
       "      <th>3</th>\n",
       "      <td>0.29</td>\n",
       "      <td>62.4</td>\n",
       "      <td>58.0</td>\n",
       "      <td>334</td>\n",
       "      <td>4.20</td>\n",
       "      <td>4.23</td>\n",
       "      <td>2.63</td>\n",
       "    </tr>\n",
       "    <tr>\n",
       "      <th>4</th>\n",
       "      <td>0.31</td>\n",
       "      <td>63.3</td>\n",
       "      <td>58.0</td>\n",
       "      <td>335</td>\n",
       "      <td>4.34</td>\n",
       "      <td>4.35</td>\n",
       "      <td>2.75</td>\n",
       "    </tr>\n",
       "    <tr>\n",
       "      <th>...</th>\n",
       "      <td>...</td>\n",
       "      <td>...</td>\n",
       "      <td>...</td>\n",
       "      <td>...</td>\n",
       "      <td>...</td>\n",
       "      <td>...</td>\n",
       "      <td>...</td>\n",
       "    </tr>\n",
       "    <tr>\n",
       "      <th>53935</th>\n",
       "      <td>0.72</td>\n",
       "      <td>60.8</td>\n",
       "      <td>57.0</td>\n",
       "      <td>2757</td>\n",
       "      <td>5.75</td>\n",
       "      <td>5.76</td>\n",
       "      <td>3.50</td>\n",
       "    </tr>\n",
       "    <tr>\n",
       "      <th>53936</th>\n",
       "      <td>0.72</td>\n",
       "      <td>63.1</td>\n",
       "      <td>55.0</td>\n",
       "      <td>2757</td>\n",
       "      <td>5.69</td>\n",
       "      <td>5.75</td>\n",
       "      <td>3.61</td>\n",
       "    </tr>\n",
       "    <tr>\n",
       "      <th>53937</th>\n",
       "      <td>0.70</td>\n",
       "      <td>62.8</td>\n",
       "      <td>60.0</td>\n",
       "      <td>2757</td>\n",
       "      <td>5.66</td>\n",
       "      <td>5.68</td>\n",
       "      <td>3.56</td>\n",
       "    </tr>\n",
       "    <tr>\n",
       "      <th>53938</th>\n",
       "      <td>0.86</td>\n",
       "      <td>61.0</td>\n",
       "      <td>58.0</td>\n",
       "      <td>2757</td>\n",
       "      <td>6.15</td>\n",
       "      <td>6.12</td>\n",
       "      <td>3.74</td>\n",
       "    </tr>\n",
       "    <tr>\n",
       "      <th>53939</th>\n",
       "      <td>0.75</td>\n",
       "      <td>62.2</td>\n",
       "      <td>55.0</td>\n",
       "      <td>2757</td>\n",
       "      <td>5.83</td>\n",
       "      <td>5.87</td>\n",
       "      <td>3.64</td>\n",
       "    </tr>\n",
       "  </tbody>\n",
       "</table>\n",
       "<p>53940 rows × 7 columns</p>\n",
       "</div>"
      ],
      "text/plain": [
       "       carat  depth  table  price     x     y     z\n",
       "0       0.23   61.5   55.0    326  3.95  3.98  2.43\n",
       "1       0.21   59.8   61.0    326  3.89  3.84  2.31\n",
       "2       0.23   56.9   65.0    327  4.05  4.07  2.31\n",
       "3       0.29   62.4   58.0    334  4.20  4.23  2.63\n",
       "4       0.31   63.3   58.0    335  4.34  4.35  2.75\n",
       "...      ...    ...    ...    ...   ...   ...   ...\n",
       "53935   0.72   60.8   57.0   2757  5.75  5.76  3.50\n",
       "53936   0.72   63.1   55.0   2757  5.69  5.75  3.61\n",
       "53937   0.70   62.8   60.0   2757  5.66  5.68  3.56\n",
       "53938   0.86   61.0   58.0   2757  6.15  6.12  3.74\n",
       "53939   0.75   62.2   55.0   2757  5.83  5.87  3.64\n",
       "\n",
       "[53940 rows x 7 columns]"
      ]
     },
     "execution_count": 608,
     "metadata": {},
     "output_type": "execute_result"
    }
   ],
   "source": [
    "import seaborn as sns\n",
    "df = sns.load_dataset('diamonds')\n",
    "df = df.select_dtypes(include = ['float64', 'int64']) \n",
    "df = df.dropna()\n",
    "df"
   ]
  },
  {
   "cell_type": "markdown",
   "metadata": {
    "id": "EvAZmhR498gX"
   },
   "source": [
    "### Grafiken"
   ]
  },
  {
   "cell_type": "code",
   "execution_count": 611,
   "metadata": {
    "id": "CzSh-wArDyz0",
    "outputId": "9dfea5e1-dc70-41c6-f95f-331bc453b2dc"
   },
   "outputs": [
    {
     "data": {
      "image/png": "[encoded data removed]",
      "text/plain": [
       "<Figure size 432x288 with 1 Axes>"
      ]
     },
     "metadata": {
      "needs_background": "light"
     },
     "output_type": "display_data"
    }
   ],
   "source": [
    "# Sie müssen nicht wissen, wie dieses Plotten passiert.\n",
    "# Konzentrieren sich nur auf Quartale.\n",
    "# Erinneren sich an die Statistikstunde IQR.\n",
    "sns.boxplot(x=df.table);"
   ]
  },
  {
   "cell_type": "code",
   "execution_count": 612,
   "metadata": {
    "id": "RuObjRNJ98gY",
    "outputId": "7a64e583-26df-4404-f147-22c6bf132844"
   },
   "outputs": [
    {
     "data": {
      "text/plain": [
       "<seaborn.axisgrid.FacetGrid at 0x1fb03687588>"
      ]
     },
     "execution_count": 612,
     "metadata": {},
     "output_type": "execute_result"
    },
    {
     "data": {
      "image/png": "[encoded data removed]",
      "text/plain": [
       "<Figure size 360x360 with 1 Axes>"
      ]
     },
     "metadata": {
      "needs_background": "light"
     },
     "output_type": "display_data"
    }
   ],
   "source": [
    "sns.displot(df.table, bins=10, kde=False)"
   ]
  },
  {
   "cell_type": "code",
   "execution_count": 613,
   "metadata": {
    "id": "OQcJWm_IDyz0",
    "outputId": "ea550d7e-a1bf-4a2f-9065-987bee0f4799"
   },
   "outputs": [
    {
     "data": {
      "text/plain": [
       "0        55.0\n",
       "1        61.0\n",
       "2        65.0\n",
       "3        58.0\n",
       "4        58.0\n",
       "         ... \n",
       "53935    57.0\n",
       "53936    55.0\n",
       "53937    60.0\n",
       "53938    58.0\n",
       "53939    55.0\n",
       "Name: table, Length: 53940, dtype: float64"
      ]
     },
     "execution_count": 613,
     "metadata": {},
     "output_type": "execute_result"
    }
   ],
   "source": [
    "df[\"table\"]"
   ]
  },
  {
   "cell_type": "markdown",
   "metadata": {
    "id": "NCFNsZEVDyz1"
   },
   "source": [
    "### Tukey's Fences | Tukey's Rule"
   ]
  },
  {
   "cell_type": "markdown",
   "metadata": {
    "id": "6MZF6L2HDyz1"
   },
   "source": [
    "- Die erste Möglichkeit, Q1 und Q3 anzugeben, ist die Verwendung der Methode ``.quantile()``"
   ]
  },
  {
   "cell_type": "code",
   "execution_count": 614,
   "metadata": {
    "id": "7KYjMMWmDyz1"
   },
   "outputs": [],
   "source": [
    "Q1 = df[\"table\"].quantile(0.25)\n",
    "Q3 = df[\"table\"].quantile(0.75)\n",
    "IQR = Q3-Q1"
   ]
  },
  {
   "cell_type": "code",
   "execution_count": 615,
   "metadata": {
    "id": "5mPep7sBDyz1",
    "outputId": "b7304132-be74-4d65-91e0-ae1795d06230"
   },
   "outputs": [
    {
     "data": {
      "text/plain": [
       "56.0"
      ]
     },
     "execution_count": 615,
     "metadata": {},
     "output_type": "execute_result"
    }
   ],
   "source": [
    "Q1"
   ]
  },
  {
   "cell_type": "code",
   "execution_count": 616,
   "metadata": {
    "id": "jDzjq7aLDyz1",
    "outputId": "8fd7a404-f36b-4fe7-cc98-c35c63394bd8"
   },
   "outputs": [
    {
     "data": {
      "text/plain": [
       "59.0"
      ]
     },
     "execution_count": 616,
     "metadata": {},
     "output_type": "execute_result"
    }
   ],
   "source": [
    "Q3"
   ]
  },
  {
   "cell_type": "code",
   "execution_count": 617,
   "metadata": {
    "id": "jAEx9SCEDyz1",
    "outputId": "86bd153e-a7aa-480b-9753-21f34b2bec87"
   },
   "outputs": [
    {
     "data": {
      "text/plain": [
       "3.0"
      ]
     },
     "execution_count": 617,
     "metadata": {},
     "output_type": "execute_result"
    }
   ],
   "source": [
    "IQR"
   ]
  },
  {
   "cell_type": "markdown",
   "metadata": {
    "id": "WUIlcKQNDyz2"
   },
   "source": [
    "- Die zweite Möglichkeit, Q1 und Q3 anzugeben, ist die Verwendung der Methode .describe()"
   ]
  },
  {
   "cell_type": "code",
   "execution_count": 618,
   "metadata": {
    "id": "UV1SypysDyz2",
    "outputId": "77086cac-f7d3-4876-bea1-d0acc49a6041"
   },
   "outputs": [
    {
     "data": {
      "text/plain": [
       "count    53940.000000\n",
       "mean        57.457184\n",
       "std          2.234491\n",
       "min         43.000000\n",
       "25%         56.000000\n",
       "50%         57.000000\n",
       "75%         59.000000\n",
       "max         95.000000\n",
       "Name: table, dtype: float64"
      ]
     },
     "execution_count": 618,
     "metadata": {},
     "output_type": "execute_result"
    }
   ],
   "source": [
    "df.table.describe()"
   ]
  },
  {
   "cell_type": "code",
   "execution_count": 620,
   "metadata": {
    "id": "wxI3qeX4Dyz2"
   },
   "outputs": [],
   "source": [
    "lower_lim = Q1 - 1.5 * IQR\n",
    "upper_lim = Q3 + 1.5 * IQR"
   ]
  },
  {
   "cell_type": "code",
   "execution_count": 621,
   "metadata": {
    "id": "QsYKeNZLDyz2",
    "outputId": "8147c22f-1645-48ef-8f8d-2714822d5ebf"
   },
   "outputs": [
    {
     "data": {
      "text/plain": [
       "51.5"
      ]
     },
     "execution_count": 621,
     "metadata": {},
     "output_type": "execute_result"
    }
   ],
   "source": [
    "lower_lim"
   ]
  },
  {
   "cell_type": "code",
   "execution_count": 622,
   "metadata": {
    "id": "cUHLQa-CDyz2",
    "outputId": "a141dca7-1216-4316-cf18-26a423cdb6a3"
   },
   "outputs": [
    {
     "data": {
      "text/plain": [
       "63.5"
      ]
     },
     "execution_count": 622,
     "metadata": {},
     "output_type": "execute_result"
    }
   ],
   "source": [
    "upper_lim"
   ]
  },
  {
   "cell_type": "code",
   "execution_count": 623,
   "metadata": {
    "id": "QpwcZ0joDyz2",
    "outputId": "909630fa-70a1-49ab-91ef-7a1060bf8028"
   },
   "outputs": [
    {
     "data": {
      "text/plain": [
       "False    53924\n",
       "True        16\n",
       "Name: table, dtype: int64"
      ]
     },
     "execution_count": 623,
     "metadata": {},
     "output_type": "execute_result"
    }
   ],
   "source": [
    "(df.table < lower_lim).value_counts()"
   ]
  },
  {
   "cell_type": "code",
   "execution_count": 624,
   "metadata": {
    "id": "zAypuSHEDyz3",
    "outputId": "2b3b2060-cf50-4042-99c2-570463119622"
   },
   "outputs": [
    {
     "data": {
      "text/plain": [
       "False    53351\n",
       "True       589\n",
       "Name: table, dtype: int64"
      ]
     },
     "execution_count": 624,
     "metadata": {},
     "output_type": "execute_result"
    }
   ],
   "source": [
    "(df.table > upper_lim).value_counts()"
   ]
  },
  {
   "cell_type": "code",
   "execution_count": 625,
   "metadata": {
    "id": "i1S6E8ks98gh",
    "outputId": "8671f693-bbb0-4490-9bff-bb6d200fdb7c"
   },
   "outputs": [
    {
     "data": {
      "text/plain": [
       "605"
      ]
     },
     "execution_count": 625,
     "metadata": {},
     "output_type": "execute_result"
    }
   ],
   "source": [
    "df.table[(df.table < lower_lim) | (df.table > upper_lim)].count()"
   ]
  },
  {
   "cell_type": "code",
   "execution_count": 626,
   "metadata": {
    "id": "Y15pPc7h98gh",
    "outputId": "b7f85f78-6929-4ba0-d864-defb846f20b3"
   },
   "outputs": [
    {
     "data": {
      "text/plain": [
       "53335"
      ]
     },
     "execution_count": 626,
     "metadata": {},
     "output_type": "execute_result"
    }
   ],
   "source": [
    "df.table[~((df.table < lower_lim) | (df.table > upper_lim))].count()"
   ]
  },
  {
   "cell_type": "code",
   "execution_count": 627,
   "metadata": {
    "id": "RzL5NdWH98gh",
    "outputId": "2b266ee2-a4d9-4477-afcf-7cfed7ad81e5"
   },
   "outputs": [
    {
     "data": {
      "text/plain": [
       "53335"
      ]
     },
     "execution_count": 627,
     "metadata": {},
     "output_type": "execute_result"
    }
   ],
   "source": [
    "df.table[(df.table >= lower_lim) & (df.table <= upper_lim)].count()"
   ]
  },
  {
   "cell_type": "markdown",
   "metadata": {
    "id": "fPd52z_j98gh"
   },
   "source": [
    "## Entfernen der Ausreißer"
   ]
  },
  {
   "cell_type": "code",
   "execution_count": 628,
   "metadata": {
    "id": "5DEN6sLq98gi"
   },
   "outputs": [],
   "source": [
    "not_outliers = (df.table >= lower_lim) & (df.table <= upper_lim)"
   ]
  },
  {
   "cell_type": "code",
   "execution_count": 629,
   "metadata": {
    "id": "tNxjfRfk98gi",
    "outputId": "62c4c282-adb3-4c28-e580-c076a9be3ab9"
   },
   "outputs": [
    {
     "data": {
      "text/plain": [
       "53335"
      ]
     },
     "execution_count": 629,
     "metadata": {},
     "output_type": "execute_result"
    }
   ],
   "source": [
    "df.table[not_outliers].count()"
   ]
  },
  {
   "cell_type": "code",
   "execution_count": 630,
   "metadata": {
    "id": "G_CggGnV98gi",
    "outputId": "f5496309-bfa9-4471-fb0d-f208be314441"
   },
   "outputs": [
    {
     "data": {
      "text/plain": [
       "53335"
      ]
     },
     "execution_count": 630,
     "metadata": {},
     "output_type": "execute_result"
    }
   ],
   "source": [
    "len(df[not_outliers])"
   ]
  },
  {
   "cell_type": "code",
   "execution_count": 631,
   "metadata": {
    "id": "teu7LpN098gi"
   },
   "outputs": [],
   "source": [
    "cleaned_df = df[not_outliers]"
   ]
  },
  {
   "cell_type": "code",
   "execution_count": 632,
   "metadata": {
    "id": "QCq_Gj5S98gj",
    "outputId": "b44b633f-c90c-453f-cabf-34b23549baad"
   },
   "outputs": [
    {
     "data": {
      "text/html": [
       "<div>\n",
       "<style scoped>\n",
       "    .dataframe tbody tr th:only-of-type {\n",
       "        vertical-align: middle;\n",
       "    }\n",
       "\n",
       "    .dataframe tbody tr th {\n",
       "        vertical-align: top;\n",
       "    }\n",
       "\n",
       "    .dataframe thead th {\n",
       "        text-align: right;\n",
       "    }\n",
       "</style>\n",
       "<table border=\"1\" class=\"dataframe\">\n",
       "  <thead>\n",
       "    <tr style=\"text-align: right;\">\n",
       "      <th></th>\n",
       "      <th>carat</th>\n",
       "      <th>depth</th>\n",
       "      <th>table</th>\n",
       "      <th>price</th>\n",
       "      <th>x</th>\n",
       "      <th>y</th>\n",
       "      <th>z</th>\n",
       "    </tr>\n",
       "  </thead>\n",
       "  <tbody>\n",
       "    <tr>\n",
       "      <th>0</th>\n",
       "      <td>0.23</td>\n",
       "      <td>61.5</td>\n",
       "      <td>55.0</td>\n",
       "      <td>326</td>\n",
       "      <td>3.95</td>\n",
       "      <td>3.98</td>\n",
       "      <td>2.43</td>\n",
       "    </tr>\n",
       "    <tr>\n",
       "      <th>1</th>\n",
       "      <td>0.21</td>\n",
       "      <td>59.8</td>\n",
       "      <td>61.0</td>\n",
       "      <td>326</td>\n",
       "      <td>3.89</td>\n",
       "      <td>3.84</td>\n",
       "      <td>2.31</td>\n",
       "    </tr>\n",
       "    <tr>\n",
       "      <th>3</th>\n",
       "      <td>0.29</td>\n",
       "      <td>62.4</td>\n",
       "      <td>58.0</td>\n",
       "      <td>334</td>\n",
       "      <td>4.20</td>\n",
       "      <td>4.23</td>\n",
       "      <td>2.63</td>\n",
       "    </tr>\n",
       "    <tr>\n",
       "      <th>4</th>\n",
       "      <td>0.31</td>\n",
       "      <td>63.3</td>\n",
       "      <td>58.0</td>\n",
       "      <td>335</td>\n",
       "      <td>4.34</td>\n",
       "      <td>4.35</td>\n",
       "      <td>2.75</td>\n",
       "    </tr>\n",
       "    <tr>\n",
       "      <th>5</th>\n",
       "      <td>0.24</td>\n",
       "      <td>62.8</td>\n",
       "      <td>57.0</td>\n",
       "      <td>336</td>\n",
       "      <td>3.94</td>\n",
       "      <td>3.96</td>\n",
       "      <td>2.48</td>\n",
       "    </tr>\n",
       "    <tr>\n",
       "      <th>...</th>\n",
       "      <td>...</td>\n",
       "      <td>...</td>\n",
       "      <td>...</td>\n",
       "      <td>...</td>\n",
       "      <td>...</td>\n",
       "      <td>...</td>\n",
       "      <td>...</td>\n",
       "    </tr>\n",
       "    <tr>\n",
       "      <th>53935</th>\n",
       "      <td>0.72</td>\n",
       "      <td>60.8</td>\n",
       "      <td>57.0</td>\n",
       "      <td>2757</td>\n",
       "      <td>5.75</td>\n",
       "      <td>5.76</td>\n",
       "      <td>3.50</td>\n",
       "    </tr>\n",
       "    <tr>\n",
       "      <th>53936</th>\n",
       "      <td>0.72</td>\n",
       "      <td>63.1</td>\n",
       "      <td>55.0</td>\n",
       "      <td>2757</td>\n",
       "      <td>5.69</td>\n",
       "      <td>5.75</td>\n",
       "      <td>3.61</td>\n",
       "    </tr>\n",
       "    <tr>\n",
       "      <th>53937</th>\n",
       "      <td>0.70</td>\n",
       "      <td>62.8</td>\n",
       "      <td>60.0</td>\n",
       "      <td>2757</td>\n",
       "      <td>5.66</td>\n",
       "      <td>5.68</td>\n",
       "      <td>3.56</td>\n",
       "    </tr>\n",
       "    <tr>\n",
       "      <th>53938</th>\n",
       "      <td>0.86</td>\n",
       "      <td>61.0</td>\n",
       "      <td>58.0</td>\n",
       "      <td>2757</td>\n",
       "      <td>6.15</td>\n",
       "      <td>6.12</td>\n",
       "      <td>3.74</td>\n",
       "    </tr>\n",
       "    <tr>\n",
       "      <th>53939</th>\n",
       "      <td>0.75</td>\n",
       "      <td>62.2</td>\n",
       "      <td>55.0</td>\n",
       "      <td>2757</td>\n",
       "      <td>5.83</td>\n",
       "      <td>5.87</td>\n",
       "      <td>3.64</td>\n",
       "    </tr>\n",
       "  </tbody>\n",
       "</table>\n",
       "<p>53335 rows × 7 columns</p>\n",
       "</div>"
      ],
      "text/plain": [
       "       carat  depth  table  price     x     y     z\n",
       "0       0.23   61.5   55.0    326  3.95  3.98  2.43\n",
       "1       0.21   59.8   61.0    326  3.89  3.84  2.31\n",
       "3       0.29   62.4   58.0    334  4.20  4.23  2.63\n",
       "4       0.31   63.3   58.0    335  4.34  4.35  2.75\n",
       "5       0.24   62.8   57.0    336  3.94  3.96  2.48\n",
       "...      ...    ...    ...    ...   ...   ...   ...\n",
       "53935   0.72   60.8   57.0   2757  5.75  5.76  3.50\n",
       "53936   0.72   63.1   55.0   2757  5.69  5.75  3.61\n",
       "53937   0.70   62.8   60.0   2757  5.66  5.68  3.56\n",
       "53938   0.86   61.0   58.0   2757  6.15  6.12  3.74\n",
       "53939   0.75   62.2   55.0   2757  5.83  5.87  3.64\n",
       "\n",
       "[53335 rows x 7 columns]"
      ]
     },
     "execution_count": 632,
     "metadata": {},
     "output_type": "execute_result"
    }
   ],
   "source": [
    "cleaned_df"
   ]
  },
  {
   "cell_type": "code",
   "execution_count": 633,
   "metadata": {
    "id": "o_o1avBL98gj",
    "outputId": "582da398-88c5-49a9-e737-935fe53282c6"
   },
   "outputs": [
    {
     "data": {
      "text/plain": [
       "Int64Index([    2,    91,   145,   219,   227,   239,   296,   314,   356,\n",
       "              359,\n",
       "            ...\n",
       "            53226, 53503, 53542, 53577, 53660, 53695, 53697, 53756, 53757,\n",
       "            53785],\n",
       "           dtype='int64', length=605)"
      ]
     },
     "execution_count": 633,
     "metadata": {},
     "output_type": "execute_result"
    }
   ],
   "source": [
    " df.loc[(df.table < lower_lim) | (df.table > upper_lim)].index"
   ]
  },
  {
   "cell_type": "code",
   "execution_count": 634,
   "metadata": {
    "id": "PqWB0x-998gj"
   },
   "outputs": [],
   "source": [
    "outlier_index = df.loc[(df.table < lower_lim) | (df.table > upper_lim)].index"
   ]
  },
  {
   "cell_type": "code",
   "execution_count": 635,
   "metadata": {
    "id": "P3XvaTEU98gk",
    "outputId": "967bd95c-5a93-4022-bcc2-b5d4dc6f5e5b"
   },
   "outputs": [
    {
     "data": {
      "text/html": [
       "<div>\n",
       "<style scoped>\n",
       "    .dataframe tbody tr th:only-of-type {\n",
       "        vertical-align: middle;\n",
       "    }\n",
       "\n",
       "    .dataframe tbody tr th {\n",
       "        vertical-align: top;\n",
       "    }\n",
       "\n",
       "    .dataframe thead th {\n",
       "        text-align: right;\n",
       "    }\n",
       "</style>\n",
       "<table border=\"1\" class=\"dataframe\">\n",
       "  <thead>\n",
       "    <tr style=\"text-align: right;\">\n",
       "      <th></th>\n",
       "      <th>carat</th>\n",
       "      <th>depth</th>\n",
       "      <th>table</th>\n",
       "      <th>price</th>\n",
       "      <th>x</th>\n",
       "      <th>y</th>\n",
       "      <th>z</th>\n",
       "    </tr>\n",
       "  </thead>\n",
       "  <tbody>\n",
       "    <tr>\n",
       "      <th>0</th>\n",
       "      <td>0.23</td>\n",
       "      <td>61.5</td>\n",
       "      <td>55.0</td>\n",
       "      <td>326</td>\n",
       "      <td>3.95</td>\n",
       "      <td>3.98</td>\n",
       "      <td>2.43</td>\n",
       "    </tr>\n",
       "    <tr>\n",
       "      <th>1</th>\n",
       "      <td>0.21</td>\n",
       "      <td>59.8</td>\n",
       "      <td>61.0</td>\n",
       "      <td>326</td>\n",
       "      <td>3.89</td>\n",
       "      <td>3.84</td>\n",
       "      <td>2.31</td>\n",
       "    </tr>\n",
       "    <tr>\n",
       "      <th>3</th>\n",
       "      <td>0.29</td>\n",
       "      <td>62.4</td>\n",
       "      <td>58.0</td>\n",
       "      <td>334</td>\n",
       "      <td>4.20</td>\n",
       "      <td>4.23</td>\n",
       "      <td>2.63</td>\n",
       "    </tr>\n",
       "    <tr>\n",
       "      <th>4</th>\n",
       "      <td>0.31</td>\n",
       "      <td>63.3</td>\n",
       "      <td>58.0</td>\n",
       "      <td>335</td>\n",
       "      <td>4.34</td>\n",
       "      <td>4.35</td>\n",
       "      <td>2.75</td>\n",
       "    </tr>\n",
       "    <tr>\n",
       "      <th>5</th>\n",
       "      <td>0.24</td>\n",
       "      <td>62.8</td>\n",
       "      <td>57.0</td>\n",
       "      <td>336</td>\n",
       "      <td>3.94</td>\n",
       "      <td>3.96</td>\n",
       "      <td>2.48</td>\n",
       "    </tr>\n",
       "    <tr>\n",
       "      <th>...</th>\n",
       "      <td>...</td>\n",
       "      <td>...</td>\n",
       "      <td>...</td>\n",
       "      <td>...</td>\n",
       "      <td>...</td>\n",
       "      <td>...</td>\n",
       "      <td>...</td>\n",
       "    </tr>\n",
       "    <tr>\n",
       "      <th>53935</th>\n",
       "      <td>0.72</td>\n",
       "      <td>60.8</td>\n",
       "      <td>57.0</td>\n",
       "      <td>2757</td>\n",
       "      <td>5.75</td>\n",
       "      <td>5.76</td>\n",
       "      <td>3.50</td>\n",
       "    </tr>\n",
       "    <tr>\n",
       "      <th>53936</th>\n",
       "      <td>0.72</td>\n",
       "      <td>63.1</td>\n",
       "      <td>55.0</td>\n",
       "      <td>2757</td>\n",
       "      <td>5.69</td>\n",
       "      <td>5.75</td>\n",
       "      <td>3.61</td>\n",
       "    </tr>\n",
       "    <tr>\n",
       "      <th>53937</th>\n",
       "      <td>0.70</td>\n",
       "      <td>62.8</td>\n",
       "      <td>60.0</td>\n",
       "      <td>2757</td>\n",
       "      <td>5.66</td>\n",
       "      <td>5.68</td>\n",
       "      <td>3.56</td>\n",
       "    </tr>\n",
       "    <tr>\n",
       "      <th>53938</th>\n",
       "      <td>0.86</td>\n",
       "      <td>61.0</td>\n",
       "      <td>58.0</td>\n",
       "      <td>2757</td>\n",
       "      <td>6.15</td>\n",
       "      <td>6.12</td>\n",
       "      <td>3.74</td>\n",
       "    </tr>\n",
       "    <tr>\n",
       "      <th>53939</th>\n",
       "      <td>0.75</td>\n",
       "      <td>62.2</td>\n",
       "      <td>55.0</td>\n",
       "      <td>2757</td>\n",
       "      <td>5.83</td>\n",
       "      <td>5.87</td>\n",
       "      <td>3.64</td>\n",
       "    </tr>\n",
       "  </tbody>\n",
       "</table>\n",
       "<p>53335 rows × 7 columns</p>\n",
       "</div>"
      ],
      "text/plain": [
       "       carat  depth  table  price     x     y     z\n",
       "0       0.23   61.5   55.0    326  3.95  3.98  2.43\n",
       "1       0.21   59.8   61.0    326  3.89  3.84  2.31\n",
       "3       0.29   62.4   58.0    334  4.20  4.23  2.63\n",
       "4       0.31   63.3   58.0    335  4.34  4.35  2.75\n",
       "5       0.24   62.8   57.0    336  3.94  3.96  2.48\n",
       "...      ...    ...    ...    ...   ...   ...   ...\n",
       "53935   0.72   60.8   57.0   2757  5.75  5.76  3.50\n",
       "53936   0.72   63.1   55.0   2757  5.69  5.75  3.61\n",
       "53937   0.70   62.8   60.0   2757  5.66  5.68  3.56\n",
       "53938   0.86   61.0   58.0   2757  6.15  6.12  3.74\n",
       "53939   0.75   62.2   55.0   2757  5.83  5.87  3.64\n",
       "\n",
       "[53335 rows x 7 columns]"
      ]
     },
     "execution_count": 635,
     "metadata": {},
     "output_type": "execute_result"
    }
   ],
   "source": [
    "df.drop(outlier_index)"
   ]
  },
  {
   "cell_type": "code",
   "execution_count": 637,
   "metadata": {
    "id": "COTNIks798gk",
    "outputId": "8dea3151-cc07-417f-811c-04080ca9d5c8"
   },
   "outputs": [
    {
     "data": {
      "image/png": "[encoded data removed]",
      "text/plain": [
       "<Figure size 432x288 with 1 Axes>"
      ]
     },
     "metadata": {
      "needs_background": "light"
     },
     "output_type": "display_data"
    }
   ],
   "source": [
    "sns.boxplot(x = cleaned_df.table);"
   ]
  },
  {
   "cell_type": "code",
   "execution_count": 638,
   "metadata": {
    "id": "5Hcr3YTQ98gl",
    "outputId": "ebc6c799-25f0-48fe-f79e-5713ccafcdbc"
   },
   "outputs": [
    {
     "data": {
      "text/plain": [
       "<seaborn.axisgrid.FacetGrid at 0x1fb03a98b08>"
      ]
     },
     "execution_count": 638,
     "metadata": {},
     "output_type": "execute_result"
    },
    {
     "data": {
      "image/png": "[encoded data removed]",
      "text/plain": [
       "<Figure size 360x360 with 1 Axes>"
      ]
     },
     "metadata": {
      "needs_background": "light"
     },
     "output_type": "display_data"
    }
   ],
   "source": [
    "sns.displot(cleaned_df.table, bins = 10, kde = False)"
   ]
  },
  {
   "cell_type": "code",
   "execution_count": 639,
   "metadata": {
    "id": "jubpw3HV98gl",
    "outputId": "5de3ead1-8e86-4617-fdb3-9bea8cbdcf82"
   },
   "outputs": [
    {
     "data": {
      "text/plain": [
       "count    53335.000000\n",
       "mean        57.373404\n",
       "std          2.074349\n",
       "min         51.600000\n",
       "25%         56.000000\n",
       "50%         57.000000\n",
       "75%         59.000000\n",
       "max         63.500000\n",
       "Name: table, dtype: float64"
      ]
     },
     "execution_count": 639,
     "metadata": {},
     "output_type": "execute_result"
    }
   ],
   "source": [
    "cleaned_df.table.describe()"
   ]
  },
  {
   "cell_type": "code",
   "execution_count": 640,
   "metadata": {
    "id": "qlyT0_bp98gl",
    "outputId": "25ebabb5-228d-4158-8889-5cf3c96b915e"
   },
   "outputs": [
    {
     "data": {
      "text/plain": [
       "count    53940.000000\n",
       "mean        57.457184\n",
       "std          2.234491\n",
       "min         43.000000\n",
       "25%         56.000000\n",
       "50%         57.000000\n",
       "75%         59.000000\n",
       "max         95.000000\n",
       "Name: table, dtype: float64"
      ]
     },
     "execution_count": 640,
     "metadata": {},
     "output_type": "execute_result"
    }
   ],
   "source": [
    "df.table.describe()"
   ]
  },
  {
   "cell_type": "markdown",
   "metadata": {
    "id": "BoNnVsTADyz5"
   },
   "source": [
    "## Begrenzung und Transformation der Ausreißer"
   ]
  },
  {
   "cell_type": "markdown",
   "metadata": {
    "id": "Cps28shGDyz5"
   },
   "source": [
    "### Einschränkung mit der Methode ``.winsorize()``"
   ]
  },
  {
   "cell_type": "code",
   "execution_count": 641,
   "metadata": {
    "id": "LiD8IoKdDyz5"
   },
   "outputs": [],
   "source": [
    "from scipy.stats.mstats import winsorize"
   ]
  },
  {
   "cell_type": "code",
   "execution_count": 642,
   "metadata": {
    "id": "IPy160l-Dyz5",
    "outputId": "e85d7315-1f57-404c-a4b2-e918006b0d56"
   },
   "outputs": [
    {
     "data": {
      "text/html": [
       "<div>\n",
       "<style scoped>\n",
       "    .dataframe tbody tr th:only-of-type {\n",
       "        vertical-align: middle;\n",
       "    }\n",
       "\n",
       "    .dataframe tbody tr th {\n",
       "        vertical-align: top;\n",
       "    }\n",
       "\n",
       "    .dataframe thead th {\n",
       "        text-align: right;\n",
       "    }\n",
       "</style>\n",
       "<table border=\"1\" class=\"dataframe\">\n",
       "  <thead>\n",
       "    <tr style=\"text-align: right;\">\n",
       "      <th></th>\n",
       "      <th>carat</th>\n",
       "      <th>depth</th>\n",
       "      <th>table</th>\n",
       "      <th>price</th>\n",
       "      <th>x</th>\n",
       "      <th>y</th>\n",
       "      <th>z</th>\n",
       "    </tr>\n",
       "  </thead>\n",
       "  <tbody>\n",
       "    <tr>\n",
       "      <th>0</th>\n",
       "      <td>0.23</td>\n",
       "      <td>61.5</td>\n",
       "      <td>55.0</td>\n",
       "      <td>326</td>\n",
       "      <td>3.95</td>\n",
       "      <td>3.98</td>\n",
       "      <td>2.43</td>\n",
       "    </tr>\n",
       "    <tr>\n",
       "      <th>1</th>\n",
       "      <td>0.21</td>\n",
       "      <td>59.8</td>\n",
       "      <td>61.0</td>\n",
       "      <td>326</td>\n",
       "      <td>3.89</td>\n",
       "      <td>3.84</td>\n",
       "      <td>2.31</td>\n",
       "    </tr>\n",
       "    <tr>\n",
       "      <th>2</th>\n",
       "      <td>0.23</td>\n",
       "      <td>56.9</td>\n",
       "      <td>65.0</td>\n",
       "      <td>327</td>\n",
       "      <td>4.05</td>\n",
       "      <td>4.07</td>\n",
       "      <td>2.31</td>\n",
       "    </tr>\n",
       "    <tr>\n",
       "      <th>3</th>\n",
       "      <td>0.29</td>\n",
       "      <td>62.4</td>\n",
       "      <td>58.0</td>\n",
       "      <td>334</td>\n",
       "      <td>4.20</td>\n",
       "      <td>4.23</td>\n",
       "      <td>2.63</td>\n",
       "    </tr>\n",
       "    <tr>\n",
       "      <th>4</th>\n",
       "      <td>0.31</td>\n",
       "      <td>63.3</td>\n",
       "      <td>58.0</td>\n",
       "      <td>335</td>\n",
       "      <td>4.34</td>\n",
       "      <td>4.35</td>\n",
       "      <td>2.75</td>\n",
       "    </tr>\n",
       "    <tr>\n",
       "      <th>...</th>\n",
       "      <td>...</td>\n",
       "      <td>...</td>\n",
       "      <td>...</td>\n",
       "      <td>...</td>\n",
       "      <td>...</td>\n",
       "      <td>...</td>\n",
       "      <td>...</td>\n",
       "    </tr>\n",
       "    <tr>\n",
       "      <th>53935</th>\n",
       "      <td>0.72</td>\n",
       "      <td>60.8</td>\n",
       "      <td>57.0</td>\n",
       "      <td>2757</td>\n",
       "      <td>5.75</td>\n",
       "      <td>5.76</td>\n",
       "      <td>3.50</td>\n",
       "    </tr>\n",
       "    <tr>\n",
       "      <th>53936</th>\n",
       "      <td>0.72</td>\n",
       "      <td>63.1</td>\n",
       "      <td>55.0</td>\n",
       "      <td>2757</td>\n",
       "      <td>5.69</td>\n",
       "      <td>5.75</td>\n",
       "      <td>3.61</td>\n",
       "    </tr>\n",
       "    <tr>\n",
       "      <th>53937</th>\n",
       "      <td>0.70</td>\n",
       "      <td>62.8</td>\n",
       "      <td>60.0</td>\n",
       "      <td>2757</td>\n",
       "      <td>5.66</td>\n",
       "      <td>5.68</td>\n",
       "      <td>3.56</td>\n",
       "    </tr>\n",
       "    <tr>\n",
       "      <th>53938</th>\n",
       "      <td>0.86</td>\n",
       "      <td>61.0</td>\n",
       "      <td>58.0</td>\n",
       "      <td>2757</td>\n",
       "      <td>6.15</td>\n",
       "      <td>6.12</td>\n",
       "      <td>3.74</td>\n",
       "    </tr>\n",
       "    <tr>\n",
       "      <th>53939</th>\n",
       "      <td>0.75</td>\n",
       "      <td>62.2</td>\n",
       "      <td>55.0</td>\n",
       "      <td>2757</td>\n",
       "      <td>5.83</td>\n",
       "      <td>5.87</td>\n",
       "      <td>3.64</td>\n",
       "    </tr>\n",
       "  </tbody>\n",
       "</table>\n",
       "<p>53940 rows × 7 columns</p>\n",
       "</div>"
      ],
      "text/plain": [
       "       carat  depth  table  price     x     y     z\n",
       "0       0.23   61.5   55.0    326  3.95  3.98  2.43\n",
       "1       0.21   59.8   61.0    326  3.89  3.84  2.31\n",
       "2       0.23   56.9   65.0    327  4.05  4.07  2.31\n",
       "3       0.29   62.4   58.0    334  4.20  4.23  2.63\n",
       "4       0.31   63.3   58.0    335  4.34  4.35  2.75\n",
       "...      ...    ...    ...    ...   ...   ...   ...\n",
       "53935   0.72   60.8   57.0   2757  5.75  5.76  3.50\n",
       "53936   0.72   63.1   55.0   2757  5.69  5.75  3.61\n",
       "53937   0.70   62.8   60.0   2757  5.66  5.68  3.56\n",
       "53938   0.86   61.0   58.0   2757  6.15  6.12  3.74\n",
       "53939   0.75   62.2   55.0   2757  5.83  5.87  3.64\n",
       "\n",
       "[53940 rows x 7 columns]"
      ]
     },
     "execution_count": 642,
     "metadata": {},
     "output_type": "execute_result"
    }
   ],
   "source": [
    "df"
   ]
  },
  {
   "cell_type": "code",
   "execution_count": 643,
   "metadata": {
    "id": "3pyRr4w_98gm",
    "outputId": "ba33adf6-5914-47ec-feb9-c28fe009c09f"
   },
   "outputs": [
    {
     "data": {
      "text/plain": [
       "masked_array(data=[55., 61., 61., ..., 60., 58., 55.],\n",
       "             mask=False,\n",
       "       fill_value=1e+20)"
      ]
     },
     "execution_count": 643,
     "metadata": {},
     "output_type": "execute_result"
    }
   ],
   "source": [
    "winsorize(df.table, (0.02, 0.05))"
   ]
  },
  {
   "cell_type": "code",
   "execution_count": 644,
   "metadata": {
    "id": "_va_Xtiy98gn",
    "outputId": "67eb4988-07e7-4145-c5b4-2f921b90d161"
   },
   "outputs": [
    {
     "data": {
      "text/plain": [
       "0.00029662588060808305"
      ]
     },
     "execution_count": 644,
     "metadata": {},
     "output_type": "execute_result"
    }
   ],
   "source": [
    "a = len(df.table[df.table<lower_lim])/len(df)\n",
    "a"
   ]
  },
  {
   "cell_type": "code",
   "execution_count": 645,
   "metadata": {
    "id": "YHgmX-ys98gn",
    "outputId": "9748e5fc-915a-4adb-ffa4-73292ba8cf00"
   },
   "outputs": [
    {
     "data": {
      "text/plain": [
       "0.010919540229885057"
      ]
     },
     "execution_count": 645,
     "metadata": {},
     "output_type": "execute_result"
    }
   ],
   "source": [
    "b = len(df.table[df.table>upper_lim])/len(df.table)\n",
    "b"
   ]
  },
  {
   "cell_type": "code",
   "execution_count": 646,
   "metadata": {
    "id": "bwKy_jsz98go"
   },
   "outputs": [],
   "source": [
    "table_win = winsorize(df.table, (a, b))"
   ]
  },
  {
   "cell_type": "code",
   "execution_count": 647,
   "metadata": {
    "id": "eHoAeON498go",
    "outputId": "628fcf86-53c2-44f4-e412-511bd96411cf"
   },
   "outputs": [
    {
     "data": {
      "text/plain": [
       "<AxesSubplot:>"
      ]
     },
     "execution_count": 647,
     "metadata": {},
     "output_type": "execute_result"
    },
    {
     "data": {
      "image/png": "[encoded data removed]",
      "text/plain": [
       "<Figure size 432x288 with 1 Axes>"
      ]
     },
     "metadata": {
      "needs_background": "light"
     },
     "output_type": "display_data"
    }
   ],
   "source": [
    "sns.boxplot(x = table_win)"
   ]
  },
  {
   "cell_type": "code",
   "execution_count": 648,
   "metadata": {
    "id": "Vi3QL7BJ98gp",
    "outputId": "84dc9681-0cff-4512-a572-71aae574eec2"
   },
   "outputs": [
    {
     "data": {
      "text/plain": [
       "<seaborn.axisgrid.FacetGrid at 0x1fb052842c8>"
      ]
     },
     "execution_count": 648,
     "metadata": {},
     "output_type": "execute_result"
    },
    {
     "data": {
      "image/png": "[encoded data removed]",
      "text/plain": [
       "<Figure size 360x360 with 1 Axes>"
      ]
     },
     "metadata": {
      "needs_background": "light"
     },
     "output_type": "display_data"
    }
   ],
   "source": [
    "sns.displot(table_win, bins = 10, kde =False)"
   ]
  },
  {
   "cell_type": "code",
   "execution_count": 651,
   "metadata": {
    "id": "Q_bY0mj398gp"
   },
   "outputs": [],
   "source": [
    "df_table_win = pd.Series(table_win)"
   ]
  },
  {
   "cell_type": "code",
   "execution_count": 650,
   "metadata": {
    "id": "kO8LZEaL98gq",
    "outputId": "2c9cb844-4c3f-45de-f53c-71122293067f"
   },
   "outputs": [
    {
     "data": {
      "text/plain": [
       "count    53940.000000\n",
       "mean        57.438591\n",
       "std          2.161059\n",
       "min         51.600000\n",
       "25%         56.000000\n",
       "50%         57.000000\n",
       "75%         59.000000\n",
       "max         63.500000\n",
       "dtype: float64"
      ]
     },
     "execution_count": 650,
     "metadata": {},
     "output_type": "execute_result"
    }
   ],
   "source": [
    "df_table_win.describe()"
   ]
  },
  {
   "cell_type": "code",
   "execution_count": 652,
   "metadata": {
    "id": "YdJlhsBp98gq",
    "outputId": "6a7cdfa4-ab9f-47de-ef17-d454946b7998"
   },
   "outputs": [
    {
     "data": {
      "text/plain": [
       "(63.5, 51.5)"
      ]
     },
     "execution_count": 652,
     "metadata": {},
     "output_type": "execute_result"
    }
   ],
   "source": [
    "upper_lim, lower_lim"
   ]
  },
  {
   "cell_type": "code",
   "execution_count": 653,
   "metadata": {
    "id": "dSIt7JcbDyz7",
    "outputId": "37d04543-d13f-46aa-b3ac-982f9b86186d"
   },
   "outputs": [
    {
     "data": {
      "text/plain": [
       "count    53940.000000\n",
       "mean        57.457184\n",
       "std          2.234491\n",
       "min         43.000000\n",
       "25%         56.000000\n",
       "50%         57.000000\n",
       "75%         59.000000\n",
       "max         95.000000\n",
       "Name: table, dtype: float64"
      ]
     },
     "execution_count": 653,
     "metadata": {},
     "output_type": "execute_result"
    }
   ],
   "source": [
    "df.table.describe()"
   ]
  },
  {
   "cell_type": "code",
   "execution_count": 654,
   "metadata": {
    "id": "bi6SsPeaDyz7",
    "outputId": "48ef8e31-a328-4bb3-b488-486127504620"
   },
   "outputs": [
    {
     "data": {
      "text/plain": [
       "11368    43.0\n",
       "35633    44.0\n",
       "5979     49.0\n",
       "22701    49.0\n",
       "25179    50.0\n",
       "7418     50.0\n",
       "3238     50.1\n",
       "45798    51.0\n",
       "33586    51.0\n",
       "46040    51.0\n",
       "26387    51.0\n",
       "3979     51.0\n",
       "8853     51.0\n",
       "4150     51.0\n",
       "1515     51.0\n",
       "47630    51.0\n",
       "24815    51.6\n",
       "15858    52.0\n",
       "25607    52.0\n",
       "5144     52.0\n",
       "Name: table, dtype: float64"
      ]
     },
     "execution_count": 654,
     "metadata": {},
     "output_type": "execute_result"
    }
   ],
   "source": [
    "df.table.sort_values().head(20)"
   ]
  },
  {
   "cell_type": "code",
   "execution_count": 655,
   "metadata": {
    "id": "q9BGWZ9_Dyz7",
    "outputId": "3164e41d-1219-4c18-c2ad-6f96ef55f7af"
   },
   "outputs": [
    {
     "data": {
      "text/plain": [
       "11368    51.6\n",
       "25179    51.6\n",
       "45798    51.6\n",
       "33586    51.6\n",
       "46040    51.6\n",
       "26387    51.6\n",
       "3979     51.6\n",
       "8853     51.6\n",
       "35633    51.6\n",
       "22701    51.6\n",
       "24815    51.6\n",
       "1515     51.6\n",
       "5979     51.6\n",
       "3238     51.6\n",
       "47630    51.6\n",
       "4150     51.6\n",
       "7418     51.6\n",
       "5144     52.0\n",
       "33408    52.0\n",
       "26431    52.0\n",
       "dtype: float64"
      ]
     },
     "execution_count": 655,
     "metadata": {},
     "output_type": "execute_result"
    }
   ],
   "source": [
    "df_table_win.sort_values().head(20)"
   ]
  },
  {
   "cell_type": "code",
   "execution_count": 656,
   "metadata": {
    "id": "ccW5yvwIDyz8",
    "outputId": "fa5d6152-5771-4d45-d908-0766e29886ee"
   },
   "outputs": [
    {
     "data": {
      "text/plain": [
       "17"
      ]
     },
     "execution_count": 656,
     "metadata": {},
     "output_type": "execute_result"
    }
   ],
   "source": [
    "df_table_win[df_table_win == 51.6].size"
   ]
  },
  {
   "cell_type": "code",
   "execution_count": 657,
   "metadata": {
    "id": "dHQC9EBsDyz8",
    "outputId": "30baee16-1e50-4b7a-cd3f-5babb4c3d7c7"
   },
   "outputs": [
    {
     "data": {
      "text/plain": [
       "590"
      ]
     },
     "execution_count": 657,
     "metadata": {},
     "output_type": "execute_result"
    }
   ],
   "source": [
    "df_table_win[df_table_win == 63.5].size"
   ]
  },
  {
   "cell_type": "markdown",
   "metadata": {
    "id": "b7SA6AuKDyz9"
   },
   "source": [
    "### ``log()`` Transformation"
   ]
  },
  {
   "cell_type": "code",
   "execution_count": 658,
   "metadata": {
    "id": "l3L1NNdEDyz-",
    "outputId": "be3acf37-2c8a-44e9-f36a-71948c54596d"
   },
   "outputs": [
    {
     "name": "stdout",
     "output_type": "stream",
     "text": [
      "<class 'pandas.core.frame.DataFrame'>\n",
      "Int64Index: 53940 entries, 0 to 53939\n",
      "Data columns (total 7 columns):\n",
      " #   Column  Non-Null Count  Dtype  \n",
      "---  ------  --------------  -----  \n",
      " 0   carat   53940 non-null  float64\n",
      " 1   depth   53940 non-null  float64\n",
      " 2   table   53940 non-null  float64\n",
      " 3   price   53940 non-null  int64  \n",
      " 4   x       53940 non-null  float64\n",
      " 5   y       53940 non-null  float64\n",
      " 6   z       53940 non-null  float64\n",
      "dtypes: float64(6), int64(1)\n",
      "memory usage: 5.3 MB\n"
     ]
    }
   ],
   "source": [
    "df.info()"
   ]
  },
  {
   "cell_type": "code",
   "execution_count": 659,
   "metadata": {
    "id": "SKR8YpggDyz-",
    "outputId": "2410bda8-3685-44d9-d023-a66681b41632"
   },
   "outputs": [
    {
     "data": {
      "text/plain": [
       "0        0.23\n",
       "1        0.21\n",
       "2        0.23\n",
       "3        0.29\n",
       "4        0.31\n",
       "         ... \n",
       "53935    0.72\n",
       "53936    0.72\n",
       "53937    0.70\n",
       "53938    0.86\n",
       "53939    0.75\n",
       "Name: carat, Length: 53940, dtype: float64"
      ]
     },
     "execution_count": 659,
     "metadata": {},
     "output_type": "execute_result"
    }
   ],
   "source": [
    "df[\"carat\"]"
   ]
  },
  {
   "cell_type": "code",
   "execution_count": 661,
   "metadata": {
    "id": "miAITF0XDyz-",
    "outputId": "454b27f6-ee17-4167-c6ee-ca214164a5ff"
   },
   "outputs": [
    {
     "data": {
      "image/png": "[encoded data removed]",
      "text/plain": [
       "<Figure size 432x288 with 1 Axes>"
      ]
     },
     "metadata": {
      "needs_background": "light"
     },
     "output_type": "display_data"
    }
   ],
   "source": [
    "sns.boxplot(x = df.carat);"
   ]
  },
  {
   "cell_type": "code",
   "execution_count": 662,
   "metadata": {
    "id": "unCMYzaQDyz-",
    "outputId": "f7e94316-f2dd-4219-8d99-87581d30238e"
   },
   "outputs": [
    {
     "data": {
      "text/plain": [
       "<seaborn.axisgrid.FacetGrid at 0x1fb053be348>"
      ]
     },
     "execution_count": 662,
     "metadata": {},
     "output_type": "execute_result"
    },
    {
     "data": {
      "image/png": "[encoded data removed]",
      "text/plain": [
       "<Figure size 360x360 with 1 Axes>"
      ]
     },
     "metadata": {
      "needs_background": "light"
     },
     "output_type": "display_data"
    }
   ],
   "source": [
    "sns.displot(df.carat, bins = 10, kde = False)"
   ]
  },
  {
   "cell_type": "code",
   "execution_count": 663,
   "metadata": {
    "id": "uZrTeSbxDyz-",
    "outputId": "3641f1c1-7309-4692-a659-e21f49f2c2d0"
   },
   "outputs": [
    {
     "data": {
      "text/plain": [
       "0       -1.469676\n",
       "1       -1.560648\n",
       "2       -1.469676\n",
       "3       -1.237874\n",
       "4       -1.171183\n",
       "           ...   \n",
       "53935   -0.328504\n",
       "53936   -0.328504\n",
       "53937   -0.356675\n",
       "53938   -0.150823\n",
       "53939   -0.287682\n",
       "Name: carat, Length: 53940, dtype: float64"
      ]
     },
     "execution_count": 663,
     "metadata": {},
     "output_type": "execute_result"
    }
   ],
   "source": [
    "np.log(df.carat)"
   ]
  },
  {
   "cell_type": "code",
   "execution_count": 665,
   "metadata": {
    "id": "9JWPmUQUDyz_",
    "outputId": "bd0ddce7-a75f-42f0-b097-94b73474d3bc"
   },
   "outputs": [
    {
     "data": {
      "image/png": "[encoded data removed]",
      "text/plain": [
       "<Figure size 432x288 with 1 Axes>"
      ]
     },
     "metadata": {
      "needs_background": "light"
     },
     "output_type": "display_data"
    }
   ],
   "source": [
    "sns.boxplot(x = np.log(df.carat));"
   ]
  },
  {
   "cell_type": "code",
   "execution_count": 667,
   "metadata": {
    "id": "aWnKtLWFDyz_",
    "outputId": "122b7da9-f9ac-4f57-afaa-ab327565313e"
   },
   "outputs": [
    {
     "data": {
      "image/png": "[encoded data removed]",
      "text/plain": [
       "<Figure size 360x360 with 1 Axes>"
      ]
     },
     "metadata": {
      "needs_background": "light"
     },
     "output_type": "display_data"
    }
   ],
   "source": [
    "sns.displot(np.log(df.carat),  bins = 10, kde = False);"
   ]
  },
  {
   "cell_type": "code",
   "execution_count": 669,
   "metadata": {
    "id": "JkKabIn-98gv",
    "outputId": "f7fc539c-eec1-4f5f-f3ff-3a20e77368f8"
   },
   "outputs": [
    {
     "data": {
      "text/html": [
       "<div>\n",
       "<style scoped>\n",
       "    .dataframe tbody tr th:only-of-type {\n",
       "        vertical-align: middle;\n",
       "    }\n",
       "\n",
       "    .dataframe tbody tr th {\n",
       "        vertical-align: top;\n",
       "    }\n",
       "\n",
       "    .dataframe thead th {\n",
       "        text-align: right;\n",
       "    }\n",
       "</style>\n",
       "<table border=\"1\" class=\"dataframe\">\n",
       "  <thead>\n",
       "    <tr style=\"text-align: right;\">\n",
       "      <th></th>\n",
       "      <th>carat</th>\n",
       "      <th>depth</th>\n",
       "      <th>table</th>\n",
       "      <th>price</th>\n",
       "      <th>x</th>\n",
       "      <th>y</th>\n",
       "      <th>z</th>\n",
       "      <th>carat_log</th>\n",
       "    </tr>\n",
       "  </thead>\n",
       "  <tbody>\n",
       "    <tr>\n",
       "      <th>0</th>\n",
       "      <td>0.23</td>\n",
       "      <td>61.5</td>\n",
       "      <td>55.0</td>\n",
       "      <td>326</td>\n",
       "      <td>3.95</td>\n",
       "      <td>3.98</td>\n",
       "      <td>2.43</td>\n",
       "      <td>-1.469676</td>\n",
       "    </tr>\n",
       "    <tr>\n",
       "      <th>1</th>\n",
       "      <td>0.21</td>\n",
       "      <td>59.8</td>\n",
       "      <td>61.0</td>\n",
       "      <td>326</td>\n",
       "      <td>3.89</td>\n",
       "      <td>3.84</td>\n",
       "      <td>2.31</td>\n",
       "      <td>-1.560648</td>\n",
       "    </tr>\n",
       "    <tr>\n",
       "      <th>2</th>\n",
       "      <td>0.23</td>\n",
       "      <td>56.9</td>\n",
       "      <td>65.0</td>\n",
       "      <td>327</td>\n",
       "      <td>4.05</td>\n",
       "      <td>4.07</td>\n",
       "      <td>2.31</td>\n",
       "      <td>-1.469676</td>\n",
       "    </tr>\n",
       "    <tr>\n",
       "      <th>3</th>\n",
       "      <td>0.29</td>\n",
       "      <td>62.4</td>\n",
       "      <td>58.0</td>\n",
       "      <td>334</td>\n",
       "      <td>4.20</td>\n",
       "      <td>4.23</td>\n",
       "      <td>2.63</td>\n",
       "      <td>-1.237874</td>\n",
       "    </tr>\n",
       "    <tr>\n",
       "      <th>4</th>\n",
       "      <td>0.31</td>\n",
       "      <td>63.3</td>\n",
       "      <td>58.0</td>\n",
       "      <td>335</td>\n",
       "      <td>4.34</td>\n",
       "      <td>4.35</td>\n",
       "      <td>2.75</td>\n",
       "      <td>-1.171183</td>\n",
       "    </tr>\n",
       "    <tr>\n",
       "      <th>...</th>\n",
       "      <td>...</td>\n",
       "      <td>...</td>\n",
       "      <td>...</td>\n",
       "      <td>...</td>\n",
       "      <td>...</td>\n",
       "      <td>...</td>\n",
       "      <td>...</td>\n",
       "      <td>...</td>\n",
       "    </tr>\n",
       "    <tr>\n",
       "      <th>53935</th>\n",
       "      <td>0.72</td>\n",
       "      <td>60.8</td>\n",
       "      <td>57.0</td>\n",
       "      <td>2757</td>\n",
       "      <td>5.75</td>\n",
       "      <td>5.76</td>\n",
       "      <td>3.50</td>\n",
       "      <td>-0.328504</td>\n",
       "    </tr>\n",
       "    <tr>\n",
       "      <th>53936</th>\n",
       "      <td>0.72</td>\n",
       "      <td>63.1</td>\n",
       "      <td>55.0</td>\n",
       "      <td>2757</td>\n",
       "      <td>5.69</td>\n",
       "      <td>5.75</td>\n",
       "      <td>3.61</td>\n",
       "      <td>-0.328504</td>\n",
       "    </tr>\n",
       "    <tr>\n",
       "      <th>53937</th>\n",
       "      <td>0.70</td>\n",
       "      <td>62.8</td>\n",
       "      <td>60.0</td>\n",
       "      <td>2757</td>\n",
       "      <td>5.66</td>\n",
       "      <td>5.68</td>\n",
       "      <td>3.56</td>\n",
       "      <td>-0.356675</td>\n",
       "    </tr>\n",
       "    <tr>\n",
       "      <th>53938</th>\n",
       "      <td>0.86</td>\n",
       "      <td>61.0</td>\n",
       "      <td>58.0</td>\n",
       "      <td>2757</td>\n",
       "      <td>6.15</td>\n",
       "      <td>6.12</td>\n",
       "      <td>3.74</td>\n",
       "      <td>-0.150823</td>\n",
       "    </tr>\n",
       "    <tr>\n",
       "      <th>53939</th>\n",
       "      <td>0.75</td>\n",
       "      <td>62.2</td>\n",
       "      <td>55.0</td>\n",
       "      <td>2757</td>\n",
       "      <td>5.83</td>\n",
       "      <td>5.87</td>\n",
       "      <td>3.64</td>\n",
       "      <td>-0.287682</td>\n",
       "    </tr>\n",
       "  </tbody>\n",
       "</table>\n",
       "<p>53940 rows × 8 columns</p>\n",
       "</div>"
      ],
      "text/plain": [
       "       carat  depth  table  price     x     y     z  carat_log\n",
       "0       0.23   61.5   55.0    326  3.95  3.98  2.43  -1.469676\n",
       "1       0.21   59.8   61.0    326  3.89  3.84  2.31  -1.560648\n",
       "2       0.23   56.9   65.0    327  4.05  4.07  2.31  -1.469676\n",
       "3       0.29   62.4   58.0    334  4.20  4.23  2.63  -1.237874\n",
       "4       0.31   63.3   58.0    335  4.34  4.35  2.75  -1.171183\n",
       "...      ...    ...    ...    ...   ...   ...   ...        ...\n",
       "53935   0.72   60.8   57.0   2757  5.75  5.76  3.50  -0.328504\n",
       "53936   0.72   63.1   55.0   2757  5.69  5.75  3.61  -0.328504\n",
       "53937   0.70   62.8   60.0   2757  5.66  5.68  3.56  -0.356675\n",
       "53938   0.86   61.0   58.0   2757  6.15  6.12  3.74  -0.150823\n",
       "53939   0.75   62.2   55.0   2757  5.83  5.87  3.64  -0.287682\n",
       "\n",
       "[53940 rows x 8 columns]"
      ]
     },
     "execution_count": 669,
     "metadata": {},
     "output_type": "execute_result"
    }
   ],
   "source": [
    "df[\"carat_log\"] = np.log(df.carat)\n",
    "df"
   ]
  },
  {
   "cell_type": "markdown",
   "metadata": {
    "id": "8ACoVoZM98gw"
   },
   "source": [
    "### Entfernen nach der Log-Transformation"
   ]
  },
  {
   "cell_type": "code",
   "execution_count": 670,
   "metadata": {
    "id": "rfANY-GJDyz_"
   },
   "outputs": [],
   "source": [
    "Q1 = df.carat_log.quantile(0.25)\n",
    "Q3 = df.carat_log.quantile(0.75)\n",
    "IQR = Q3-Q1"
   ]
  },
  {
   "cell_type": "code",
   "execution_count": 671,
   "metadata": {
    "id": "zpjJJc67Dyz_",
    "outputId": "9476b5fd-d52f-42ef-bd7e-978e6b563eb7"
   },
   "outputs": [
    {
     "data": {
      "text/plain": [
       "-0.916290731874155"
      ]
     },
     "execution_count": 671,
     "metadata": {},
     "output_type": "execute_result"
    }
   ],
   "source": [
    "Q1"
   ]
  },
  {
   "cell_type": "code",
   "execution_count": 672,
   "metadata": {
    "id": "YHLlA0zHDyz_",
    "outputId": "e85530a4-d433-44be-b643-fa0c1747ab5a"
   },
   "outputs": [
    {
     "data": {
      "text/plain": [
       "0.03922071315328133"
      ]
     },
     "execution_count": 672,
     "metadata": {},
     "output_type": "execute_result"
    }
   ],
   "source": [
    "Q3"
   ]
  },
  {
   "cell_type": "code",
   "execution_count": 673,
   "metadata": {
    "id": "cmrhQZJ3Dyz_",
    "outputId": "ef803287-fdba-4fec-b11e-795a54a305f1"
   },
   "outputs": [
    {
     "data": {
      "text/plain": [
       "0.9555114450274363"
      ]
     },
     "execution_count": 673,
     "metadata": {},
     "output_type": "execute_result"
    }
   ],
   "source": [
    "IQR"
   ]
  },
  {
   "cell_type": "code",
   "execution_count": 674,
   "metadata": {
    "id": "UVTXWnmLDyz_"
   },
   "outputs": [],
   "source": [
    "lower_lim = Q1 - 1.5 * IQR\n",
    "upper_lim = Q3 + 1.5 * IQR"
   ]
  },
  {
   "cell_type": "code",
   "execution_count": 675,
   "metadata": {
    "id": "4leCVLIdDyz_",
    "outputId": "8cd6f251-70f4-4fce-d573-3e15344f3742"
   },
   "outputs": [
    {
     "data": {
      "text/plain": [
       "-2.3495578994153097"
      ]
     },
     "execution_count": 675,
     "metadata": {},
     "output_type": "execute_result"
    }
   ],
   "source": [
    "lower_lim"
   ]
  },
  {
   "cell_type": "code",
   "execution_count": 676,
   "metadata": {
    "id": "z1RBi82pDy0A",
    "outputId": "23a52b39-b3e1-4be2-c810-3b49f18d0b23"
   },
   "outputs": [
    {
     "data": {
      "text/plain": [
       "1.472487880694436"
      ]
     },
     "execution_count": 676,
     "metadata": {},
     "output_type": "execute_result"
    }
   ],
   "source": [
    "upper_lim"
   ]
  },
  {
   "cell_type": "code",
   "execution_count": 677,
   "metadata": {
    "id": "MYUEBuWm98gy",
    "outputId": "909630fa-70a1-49ab-91ef-7a1060bf8028"
   },
   "outputs": [
    {
     "data": {
      "text/plain": [
       "False    53940\n",
       "Name: carat_log, dtype: int64"
      ]
     },
     "execution_count": 677,
     "metadata": {},
     "output_type": "execute_result"
    }
   ],
   "source": [
    "(df.carat_log < lower_lim).value_counts()"
   ]
  },
  {
   "cell_type": "code",
   "execution_count": 678,
   "metadata": {
    "id": "u0TWN37C98gz",
    "outputId": "2b3b2060-cf50-4042-99c2-570463119622"
   },
   "outputs": [
    {
     "data": {
      "text/plain": [
       "False    53938\n",
       "True         2\n",
       "Name: carat_log, dtype: int64"
      ]
     },
     "execution_count": 678,
     "metadata": {},
     "output_type": "execute_result"
    }
   ],
   "source": [
    "(df.carat_log > upper_lim).value_counts()"
   ]
  },
  {
   "cell_type": "code",
   "execution_count": 679,
   "metadata": {
    "id": "XU5ChMBX98gz",
    "outputId": "925ba45a-fb75-4d62-b7bf-b5440234f0d0"
   },
   "outputs": [
    {
     "data": {
      "text/plain": [
       "True     53938\n",
       "False        2\n",
       "Name: carat_log, dtype: int64"
      ]
     },
     "execution_count": 679,
     "metadata": {},
     "output_type": "execute_result"
    }
   ],
   "source": [
    "(df.carat_log <= upper_lim).value_counts()"
   ]
  },
  {
   "cell_type": "code",
   "execution_count": 680,
   "metadata": {
    "id": "A8Jchcg898g0",
    "outputId": "4470fc72-f352-4226-cf4a-6d8ebbb6c211"
   },
   "outputs": [
    {
     "data": {
      "text/html": [
       "<div>\n",
       "<style scoped>\n",
       "    .dataframe tbody tr th:only-of-type {\n",
       "        vertical-align: middle;\n",
       "    }\n",
       "\n",
       "    .dataframe tbody tr th {\n",
       "        vertical-align: top;\n",
       "    }\n",
       "\n",
       "    .dataframe thead th {\n",
       "        text-align: right;\n",
       "    }\n",
       "</style>\n",
       "<table border=\"1\" class=\"dataframe\">\n",
       "  <thead>\n",
       "    <tr style=\"text-align: right;\">\n",
       "      <th></th>\n",
       "      <th>carat</th>\n",
       "      <th>depth</th>\n",
       "      <th>table</th>\n",
       "      <th>price</th>\n",
       "      <th>x</th>\n",
       "      <th>y</th>\n",
       "      <th>z</th>\n",
       "      <th>carat_log</th>\n",
       "    </tr>\n",
       "  </thead>\n",
       "  <tbody>\n",
       "    <tr>\n",
       "      <th>27415</th>\n",
       "      <td>5.01</td>\n",
       "      <td>65.5</td>\n",
       "      <td>59.0</td>\n",
       "      <td>18018</td>\n",
       "      <td>10.74</td>\n",
       "      <td>10.54</td>\n",
       "      <td>6.98</td>\n",
       "      <td>1.611436</td>\n",
       "    </tr>\n",
       "    <tr>\n",
       "      <th>27630</th>\n",
       "      <td>4.50</td>\n",
       "      <td>65.8</td>\n",
       "      <td>58.0</td>\n",
       "      <td>18531</td>\n",
       "      <td>10.23</td>\n",
       "      <td>10.16</td>\n",
       "      <td>6.72</td>\n",
       "      <td>1.504077</td>\n",
       "    </tr>\n",
       "  </tbody>\n",
       "</table>\n",
       "</div>"
      ],
      "text/plain": [
       "       carat  depth  table  price      x      y     z  carat_log\n",
       "27415   5.01   65.5   59.0  18018  10.74  10.54  6.98   1.611436\n",
       "27630   4.50   65.8   58.0  18531  10.23  10.16  6.72   1.504077"
      ]
     },
     "execution_count": 680,
     "metadata": {},
     "output_type": "execute_result"
    }
   ],
   "source": [
    "df.loc[(df.carat_log > upper_lim)]"
   ]
  },
  {
   "cell_type": "code",
   "execution_count": 681,
   "metadata": {
    "id": "lSStY81N98g0",
    "outputId": "6f32d874-86a5-4652-9a7d-0d67fd88bafd"
   },
   "outputs": [
    {
     "data": {
      "text/plain": [
       "Int64Index([27415, 27630], dtype='int64')"
      ]
     },
     "execution_count": 681,
     "metadata": {},
     "output_type": "execute_result"
    }
   ],
   "source": [
    "outlier_index = df.loc[(df.carat_log > upper_lim)].index\n",
    "outlier_index"
   ]
  },
  {
   "cell_type": "code",
   "execution_count": 682,
   "metadata": {
    "id": "K8_H4n_V98g1",
    "outputId": "41292ec7-43af-457a-97f4-2e83f6bf57e5"
   },
   "outputs": [
    {
     "data": {
      "text/html": [
       "<div>\n",
       "<style scoped>\n",
       "    .dataframe tbody tr th:only-of-type {\n",
       "        vertical-align: middle;\n",
       "    }\n",
       "\n",
       "    .dataframe tbody tr th {\n",
       "        vertical-align: top;\n",
       "    }\n",
       "\n",
       "    .dataframe thead th {\n",
       "        text-align: right;\n",
       "    }\n",
       "</style>\n",
       "<table border=\"1\" class=\"dataframe\">\n",
       "  <thead>\n",
       "    <tr style=\"text-align: right;\">\n",
       "      <th></th>\n",
       "      <th>carat</th>\n",
       "      <th>depth</th>\n",
       "      <th>table</th>\n",
       "      <th>price</th>\n",
       "      <th>x</th>\n",
       "      <th>y</th>\n",
       "      <th>z</th>\n",
       "      <th>carat_log</th>\n",
       "    </tr>\n",
       "  </thead>\n",
       "  <tbody>\n",
       "    <tr>\n",
       "      <th>0</th>\n",
       "      <td>0.23</td>\n",
       "      <td>61.5</td>\n",
       "      <td>55.0</td>\n",
       "      <td>326</td>\n",
       "      <td>3.95</td>\n",
       "      <td>3.98</td>\n",
       "      <td>2.43</td>\n",
       "      <td>-1.469676</td>\n",
       "    </tr>\n",
       "    <tr>\n",
       "      <th>1</th>\n",
       "      <td>0.21</td>\n",
       "      <td>59.8</td>\n",
       "      <td>61.0</td>\n",
       "      <td>326</td>\n",
       "      <td>3.89</td>\n",
       "      <td>3.84</td>\n",
       "      <td>2.31</td>\n",
       "      <td>-1.560648</td>\n",
       "    </tr>\n",
       "    <tr>\n",
       "      <th>2</th>\n",
       "      <td>0.23</td>\n",
       "      <td>56.9</td>\n",
       "      <td>65.0</td>\n",
       "      <td>327</td>\n",
       "      <td>4.05</td>\n",
       "      <td>4.07</td>\n",
       "      <td>2.31</td>\n",
       "      <td>-1.469676</td>\n",
       "    </tr>\n",
       "    <tr>\n",
       "      <th>3</th>\n",
       "      <td>0.29</td>\n",
       "      <td>62.4</td>\n",
       "      <td>58.0</td>\n",
       "      <td>334</td>\n",
       "      <td>4.20</td>\n",
       "      <td>4.23</td>\n",
       "      <td>2.63</td>\n",
       "      <td>-1.237874</td>\n",
       "    </tr>\n",
       "    <tr>\n",
       "      <th>4</th>\n",
       "      <td>0.31</td>\n",
       "      <td>63.3</td>\n",
       "      <td>58.0</td>\n",
       "      <td>335</td>\n",
       "      <td>4.34</td>\n",
       "      <td>4.35</td>\n",
       "      <td>2.75</td>\n",
       "      <td>-1.171183</td>\n",
       "    </tr>\n",
       "    <tr>\n",
       "      <th>...</th>\n",
       "      <td>...</td>\n",
       "      <td>...</td>\n",
       "      <td>...</td>\n",
       "      <td>...</td>\n",
       "      <td>...</td>\n",
       "      <td>...</td>\n",
       "      <td>...</td>\n",
       "      <td>...</td>\n",
       "    </tr>\n",
       "    <tr>\n",
       "      <th>53935</th>\n",
       "      <td>0.72</td>\n",
       "      <td>60.8</td>\n",
       "      <td>57.0</td>\n",
       "      <td>2757</td>\n",
       "      <td>5.75</td>\n",
       "      <td>5.76</td>\n",
       "      <td>3.50</td>\n",
       "      <td>-0.328504</td>\n",
       "    </tr>\n",
       "    <tr>\n",
       "      <th>53936</th>\n",
       "      <td>0.72</td>\n",
       "      <td>63.1</td>\n",
       "      <td>55.0</td>\n",
       "      <td>2757</td>\n",
       "      <td>5.69</td>\n",
       "      <td>5.75</td>\n",
       "      <td>3.61</td>\n",
       "      <td>-0.328504</td>\n",
       "    </tr>\n",
       "    <tr>\n",
       "      <th>53937</th>\n",
       "      <td>0.70</td>\n",
       "      <td>62.8</td>\n",
       "      <td>60.0</td>\n",
       "      <td>2757</td>\n",
       "      <td>5.66</td>\n",
       "      <td>5.68</td>\n",
       "      <td>3.56</td>\n",
       "      <td>-0.356675</td>\n",
       "    </tr>\n",
       "    <tr>\n",
       "      <th>53938</th>\n",
       "      <td>0.86</td>\n",
       "      <td>61.0</td>\n",
       "      <td>58.0</td>\n",
       "      <td>2757</td>\n",
       "      <td>6.15</td>\n",
       "      <td>6.12</td>\n",
       "      <td>3.74</td>\n",
       "      <td>-0.150823</td>\n",
       "    </tr>\n",
       "    <tr>\n",
       "      <th>53939</th>\n",
       "      <td>0.75</td>\n",
       "      <td>62.2</td>\n",
       "      <td>55.0</td>\n",
       "      <td>2757</td>\n",
       "      <td>5.83</td>\n",
       "      <td>5.87</td>\n",
       "      <td>3.64</td>\n",
       "      <td>-0.287682</td>\n",
       "    </tr>\n",
       "  </tbody>\n",
       "</table>\n",
       "<p>53938 rows × 8 columns</p>\n",
       "</div>"
      ],
      "text/plain": [
       "       carat  depth  table  price     x     y     z  carat_log\n",
       "0       0.23   61.5   55.0    326  3.95  3.98  2.43  -1.469676\n",
       "1       0.21   59.8   61.0    326  3.89  3.84  2.31  -1.560648\n",
       "2       0.23   56.9   65.0    327  4.05  4.07  2.31  -1.469676\n",
       "3       0.29   62.4   58.0    334  4.20  4.23  2.63  -1.237874\n",
       "4       0.31   63.3   58.0    335  4.34  4.35  2.75  -1.171183\n",
       "...      ...    ...    ...    ...   ...   ...   ...        ...\n",
       "53935   0.72   60.8   57.0   2757  5.75  5.76  3.50  -0.328504\n",
       "53936   0.72   63.1   55.0   2757  5.69  5.75  3.61  -0.328504\n",
       "53937   0.70   62.8   60.0   2757  5.66  5.68  3.56  -0.356675\n",
       "53938   0.86   61.0   58.0   2757  6.15  6.12  3.74  -0.150823\n",
       "53939   0.75   62.2   55.0   2757  5.83  5.87  3.64  -0.287682\n",
       "\n",
       "[53938 rows x 8 columns]"
      ]
     },
     "execution_count": 682,
     "metadata": {},
     "output_type": "execute_result"
    }
   ],
   "source": [
    "df.drop(outlier_index)"
   ]
  },
  {
   "cell_type": "code",
   "execution_count": 683,
   "metadata": {
    "id": "eynpOvpw98g1"
   },
   "outputs": [],
   "source": [
    "not_outliers = (df.carat_log <= upper_lim)"
   ]
  },
  {
   "cell_type": "code",
   "execution_count": 684,
   "metadata": {
    "id": "IH06uogG98g1",
    "outputId": "a92aed65-cc78-410e-8fa1-65344e875d8a"
   },
   "outputs": [
    {
     "data": {
      "text/plain": [
       "53938"
      ]
     },
     "execution_count": 684,
     "metadata": {},
     "output_type": "execute_result"
    }
   ],
   "source": [
    "len(df[not_outliers])"
   ]
  },
  {
   "cell_type": "code",
   "execution_count": 685,
   "metadata": {
    "id": "AzdQ_8c098g2"
   },
   "outputs": [],
   "source": [
    "cleaned_df = df[not_outliers]"
   ]
  },
  {
   "cell_type": "code",
   "execution_count": 686,
   "metadata": {
    "id": "g5EJ1L2D98g2",
    "outputId": "6eb9130f-5983-45b5-89d0-40e3a8b150c2"
   },
   "outputs": [
    {
     "data": {
      "text/html": [
       "<div>\n",
       "<style scoped>\n",
       "    .dataframe tbody tr th:only-of-type {\n",
       "        vertical-align: middle;\n",
       "    }\n",
       "\n",
       "    .dataframe tbody tr th {\n",
       "        vertical-align: top;\n",
       "    }\n",
       "\n",
       "    .dataframe thead th {\n",
       "        text-align: right;\n",
       "    }\n",
       "</style>\n",
       "<table border=\"1\" class=\"dataframe\">\n",
       "  <thead>\n",
       "    <tr style=\"text-align: right;\">\n",
       "      <th></th>\n",
       "      <th>carat</th>\n",
       "      <th>depth</th>\n",
       "      <th>table</th>\n",
       "      <th>price</th>\n",
       "      <th>x</th>\n",
       "      <th>y</th>\n",
       "      <th>z</th>\n",
       "      <th>carat_log</th>\n",
       "    </tr>\n",
       "  </thead>\n",
       "  <tbody>\n",
       "    <tr>\n",
       "      <th>0</th>\n",
       "      <td>0.23</td>\n",
       "      <td>61.5</td>\n",
       "      <td>55.0</td>\n",
       "      <td>326</td>\n",
       "      <td>3.95</td>\n",
       "      <td>3.98</td>\n",
       "      <td>2.43</td>\n",
       "      <td>-1.469676</td>\n",
       "    </tr>\n",
       "    <tr>\n",
       "      <th>1</th>\n",
       "      <td>0.21</td>\n",
       "      <td>59.8</td>\n",
       "      <td>61.0</td>\n",
       "      <td>326</td>\n",
       "      <td>3.89</td>\n",
       "      <td>3.84</td>\n",
       "      <td>2.31</td>\n",
       "      <td>-1.560648</td>\n",
       "    </tr>\n",
       "    <tr>\n",
       "      <th>2</th>\n",
       "      <td>0.23</td>\n",
       "      <td>56.9</td>\n",
       "      <td>65.0</td>\n",
       "      <td>327</td>\n",
       "      <td>4.05</td>\n",
       "      <td>4.07</td>\n",
       "      <td>2.31</td>\n",
       "      <td>-1.469676</td>\n",
       "    </tr>\n",
       "    <tr>\n",
       "      <th>3</th>\n",
       "      <td>0.29</td>\n",
       "      <td>62.4</td>\n",
       "      <td>58.0</td>\n",
       "      <td>334</td>\n",
       "      <td>4.20</td>\n",
       "      <td>4.23</td>\n",
       "      <td>2.63</td>\n",
       "      <td>-1.237874</td>\n",
       "    </tr>\n",
       "    <tr>\n",
       "      <th>4</th>\n",
       "      <td>0.31</td>\n",
       "      <td>63.3</td>\n",
       "      <td>58.0</td>\n",
       "      <td>335</td>\n",
       "      <td>4.34</td>\n",
       "      <td>4.35</td>\n",
       "      <td>2.75</td>\n",
       "      <td>-1.171183</td>\n",
       "    </tr>\n",
       "    <tr>\n",
       "      <th>...</th>\n",
       "      <td>...</td>\n",
       "      <td>...</td>\n",
       "      <td>...</td>\n",
       "      <td>...</td>\n",
       "      <td>...</td>\n",
       "      <td>...</td>\n",
       "      <td>...</td>\n",
       "      <td>...</td>\n",
       "    </tr>\n",
       "    <tr>\n",
       "      <th>53935</th>\n",
       "      <td>0.72</td>\n",
       "      <td>60.8</td>\n",
       "      <td>57.0</td>\n",
       "      <td>2757</td>\n",
       "      <td>5.75</td>\n",
       "      <td>5.76</td>\n",
       "      <td>3.50</td>\n",
       "      <td>-0.328504</td>\n",
       "    </tr>\n",
       "    <tr>\n",
       "      <th>53936</th>\n",
       "      <td>0.72</td>\n",
       "      <td>63.1</td>\n",
       "      <td>55.0</td>\n",
       "      <td>2757</td>\n",
       "      <td>5.69</td>\n",
       "      <td>5.75</td>\n",
       "      <td>3.61</td>\n",
       "      <td>-0.328504</td>\n",
       "    </tr>\n",
       "    <tr>\n",
       "      <th>53937</th>\n",
       "      <td>0.70</td>\n",
       "      <td>62.8</td>\n",
       "      <td>60.0</td>\n",
       "      <td>2757</td>\n",
       "      <td>5.66</td>\n",
       "      <td>5.68</td>\n",
       "      <td>3.56</td>\n",
       "      <td>-0.356675</td>\n",
       "    </tr>\n",
       "    <tr>\n",
       "      <th>53938</th>\n",
       "      <td>0.86</td>\n",
       "      <td>61.0</td>\n",
       "      <td>58.0</td>\n",
       "      <td>2757</td>\n",
       "      <td>6.15</td>\n",
       "      <td>6.12</td>\n",
       "      <td>3.74</td>\n",
       "      <td>-0.150823</td>\n",
       "    </tr>\n",
       "    <tr>\n",
       "      <th>53939</th>\n",
       "      <td>0.75</td>\n",
       "      <td>62.2</td>\n",
       "      <td>55.0</td>\n",
       "      <td>2757</td>\n",
       "      <td>5.83</td>\n",
       "      <td>5.87</td>\n",
       "      <td>3.64</td>\n",
       "      <td>-0.287682</td>\n",
       "    </tr>\n",
       "  </tbody>\n",
       "</table>\n",
       "<p>53938 rows × 8 columns</p>\n",
       "</div>"
      ],
      "text/plain": [
       "       carat  depth  table  price     x     y     z  carat_log\n",
       "0       0.23   61.5   55.0    326  3.95  3.98  2.43  -1.469676\n",
       "1       0.21   59.8   61.0    326  3.89  3.84  2.31  -1.560648\n",
       "2       0.23   56.9   65.0    327  4.05  4.07  2.31  -1.469676\n",
       "3       0.29   62.4   58.0    334  4.20  4.23  2.63  -1.237874\n",
       "4       0.31   63.3   58.0    335  4.34  4.35  2.75  -1.171183\n",
       "...      ...    ...    ...    ...   ...   ...   ...        ...\n",
       "53935   0.72   60.8   57.0   2757  5.75  5.76  3.50  -0.328504\n",
       "53936   0.72   63.1   55.0   2757  5.69  5.75  3.61  -0.328504\n",
       "53937   0.70   62.8   60.0   2757  5.66  5.68  3.56  -0.356675\n",
       "53938   0.86   61.0   58.0   2757  6.15  6.12  3.74  -0.150823\n",
       "53939   0.75   62.2   55.0   2757  5.83  5.87  3.64  -0.287682\n",
       "\n",
       "[53938 rows x 8 columns]"
      ]
     },
     "execution_count": 686,
     "metadata": {},
     "output_type": "execute_result"
    }
   ],
   "source": [
    "cleaned_df"
   ]
  }
 ],
 "metadata": {
  "colab": {
   "name": "DAwPy-S6 (Handling Missing Values, Outliers).ipynb",
   "provenance": []
  },
  "kernelspec": {
   "display_name": "Python 3",
   "language": "python",
   "name": "python3"
  },
  "language_info": {
   "codemirror_mode": {
    "name": "ipython",
    "version": 3
   },
   "file_extension": ".py",
   "mimetype": "text/x-python",
   "name": "python",
   "nbconvert_exporter": "python",
   "pygments_lexer": "ipython3",
   "version": "3.10.2"
  },
  "latex_envs": {
   "LaTeX_envs_menu_present": true,
   "autoclose": false,
   "autocomplete": true,
   "bibliofile": "biblio.bib",
   "cite_by": "apalike",
   "current_citInitial": 1,
   "eqLabelWithNumbers": true,
   "eqNumInitial": 1,
   "hotkeys": {
    "equation": "Ctrl-E",
    "itemize": "Ctrl-I"
   },
   "labels_anchors": false,
   "latex_user_defs": false,
   "report_style_numbering": false,
   "user_envs_cfg": false
  },
  "nbTranslate": {
   "displayLangs": [],
   "hotkey": "alt-t",
   "langInMainMenu": true,
   "sourceLang": "en",
   "targetLang": "de",
   "useGoogleTranslate": true
  },
  "toc": {
   "base_numbering": 1,
   "nav_menu": {},
   "number_sections": true,
   "sideBar": true,
   "skip_h1_title": false,
   "title_cell": "Table of Contents",
   "title_sidebar": "Contents",
   "toc_cell": false,
   "toc_position": {},
   "toc_section_display": true,
   "toc_window_display": false
  },
  "varInspector": {
   "cols": {
    "lenName": 16,
    "lenType": 16,
    "lenVar": 40
   },
   "kernels_config": {
    "python": {
     "delete_cmd_postfix": "",
     "delete_cmd_prefix": "del ",
     "library": "var_list.py",
     "varRefreshCmd": "print(var_dic_list())"
    },
    "r": {
     "delete_cmd_postfix": ") ",
     "delete_cmd_prefix": "rm(",
     "library": "var_list.r",
     "varRefreshCmd": "cat(var_dic_list()) "
    }
   },
   "types_to_exclude": [
    "module",
    "function",
    "builtin_function_or_method",
    "instance",
    "_Feature"
   ],
   "window_display": false
  }
 },
 "nbformat": 4,
 "nbformat_minor": 1
}
