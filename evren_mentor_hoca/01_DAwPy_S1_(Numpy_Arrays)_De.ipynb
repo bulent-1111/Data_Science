{
 "cells": [
  {
   "cell_type": "markdown",
   "metadata": {
    "id": "2VHWqrqArbsk"
   },
   "source": [
    "___\n",
    "\n",
    "\n",
    "<p style=\"text-align: center;\"><img src=\"https://docs.google.com/uc?id=1lY0Uj5R04yMY3-ZppPWxqCr5pvBLYPnV\" class=\"img-fluid\" alt=\"Rossum\"></p>\n",
    "\n",
    "___"
   ]
  },
  {
   "cell_type": "markdown",
   "metadata": {
    "id": "buNDUxX9rbsG"
   },
   "source": [
    "<head>\n",
    " <center><title>~NumPy | Lektion-1~</title></center>\n",
    "</head>"
   ]
  },
  {
   "cell_type": "markdown",
   "metadata": {
    "lang": "de"
   },
   "source": [
    "# NumPy\n",
    "\n",
    "-NumPy ist eine Lineare Algebra-Bibliothek für Python. Fast alle Bibliotheken im PyData-Ökosystem stützen auf NumPy als einen ihrer Hauptbausteine.\n",
    "\n",
    "-Numpy ist auch unglaublich schnell, da es Bindungen an C-Bibliotheken hat. Warum werden Arrays anstelle von Listen verwenden und Für eitere Informationen:\n",
    "http://stackoverflow.com/questions/993984/why-numpy-anstatt-python-lists\n",
    "\n",
    "https://stackoverflow.com/questions/993984/what-are-the-advantages-of-numpy-over-regular-python-lists\n",
    "\n",
    "https://stackoverflow.com/questions/22149584/what-does-axis-in-pandas-mean"
   ]
  },
  {
   "cell_type": "markdown",
   "metadata": {
    "lang": "de"
   },
   "source": [
    "## Installationsanleitung\n",
    "\n",
    "-Es wird dringend empfohlen, Python mit der Anaconda-Distribution zu installieren, um sicherzustellen, dass alle zugrunde liegenden Abhängigkeiten (wie Linear-Algebra-Bibliotheken) alle mit einer Conda-Installation synchronisiert werden. Wenn Sie Anaconda haben, installieren Sie NumPy, indem Sie zu Ihrem Terminal oder Ihrer Eingabeaufforderung gehen und Folgendes eingeben:\n",
    "    \n",
    "    conda install numpy\n",
    "    \n",
    "-Wenn Sie kein Anaconda haben und es nicht installieren möchten, könnten sie via Notebooks:\n",
    "\n",
    "    !pip3 install numpy\n",
    "    \n",
    "Für weitere Informationen lesen Sie bitte die offizielle Dokumentation von Numpy zu verschiedenen Installationsanweisungen.\n",
    "http://docs.scipy.org/doc/numpy-1.10.1/user/install.html"
   ]
  },
  {
   "cell_type": "markdown",
   "metadata": {
    "lang": "de"
   },
   "source": [
    "## Laden von NumPy\n",
    "\n",
    "Nachdem Sie NumPy installiert haben, können Sie es als Bibliothek laden:"
   ]
  },
  {
   "cell_type": "code",
   "execution_count": 1,
   "metadata": {
    "id": "r6u7UmsarbsI"
   },
   "outputs": [],
   "source": [
    "import numpy as np"
   ]
  },
  {
   "cell_type": "markdown",
   "metadata": {
    "lang": "de"
   },
   "source": [
    "-Numpy hat viele eingebaute Funktionen und Fähigkeiten. Wir behandeln sie nicht alle, sondern uns auf einige der wichtigsten Aspekte von Numpy konzentrieren: Vektoren, Arrays, Matrizen und Zahlengenerierung. Beginnen wir mit der Diskussion von Arrays.\n",
    "\n",
    "# Numpy-Arrays\n",
    "\n",
    "-NumPy-Arrays sind die Hauptmethode, mit der wir Numpy im gesamten Kurs verwenden werden. Numpy-Arrays gibt es im Wesentlichen in zwei Varianten: \n",
    "- Vektoren\n",
    "- Matrizen \n",
    "\n",
    "-Vektoren sind strikt 1-d-Arrays und Matrizen sind 2-d (Sie sollten jedoch beachten, dass eine Matrix immer noch nur eine Zeile oder eine Spalte haben kann).\n",
    "\n",
    "-Beginnen wir unsere Einführung damit, wie man NumPy-Arrays erstellt."
   ]
  },
  {
   "cell_type": "markdown",
   "metadata": {
    "lang": "de"
   },
   "source": [
    "## Erstellen von NumPy-Arrays"
   ]
  },
  {
   "cell_type": "markdown",
   "metadata": {
    "lang": "de"
   },
   "source": [
    "### Aus einer Python-Liste\n",
    "\n",
    "-Wir können ein Array erstellen, indem wir eine Liste oder Liste von Listen direkt konvertieren:"
   ]
  },
  {
   "cell_type": "code",
   "execution_count": 2,
   "metadata": {
    "id": "psi4agZFrbsK",
    "outputId": "6ce7ed8a-d76e-423d-fc46-5e552a75e467"
   },
   "outputs": [
    {
     "data": {
      "text/plain": [
       "[1, 2, 3]"
      ]
     },
     "execution_count": 2,
     "metadata": {},
     "output_type": "execute_result"
    }
   ],
   "source": [
    "meine_Liste = [1, 2, 3]\n",
    "meine_Liste"
   ]
  },
  {
   "cell_type": "code",
   "execution_count": 3,
   "metadata": {},
   "outputs": [
    {
     "data": {
      "text/plain": [
       "array([1, 2, 3])"
      ]
     },
     "execution_count": 3,
     "metadata": {},
     "output_type": "execute_result"
    }
   ],
   "source": [
    "mein_Array = np.array(meine_Liste)\n",
    "mein_Array"
   ]
  },
  {
   "cell_type": "code",
   "execution_count": 4,
   "metadata": {
    "id": "4WMqeFrZ8mSH",
    "outputId": "d7d8f168-c0bb-43a7-cb73-ea0d52a5911f"
   },
   "outputs": [
    {
     "data": {
      "text/plain": [
       "array([1, 2, 3])"
      ]
     },
     "execution_count": 4,
     "metadata": {},
     "output_type": "execute_result"
    }
   ],
   "source": [
    "np.array([1, 2, 3])"
   ]
  },
  {
   "cell_type": "markdown",
   "metadata": {
    "id": "sB3Sm-RMrbsL"
   },
   "source": [
    "### Warum NumPy?"
   ]
  },
  {
   "cell_type": "code",
   "execution_count": 5,
   "metadata": {
    "id": "cmp2RVx3rbsM"
   },
   "outputs": [],
   "source": [
    "a = [1, 2, 3, 4]\n",
    "b = [2, 3, 4, 5]"
   ]
  },
  {
   "cell_type": "code",
   "execution_count": 6,
   "metadata": {
    "id": "lcHyjJSarbsM",
    "lang": "en"
   },
   "outputs": [],
   "source": [
    "# a * b  # gibt einen Fehler aus!! Wir können nicht zwei Liste multiplizieren.\n",
    "# TypeError: can't multiply sequence by non-int of type 'list'"
   ]
  },
  {
   "cell_type": "code",
   "execution_count": 7,
   "metadata": {
    "id": "KkSiFLIhrbsM",
    "outputId": "25025f68-2e8e-4736-853f-953f6b480ec1"
   },
   "outputs": [
    {
     "data": {
      "text/plain": [
       "[2, 6, 12, 20]"
      ]
     },
     "execution_count": 7,
     "metadata": {},
     "output_type": "execute_result"
    }
   ],
   "source": [
    "ab = []                        \n",
    "\n",
    "for i in range(0, len(a)):\n",
    "    ab.append(a[i]*b[i])\n",
    "\n",
    "ab"
   ]
  },
  {
   "cell_type": "code",
   "execution_count": 8,
   "metadata": {
    "id": "JmnYUZGyrbsM"
   },
   "outputs": [],
   "source": [
    "a = np.array(a)\n",
    "b = np.array(b)"
   ]
  },
  {
   "cell_type": "code",
   "execution_count": 9,
   "metadata": {
    "id": "HDwb_blfrbsN",
    "outputId": "1c880b0b-e3ea-4d6f-dd79-0feaede3dfbc"
   },
   "outputs": [
    {
     "data": {
      "text/plain": [
       "array([ 2,  6, 12, 20])"
      ]
     },
     "execution_count": 9,
     "metadata": {},
     "output_type": "execute_result"
    }
   ],
   "source": [
    "a * b"
   ]
  },
  {
   "cell_type": "code",
   "execution_count": 10,
   "metadata": {
    "id": "TtIbwGT7rbsN"
   },
   "outputs": [],
   "source": [
    "x = np.array([[1,2,3,4], [1,2,3,4], [2,3,4,5]])\n",
    "y = np.array([[2,3,4,5], [1,2,4,5], [1,2,3,4]])"
   ]
  },
  {
   "cell_type": "code",
   "execution_count": 11,
   "metadata": {
    "id": "jHWMaXRf8mSN",
    "outputId": "0ee8de65-ab22-4fe5-9c06-490310dae32e"
   },
   "outputs": [
    {
     "data": {
      "text/plain": [
       "array([[1, 2, 3, 4],\n",
       "       [1, 2, 3, 4],\n",
       "       [2, 3, 4, 5]])"
      ]
     },
     "execution_count": 11,
     "metadata": {},
     "output_type": "execute_result"
    }
   ],
   "source": [
    "x"
   ]
  },
  {
   "cell_type": "code",
   "execution_count": 12,
   "metadata": {
    "id": "6Uriqzeu8mSN",
    "outputId": "16a1517e-6795-48b4-acac-18568bc61937"
   },
   "outputs": [
    {
     "data": {
      "text/plain": [
       "array([[2, 3, 4, 5],\n",
       "       [1, 2, 4, 5],\n",
       "       [1, 2, 3, 4]])"
      ]
     },
     "execution_count": 12,
     "metadata": {},
     "output_type": "execute_result"
    }
   ],
   "source": [
    "y"
   ]
  },
  {
   "cell_type": "code",
   "execution_count": 13,
   "metadata": {
    "id": "StdCp39vrbsN",
    "outputId": "385fbca9-1423-4f40-aa92-7671640ce72f"
   },
   "outputs": [
    {
     "data": {
      "text/plain": [
       "2"
      ]
     },
     "execution_count": 13,
     "metadata": {},
     "output_type": "execute_result"
    }
   ],
   "source": [
    "x.ndim\n"
   ]
  },
  {
   "cell_type": "code",
   "execution_count": 14,
   "metadata": {
    "id": "ZH1ZRAN4rbsN",
    "outputId": "83c42fe4-d005-4b22-9aad-25d45afa20fd"
   },
   "outputs": [
    {
     "data": {
      "text/plain": [
       "2"
      ]
     },
     "execution_count": 14,
     "metadata": {},
     "output_type": "execute_result"
    }
   ],
   "source": [
    "y.ndim"
   ]
  },
  {
   "cell_type": "code",
   "execution_count": 15,
   "metadata": {
    "id": "P17QMQ0_rbsO",
    "outputId": "4121c302-e6a3-43df-a84d-5d121ce09eea"
   },
   "outputs": [
    {
     "data": {
      "text/plain": [
       "array([[ 2,  6, 12, 20],\n",
       "       [ 1,  4, 12, 20],\n",
       "       [ 2,  6, 12, 20]])"
      ]
     },
     "execution_count": 15,
     "metadata": {},
     "output_type": "execute_result"
    }
   ],
   "source": [
    "x * y"
   ]
  },
  {
   "cell_type": "code",
   "execution_count": 16,
   "metadata": {
    "id": "cf3xLwiBrbsO",
    "outputId": "bc6b3636-d21b-4f90-a2d9-0be405d7805b"
   },
   "outputs": [
    {
     "data": {
      "text/plain": [
       "[[1, 2, 3], [4, 5, 6], [7, 8, 9]]"
      ]
     },
     "execution_count": 16,
     "metadata": {},
     "output_type": "execute_result"
    }
   ],
   "source": [
    "# Verschachtelte Listen ohne NumPy.\n",
    "\n",
    "meine_Matrix = [[1,2,3], [4,5,6], [7,8,9]]\n",
    "meine_Matrix "
   ]
  },
  {
   "cell_type": "code",
   "execution_count": 17,
   "metadata": {
    "id": "oc-0PM8xrbsO",
    "outputId": "c6a8359d-2937-4464-b6a7-680bb39c0ab2"
   },
   "outputs": [
    {
     "data": {
      "text/plain": [
       "array([[1, 2, 3],\n",
       "       [4, 5, 6],\n",
       "       [7, 8, 9]])"
      ]
     },
     "execution_count": 17,
     "metadata": {},
     "output_type": "execute_result"
    }
   ],
   "source": [
    "np.array(meine_Matrix)"
   ]
  },
  {
   "cell_type": "code",
   "execution_count": 18,
   "metadata": {
    "id": "_mjU0ahwrbsO",
    "outputId": "d18e0a12-a9f2-4926-e0f7-0ef2c32a0505"
   },
   "outputs": [
    {
     "data": {
      "text/plain": [
       "numpy.ndarray"
      ]
     },
     "execution_count": 18,
     "metadata": {},
     "output_type": "execute_result"
    }
   ],
   "source": [
    "neue_matrix = np.array(meine_Matrix)\n",
    "type(neue_matrix)"
   ]
  },
  {
   "cell_type": "markdown",
   "metadata": {
    "lang": "de"
   },
   "source": [
    "### Eingebaute Funktionen\n",
    "-Es gibt viele eingebauten(die Standartfunktion) Funktionen zum Erstellen von Arrays."
   ]
  },
  {
   "cell_type": "markdown",
   "metadata": {
    "lang": "de"
   },
   "source": [
    "#### ``arange``\n",
    "\n",
    "-Gibt gleichmäßig verteilte Werte innerhalb eines bestimmten Intervalls zurück.\n",
    "\n",
    "    arange(start, stop, step, dtype=None)"
   ]
  },
  {
   "cell_type": "code",
   "execution_count": 19,
   "metadata": {
    "id": "LlY7IV6I8mSR",
    "outputId": "607f8191-a346-4af0-8ddb-9daf4b16ba60"
   },
   "outputs": [
    {
     "data": {
      "text/plain": [
       "array([0, 1, 2, 3, 4, 5, 6, 7, 8, 9])"
      ]
     },
     "execution_count": 19,
     "metadata": {},
     "output_type": "execute_result"
    }
   ],
   "source": [
    "np.arange(10)"
   ]
  },
  {
   "cell_type": "code",
   "execution_count": 20,
   "metadata": {
    "id": "xubSIUp5rbsP",
    "outputId": "297a55de-21c1-4834-ed04-e54056a6c7fc"
   },
   "outputs": [
    {
     "data": {
      "text/plain": [
       "array([0, 1, 2, 3, 4, 5, 6, 7, 8, 9])"
      ]
     },
     "execution_count": 20,
     "metadata": {},
     "output_type": "execute_result"
    }
   ],
   "source": [
    "np.arange(0, 10)"
   ]
  },
  {
   "cell_type": "code",
   "execution_count": 21,
   "metadata": {
    "id": "VAJa3APDrbsP",
    "outputId": "f4eb8f5f-d9a7-4172-dfca-e5a91ae17ff8"
   },
   "outputs": [
    {
     "data": {
      "text/plain": [
       "array([ 0,  2,  4,  6,  8, 10])"
      ]
     },
     "execution_count": 21,
     "metadata": {},
     "output_type": "execute_result"
    }
   ],
   "source": [
    "np.arange(0, 11, 2)"
   ]
  },
  {
   "cell_type": "code",
   "execution_count": 22,
   "metadata": {
    "id": "2DXfiSTIrbsP",
    "outputId": "b1a8405e-a150-45c1-f09e-f7db339db2ab"
   },
   "outputs": [
    {
     "data": {
      "text/plain": [
       "array([ 0,  3,  6,  9, 12, 15, 18, 21, 24, 27, 30])"
      ]
     },
     "execution_count": 22,
     "metadata": {},
     "output_type": "execute_result"
    }
   ],
   "source": [
    "np.arange(0, 31, 3)"
   ]
  },
  {
   "cell_type": "markdown",
   "metadata": {
    "lang": "de"
   },
   "source": [
    "#### ``Linspace``\n",
    "-Gibt gleichmäßig verteilte Zahlen über ein angegebenes Intervall zurück.\n",
    "\n",
    "    np.linspace(start, stop, num=50)\n",
    " "
   ]
  },
  {
   "cell_type": "code",
   "execution_count": 23,
   "metadata": {
    "id": "J8ZGgOmfrbsS",
    "outputId": "b1706c02-adfd-402d-b14a-204eea282e7b"
   },
   "outputs": [
    {
     "data": {
      "text/plain": [
       "array([ 0.,  5., 10.])"
      ]
     },
     "execution_count": 23,
     "metadata": {},
     "output_type": "execute_result"
    }
   ],
   "source": [
    "# gleiche Stücke/Teile\n",
    "np.linspace(0, 10, 3)"
   ]
  },
  {
   "cell_type": "code",
   "execution_count": 24,
   "metadata": {
    "id": "6NAPCs8brbsS",
    "outputId": "df19eb33-0ad6-4886-be47-bd3493776201"
   },
   "outputs": [
    {
     "data": {
      "text/plain": [
       "array([ 0.        ,  0.20408163,  0.40816327,  0.6122449 ,  0.81632653,\n",
       "        1.02040816,  1.2244898 ,  1.42857143,  1.63265306,  1.83673469,\n",
       "        2.04081633,  2.24489796,  2.44897959,  2.65306122,  2.85714286,\n",
       "        3.06122449,  3.26530612,  3.46938776,  3.67346939,  3.87755102,\n",
       "        4.08163265,  4.28571429,  4.48979592,  4.69387755,  4.89795918,\n",
       "        5.10204082,  5.30612245,  5.51020408,  5.71428571,  5.91836735,\n",
       "        6.12244898,  6.32653061,  6.53061224,  6.73469388,  6.93877551,\n",
       "        7.14285714,  7.34693878,  7.55102041,  7.75510204,  7.95918367,\n",
       "        8.16326531,  8.36734694,  8.57142857,  8.7755102 ,  8.97959184,\n",
       "        9.18367347,  9.3877551 ,  9.59183673,  9.79591837, 10.        ])"
      ]
     },
     "execution_count": 24,
     "metadata": {},
     "output_type": "execute_result"
    }
   ],
   "source": [
    "np.linspace(0, 10, num=50)"
   ]
  },
  {
   "cell_type": "code",
   "execution_count": 25,
   "metadata": {
    "id": "mnHtn2AUrbsS",
    "outputId": "29a13867-8fbd-4fff-9ad3-d7a5b10e959b"
   },
   "outputs": [
    {
     "data": {
      "text/plain": [
       "array([ 0.        ,  0.20408163,  0.40816327,  0.6122449 ,  0.81632653,\n",
       "        1.02040816,  1.2244898 ,  1.42857143,  1.63265306,  1.83673469,\n",
       "        2.04081633,  2.24489796,  2.44897959,  2.65306122,  2.85714286,\n",
       "        3.06122449,  3.26530612,  3.46938776,  3.67346939,  3.87755102,\n",
       "        4.08163265,  4.28571429,  4.48979592,  4.69387755,  4.89795918,\n",
       "        5.10204082,  5.30612245,  5.51020408,  5.71428571,  5.91836735,\n",
       "        6.12244898,  6.32653061,  6.53061224,  6.73469388,  6.93877551,\n",
       "        7.14285714,  7.34693878,  7.55102041,  7.75510204,  7.95918367,\n",
       "        8.16326531,  8.36734694,  8.57142857,  8.7755102 ,  8.97959184,\n",
       "        9.18367347,  9.3877551 ,  9.59183673,  9.79591837, 10.        ])"
      ]
     },
     "execution_count": 25,
     "metadata": {},
     "output_type": "execute_result"
    }
   ],
   "source": [
    "# Da der Schlüsselwortparameter 'num' = 50 voreingestellt ist, ist es gleich wie das vorherige. \n",
    "np.linspace(0, 10)"
   ]
  },
  {
   "cell_type": "code",
   "execution_count": 26,
   "metadata": {
    "id": "uplaERhlrbsT",
    "outputId": "d6a5a32d-05b2-454e-d752-3dac94dc137f"
   },
   "outputs": [
    {
     "data": {
      "text/plain": [
       "array([ 0,  0,  0,  0,  0,  1,  1,  1,  1,  1,  2,  2,  2,  2,  2,  3,  3,\n",
       "        3,  3,  3,  4,  4,  4,  4,  4,  5,  5,  5,  5,  5,  6,  6,  6,  6,\n",
       "        6,  7,  7,  7,  7,  7,  8,  8,  8,  8,  8,  9,  9,  9,  9, 10])"
      ]
     },
     "execution_count": 26,
     "metadata": {},
     "output_type": "execute_result"
    }
   ],
   "source": [
    "np.linspace(0, 10, dtype=\"int\")"
   ]
  },
  {
   "cell_type": "code",
   "execution_count": 27,
   "metadata": {
    "id": "x6sLyucBrbsT",
    "outputId": "b63b94a2-7be5-4be3-cd1d-d97ed17284d9"
   },
   "outputs": [
    {
     "data": {
      "text/plain": [
       "50"
      ]
     },
     "execution_count": 27,
     "metadata": {},
     "output_type": "execute_result"
    }
   ],
   "source": [
    "len(np.linspace(0, 10, dtype=\"int\"))"
   ]
  },
  {
   "cell_type": "markdown",
   "metadata": {
    "lang": "de"
   },
   "source": [
    "### ``zeros``, ``ones`` und ``full``\n",
    "\n",
    "-Erstellt Arrays aus zeros oder ones\n",
    "\n",
    "    np.zeros(shape, dtype=float, order='C')\n",
    "    np.ones(shape, dtype=None, order='C')\n",
    "    np.full(shape, fill_value, dtype=None, order='C')"
   ]
  },
  {
   "cell_type": "markdown",
   "metadata": {},
   "source": [
    "#### ``zeros``"
   ]
  },
  {
   "cell_type": "code",
   "execution_count": 28,
   "metadata": {
    "id": "sUhq2uwBrbsQ",
    "outputId": "c355a7aa-abf4-4376-9fa0-8579f6f3f376"
   },
   "outputs": [
    {
     "data": {
      "text/plain": [
       "array([0., 0., 0.])"
      ]
     },
     "execution_count": 28,
     "metadata": {},
     "output_type": "execute_result"
    }
   ],
   "source": [
    "np.zeros(3)"
   ]
  },
  {
   "cell_type": "code",
   "execution_count": 29,
   "metadata": {
    "id": "Mwyf235qrbsQ",
    "outputId": "f843d001-08e0-4666-8d19-8aa9262ec74b"
   },
   "outputs": [
    {
     "data": {
      "text/plain": [
       "array([0, 0, 0, 0, 0, 0, 0, 0, 0, 0])"
      ]
     },
     "execution_count": 29,
     "metadata": {},
     "output_type": "execute_result"
    }
   ],
   "source": [
    "np.zeros(10, dtype=int)"
   ]
  },
  {
   "cell_type": "code",
   "execution_count": 30,
   "metadata": {
    "id": "ksfHoDlbrbsQ",
    "outputId": "1bc4cc80-1e08-4aaf-d23b-e52ac40da343"
   },
   "outputs": [
    {
     "data": {
      "text/plain": [
       "array([[0., 0., 0., 0., 0.],\n",
       "       [0., 0., 0., 0., 0.],\n",
       "       [0., 0., 0., 0., 0.],\n",
       "       [0., 0., 0., 0., 0.],\n",
       "       [0., 0., 0., 0., 0.]])"
      ]
     },
     "execution_count": 30,
     "metadata": {},
     "output_type": "execute_result"
    }
   ],
   "source": [
    "np.zeros((5, 5))"
   ]
  },
  {
   "cell_type": "code",
   "execution_count": 31,
   "metadata": {
    "id": "qdvaLeSirbsQ",
    "outputId": "11107447-16f6-4e5d-fad9-fac417622117"
   },
   "outputs": [
    {
     "data": {
      "text/plain": [
       "array([['', '', '', ''],\n",
       "       ['', '', '', ''],\n",
       "       ['', '', '', ''],\n",
       "       ['', '', '', '']], dtype='<U1')"
      ]
     },
     "execution_count": 31,
     "metadata": {},
     "output_type": "execute_result"
    }
   ],
   "source": [
    "np.zeros((4, 4), dtype=\"str\")"
   ]
  },
  {
   "cell_type": "code",
   "execution_count": 32,
   "metadata": {
    "id": "fNRXb_OMrbsQ",
    "outputId": "1991d9e6-ca42-48f5-9be0-6b7838a7cd82"
   },
   "outputs": [
    {
     "data": {
      "text/plain": [
       "array([[False, False, False, False],\n",
       "       [False, False, False, False],\n",
       "       [False, False, False, False],\n",
       "       [False, False, False, False]])"
      ]
     },
     "execution_count": 32,
     "metadata": {},
     "output_type": "execute_result"
    }
   ],
   "source": [
    "np.zeros((4, 4), dtype=bool)"
   ]
  },
  {
   "cell_type": "markdown",
   "metadata": {},
   "source": [
    "#### ``ones``"
   ]
  },
  {
   "cell_type": "code",
   "execution_count": 33,
   "metadata": {
    "id": "D2BZd4fmrbsR",
    "outputId": "3e834e9c-f6b6-48f6-f436-4ca77ff99dc7"
   },
   "outputs": [
    {
     "data": {
      "text/plain": [
       "array([1., 1., 1., 1.])"
      ]
     },
     "execution_count": 33,
     "metadata": {},
     "output_type": "execute_result"
    }
   ],
   "source": [
    "np.ones(4)"
   ]
  },
  {
   "cell_type": "code",
   "execution_count": 34,
   "metadata": {},
   "outputs": [
    {
     "data": {
      "text/plain": [
       "1.0"
      ]
     },
     "execution_count": 34,
     "metadata": {},
     "output_type": "execute_result"
    }
   ],
   "source": [
    "np.ones(4)[0]"
   ]
  },
  {
   "cell_type": "code",
   "execution_count": 35,
   "metadata": {},
   "outputs": [
    {
     "data": {
      "text/plain": [
       "numpy.float64"
      ]
     },
     "execution_count": 35,
     "metadata": {},
     "output_type": "execute_result"
    }
   ],
   "source": [
    "type(np.ones(4)[0])"
   ]
  },
  {
   "cell_type": "code",
   "execution_count": 36,
   "metadata": {
    "id": "jvg5WahArbsR",
    "outputId": "602a94f4-7153-41fb-93ff-730ff3c5048c"
   },
   "outputs": [
    {
     "data": {
      "text/plain": [
       "array([[1., 1., 1., 1.],\n",
       "       [1., 1., 1., 1.],\n",
       "       [1., 1., 1., 1.],\n",
       "       [1., 1., 1., 1.]])"
      ]
     },
     "execution_count": 36,
     "metadata": {},
     "output_type": "execute_result"
    }
   ],
   "source": [
    "np.ones((4, 4))"
   ]
  },
  {
   "cell_type": "code",
   "execution_count": 37,
   "metadata": {},
   "outputs": [
    {
     "data": {
      "text/plain": [
       "1.0"
      ]
     },
     "execution_count": 37,
     "metadata": {},
     "output_type": "execute_result"
    }
   ],
   "source": [
    "np.ones((4, 4))[0][0]"
   ]
  },
  {
   "cell_type": "code",
   "execution_count": 38,
   "metadata": {},
   "outputs": [
    {
     "data": {
      "text/plain": [
       "array([1., 1., 1., 1.])"
      ]
     },
     "execution_count": 38,
     "metadata": {},
     "output_type": "execute_result"
    }
   ],
   "source": [
    "np.ones((4, 4))[0]"
   ]
  },
  {
   "cell_type": "code",
   "execution_count": 39,
   "metadata": {},
   "outputs": [
    {
     "data": {
      "text/plain": [
       "numpy.float64"
      ]
     },
     "execution_count": 39,
     "metadata": {},
     "output_type": "execute_result"
    }
   ],
   "source": [
    "type(np.ones((4, 4))[0][0])"
   ]
  },
  {
   "cell_type": "code",
   "execution_count": 40,
   "metadata": {
    "id": "9wTfX_sZrbsR",
    "outputId": "dc0d2b3f-4700-4a60-a3cf-12cbbe2323b5"
   },
   "outputs": [
    {
     "data": {
      "text/plain": [
       "array([[1, 1, 1, 1],\n",
       "       [1, 1, 1, 1],\n",
       "       [1, 1, 1, 1],\n",
       "       [1, 1, 1, 1]])"
      ]
     },
     "execution_count": 40,
     "metadata": {},
     "output_type": "execute_result"
    }
   ],
   "source": [
    "np.ones((4, 4), dtype=int)"
   ]
  },
  {
   "cell_type": "code",
   "execution_count": 41,
   "metadata": {},
   "outputs": [
    {
     "data": {
      "text/plain": [
       "1"
      ]
     },
     "execution_count": 41,
     "metadata": {},
     "output_type": "execute_result"
    }
   ],
   "source": [
    "np.ones((4, 4), dtype=int)[0][0]"
   ]
  },
  {
   "cell_type": "code",
   "execution_count": 42,
   "metadata": {},
   "outputs": [
    {
     "data": {
      "text/plain": [
       "numpy.int32"
      ]
     },
     "execution_count": 42,
     "metadata": {},
     "output_type": "execute_result"
    }
   ],
   "source": [
    "type(np.ones((4, 4), dtype=int)[0][0])"
   ]
  },
  {
   "cell_type": "code",
   "execution_count": 43,
   "metadata": {
    "id": "6bqIqwkerbsR",
    "outputId": "ad5fac3a-4ce0-4bcc-ef02-17ba9067d9e9"
   },
   "outputs": [
    {
     "data": {
      "text/plain": [
       "array([['1', '1', '1', '1'],\n",
       "       ['1', '1', '1', '1'],\n",
       "       ['1', '1', '1', '1'],\n",
       "       ['1', '1', '1', '1']], dtype='<U1')"
      ]
     },
     "execution_count": 43,
     "metadata": {},
     "output_type": "execute_result"
    }
   ],
   "source": [
    "np.ones((4, 4), dtype=str)"
   ]
  },
  {
   "cell_type": "code",
   "execution_count": 44,
   "metadata": {},
   "outputs": [
    {
     "data": {
      "text/plain": [
       "(numpy.ndarray, dtype('<U1'))"
      ]
     },
     "execution_count": 44,
     "metadata": {},
     "output_type": "execute_result"
    }
   ],
   "source": [
    "type(np.ones((4, 4), dtype=str)), np.ones((4, 4), dtype=str).dtype"
   ]
  },
  {
   "cell_type": "code",
   "execution_count": 45,
   "metadata": {},
   "outputs": [
    {
     "data": {
      "text/plain": [
       "'1'"
      ]
     },
     "execution_count": 45,
     "metadata": {},
     "output_type": "execute_result"
    }
   ],
   "source": [
    "np.ones((4, 4), dtype=str)[0][0]"
   ]
  },
  {
   "cell_type": "code",
   "execution_count": 46,
   "metadata": {},
   "outputs": [
    {
     "data": {
      "text/plain": [
       "(numpy.str_, dtype('<U1'))"
      ]
     },
     "execution_count": 46,
     "metadata": {},
     "output_type": "execute_result"
    }
   ],
   "source": [
    "type(np.ones((4, 4), dtype=str)[0][0]), np.ones((4, 4), dtype=str).dtype"
   ]
  },
  {
   "cell_type": "code",
   "execution_count": 47,
   "metadata": {
    "id": "d1fKVf9JrbsR",
    "outputId": "30e729c8-3c8e-48e2-8880-6c4bb17c50a9"
   },
   "outputs": [
    {
     "data": {
      "text/plain": [
       "array([[ True,  True,  True,  True],\n",
       "       [ True,  True,  True,  True],\n",
       "       [ True,  True,  True,  True],\n",
       "       [ True,  True,  True,  True]])"
      ]
     },
     "execution_count": 47,
     "metadata": {},
     "output_type": "execute_result"
    }
   ],
   "source": [
    "np.ones((4, 4), dtype=bool)"
   ]
  },
  {
   "cell_type": "code",
   "execution_count": 48,
   "metadata": {},
   "outputs": [
    {
     "data": {
      "text/plain": [
       "(numpy.ndarray, dtype('bool'))"
      ]
     },
     "execution_count": 48,
     "metadata": {},
     "output_type": "execute_result"
    }
   ],
   "source": [
    "type(np.ones((4, 4), dtype=bool)), np.ones((4, 4), dtype=bool).dtype"
   ]
  },
  {
   "cell_type": "code",
   "execution_count": 49,
   "metadata": {},
   "outputs": [
    {
     "data": {
      "text/plain": [
       "(numpy.ndarray, dtype('bool'))"
      ]
     },
     "execution_count": 49,
     "metadata": {},
     "output_type": "execute_result"
    }
   ],
   "source": [
    "type(np.ones((4, 4), dtype=bool)[0]), np.ones((4, 4), dtype=bool)[0].dtype"
   ]
  },
  {
   "cell_type": "code",
   "execution_count": 50,
   "metadata": {},
   "outputs": [
    {
     "data": {
      "text/plain": [
       "array([ True,  True,  True,  True])"
      ]
     },
     "execution_count": 50,
     "metadata": {},
     "output_type": "execute_result"
    }
   ],
   "source": [
    "np.ones((4, 4), dtype=bool)[0]"
   ]
  },
  {
   "cell_type": "code",
   "execution_count": 51,
   "metadata": {},
   "outputs": [
    {
     "data": {
      "text/plain": [
       "True"
      ]
     },
     "execution_count": 51,
     "metadata": {},
     "output_type": "execute_result"
    }
   ],
   "source": [
    "np.ones((4, 4), dtype=bool)[0][0]"
   ]
  },
  {
   "cell_type": "code",
   "execution_count": 52,
   "metadata": {},
   "outputs": [
    {
     "data": {
      "text/plain": [
       "(numpy.bool_, dtype('bool'))"
      ]
     },
     "execution_count": 52,
     "metadata": {},
     "output_type": "execute_result"
    }
   ],
   "source": [
    "type(np.ones((4, 4), dtype=bool)[0][0]), np.ones((4, 4), dtype=bool)[0][0].dtype"
   ]
  },
  {
   "cell_type": "markdown",
   "metadata": {},
   "source": [
    "#### ``full``"
   ]
  },
  {
   "cell_type": "code",
   "execution_count": 53,
   "metadata": {
    "id": "NqK3Ogv-rbsR",
    "outputId": "d983fabf-b2ec-4d24-9a65-9bd63953947a"
   },
   "outputs": [
    {
     "data": {
      "text/plain": [
       "array([[3, 3, 3, 3, 3],\n",
       "       [3, 3, 3, 3, 3],\n",
       "       [3, 3, 3, 3, 3]])"
      ]
     },
     "execution_count": 53,
     "metadata": {},
     "output_type": "execute_result"
    }
   ],
   "source": [
    "np.full((3, 5), 3)"
   ]
  },
  {
   "cell_type": "code",
   "execution_count": 54,
   "metadata": {
    "id": "Mn-romyvrbsS",
    "lang": "en",
    "outputId": "131d4848-36d5-451e-85ee-b8f6576ad881"
   },
   "outputs": [
    {
     "data": {
      "text/plain": [
       "array([['3', '3', '3', '3', '3'],\n",
       "       ['3', '3', '3', '3', '3'],\n",
       "       ['3', '3', '3', '3', '3']], dtype='<U1')"
      ]
     },
     "execution_count": 54,
     "metadata": {},
     "output_type": "execute_result"
    }
   ],
   "source": [
    "np.full((3, 5), \"3\", order=\"F\")\n",
    "# \"C\" C-Sprache \"F\" Fortran-Sprache¶"
   ]
  },
  {
   "cell_type": "code",
   "execution_count": 55,
   "metadata": {},
   "outputs": [
    {
     "data": {
      "text/plain": [
       "numpy.str_"
      ]
     },
     "execution_count": 55,
     "metadata": {},
     "output_type": "execute_result"
    }
   ],
   "source": [
    "type(np.full((3, 5), \"3\", order=\"F\")[0][0])"
   ]
  },
  {
   "cell_type": "code",
   "execution_count": 56,
   "metadata": {
    "id": "k1cAFlGtrbsS",
    "outputId": "2a742624-85f4-46cd-86c8-e26996630d4c"
   },
   "outputs": [
    {
     "data": {
      "text/plain": [
       "array([['3', '3', '3', '3', '3'],\n",
       "       ['3', '3', '3', '3', '3'],\n",
       "       ['3', '3', '3', '3', '3']], dtype='<U1')"
      ]
     },
     "execution_count": 56,
     "metadata": {},
     "output_type": "execute_result"
    }
   ],
   "source": [
    "np.full((3, 5), \"3\")"
   ]
  },
  {
   "cell_type": "code",
   "execution_count": 57,
   "metadata": {},
   "outputs": [
    {
     "data": {
      "text/plain": [
       "(numpy.str_, dtype('<U1'))"
      ]
     },
     "execution_count": 57,
     "metadata": {},
     "output_type": "execute_result"
    }
   ],
   "source": [
    "type(np.full((3, 5), \"3\")[0][0]), np.full((3, 5), \"3\").dtype"
   ]
  },
  {
   "cell_type": "code",
   "execution_count": 58,
   "metadata": {
    "id": "VOa6UDmxrbsS",
    "outputId": "38d742a9-4c05-4bf8-b49a-2aee25916258"
   },
   "outputs": [
    {
     "data": {
      "text/plain": [
       "(array([['steve', 'steve', 'steve'],\n",
       "        ['steve', 'steve', 'steve'],\n",
       "        ['steve', 'steve', 'steve']], dtype='<U5'),\n",
       " numpy.ndarray,\n",
       " dtype('<U1'))"
      ]
     },
     "execution_count": 58,
     "metadata": {},
     "output_type": "execute_result"
    }
   ],
   "source": [
    "np.full((3, 3), \"steve\"), type(np.full((3, 5), \"3\")), np.full((3, 5), \"3\").dtype"
   ]
  },
  {
   "cell_type": "code",
   "execution_count": 59,
   "metadata": {
    "id": "R9yXcJFf8mSZ",
    "outputId": "cbcf9c19-0f5d-4fed-f629-156842cc278c"
   },
   "outputs": [
    {
     "data": {
      "text/plain": [
       "(array([[[5, 5],\n",
       "         [5, 5],\n",
       "         [5, 5]],\n",
       " \n",
       "        [[5, 5],\n",
       "         [5, 5],\n",
       "         [5, 5]],\n",
       " \n",
       "        [[5, 5],\n",
       "         [5, 5],\n",
       "         [5, 5]]]),\n",
       " 3,\n",
       " numpy.ndarray,\n",
       " dtype('int32'))"
      ]
     },
     "execution_count": 59,
     "metadata": {},
     "output_type": "execute_result"
    }
   ],
   "source": [
    "np.full((3, 3, 2), 5),\\\n",
    "np.full((3, 3, 2), 5).ndim,\\\n",
    "type(np.full((3, 3, 2), 5)),\\\n",
    "np.full((3, 3, 2), 5).dtype"
   ]
  },
  {
   "cell_type": "markdown",
   "metadata": {},
   "source": [
    "##### 3D Image|Bespiel"
   ]
  },
  {
   "cell_type": "code",
   "execution_count": 60,
   "metadata": {
    "id": "KU1zXjJprbsU"
   },
   "outputs": [],
   "source": [
    "import matplotlib.pyplot as plt\n",
    "%matplotlib inline"
   ]
  },
  {
   "cell_type": "code",
   "execution_count": 61,
   "metadata": {},
   "outputs": [
    {
     "name": "stdout",
     "output_type": "stream",
     "text": [
      "Requirement already satisfied: opencv-python in c:\\users\\ata\\anaconda3\\lib\\site-packages (4.5.5.62)\n",
      "Requirement already satisfied: numpy>=1.14.5 in c:\\users\\ata\\anaconda3\\lib\\site-packages (from opencv-python) (1.20.3)\n"
     ]
    }
   ],
   "source": [
    "!pip install opencv-python"
   ]
  },
  {
   "cell_type": "code",
   "execution_count": 62,
   "metadata": {},
   "outputs": [],
   "source": [
    "import cv2"
   ]
  },
  {
   "cell_type": "code",
   "execution_count": 63,
   "metadata": {},
   "outputs": [
    {
     "data": {
      "text/plain": [
       "array([[[5, 5, 5],\n",
       "        [5, 5, 5],\n",
       "        [5, 5, 5],\n",
       "        ...,\n",
       "        [5, 5, 5],\n",
       "        [5, 5, 5],\n",
       "        [5, 5, 5]],\n",
       "\n",
       "       [[5, 5, 5],\n",
       "        [5, 5, 5],\n",
       "        [5, 5, 5],\n",
       "        ...,\n",
       "        [5, 5, 5],\n",
       "        [5, 5, 5],\n",
       "        [5, 5, 5]],\n",
       "\n",
       "       [[5, 5, 5],\n",
       "        [5, 5, 5],\n",
       "        [5, 5, 5],\n",
       "        ...,\n",
       "        [5, 5, 5],\n",
       "        [5, 5, 5],\n",
       "        [5, 5, 5]],\n",
       "\n",
       "       [[5, 5, 5],\n",
       "        [5, 5, 5],\n",
       "        [5, 5, 5],\n",
       "        ...,\n",
       "        [5, 5, 5],\n",
       "        [5, 5, 5],\n",
       "        [5, 5, 5]],\n",
       "\n",
       "       [[5, 5, 5],\n",
       "        [5, 5, 5],\n",
       "        [5, 5, 5],\n",
       "        ...,\n",
       "        [5, 5, 5],\n",
       "        [5, 5, 5],\n",
       "        [5, 5, 5]]])"
      ]
     },
     "execution_count": 63,
     "metadata": {},
     "output_type": "execute_result"
    }
   ],
   "source": [
    "np.full((5, 128, 3), 5)"
   ]
  },
  {
   "cell_type": "code",
   "execution_count": 64,
   "metadata": {},
   "outputs": [
    {
     "data": {
      "text/plain": [
       "array([[5, 5, 5],\n",
       "       [5, 5, 5],\n",
       "       [5, 5, 5],\n",
       "       [5, 5, 5],\n",
       "       [5, 5, 5],\n",
       "       [5, 5, 5],\n",
       "       [5, 5, 5],\n",
       "       [5, 5, 5],\n",
       "       [5, 5, 5],\n",
       "       [5, 5, 5],\n",
       "       [5, 5, 5],\n",
       "       [5, 5, 5],\n",
       "       [5, 5, 5],\n",
       "       [5, 5, 5],\n",
       "       [5, 5, 5],\n",
       "       [5, 5, 5],\n",
       "       [5, 5, 5],\n",
       "       [5, 5, 5],\n",
       "       [5, 5, 5],\n",
       "       [5, 5, 5],\n",
       "       [5, 5, 5],\n",
       "       [5, 5, 5],\n",
       "       [5, 5, 5],\n",
       "       [5, 5, 5],\n",
       "       [5, 5, 5],\n",
       "       [5, 5, 5],\n",
       "       [5, 5, 5],\n",
       "       [5, 5, 5],\n",
       "       [5, 5, 5],\n",
       "       [5, 5, 5],\n",
       "       [5, 5, 5],\n",
       "       [5, 5, 5],\n",
       "       [5, 5, 5],\n",
       "       [5, 5, 5],\n",
       "       [5, 5, 5],\n",
       "       [5, 5, 5],\n",
       "       [5, 5, 5],\n",
       "       [5, 5, 5],\n",
       "       [5, 5, 5],\n",
       "       [5, 5, 5],\n",
       "       [5, 5, 5],\n",
       "       [5, 5, 5],\n",
       "       [5, 5, 5],\n",
       "       [5, 5, 5],\n",
       "       [5, 5, 5],\n",
       "       [5, 5, 5],\n",
       "       [5, 5, 5],\n",
       "       [5, 5, 5],\n",
       "       [5, 5, 5],\n",
       "       [5, 5, 5],\n",
       "       [5, 5, 5],\n",
       "       [5, 5, 5],\n",
       "       [5, 5, 5],\n",
       "       [5, 5, 5],\n",
       "       [5, 5, 5],\n",
       "       [5, 5, 5],\n",
       "       [5, 5, 5],\n",
       "       [5, 5, 5],\n",
       "       [5, 5, 5],\n",
       "       [5, 5, 5],\n",
       "       [5, 5, 5],\n",
       "       [5, 5, 5],\n",
       "       [5, 5, 5],\n",
       "       [5, 5, 5],\n",
       "       [5, 5, 5],\n",
       "       [5, 5, 5],\n",
       "       [5, 5, 5],\n",
       "       [5, 5, 5],\n",
       "       [5, 5, 5],\n",
       "       [5, 5, 5],\n",
       "       [5, 5, 5],\n",
       "       [5, 5, 5],\n",
       "       [5, 5, 5],\n",
       "       [5, 5, 5],\n",
       "       [5, 5, 5],\n",
       "       [5, 5, 5],\n",
       "       [5, 5, 5],\n",
       "       [5, 5, 5],\n",
       "       [5, 5, 5],\n",
       "       [5, 5, 5],\n",
       "       [5, 5, 5],\n",
       "       [5, 5, 5],\n",
       "       [5, 5, 5],\n",
       "       [5, 5, 5],\n",
       "       [5, 5, 5],\n",
       "       [5, 5, 5],\n",
       "       [5, 5, 5],\n",
       "       [5, 5, 5],\n",
       "       [5, 5, 5],\n",
       "       [5, 5, 5],\n",
       "       [5, 5, 5],\n",
       "       [5, 5, 5],\n",
       "       [5, 5, 5],\n",
       "       [5, 5, 5],\n",
       "       [5, 5, 5],\n",
       "       [5, 5, 5],\n",
       "       [5, 5, 5],\n",
       "       [5, 5, 5],\n",
       "       [5, 5, 5],\n",
       "       [5, 5, 5],\n",
       "       [5, 5, 5],\n",
       "       [5, 5, 5],\n",
       "       [5, 5, 5],\n",
       "       [5, 5, 5],\n",
       "       [5, 5, 5],\n",
       "       [5, 5, 5],\n",
       "       [5, 5, 5],\n",
       "       [5, 5, 5],\n",
       "       [5, 5, 5],\n",
       "       [5, 5, 5],\n",
       "       [5, 5, 5],\n",
       "       [5, 5, 5],\n",
       "       [5, 5, 5],\n",
       "       [5, 5, 5],\n",
       "       [5, 5, 5],\n",
       "       [5, 5, 5],\n",
       "       [5, 5, 5],\n",
       "       [5, 5, 5],\n",
       "       [5, 5, 5],\n",
       "       [5, 5, 5],\n",
       "       [5, 5, 5],\n",
       "       [5, 5, 5],\n",
       "       [5, 5, 5],\n",
       "       [5, 5, 5],\n",
       "       [5, 5, 5],\n",
       "       [5, 5, 5],\n",
       "       [5, 5, 5],\n",
       "       [5, 5, 5]])"
      ]
     },
     "execution_count": 64,
     "metadata": {},
     "output_type": "execute_result"
    }
   ],
   "source": [
    "np.full((5, 128, 3), 5)[0]"
   ]
  },
  {
   "cell_type": "code",
   "execution_count": 65,
   "metadata": {},
   "outputs": [
    {
     "data": {
      "text/plain": [
       "128"
      ]
     },
     "execution_count": 65,
     "metadata": {},
     "output_type": "execute_result"
    }
   ],
   "source": [
    "len(np.full((5, 128, 3), 5)[0])"
   ]
  },
  {
   "cell_type": "code",
   "execution_count": 66,
   "metadata": {},
   "outputs": [
    {
     "data": {
      "image/png": "[encoded data removed]",
      "text/plain": [
       "<Figure size 432x288 with 1 Axes>"
      ]
     },
     "metadata": {
      "needs_background": "light"
     },
     "output_type": "display_data"
    }
   ],
   "source": [
    "w = np.full((5, 128, 3), 255, dtype=int)\n",
    "plt.imshow(w);"
   ]
  },
  {
   "cell_type": "code",
   "execution_count": 67,
   "metadata": {},
   "outputs": [
    {
     "data": {
      "image/png": "[encoded data removed]",
      "text/plain": [
       "<Figure size 432x288 with 1 Axes>"
      ]
     },
     "metadata": {
      "needs_background": "light"
     },
     "output_type": "display_data"
    }
   ],
   "source": [
    "s = np.full((128, 128, 3), 0)\n",
    "plt.imshow(s);"
   ]
  },
  {
   "cell_type": "markdown",
   "metadata": {
    "lang": "de"
   },
   "source": [
    "### ``eye``\n",
    "\n",
    "-Erstellt eine Identitätsmatrix.\n",
    "https://www.mathbootcamps.com/the-identity-matrix-and-its-properties/)\n",
    "\n",
    "-Geben Sie ein 2D-Array mit ones auf der Diagonale und zeros an anderer Stelle zurück."
   ]
  },
  {
   "cell_type": "code",
   "execution_count": 68,
   "metadata": {
    "id": "qLQiSDE_rbsT",
    "outputId": "8a88f3b7-5bf6-47bc-c765-658bad3a57ef"
   },
   "outputs": [
    {
     "data": {
      "text/plain": [
       "array([[1., 0., 0., 0.],\n",
       "       [0., 1., 0., 0.],\n",
       "       [0., 0., 1., 0.],\n",
       "       [0., 0., 0., 1.]])"
      ]
     },
     "execution_count": 68,
     "metadata": {},
     "output_type": "execute_result"
    }
   ],
   "source": [
    "np.eye(4)"
   ]
  },
  {
   "cell_type": "markdown",
   "metadata": {
    "lang": "de"
   },
   "source": [
    "### Zufallszahlen(Random)\n",
    "\n",
    "Numpy hat auch viele Möglichkeiten, Zufallszahlen-Arrays zu erstellen:"
   ]
  },
  {
   "cell_type": "markdown",
   "metadata": {
    "lang": "de"
   },
   "source": [
    "#### ``random.rand``\n",
    "Erstellen Sie ein Array der angegebenen Form und füllen Sie es mit\n",
    "Stichproben aus einer Gleichverteilung\n",
    "über ``[0, 1)``."
   ]
  },
  {
   "cell_type": "code",
   "execution_count": 69,
   "metadata": {
    "id": "aXG3c_ZkrbsU",
    "outputId": "7ea9accd-ed6a-4992-e75f-a458c8c1695a"
   },
   "outputs": [
    {
     "data": {
      "text/plain": [
       "array([0.93988826, 0.22757733])"
      ]
     },
     "execution_count": 69,
     "metadata": {},
     "output_type": "execute_result"
    }
   ],
   "source": [
    "np.random.rand(2)"
   ]
  },
  {
   "cell_type": "code",
   "execution_count": 70,
   "metadata": {},
   "outputs": [
    {
     "data": {
      "text/plain": [
       "0.0060537614174704935"
      ]
     },
     "execution_count": 70,
     "metadata": {},
     "output_type": "execute_result"
    }
   ],
   "source": [
    "min(np.random.rand(100))"
   ]
  },
  {
   "cell_type": "code",
   "execution_count": 71,
   "metadata": {},
   "outputs": [
    {
     "data": {
      "text/plain": [
       "0.995814606029215"
      ]
     },
     "execution_count": 71,
     "metadata": {},
     "output_type": "execute_result"
    }
   ],
   "source": [
    "max(np.random.rand(100))"
   ]
  },
  {
   "cell_type": "code",
   "execution_count": 72,
   "metadata": {},
   "outputs": [
    {
     "data": {
      "text/plain": [
       "0.5293833604784653"
      ]
     },
     "execution_count": 72,
     "metadata": {},
     "output_type": "execute_result"
    }
   ],
   "source": [
    "np.random.rand(100).mean()"
   ]
  },
  {
   "cell_type": "code",
   "execution_count": 73,
   "metadata": {
    "id": "iLvqdHYsrbsU",
    "outputId": "59162c13-bea4-4be6-e359-e77f3399c437"
   },
   "outputs": [
    {
     "data": {
      "image/png": "[encoded data removed]",
      "text/plain": [
       "<Figure size 432x288 with 1 Axes>"
      ]
     },
     "metadata": {
      "needs_background": "light"
     },
     "output_type": "display_data"
    }
   ],
   "source": [
    "plt.hist(np.random.rand(100), bins= 10) \n",
    "plt.show();"
   ]
  },
  {
   "cell_type": "markdown",
   "metadata": {
    "lang": "de"
   },
   "source": [
    "### ``random.randn``\n",
    "\n",
    "Geben Sie eine Stichprobe (oder Stichproben) aus der \"Standard-Normalverteilung\" zurück."
   ]
  },
  {
   "cell_type": "code",
   "execution_count": 74,
   "metadata": {
    "id": "pu3SEQKHrbsV",
    "outputId": "55aece44-bdb4-488c-8329-bf7aad9297ab"
   },
   "outputs": [
    {
     "data": {
      "text/plain": [
       "array([-0.3290898, -0.0663963])"
      ]
     },
     "execution_count": 74,
     "metadata": {},
     "output_type": "execute_result"
    }
   ],
   "source": [
    "np.random.randn(2)"
   ]
  },
  {
   "cell_type": "code",
   "execution_count": 75,
   "metadata": {},
   "outputs": [
    {
     "data": {
      "text/plain": [
       "(-2.3427336415004074,\n",
       " 2.512804737167935,\n",
       " 0.13481256782785883,\n",
       " 0.9242323949037305)"
      ]
     },
     "execution_count": 75,
     "metadata": {},
     "output_type": "execute_result"
    }
   ],
   "source": [
    "min(np.random.randn(100)),\\\n",
    "max(np.random.randn(100)),\\\n",
    "np.random.randn(100).mean(),\\\n",
    "np.random.randn(100).std()**2 "
   ]
  },
  {
   "cell_type": "code",
   "execution_count": 76,
   "metadata": {
    "id": "h9IHw0ubrbsV",
    "outputId": "4b24d80d-d469-4562-be76-a221107e9902",
    "scrolled": true
   },
   "outputs": [
    {
     "data": {
      "text/plain": [
       "array([[ 0.78683499, -0.15662406, -1.40980444,  0.21669865,  1.04218917],\n",
       "       [ 0.98630636,  0.38330918, -0.47361826,  0.75957919,  1.05076266],\n",
       "       [ 0.03749301, -0.53619898,  0.01020427, -0.41134484, -0.72085842],\n",
       "       [-0.08317019, -1.44433931,  1.17044757,  0.18459873,  1.03741255],\n",
       "       [-0.45033801, -0.17969459,  0.42051978,  1.38439118,  0.58156749]])"
      ]
     },
     "execution_count": 76,
     "metadata": {},
     "output_type": "execute_result"
    }
   ],
   "source": [
    "np.random.randn(5, 5)"
   ]
  },
  {
   "cell_type": "code",
   "execution_count": 77,
   "metadata": {
    "id": "_YU3dMz5rbsV",
    "outputId": "926a4c37-4e45-44bb-ddc5-70bf4fcd0dd5"
   },
   "outputs": [
    {
     "data": {
      "image/png": "[encoded data removed]",
      "text/plain": [
       "<Figure size 432x288 with 1 Axes>"
      ]
     },
     "metadata": {
      "needs_background": "light"
     },
     "output_type": "display_data"
    }
   ],
   "source": [
    "plt.hist(np.random.randn(1000), bins=100)\n",
    "plt.show();"
   ]
  },
  {
   "cell_type": "code",
   "execution_count": 78,
   "metadata": {
    "id": "LFAzS7yIrbsV",
    "lang": "en",
    "outputId": "ef2a761c-5da6-4521-f2f6-547ce5ccb641"
   },
   "outputs": [
    {
     "data": {
      "text/plain": [
       "-0.020749199997733135"
      ]
     },
     "execution_count": 78,
     "metadata": {},
     "output_type": "execute_result"
    }
   ],
   "source": [
    "np.random.randn(1000).mean()  # Standardnormalverteilung ergibt den Mittelwert von 0"
   ]
  },
  {
   "cell_type": "code",
   "execution_count": 79,
   "metadata": {
    "id": "0_YdfddGrbsV",
    "lang": "en",
    "outputId": "659129f8-a202-4382-979e-ddfcfa5a97cd"
   },
   "outputs": [
    {
     "data": {
      "text/plain": [
       "0.9750681182385681"
      ]
     },
     "execution_count": 79,
     "metadata": {},
     "output_type": "execute_result"
    }
   ],
   "source": [
    "np.random.randn(1000).std()**2  # Standardnormalverteilung ergibt eine Varianz von 1"
   ]
  },
  {
   "cell_type": "markdown",
   "metadata": {
    "lang": "de"
   },
   "source": [
    "### ``random.randint``\n",
    "-Gibt ganze Zufallszahlen von `low` (inklusive) bis `high` (exklusiv) zurück.\n",
    "\n",
    "    randint(low, high=None, size=None, dtype=int)"
   ]
  },
  {
   "cell_type": "code",
   "execution_count": 80,
   "metadata": {
    "id": "ah9b1Xke8mSd",
    "outputId": "75b2886d-9ef8-4f64-93c1-6452455cf30f"
   },
   "outputs": [
    {
     "data": {
      "text/plain": [
       "0"
      ]
     },
     "execution_count": 80,
     "metadata": {},
     "output_type": "execute_result"
    }
   ],
   "source": [
    "np.random.randint(10)"
   ]
  },
  {
   "cell_type": "code",
   "execution_count": 81,
   "metadata": {
    "id": "XXb-U5ybrbsV",
    "outputId": "c52d591c-3ede-4a8b-d72e-5c0e3246d9b3"
   },
   "outputs": [
    {
     "data": {
      "text/plain": [
       "49"
      ]
     },
     "execution_count": 81,
     "metadata": {},
     "output_type": "execute_result"
    }
   ],
   "source": [
    "np.random.randint(1, 100)"
   ]
  },
  {
   "cell_type": "code",
   "execution_count": 82,
   "metadata": {
    "id": "PbDI-FEvrbsW",
    "outputId": "769f3987-028a-4548-f559-86bc6260136d"
   },
   "outputs": [
    {
     "data": {
      "text/plain": [
       "array([67, 27, 11, 54, 27, 67,  9, 50, 78, 73])"
      ]
     },
     "execution_count": 82,
     "metadata": {},
     "output_type": "execute_result"
    }
   ],
   "source": [
    "# [low, high)\n",
    "\n",
    "np.random.randint(1, 100, 10)"
   ]
  },
  {
   "cell_type": "code",
   "execution_count": 83,
   "metadata": {
    "id": "U1LwwAkMrbsW",
    "outputId": "4b540a68-fa13-41ba-f24b-38453a72c0a7"
   },
   "outputs": [
    {
     "data": {
      "text/plain": [
       "array([8, 9, 3, 7, 0, 6, 0, 9, 6, 7])"
      ]
     },
     "execution_count": 83,
     "metadata": {},
     "output_type": "execute_result"
    }
   ],
   "source": [
    "np.random.randint(10, size=10)  # das einzige int (10) bezieht sich auf das Hoch (Stop)"
   ]
  },
  {
   "cell_type": "code",
   "execution_count": 84,
   "metadata": {
    "id": "hc7uy6tbrbsW",
    "outputId": "4bb48c12-2859-48b4-90f6-18b5762a10fb"
   },
   "outputs": [
    {
     "data": {
      "text/plain": [
       "array([[1, 0, 3, 2],\n",
       "       [3, 1, 3, 2]])"
      ]
     },
     "execution_count": 84,
     "metadata": {},
     "output_type": "execute_result"
    }
   ],
   "source": [
    "np.random.randint(5, size=(2, 4))"
   ]
  },
  {
   "cell_type": "code",
   "execution_count": 85,
   "metadata": {
    "id": "C9pwS9ekrbsW",
    "outputId": "fb3d00fe-9908-424b-decd-13e5f3898477"
   },
   "outputs": [
    {
     "data": {
      "text/plain": [
       "array([[10,  8, 15,  6],\n",
       "       [19,  9, 20, 18]])"
      ]
     },
     "execution_count": 85,
     "metadata": {},
     "output_type": "execute_result"
    }
   ],
   "source": [
    "np.random.randint(5, 25, size=(2, 4))"
   ]
  },
  {
   "cell_type": "code",
   "execution_count": 86,
   "metadata": {
    "id": "FItdFsDcrbsW",
    "outputId": "f3903fee-488e-4679-cdb3-c562b2c21e78"
   },
   "outputs": [
    {
     "data": {
      "text/plain": [
       "array([ 1, 22, 87])"
      ]
     },
     "execution_count": 86,
     "metadata": {},
     "output_type": "execute_result"
    }
   ],
   "source": [
    "np.random.randint(1, [3, 50, 100])  \n",
    "# 3 verschiedene[3, 50, 100] Obergrenzen\n",
    "# jede obere Grenze repräsentiert jede Spalte"
   ]
  },
  {
   "cell_type": "code",
   "execution_count": 87,
   "metadata": {
    "id": "ctzpdDrWrbsW",
    "outputId": "86ff4485-5655-4fd2-9eb8-4020f270976a"
   },
   "outputs": [
    {
     "data": {
      "text/plain": [
       "array([ 1, 18])"
      ]
     },
     "execution_count": 87,
     "metadata": {},
     "output_type": "execute_result"
    }
   ],
   "source": [
    "np.random.randint(1, [3, 50]) "
   ]
  },
  {
   "cell_type": "code",
   "execution_count": 88,
   "metadata": {
    "id": "dWQxUePXrbsW",
    "outputId": "d926029b-1337-4dbf-dde4-652b2934c83c"
   },
   "outputs": [
    {
     "data": {
      "text/plain": [
       "array([[ 2, 29,  3],\n",
       "       [ 1, 10, 71],\n",
       "       [ 2,  4, 85],\n",
       "       [ 2, 26,  8],\n",
       "       [ 1, 16,  5]])"
      ]
     },
     "execution_count": 88,
     "metadata": {},
     "output_type": "execute_result"
    }
   ],
   "source": [
    "np.random.randint(1, [3, 50, 100], size = (5, 3)) \n",
    "# 3 verschiedene obere Grenzen mit 5x3-Matrix\n",
    "# jede Spalte passt in der Reihenfolge der Werte in einer Liste an die obere Grenze.[3,50,100]"
   ]
  },
  {
   "cell_type": "code",
   "execution_count": 89,
   "metadata": {
    "id": "5JRdk5Y9rbsW",
    "outputId": "535294e7-120f-458f-d7ff-41ad5518eb28"
   },
   "outputs": [
    {
     "data": {
      "text/plain": [
       "array([77, 72, 86])"
      ]
     },
     "execution_count": 89,
     "metadata": {},
     "output_type": "execute_result"
    }
   ],
   "source": [
    "np.random.randint([1, 30, 70], 111)  # 3 verschiedene untere Grenzen"
   ]
  },
  {
   "cell_type": "markdown",
   "metadata": {
    "lang": "de"
   },
   "source": [
    "## Array-Attribute und -Methoden\n",
    "-Lassen Sie uns über einige nützliche Attribute und Methoden oder ein Array besprechen:"
   ]
  },
  {
   "cell_type": "code",
   "execution_count": 90,
   "metadata": {
    "id": "RipxTdEsrbsX"
   },
   "outputs": [
    {
     "data": {
      "text/plain": [
       "(array([ 0,  1,  2,  3,  4,  5,  6,  7,  8,  9, 10, 11]),\n",
       " array([24, 40, 25,  2, 18, 12, 24, 45,  9, 38]))"
      ]
     },
     "execution_count": 90,
     "metadata": {},
     "output_type": "execute_result"
    }
   ],
   "source": [
    "arr = np.arange(12)\n",
    "rand_arr = np.random.randint(0, 50, 10)\n",
    "arr, rand_arr"
   ]
  },
  {
   "cell_type": "markdown",
   "metadata": {
    "lang": "de"
   },
   "source": [
    "### Reshape(Umformen)\n",
    "-Gibt ein Array zurück, das dieselben Daten mit einer neuen Form enthält."
   ]
  },
  {
   "cell_type": "code",
   "execution_count": 91,
   "metadata": {
    "id": "6FQkVFb08mSh",
    "outputId": "9310ecf6-ab8b-4a10-f933-9386ce53f0f4"
   },
   "outputs": [
    {
     "data": {
      "text/plain": [
       "((12,),\n",
       " array([[ 0,  1],\n",
       "        [ 2,  3],\n",
       "        [ 4,  5],\n",
       "        [ 6,  7],\n",
       "        [ 8,  9],\n",
       "        [10, 11]]),\n",
       " array([[ 0,  1,  2],\n",
       "        [ 3,  4,  5],\n",
       "        [ 6,  7,  8],\n",
       "        [ 9, 10, 11]]),\n",
       " array([[ 0,  1,  2,  3],\n",
       "        [ 4,  5,  6,  7],\n",
       "        [ 8,  9, 10, 11]]))"
      ]
     },
     "execution_count": 91,
     "metadata": {},
     "output_type": "execute_result"
    }
   ],
   "source": [
    "arr.shape, arr.reshape(6, 2), arr.reshape(4, 3), arr.reshape(3, 4)"
   ]
  },
  {
   "cell_type": "code",
   "execution_count": 92,
   "metadata": {},
   "outputs": [
    {
     "data": {
      "text/plain": [
       "array([ 0,  1,  2,  3,  4,  5,  6,  7,  8,  9, 10, 11])"
      ]
     },
     "execution_count": 92,
     "metadata": {},
     "output_type": "execute_result"
    }
   ],
   "source": [
    "arr"
   ]
  },
  {
   "cell_type": "code",
   "execution_count": 93,
   "metadata": {},
   "outputs": [
    {
     "data": {
      "text/plain": [
       "array([[ 0,  1,  2,  3],\n",
       "       [ 4,  5,  6,  7],\n",
       "       [ 8,  9, 10, 11]])"
      ]
     },
     "execution_count": 93,
     "metadata": {},
     "output_type": "execute_result"
    }
   ],
   "source": [
    "arr.reshape(3, -1)"
   ]
  },
  {
   "cell_type": "code",
   "execution_count": 94,
   "metadata": {
    "id": "CQZxyCFs8mSi",
    "outputId": "00f35204-909f-45c8-efef-ee60971676b6"
   },
   "outputs": [
    {
     "data": {
      "text/plain": [
       "array([[ 0,  1],\n",
       "       [ 2,  3],\n",
       "       [ 4,  5],\n",
       "       [ 6,  7],\n",
       "       [ 8,  9],\n",
       "       [10, 11]])"
      ]
     },
     "execution_count": 94,
     "metadata": {},
     "output_type": "execute_result"
    }
   ],
   "source": [
    "arr.reshape(6, -1)"
   ]
  },
  {
   "cell_type": "code",
   "execution_count": 95,
   "metadata": {
    "id": "ZtSvRXWG8mSi",
    "outputId": "f5dde4fc-3bfd-419f-8777-58770a30be6b"
   },
   "outputs": [
    {
     "data": {
      "text/plain": [
       "array([[[ 0,  1],\n",
       "        [ 2,  3]],\n",
       "\n",
       "       [[ 4,  5],\n",
       "        [ 6,  7]],\n",
       "\n",
       "       [[ 8,  9],\n",
       "        [10, 11]]])"
      ]
     },
     "execution_count": 95,
     "metadata": {},
     "output_type": "execute_result"
    }
   ],
   "source": [
    "arr.reshape(3, 2, 2)"
   ]
  },
  {
   "cell_type": "code",
   "execution_count": 96,
   "metadata": {
    "id": "7Phhud318mSi",
    "outputId": "fefee3b2-c7f4-47dd-eeb8-21f873c2d7b0"
   },
   "outputs": [
    {
     "data": {
      "text/plain": [
       "array([[[ 0],\n",
       "        [ 1],\n",
       "        [ 2],\n",
       "        [ 3]],\n",
       "\n",
       "       [[ 4],\n",
       "        [ 5],\n",
       "        [ 6],\n",
       "        [ 7]],\n",
       "\n",
       "       [[ 8],\n",
       "        [ 9],\n",
       "        [10],\n",
       "        [11]]])"
      ]
     },
     "execution_count": 96,
     "metadata": {},
     "output_type": "execute_result"
    }
   ],
   "source": [
    "arr.reshape(3, 4, 1)"
   ]
  },
  {
   "cell_type": "markdown",
   "metadata": {
    "lang": "de"
   },
   "source": [
    "### ``max``, ``min``, ``argmax``, ``argmin``\n",
    "-Dies sind nützliche Methoden zum Ermitteln von Höchst- oder Mindestwerten. Oder um ihre Indexpositionen mit argmin oder argmax zu finden."
   ]
  },
  {
   "cell_type": "code",
   "execution_count": 97,
   "metadata": {
    "id": "OVHMFCgMrbsX",
    "outputId": "540b17e1-ca05-4533-fc97-899a6e83ad24"
   },
   "outputs": [
    {
     "data": {
      "text/plain": [
       "array([24, 40, 25,  2, 18, 12, 24, 45,  9, 38])"
      ]
     },
     "execution_count": 97,
     "metadata": {},
     "output_type": "execute_result"
    }
   ],
   "source": [
    "rand_arr"
   ]
  },
  {
   "cell_type": "code",
   "execution_count": 98,
   "metadata": {
    "id": "zp0RQBasrbsX",
    "outputId": "145ce7ea-4610-4a0d-9716-a33b7c6e4596"
   },
   "outputs": [
    {
     "data": {
      "text/plain": [
       "45"
      ]
     },
     "execution_count": 98,
     "metadata": {},
     "output_type": "execute_result"
    }
   ],
   "source": [
    "rand_arr.max()"
   ]
  },
  {
   "cell_type": "code",
   "execution_count": 99,
   "metadata": {
    "id": "ax73eXp6rbsY",
    "outputId": "f7ea5e9b-70d6-4246-b912-e3052b063463"
   },
   "outputs": [
    {
     "data": {
      "text/plain": [
       "7"
      ]
     },
     "execution_count": 99,
     "metadata": {},
     "output_type": "execute_result"
    }
   ],
   "source": [
    "rand_arr.argmax()"
   ]
  },
  {
   "cell_type": "code",
   "execution_count": 100,
   "metadata": {
    "id": "HBBvIbtorbsY",
    "outputId": "c947937e-9082-42d0-d4e2-a3f1c10c0fdd"
   },
   "outputs": [
    {
     "data": {
      "text/plain": [
       "2"
      ]
     },
     "execution_count": 100,
     "metadata": {},
     "output_type": "execute_result"
    }
   ],
   "source": [
    "rand_arr.min()"
   ]
  },
  {
   "cell_type": "code",
   "execution_count": 101,
   "metadata": {
    "id": "hCS8ZDpFrbsY",
    "outputId": "106f40f4-6645-46b2-bcd7-af97a57f8f53"
   },
   "outputs": [
    {
     "data": {
      "text/plain": [
       "3"
      ]
     },
     "execution_count": 101,
     "metadata": {},
     "output_type": "execute_result"
    }
   ],
   "source": [
    "rand_arr.argmin()"
   ]
  },
  {
   "cell_type": "markdown",
   "metadata": {
    "lang": "de"
   },
   "source": [
    "## Einige andere Attribute:\n",
    "``shape``: Tupel der Array-Dimensionen.\n",
    "\n",
    "``Größe``: Anzahl der Elemente im Array.\n",
    "\n",
    "``ndim``: Anzahl der Array-Dimensionen.\n",
    "\n",
    "``itemsize``: die Größe in Bytes jedes Elements des Arrays.\n",
    "\n",
    "``dtype``: Datentypen des Arrays."
   ]
  },
  {
   "cell_type": "markdown",
   "metadata": {
    "lang": "de"
   },
   "source": [
    "### ``shape``\n",
    "-Shape ist ein Attribut, das Arrays haben (keine Methode):"
   ]
  },
  {
   "cell_type": "code",
   "execution_count": 102,
   "metadata": {
    "id": "ImU8sttTrbsY",
    "outputId": "426b38cb-10cc-4a49-a824-821574a35a15"
   },
   "outputs": [
    {
     "data": {
      "text/plain": [
       "(12,)"
      ]
     },
     "execution_count": 102,
     "metadata": {},
     "output_type": "execute_result"
    }
   ],
   "source": [
    "# Vector\n",
    "arr.shape"
   ]
  },
  {
   "cell_type": "code",
   "execution_count": 103,
   "metadata": {
    "id": "Lm-0Cw12rbsY",
    "outputId": "430733b4-b03f-4b0e-a107-e9bbd01ecbfd"
   },
   "outputs": [
    {
     "data": {
      "text/plain": [
       "array([[ 0,  1],\n",
       "       [ 2,  3],\n",
       "       [ 4,  5],\n",
       "       [ 6,  7],\n",
       "       [ 8,  9],\n",
       "       [10, 11]])"
      ]
     },
     "execution_count": 103,
     "metadata": {},
     "output_type": "execute_result"
    }
   ],
   "source": [
    "# Notice the two sets of brackets\n",
    "arr.reshape(6, 2)"
   ]
  },
  {
   "cell_type": "code",
   "execution_count": 104,
   "metadata": {
    "id": "iT9_zfokrbsY",
    "outputId": "b3092e11-4911-410b-8c3d-08ebdf9a7623"
   },
   "outputs": [
    {
     "data": {
      "text/plain": [
       "(12,)"
      ]
     },
     "execution_count": 104,
     "metadata": {},
     "output_type": "execute_result"
    }
   ],
   "source": [
    "arr.shape"
   ]
  },
  {
   "cell_type": "code",
   "execution_count": 105,
   "metadata": {
    "id": "-rTc1m-Q8mSl",
    "outputId": "793ea5fb-22dd-4400-faef-a3147bd72ddb"
   },
   "outputs": [
    {
     "data": {
      "text/plain": [
       "(6, 2)"
      ]
     },
     "execution_count": 105,
     "metadata": {},
     "output_type": "execute_result"
    }
   ],
   "source": [
    "arr.reshape(6, 2).shape"
   ]
  },
  {
   "cell_type": "markdown",
   "metadata": {
    "lang": "de"
   },
   "source": [
    "### ``dtype``\n",
    "-Sie können auch den Datentyp des Objekts im Array erfassen:"
   ]
  },
  {
   "cell_type": "code",
   "execution_count": 106,
   "metadata": {
    "id": "su8V-Ma78mSm",
    "outputId": "ab31ba83-2768-4229-f6e3-071b94df4d16"
   },
   "outputs": [
    {
     "data": {
      "text/plain": [
       "array([ 0,  1,  2,  3,  4,  5,  6,  7,  8,  9, 10, 11])"
      ]
     },
     "execution_count": 106,
     "metadata": {},
     "output_type": "execute_result"
    }
   ],
   "source": [
    "arr"
   ]
  },
  {
   "cell_type": "code",
   "execution_count": 107,
   "metadata": {
    "id": "APrsqdXxrbsZ",
    "outputId": "11d95a85-acdc-4a63-ac33-171e80065de2"
   },
   "outputs": [
    {
     "data": {
      "text/plain": [
       "dtype('int32')"
      ]
     },
     "execution_count": 107,
     "metadata": {},
     "output_type": "execute_result"
    }
   ],
   "source": [
    "arr.dtype"
   ]
  },
  {
   "cell_type": "code",
   "execution_count": 108,
   "metadata": {
    "id": "P9b5y-oV8mSn",
    "outputId": "40bdffa5-a689-44cc-eaff-2e723155bce1"
   },
   "outputs": [
    {
     "data": {
      "text/plain": [
       "numpy.ndarray"
      ]
     },
     "execution_count": 108,
     "metadata": {},
     "output_type": "execute_result"
    }
   ],
   "source": [
    "type(arr)"
   ]
  },
  {
   "cell_type": "code",
   "execution_count": 109,
   "metadata": {
    "id": "-OgBAKpRrbsZ",
    "outputId": "c8f0f7cb-7501-4b67-d91c-e40bbb3e35f9"
   },
   "outputs": [
    {
     "data": {
      "text/plain": [
       "(array([[2.2, 2.2, 2.2, 2.2, 2.2, 2.2],\n",
       "        [2.2, 2.2, 2.2, 2.2, 2.2, 2.2],\n",
       "        [2.2, 2.2, 2.2, 2.2, 2.2, 2.2],\n",
       "        [2.2, 2.2, 2.2, 2.2, 2.2, 2.2]]),\n",
       " dtype('float64'))"
      ]
     },
     "execution_count": 109,
     "metadata": {},
     "output_type": "execute_result"
    }
   ],
   "source": [
    "np.full((4, 6), 2.2), np.full((4,6), 2.2).dtype"
   ]
  },
  {
   "cell_type": "markdown",
   "metadata": {
    "id": "ORMfJwvxrbsa"
   },
   "source": [
    "### ``ndim``"
   ]
  },
  {
   "cell_type": "code",
   "execution_count": 110,
   "metadata": {
    "id": "DUf3k6BRrbsa",
    "outputId": "655f17d5-d0eb-401b-d194-e211ceeb233a"
   },
   "outputs": [
    {
     "data": {
      "text/plain": [
       "1"
      ]
     },
     "execution_count": 110,
     "metadata": {},
     "output_type": "execute_result"
    }
   ],
   "source": [
    "arr.ndim"
   ]
  },
  {
   "cell_type": "code",
   "execution_count": 111,
   "metadata": {
    "id": "bvluC7fFrbsa",
    "outputId": "1c2d19e1-659a-483d-b622-0ce1014de914"
   },
   "outputs": [
    {
     "data": {
      "text/plain": [
       "(12,)"
      ]
     },
     "execution_count": 111,
     "metadata": {},
     "output_type": "execute_result"
    }
   ],
   "source": [
    "arr.shape"
   ]
  },
  {
   "cell_type": "code",
   "execution_count": 112,
   "metadata": {
    "id": "u4K-VNKlrbsb",
    "outputId": "89765d53-e2f4-4163-c57b-cc2863011077"
   },
   "outputs": [
    {
     "data": {
      "text/plain": [
       "2"
      ]
     },
     "execution_count": 112,
     "metadata": {},
     "output_type": "execute_result"
    }
   ],
   "source": [
    "np.full((4, 6), 2.2).ndim"
   ]
  },
  {
   "cell_type": "code",
   "execution_count": 113,
   "metadata": {
    "id": "nposa9TBrbsb",
    "outputId": "af7d7945-2092-4ad8-aabb-f9c7c308ed4c"
   },
   "outputs": [
    {
     "data": {
      "text/plain": [
       "(4, 6)"
      ]
     },
     "execution_count": 113,
     "metadata": {},
     "output_type": "execute_result"
    }
   ],
   "source": [
    "np.full((4, 6), 2.2).shape"
   ]
  },
  {
   "cell_type": "code",
   "execution_count": 114,
   "metadata": {},
   "outputs": [
    {
     "data": {
      "text/plain": [
       "array([[[2.2, 2.2, 2.2],\n",
       "        [2.2, 2.2, 2.2],\n",
       "        [2.2, 2.2, 2.2]],\n",
       "\n",
       "       [[2.2, 2.2, 2.2],\n",
       "        [2.2, 2.2, 2.2],\n",
       "        [2.2, 2.2, 2.2]],\n",
       "\n",
       "       [[2.2, 2.2, 2.2],\n",
       "        [2.2, 2.2, 2.2],\n",
       "        [2.2, 2.2, 2.2]],\n",
       "\n",
       "       [[2.2, 2.2, 2.2],\n",
       "        [2.2, 2.2, 2.2],\n",
       "        [2.2, 2.2, 2.2]]])"
      ]
     },
     "execution_count": 114,
     "metadata": {},
     "output_type": "execute_result"
    }
   ],
   "source": [
    "np.full((4, 3, 3), 2.2)"
   ]
  },
  {
   "cell_type": "code",
   "execution_count": 115,
   "metadata": {},
   "outputs": [
    {
     "data": {
      "text/plain": [
       "(3, dtype('float64'))"
      ]
     },
     "execution_count": 115,
     "metadata": {},
     "output_type": "execute_result"
    }
   ],
   "source": [
    "np.full((4, 6, 3), 2.2).ndim, np.full((4, 6, 3), 2.2).dtype"
   ]
  },
  {
   "cell_type": "markdown",
   "metadata": {
    "id": "Mb7I9KJcrbsb"
   },
   "source": [
    "### ``size``"
   ]
  },
  {
   "cell_type": "code",
   "execution_count": 116,
   "metadata": {
    "id": "QPuPsMvtrbsb",
    "outputId": "4723a093-223f-4f53-f138-b96fc864c4c1"
   },
   "outputs": [
    {
     "data": {
      "text/plain": [
       "12"
      ]
     },
     "execution_count": 116,
     "metadata": {},
     "output_type": "execute_result"
    }
   ],
   "source": [
    "arr.size"
   ]
  },
  {
   "cell_type": "code",
   "execution_count": 117,
   "metadata": {
    "id": "6ockTxLNrbsb",
    "outputId": "7c4fb387-a53c-407b-eec8-8a7c2240c162"
   },
   "outputs": [
    {
     "data": {
      "text/plain": [
       "12"
      ]
     },
     "execution_count": 117,
     "metadata": {},
     "output_type": "execute_result"
    }
   ],
   "source": [
    "len(arr)"
   ]
  },
  {
   "cell_type": "code",
   "execution_count": 118,
   "metadata": {
    "id": "k0wu0ogprbsc"
   },
   "outputs": [
    {
     "data": {
      "text/plain": [
       "(array([[2, 8, 3, 6, 8],\n",
       "        [4, 9, 1, 5, 6],\n",
       "        [3, 5, 1, 0, 0]]),\n",
       " 2,\n",
       " (3, 5),\n",
       " 15,\n",
       " 3,\n",
       " 4)"
      ]
     },
     "execution_count": 118,
     "metadata": {},
     "output_type": "execute_result"
    }
   ],
   "source": [
    "np.random.randint(10, size = (3,5)),\\\n",
    "np.random.randint(10, size = (3,5)).ndim,\\\n",
    "np.random.randint(10, size = (3,5)).shape,\\\n",
    "np.random.randint(10, size = (3,5)).size,\\\n",
    "len(np.random.randint(10, size = (3,5))),\\\n",
    "np.random.randint(10, size = (3,5)).itemsize"
   ]
  },
  {
   "cell_type": "markdown",
   "metadata": {
    "id": "OTfwbtTsrbsd"
   },
   "source": [
    "## Verkettung der Arrays(Concatenate)\n",
    "\n",
    "    concatenate((a1, a2, ...), axis=0, out=None)"
   ]
  },
  {
   "cell_type": "code",
   "execution_count": 119,
   "metadata": {
    "id": "w8QQUWN2rbsd"
   },
   "outputs": [],
   "source": [
    "x = np.array([1, 2, 3])\n",
    "y = np.array([4, 5, 6])"
   ]
  },
  {
   "cell_type": "code",
   "execution_count": 120,
   "metadata": {
    "id": "akGRvIrSrbsd",
    "outputId": "ef903984-29e3-48ab-9429-9212d7f82fb6"
   },
   "outputs": [
    {
     "data": {
      "text/plain": [
       "array([1, 2, 3, 4, 5, 6])"
      ]
     },
     "execution_count": 120,
     "metadata": {},
     "output_type": "execute_result"
    }
   ],
   "source": [
    "np.concatenate([x, y])"
   ]
  },
  {
   "cell_type": "code",
   "execution_count": 121,
   "metadata": {
    "id": "MtRfvk-Zrbsd"
   },
   "outputs": [],
   "source": [
    "z = np.array([7,8,9])"
   ]
  },
  {
   "cell_type": "code",
   "execution_count": 122,
   "metadata": {
    "id": "jq8CMR--rbsd",
    "outputId": "c7f6650c-7351-4348-d11d-c8386fc500f6"
   },
   "outputs": [
    {
     "data": {
      "text/plain": [
       "array([1, 2, 3, 4, 5, 6, 7, 8, 9])"
      ]
     },
     "execution_count": 122,
     "metadata": {},
     "output_type": "execute_result"
    }
   ],
   "source": [
    "np.concatenate([x, y, z], axis=0)"
   ]
  },
  {
   "cell_type": "code",
   "execution_count": null,
   "metadata": {
    "id": "Bm_xkcI68mSt",
    "outputId": "acaeab17-4592-482f-801d-73d53dab3fb2"
   },
   "outputs": [],
   "source": [
    "np.concatenate([x, y, z], axis=1)\n",
    "# AxisError: axis 1 is out of bounds for array of dimension 1"
   ]
  },
  {
   "cell_type": "code",
   "execution_count": 123,
   "metadata": {},
   "outputs": [
    {
     "data": {
      "text/plain": [
       "((3,), (3,), (3,))"
      ]
     },
     "execution_count": 123,
     "metadata": {},
     "output_type": "execute_result"
    }
   ],
   "source": [
    "x.shape, y.shape, z.shape"
   ]
  },
  {
   "cell_type": "code",
   "execution_count": 124,
   "metadata": {
    "id": "RWe33Q3_8mSt",
    "outputId": "7dac5db9-6f4b-4cee-cd7d-7e554fecd277"
   },
   "outputs": [
    {
     "data": {
      "text/plain": [
       "array([[1, 2, 3],\n",
       "       [4, 5, 6],\n",
       "       [7, 8, 9]])"
      ]
     },
     "execution_count": 124,
     "metadata": {},
     "output_type": "execute_result"
    }
   ],
   "source": [
    "np.concatenate([x.reshape(1, 3), y.reshape(1, 3), z.reshape(1, 3)], axis=0)"
   ]
  },
  {
   "cell_type": "code",
   "execution_count": 125,
   "metadata": {},
   "outputs": [
    {
     "data": {
      "text/plain": [
       "(array([1, 2, 3]), (3,), 1, array([[1, 2, 3]]), (1, 3), 2)"
      ]
     },
     "execution_count": 125,
     "metadata": {},
     "output_type": "execute_result"
    }
   ],
   "source": [
    "x, x.shape, x.ndim,\\\n",
    "x.reshape(1, 3), x.reshape(1, 3).shape, x.reshape(1, 3).ndim"
   ]
  },
  {
   "cell_type": "markdown",
   "metadata": {
    "id": "wdi94i1zrbsd"
   },
   "source": [
    "### Verkettung von 2D matrix"
   ]
  },
  {
   "cell_type": "code",
   "execution_count": 129,
   "metadata": {
    "id": "AQ2TE5px8mSu"
   },
   "outputs": [],
   "source": [
    "a = np.random.randint(10, size=(2, 3))\n",
    "b = np.random.randint(10, size=(2, 3))"
   ]
  },
  {
   "cell_type": "code",
   "execution_count": 130,
   "metadata": {
    "id": "2ohRRyHT8mSu",
    "outputId": "763e2506-b559-49ea-83ed-3e57e46a6f27"
   },
   "outputs": [
    {
     "data": {
      "text/plain": [
       "(array([[5, 2, 3],\n",
       "        [6, 2, 3]]),\n",
       " array([[4, 3, 3],\n",
       "        [8, 6, 8]]))"
      ]
     },
     "execution_count": 130,
     "metadata": {},
     "output_type": "execute_result"
    }
   ],
   "source": [
    "a, b"
   ]
  },
  {
   "cell_type": "code",
   "execution_count": 134,
   "metadata": {},
   "outputs": [
    {
     "data": {
      "text/plain": [
       "(array([5, 2, 3]), array([4, 3, 3]))"
      ]
     },
     "execution_count": 134,
     "metadata": {},
     "output_type": "execute_result"
    }
   ],
   "source": [
    "a[0], b[0]"
   ]
  },
  {
   "cell_type": "code",
   "execution_count": 135,
   "metadata": {},
   "outputs": [
    {
     "data": {
      "text/plain": [
       "(array([6, 2, 3]), array([8, 6, 8]))"
      ]
     },
     "execution_count": 135,
     "metadata": {},
     "output_type": "execute_result"
    }
   ],
   "source": [
    "a[1], b[1]"
   ]
  },
  {
   "cell_type": "code",
   "execution_count": 137,
   "metadata": {
    "id": "C71fJcp9rbsd",
    "outputId": "59879e31-76b0-40f4-f161-75be4184f726"
   },
   "outputs": [
    {
     "data": {
      "text/plain": [
       "(array([[5, 2, 3],\n",
       "        [6, 2, 3],\n",
       "        [4, 3, 3],\n",
       "        [8, 6, 8]]),\n",
       " (4, 3))"
      ]
     },
     "execution_count": 137,
     "metadata": {},
     "output_type": "execute_result"
    }
   ],
   "source": [
    "np.concatenate([a, b], axis=0), np.concatenate([a, b], axis=0).shape"
   ]
  },
  {
   "cell_type": "code",
   "execution_count": 149,
   "metadata": {},
   "outputs": [
    {
     "data": {
      "text/plain": [
       "(5, 2, 3)"
      ]
     },
     "execution_count": 149,
     "metadata": {},
     "output_type": "execute_result"
    }
   ],
   "source": [
    "a00 = np.concatenate([a, b], axis=0)[0, 0]\n",
    "a01 = np.concatenate([a, b], axis=0)[0, 1]\n",
    "a02 = np.concatenate([a, b], axis=0)[0, 2]\n",
    "a00, a01, a02"
   ]
  },
  {
   "cell_type": "code",
   "execution_count": 150,
   "metadata": {},
   "outputs": [
    {
     "name": "stdout",
     "output_type": "stream",
     "text": [
      "5 2 3\n",
      "6 2 3\n",
      "4 3 3\n",
      "8 6 8\n"
     ]
    }
   ],
   "source": [
    "print(a00, a01, a02)\n",
    "print(*np.concatenate([a, b], axis=0)[1, :])\n",
    "print(*np.concatenate([a, b], axis=0)[2, :])\n",
    "print(*np.concatenate([a, b], axis=0)[3, :])"
   ]
  },
  {
   "cell_type": "code",
   "execution_count": 151,
   "metadata": {
    "id": "pDzg-Llmrbse",
    "outputId": "53564ada-1899-45b9-be15-42fb2555270c"
   },
   "outputs": [
    {
     "data": {
      "text/plain": [
       "(array([[5, 2, 3, 4, 3, 3],\n",
       "        [6, 2, 3, 8, 6, 8]]),\n",
       " (2, 6))"
      ]
     },
     "execution_count": 151,
     "metadata": {},
     "output_type": "execute_result"
    }
   ],
   "source": [
    "np.concatenate([a, b], axis=1), np.concatenate([a, b], axis=1).shape"
   ]
  },
  {
   "cell_type": "markdown",
   "metadata": {
    "lang": "de"
   },
   "source": [
    "## Splittung der Arrays\n",
    "    np.split(ary, indices_or_sections, axis=0)"
   ]
  },
  {
   "cell_type": "code",
   "execution_count": 152,
   "metadata": {
    "id": "3GaQnnbFrbse",
    "outputId": "4e8b9101-aa43-47dd-a7a8-bf7da33a8da2"
   },
   "outputs": [
    {
     "data": {
      "text/plain": [
       "array([ 1,  2,  3, 99, 99,  3,  2,  1])"
      ]
     },
     "execution_count": 152,
     "metadata": {},
     "output_type": "execute_result"
    }
   ],
   "source": [
    "x = np.array([1, 2, 3, 99, 99, 3, 2, 1])\n",
    "x"
   ]
  },
  {
   "cell_type": "code",
   "execution_count": 154,
   "metadata": {
    "id": "EWmXQGjUrbse",
    "outputId": "f64c9619-5cfe-41c0-f768-0abe424dd235"
   },
   "outputs": [
    {
     "data": {
      "text/plain": [
       "[array([1, 2, 3]), array([99, 99]), array([3, 2, 1])]"
      ]
     },
     "execution_count": 154,
     "metadata": {},
     "output_type": "execute_result"
    }
   ],
   "source": [
    "np.split(x, [3, 5])"
   ]
  },
  {
   "cell_type": "markdown",
   "metadata": {
    "lang": "de"
   },
   "source": [
    "Unser 1D Array wird so gesplittert: \n",
    "- ``ary[:3]``\n",
    "- ``ary[3:5]``\n",
    "- ``ary[5:]``"
   ]
  },
  {
   "cell_type": "code",
   "execution_count": 159,
   "metadata": {
    "id": "7aIw_oIKrbse"
   },
   "outputs": [
    {
     "data": {
      "text/plain": [
       "(array([1, 2, 3]), array([99, 99]), array([3, 2, 1]))"
      ]
     },
     "execution_count": 159,
     "metadata": {},
     "output_type": "execute_result"
    }
   ],
   "source": [
    "a, b, c = np.split(x, [3,5])\n",
    "a, b, c"
   ]
  },
  {
   "cell_type": "code",
   "execution_count": 157,
   "metadata": {
    "id": "gsP7tEcp8mSx",
    "outputId": "59bc77fd-15c8-45c3-8f15-6daee953bc5f"
   },
   "outputs": [
    {
     "data": {
      "text/plain": [
       "[array([ 1,  2,  3, 99]), array([99,  3,  2,  1])]"
      ]
     },
     "execution_count": 157,
     "metadata": {},
     "output_type": "execute_result"
    }
   ],
   "source": [
    "np.split(x, [4])"
   ]
  },
  {
   "cell_type": "code",
   "execution_count": 158,
   "metadata": {
    "id": "NvxaoYZ1rbsh",
    "outputId": "02c91df9-a93b-4216-a83e-1ad57715dbe4"
   },
   "outputs": [
    {
     "data": {
      "text/plain": [
       "[array([1, 2]), array([ 3, 99]), array([99,  3]), array([2, 1])]"
      ]
     },
     "execution_count": 158,
     "metadata": {},
     "output_type": "execute_result"
    }
   ],
   "source": [
    "np.split(x, 4)"
   ]
  },
  {
   "cell_type": "markdown",
   "metadata": {
    "lang": "de"
   },
   "source": [
    "-Die Anzahl der Elemente ist durch 4 teilbar, sonst gibt es einen Fehler. \n",
    "\n",
    "-Wenn das Argument (hier ist 4) nicht in eckige Klammern eingeschlossen ist, bedeutet dies, dass es in 4 Teile geteilt wird."
   ]
  },
  {
   "cell_type": "markdown",
   "metadata": {
    "id": "cjOPb6dgrbsi"
   },
   "source": [
    "### Splittung von 2D Matrix"
   ]
  },
  {
   "cell_type": "markdown",
   "metadata": {},
   "source": [
    "#### ``vsplit``"
   ]
  },
  {
   "cell_type": "code",
   "execution_count": 181,
   "metadata": {
    "id": "v2F80JQ-rbsi",
    "outputId": "daca0ced-6429-4b35-e199-a1037db0a065"
   },
   "outputs": [
    {
     "data": {
      "text/plain": [
       "array([[ 0,  1,  2,  3],\n",
       "       [ 4,  5,  6,  7],\n",
       "       [ 8,  9, 10, 11],\n",
       "       [12, 13, 14, 15],\n",
       "       [16, 17, 18, 19]])"
      ]
     },
     "execution_count": 181,
     "metadata": {},
     "output_type": "execute_result"
    }
   ],
   "source": [
    "m = np.arange(20).reshape(5, 4)\n",
    "m"
   ]
  },
  {
   "cell_type": "code",
   "execution_count": 186,
   "metadata": {
    "id": "HHAT-IYUrbsi",
    "outputId": "cb1e5d00-7516-4d91-9279-f7f5317a5704"
   },
   "outputs": [
    {
     "data": {
      "text/plain": [
       "[array([], shape=(0, 4), dtype=int32),\n",
       " array([[ 0,  1,  2,  3],\n",
       "        [ 4,  5,  6,  7],\n",
       "        [ 8,  9, 10, 11],\n",
       "        [12, 13, 14, 15]]),\n",
       " array([[16, 17, 18, 19]])]"
      ]
     },
     "execution_count": 186,
     "metadata": {},
     "output_type": "execute_result"
    }
   ],
   "source": [
    "np.vsplit(m, [0, 4])  # bis 0, aber ab 4"
   ]
  },
  {
   "cell_type": "code",
   "execution_count": 208,
   "metadata": {},
   "outputs": [
    {
     "data": {
      "text/plain": [
       "[array([[ 0,  1,  2,  3],\n",
       "        [ 4,  5,  6,  7],\n",
       "        [ 8,  9, 10, 11],\n",
       "        [12, 13, 14, 15]]),\n",
       " array([], shape=(0, 4), dtype=int32),\n",
       " array([[ 0,  1,  2,  3],\n",
       "        [ 4,  5,  6,  7],\n",
       "        [ 8,  9, 10, 11],\n",
       "        [12, 13, 14, 15],\n",
       "        [16, 17, 18, 19]])]"
      ]
     },
     "execution_count": 208,
     "metadata": {},
     "output_type": "execute_result"
    }
   ],
   "source": [
    "np.vsplit(m, [4, 0]) # bis 0, aber ab 0"
   ]
  },
  {
   "cell_type": "code",
   "execution_count": 207,
   "metadata": {},
   "outputs": [
    {
     "data": {
      "text/plain": [
       "[array([[0, 1, 2, 3],\n",
       "        [4, 5, 6, 7]]),\n",
       " array([], shape=(0, 4), dtype=int32),\n",
       " array([[ 8,  9, 10, 11],\n",
       "        [12, 13, 14, 15],\n",
       "        [16, 17, 18, 19]])]"
      ]
     },
     "execution_count": 207,
     "metadata": {},
     "output_type": "execute_result"
    }
   ],
   "source": [
    "np.vsplit(m, [2, 2]) # bis 2, aber ab 2"
   ]
  },
  {
   "cell_type": "code",
   "execution_count": 209,
   "metadata": {},
   "outputs": [
    {
     "data": {
      "text/plain": [
       "array([[ 0,  1,  2,  3],\n",
       "       [ 4,  5,  6,  7],\n",
       "       [ 8,  9, 10, 11],\n",
       "       [12, 13, 14, 15],\n",
       "       [16, 17, 18, 19]])"
      ]
     },
     "execution_count": 209,
     "metadata": {},
     "output_type": "execute_result"
    }
   ],
   "source": [
    "m"
   ]
  },
  {
   "cell_type": "code",
   "execution_count": 211,
   "metadata": {
    "id": "WhX-oVHarbsi"
   },
   "outputs": [],
   "source": [
    "upper, lower = np.vsplit(m, [3])  # bis 3, aber ab 3"
   ]
  },
  {
   "cell_type": "code",
   "execution_count": 212,
   "metadata": {
    "id": "JXl1uSjcrbsi",
    "outputId": "70e1ea85-e3e9-4efd-fe9e-02ea0220636b"
   },
   "outputs": [
    {
     "data": {
      "text/plain": [
       "array([[ 0,  1,  2,  3],\n",
       "       [ 4,  5,  6,  7],\n",
       "       [ 8,  9, 10, 11]])"
      ]
     },
     "execution_count": 212,
     "metadata": {},
     "output_type": "execute_result"
    }
   ],
   "source": [
    "upper"
   ]
  },
  {
   "cell_type": "code",
   "execution_count": 213,
   "metadata": {
    "id": "LvY97HxErbsi",
    "outputId": "8a0b78ae-3eb6-48e0-fb36-6049bd9de147"
   },
   "outputs": [
    {
     "data": {
      "text/plain": [
       "array([[12, 13, 14, 15],\n",
       "       [16, 17, 18, 19]])"
      ]
     },
     "execution_count": 213,
     "metadata": {},
     "output_type": "execute_result"
    }
   ],
   "source": [
    "lower"
   ]
  },
  {
   "cell_type": "code",
   "execution_count": 214,
   "metadata": {
    "id": "18DKYx7Rrbsi",
    "outputId": "fb25b243-8094-47b7-9180-bbeb1d8583e6"
   },
   "outputs": [
    {
     "data": {
      "text/plain": [
       "[array([[0, 1, 2, 3]]),\n",
       " array([[4, 5, 6, 7]]),\n",
       " array([[ 8,  9, 10, 11]]),\n",
       " array([[12, 13, 14, 15]]),\n",
       " array([[16, 17, 18, 19]])]"
      ]
     },
     "execution_count": 214,
     "metadata": {},
     "output_type": "execute_result"
    }
   ],
   "source": [
    "# Konzentrieren Sie sich auf doppelte eckige Klammern. \n",
    "# Alle Zeilen sind immer noch 2d-Arrays.\n",
    "np.vsplit(m, 5)"
   ]
  },
  {
   "cell_type": "markdown",
   "metadata": {
    "lang": "de"
   },
   "source": [
    "Die Anzahl der Zeilen ist durch 5 teilbar, sonst gibt es einen Fehler. Wenn das Argument (hier ist 5) nicht in eckige Klammern eingeschlossen ist, bedeutet dies, dass es in 5 Teile geteilt wird."
   ]
  },
  {
   "cell_type": "markdown",
   "metadata": {},
   "source": [
    "#### ``hsplit``"
   ]
  },
  {
   "cell_type": "code",
   "execution_count": 215,
   "metadata": {
    "id": "4cYeeiKLrbsi",
    "outputId": "78ed3908-ef46-4102-9d19-69eb3d868c93"
   },
   "outputs": [
    {
     "data": {
      "text/plain": [
       "array([[ 0,  1,  2,  3],\n",
       "       [ 4,  5,  6,  7],\n",
       "       [ 8,  9, 10, 11],\n",
       "       [12, 13, 14, 15],\n",
       "       [16, 17, 18, 19]])"
      ]
     },
     "execution_count": 215,
     "metadata": {},
     "output_type": "execute_result"
    }
   ],
   "source": [
    "m"
   ]
  },
  {
   "cell_type": "code",
   "execution_count": 216,
   "metadata": {},
   "outputs": [
    {
     "data": {
      "text/plain": [
       "[array([], shape=(5, 0), dtype=int32),\n",
       " array([[ 0,  1,  2,  3],\n",
       "        [ 4,  5,  6,  7],\n",
       "        [ 8,  9, 10, 11],\n",
       "        [12, 13, 14, 15],\n",
       "        [16, 17, 18, 19]]),\n",
       " array([], shape=(5, 0), dtype=int32)]"
      ]
     },
     "execution_count": 216,
     "metadata": {},
     "output_type": "execute_result"
    }
   ],
   "source": [
    "np.hsplit(m, [0, 4])  # bis 0, aber ab 4"
   ]
  },
  {
   "cell_type": "code",
   "execution_count": 219,
   "metadata": {},
   "outputs": [
    {
     "data": {
      "text/plain": [
       "[array([[ 0,  1,  2,  3],\n",
       "        [ 4,  5,  6,  7],\n",
       "        [ 8,  9, 10, 11],\n",
       "        [12, 13, 14, 15],\n",
       "        [16, 17, 18, 19]]),\n",
       " array([], shape=(5, 0), dtype=int32),\n",
       " array([[ 0,  1,  2,  3],\n",
       "        [ 4,  5,  6,  7],\n",
       "        [ 8,  9, 10, 11],\n",
       "        [12, 13, 14, 15],\n",
       "        [16, 17, 18, 19]])]"
      ]
     },
     "execution_count": 219,
     "metadata": {},
     "output_type": "execute_result"
    }
   ],
   "source": [
    "np.hsplit(m, [4, 0])  # bis 4, aber ab 0"
   ]
  },
  {
   "cell_type": "code",
   "execution_count": 220,
   "metadata": {},
   "outputs": [
    {
     "data": {
      "text/plain": [
       "[array([[ 0,  1],\n",
       "        [ 4,  5],\n",
       "        [ 8,  9],\n",
       "        [12, 13],\n",
       "        [16, 17]]),\n",
       " array([], shape=(5, 0), dtype=int32),\n",
       " array([[ 2,  3],\n",
       "        [ 6,  7],\n",
       "        [10, 11],\n",
       "        [14, 15],\n",
       "        [18, 19]])]"
      ]
     },
     "execution_count": 220,
     "metadata": {},
     "output_type": "execute_result"
    }
   ],
   "source": [
    "np.hsplit(m, [2, 2])  # bis 2, aber ab 2"
   ]
  },
  {
   "cell_type": "code",
   "execution_count": 222,
   "metadata": {
    "id": "QJOA2uLjrbsj"
   },
   "outputs": [],
   "source": [
    "left, right = np.hsplit(m, [2])"
   ]
  },
  {
   "cell_type": "code",
   "execution_count": 223,
   "metadata": {
    "id": "SDGfTbChrbsj",
    "outputId": "3afeb37a-93e4-40e2-c669-7da02d979997"
   },
   "outputs": [
    {
     "data": {
      "text/plain": [
       "array([[ 0,  1],\n",
       "       [ 4,  5],\n",
       "       [ 8,  9],\n",
       "       [12, 13],\n",
       "       [16, 17]])"
      ]
     },
     "execution_count": 223,
     "metadata": {},
     "output_type": "execute_result"
    }
   ],
   "source": [
    "left"
   ]
  },
  {
   "cell_type": "code",
   "execution_count": 224,
   "metadata": {
    "id": "2lvH0MaJrbsj",
    "outputId": "ba18e898-9b0e-4f2e-dea2-463ac125e65b"
   },
   "outputs": [
    {
     "data": {
      "text/plain": [
       "array([[ 2,  3],\n",
       "       [ 6,  7],\n",
       "       [10, 11],\n",
       "       [14, 15],\n",
       "       [18, 19]])"
      ]
     },
     "execution_count": 224,
     "metadata": {},
     "output_type": "execute_result"
    }
   ],
   "source": [
    "right"
   ]
  },
  {
   "cell_type": "markdown",
   "metadata": {
    "lang": "de"
   },
   "source": [
    "## Sortierung der Arrays"
   ]
  },
  {
   "cell_type": "code",
   "execution_count": 228,
   "metadata": {
    "id": "voxwqvRarbsj",
    "outputId": "51cce2ab-d69a-4a8c-e6fd-90476d10d693"
   },
   "outputs": [
    {
     "data": {
      "text/plain": [
       "array([2, 1, 4, 3, 5])"
      ]
     },
     "execution_count": 228,
     "metadata": {},
     "output_type": "execute_result"
    }
   ],
   "source": [
    "v = np.array([2, 1, 4, 3, 5])\n",
    "v"
   ]
  },
  {
   "cell_type": "code",
   "execution_count": 235,
   "metadata": {
    "id": "0UcM7nDOrbsj",
    "outputId": "dc6a4c0b-9da4-470b-9dc0-918921a4a8aa"
   },
   "outputs": [
    {
     "data": {
      "text/plain": [
       "(array([1, 2, 3, 4, 5]), array([1, 2, 3, 4, 5]))"
      ]
     },
     "execution_count": 235,
     "metadata": {},
     "output_type": "execute_result"
    }
   ],
   "source": [
    "np.sort(v), v"
   ]
  },
  {
   "cell_type": "code",
   "execution_count": 236,
   "metadata": {
    "id": "jQoyoVGurbsj"
   },
   "outputs": [
    {
     "data": {
      "text/plain": [
       "(None, array([1, 2, 3, 4, 5]))"
      ]
     },
     "execution_count": 236,
     "metadata": {},
     "output_type": "execute_result"
    }
   ],
   "source": [
    "v.sort(), v  # an Ort und Stelle geändert."
   ]
  },
  {
   "cell_type": "markdown",
   "metadata": {
    "id": "YJn8VasOrbsk"
   },
   "source": [
    "### 2d matrix"
   ]
  },
  {
   "cell_type": "code",
   "execution_count": 240,
   "metadata": {
    "id": "DcQeLiqfrbsk",
    "outputId": "39ccdac3-f390-4fad-f842-81c36e07abeb"
   },
   "outputs": [
    {
     "data": {
      "text/plain": [
       "array([[41, 21, 30],\n",
       "       [50, 88, 79],\n",
       "       [11, 41, 62]])"
      ]
     },
     "execution_count": 240,
     "metadata": {},
     "output_type": "execute_result"
    }
   ],
   "source": [
    "twoD = np.random.randint(5, 100, (3,3))\n",
    "twoD"
   ]
  },
  {
   "cell_type": "code",
   "execution_count": 241,
   "metadata": {
    "id": "PVehCNlXrbsk",
    "outputId": "bebe642a-d510-4b25-8268-f62c167f1401"
   },
   "outputs": [
    {
     "data": {
      "text/plain": [
       "array([[11, 21, 30],\n",
       "       [41, 41, 62],\n",
       "       [50, 88, 79]])"
      ]
     },
     "execution_count": 241,
     "metadata": {},
     "output_type": "execute_result"
    }
   ],
   "source": [
    "np.sort(twoD, axis=0)  \n",
    "# die Zeilen werden von oben nach unten und Spalte für Spalte sortiert"
   ]
  },
  {
   "cell_type": "code",
   "execution_count": 242,
   "metadata": {
    "id": "u-lLuAKbrbsk",
    "outputId": "84b30efa-cdd6-404e-d57b-3b03e9fbab3f"
   },
   "outputs": [
    {
     "data": {
      "text/plain": [
       "array([[21, 30, 41],\n",
       "       [50, 79, 88],\n",
       "       [11, 41, 62]])"
      ]
     },
     "execution_count": 242,
     "metadata": {},
     "output_type": "execute_result"
    }
   ],
   "source": [
    "np.sort(twoD, axis=1)  \n",
    "# die Spalten werden von links nach rechts und Reihe für Reihe sortiert"
   ]
  },
  {
   "cell_type": "markdown",
   "metadata": {},
   "source": [
    "Bonus:\n",
    "\n",
    "https://towardsdatascience.com/12-jupyter-notebook-extensions-that-will-make-your-life-easier-e0aae0bd181\n",
    "\n",
    "https://jupyter-contrib-nbextensions.readthedocs.io/en/latest/nbextensions/nbTranslate/README.html"
   ]
  },
  {
   "cell_type": "markdown",
   "metadata": {
    "id": "HvpIwTQFrbsk"
   },
   "source": [
    "<head>\n",
    "  <center><title>~Das Ende der NumPy | Lektion-1~</title></center>\n",
    "</head>"
   ]
  },
  {
   "cell_type": "markdown",
   "metadata": {
    "id": "2VHWqrqArbsk"
   },
   "source": [
    "___\n",
    "\n",
    "\n",
    "<p style=\"text-align: center;\"><img src=\"https://docs.google.com/uc?id=1lY0Uj5R04yMY3-ZppPWxqCr5pvBLYPnV\" class=\"img-fluid\" alt=\"Rossum\"></p>\n",
    "\n",
    "___"
   ]
  }
 ],
 "metadata": {
  "colab": {
   "name": "DAwPy-S1 (Numpy Arrays) .ipynb",
   "provenance": []
  },
  "kernelspec": {
   "display_name": "Python 3",
   "language": "python",
   "name": "python3"
  },
  "language_info": {
   "codemirror_mode": {
    "name": "ipython",
    "version": 3
   },
   "file_extension": ".py",
   "mimetype": "text/x-python",
   "name": "python",
   "nbconvert_exporter": "python",
   "pygments_lexer": "ipython3",
   "version": "3.7.11"
  },
  "latex_envs": {
   "LaTeX_envs_menu_present": true,
   "autoclose": false,
   "autocomplete": true,
   "bibliofile": "biblio.bib",
   "cite_by": "apalike",
   "current_citInitial": 1,
   "eqLabelWithNumbers": true,
   "eqNumInitial": 1,
   "hotkeys": {
    "equation": "Ctrl-E",
    "itemize": "Ctrl-I"
   },
   "labels_anchors": false,
   "latex_user_defs": false,
   "report_style_numbering": false,
   "user_envs_cfg": false
  },
  "nbTranslate": {
   "displayLangs": [
    "de",
    "en"
   ],
   "hotkey": "alt-t",
   "langInMainMenu": true,
   "sourceLang": "en",
   "targetLang": "de",
   "useGoogleTranslate": true
  },
  "toc": {
   "base_numbering": 1,
   "nav_menu": {},
   "number_sections": true,
   "sideBar": true,
   "skip_h1_title": false,
   "title_cell": "Table of Contents",
   "title_sidebar": "Contents",
   "toc_cell": false,
   "toc_position": {
    "height": "calc(100% - 180px)",
    "left": "10px",
    "top": "150px",
    "width": "307.2px"
   },
   "toc_section_display": true,
   "toc_window_display": false
  },
  "varInspector": {
   "cols": {
    "lenName": 16,
    "lenType": 16,
    "lenVar": 40
   },
   "kernels_config": {
    "python": {
     "delete_cmd_postfix": "",
     "delete_cmd_prefix": "del ",
     "library": "var_list.py",
     "varRefreshCmd": "print(var_dic_list())"
    },
    "r": {
     "delete_cmd_postfix": ") ",
     "delete_cmd_prefix": "rm(",
     "library": "var_list.r",
     "varRefreshCmd": "cat(var_dic_list()) "
    }
   },
   "types_to_exclude": [
    "module",
    "function",
    "builtin_function_or_method",
    "instance",
    "_Feature"
   ],
   "window_display": false
  }
 },
 "nbformat": 4,
 "nbformat_minor": 1
}
