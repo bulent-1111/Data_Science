{
 "cells": [
  {
   "cell_type": "code",
   "execution_count": 1,
   "metadata": {},
   "outputs": [
    {
     "name": "stdout",
     "output_type": "stream",
     "text": [
      "covariance:  [[102.56666667  24.        ]\n",
      " [ 24.           6.8       ]]\n",
      "correlation:  [[1.         0.90876934]\n",
      " [0.90876934 1.        ]]\n"
     ]
    }
   ],
   "source": [
    "import numpy as np\n",
    "\n",
    "temp=[93,84,82,78,98,70]\n",
    "\n",
    "number_of_people=[13,10, 11, 8, 15, 9]\n",
    "\n",
    "print(\"covariance: \", np.cov(temp, number_of_people))\n",
    "\n",
    "print(\"correlation: \", np.corrcoef(temp, number_of_people))"
   ]
  },
  {
   "cell_type": "code",
   "execution_count": null,
   "metadata": {},
   "outputs": [],
   "source": []
  }
 ],
 "metadata": {
  "interpreter": {
   "hash": "9920565f38e5baefdb4026c37eef4637400a2582ed12a30c7a979c1724ec1673"
  },
  "kernelspec": {
   "display_name": "Python 3.10.0 64-bit",
   "language": "python",
   "name": "python3"
  },
  "language_info": {
   "codemirror_mode": {
    "name": "ipython",
    "version": 3
   },
   "file_extension": ".py",
   "mimetype": "text/x-python",
   "name": "python",
   "nbconvert_exporter": "python",
   "pygments_lexer": "ipython3",
   "version": "3.10.0"
  },
  "orig_nbformat": 4
 },
 "nbformat": 4,
 "nbformat_minor": 2
}
