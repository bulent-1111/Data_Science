{
 "cells": [
  {
   "cell_type": "code",
   "execution_count": 1,
   "metadata": {},
   "outputs": [
    {
     "name": "stdout",
     "output_type": "stream",
     "text": [
      "9.0\n",
      "9.0\n"
     ]
    }
   ],
   "source": [
    "import numpy as np\n",
    "\n",
    "values = [4,11,7,14]\n",
    "\n",
    "result = np.average(values)\n",
    "print(result)\n",
    "result=np.mean(values)\n",
    "print(result)\n"
   ]
  },
  {
   "cell_type": "code",
   "execution_count": 6,
   "metadata": {},
   "outputs": [
    {
     "name": "stdout",
     "output_type": "stream",
     "text": [
      "38.57142857142857\n",
      "40.0\n",
      "21\n"
     ]
    }
   ],
   "source": [
    "import numpy as np\n",
    "from scipy import stats\n",
    "data=[40, 21, 55, 21, 48, 13, 72]\n",
    "print(np.mean(data))\n",
    "print(np.median(data))\n",
    "print(stats.mode(data)[0][0])\n"
   ]
  },
  {
   "cell_type": "code",
   "execution_count": 8,
   "metadata": {},
   "outputs": [
    {
     "name": "stdout",
     "output_type": "stream",
     "text": [
      "John\n"
     ]
    }
   ],
   "source": [
    "from scipy import stats\n",
    "categorical_data=['Alice', 'John', 'Bob', 'Maria', 'John', 'Julia', 'Carol']\n",
    "print(stats.mode(categorical_data)[0][0])"
   ]
  },
  {
   "cell_type": "code",
   "execution_count": 16,
   "metadata": {},
   "outputs": [
    {
     "name": "stdout",
     "output_type": "stream",
     "text": [
      "[7, 12, 1]\n"
     ]
    }
   ],
   "source": [
    "from statistics import multimode\n",
    "data=[4,7,3,8,11,7,10,19,6,9,12,12,1,1]\n",
    "print(multimode(data))\n"
   ]
  },
  {
   "cell_type": "code",
   "execution_count": 14,
   "metadata": {},
   "outputs": [
    {
     "name": "stdout",
     "output_type": "stream",
     "text": [
      "['John', 'Carol']\n"
     ]
    }
   ],
   "source": [
    "from statistics import multimode\n",
    "data=['Alice', 'John','Carol', 'Bob', 'Maria', 'John', 'Julia', 'Carol']\n",
    "print(multimode(data))"
   ]
  },
  {
   "cell_type": "code",
   "execution_count": 17,
   "metadata": {},
   "outputs": [
    {
     "name": "stdout",
     "output_type": "stream",
     "text": [
      "[13.   21.   41.   49.75 72.  ]\n"
     ]
    }
   ],
   "source": [
    "import numpy as np\n",
    "values = [13,21,21,40,42,48,55,72]\n",
    "result = np.quantile(values,[0,0.25,0.5,0.75,1])\n",
    "print(result)\n"
   ]
  },
  {
   "cell_type": "code",
   "execution_count": null,
   "metadata": {},
   "outputs": [],
   "source": [
    "import numpy as np\n",
    "values = [13,21,21,40,42,48,55,72]\n",
    "result = np.quantile(values,[0,0.25,0.5,0.75,1])\n",
    "print(result)"
   ]
  }
 ],
 "metadata": {
  "interpreter": {
   "hash": "9920565f38e5baefdb4026c37eef4637400a2582ed12a30c7a979c1724ec1673"
  },
  "kernelspec": {
   "display_name": "Python 3.10.0 64-bit",
   "language": "python",
   "name": "python3"
  },
  "language_info": {
   "codemirror_mode": {
    "name": "ipython",
    "version": 3
   },
   "file_extension": ".py",
   "mimetype": "text/x-python",
   "name": "python",
   "nbconvert_exporter": "python",
   "pygments_lexer": "ipython3",
   "version": "3.10.0"
  },
  "orig_nbformat": 4
 },
 "nbformat": 4,
 "nbformat_minor": 2
}
