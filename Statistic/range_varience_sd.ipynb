{
 "cells": [
  {
   "cell_type": "code",
   "execution_count": 1,
   "metadata": {},
   "outputs": [
    {
     "name": "stdout",
     "output_type": "stream",
     "text": [
      "Range:  78\n",
      "Variance:  539.5555555555555\n",
      "Standat Deviation: 23.22833518691246\n"
     ]
    }
   ],
   "source": [
    "import numpy as np\n",
    "salary = [102, 33, 26, 27, 30, 25, 33, 33, 24]\n",
    "print(\"Range: \", np.max(salary)-np.min(salary))\n",
    "print(\"Variance: \", np.var(salary))\n",
    "print(\"Standat Deviation:\", np.std(salary))\n"
   ]
  },
  {
   "cell_type": "code",
   "execution_count": 7,
   "metadata": {},
   "outputs": [
    {
     "name": "stdout",
     "output_type": "stream",
     "text": [
      "None\n"
     ]
    },
    {
     "data": {
      "text/plain": [
       "[0, 1, 2, 7, 8, 10, 12, 15, 22, 30]"
      ]
     },
     "execution_count": 7,
     "metadata": {},
     "output_type": "execute_result"
    }
   ],
   "source": [
    "data = [1, 10, 7, 12, 0, 30, 15, 22, 8, 2]\n",
    "data.sort()\n",
    "data"
   ]
  },
  {
   "cell_type": "code",
   "execution_count": 9,
   "metadata": {},
   "outputs": [
    {
     "name": "stdout",
     "output_type": "stream",
     "text": [
      "Range:  30\n",
      "Variance:  82.61\n",
      "Standat Deviation: 9.089004345911603\n"
     ]
    }
   ],
   "source": [
    "import numpy as np\n",
    "data =  [1, 10, 7, 12, 0, 30, 15, 22, 8, 2]\n",
    "print(\"Range: \", np.max(data)-np.min(data))\n",
    "print(\"Variance: \", np.var(data))\n",
    "print(\"Standat Deviation:\", np.std(data))"
   ]
  },
  {
   "cell_type": "code",
   "execution_count": 11,
   "metadata": {},
   "outputs": [
    {
     "data": {
      "text/plain": [
       "[0, 1, 2, 3, 4, 6, 8, 9, 9, 10, 10, 11, 14]"
      ]
     },
     "execution_count": 11,
     "metadata": {},
     "output_type": "execute_result"
    }
   ],
   "source": [
    "import numpy as np\n",
    "data=[9, 11, 4, 14, 8, 2, 10, 3, 10, 9, 6, 0, 1]\n",
    "data.sort()\n",
    "data\n"
   ]
  },
  {
   "cell_type": "code",
   "execution_count": 15,
   "metadata": {},
   "outputs": [
    {
     "data": {
      "text/plain": [
       "[3, 3, 4, 4, 6, 7, 8, 8, 10, 10, 12, 24, 40]"
      ]
     },
     "execution_count": 15,
     "metadata": {},
     "output_type": "execute_result"
    }
   ],
   "source": [
    "data=[8, 10, 4, 24, 8, 3, 10, 3, 40, 7, 6, 12, 4]\n",
    "data.sort()\n",
    "data\n"
   ]
  },
  {
   "cell_type": "code",
   "execution_count": 1,
   "metadata": {},
   "outputs": [
    {
     "name": "stdout",
     "output_type": "stream",
     "text": [
      "Range:  32\n",
      "Variance:  100.9795918367347\n",
      "Standat Deviation: 10.0488602257537\n"
     ]
    }
   ],
   "source": [
    "import numpy as np\n",
    "data =  [10,12,17,20,25,27,42]\n",
    "print(\"Range: \", np.max(data)-np.min(data))\n",
    "print(\"Variance: \", np.var(data))\n",
    "print(\"Standat Deviation:\", np.std(data))"
   ]
  },
  {
   "cell_type": "code",
   "execution_count": 3,
   "metadata": {},
   "outputs": [
    {
     "name": "stdout",
     "output_type": "stream",
     "text": [
      "Standat Deviation: 1.3997084244475304\n",
      "Standat Deviation: 1.0690449676496976\n"
     ]
    }
   ],
   "source": [
    "import numpy as np\n",
    "data1 = [0,0,0,2,2,2,4]\n",
    "data2 = [0,2,2,2,2,2,4]\n",
    "print(\"Standat Deviation:\", np.std(data1))\n",
    "print(\"Standat Deviation:\", np.std(data2))"
   ]
  },
  {
   "cell_type": "code",
   "execution_count": null,
   "metadata": {},
   "outputs": [],
   "source": []
  }
 ],
 "metadata": {
  "interpreter": {
   "hash": "9920565f38e5baefdb4026c37eef4637400a2582ed12a30c7a979c1724ec1673"
  },
  "kernelspec": {
   "display_name": "Python 3.10.0 64-bit",
   "language": "python",
   "name": "python3"
  },
  "language_info": {
   "codemirror_mode": {
    "name": "ipython",
    "version": 3
   },
   "file_extension": ".py",
   "mimetype": "text/x-python",
   "name": "python",
   "nbconvert_exporter": "python",
   "pygments_lexer": "ipython3",
   "version": "3.10.0"
  },
  "orig_nbformat": 4
 },
 "nbformat": 4,
 "nbformat_minor": 2
}
