{
 "cells": [
  {
   "cell_type": "code",
   "execution_count": null,
   "metadata": {},
   "outputs": [],
   "source": []
  },
  {
   "cell_type": "code",
   "execution_count": null,
   "metadata": {},
   "outputs": [],
   "source": []
  },
  {
   "cell_type": "code",
   "execution_count": 5,
   "metadata": {},
   "outputs": [],
   "source": [
    "import numpy as np\n",
    "import pandas as pd"
   ]
  },
  {
   "cell_type": "code",
   "execution_count": 6,
   "metadata": {},
   "outputs": [
    {
     "data": {
      "text/html": [
       "<div>\n",
       "<style scoped>\n",
       "    .dataframe tbody tr th:only-of-type {\n",
       "        vertical-align: middle;\n",
       "    }\n",
       "\n",
       "    .dataframe tbody tr th {\n",
       "        vertical-align: top;\n",
       "    }\n",
       "\n",
       "    .dataframe thead th {\n",
       "        text-align: right;\n",
       "    }\n",
       "</style>\n",
       "<table border=\"1\" class=\"dataframe\">\n",
       "  <thead>\n",
       "    <tr style=\"text-align: right;\">\n",
       "      <th></th>\n",
       "      <th>buyer_id</th>\n",
       "      <th>buyer_country</th>\n",
       "      <th>seller_id</th>\n",
       "      <th>seller_country</th>\n",
       "      <th>product_code</th>\n",
       "      <th>category</th>\n",
       "      <th>brand</th>\n",
       "      <th>currency</th>\n",
       "      <th>price</th>\n",
       "      <th>date</th>\n",
       "    </tr>\n",
       "  </thead>\n",
       "  <tbody>\n",
       "    <tr>\n",
       "      <th>0</th>\n",
       "      <td>qzpjsi9t0o</td>\n",
       "      <td>GB</td>\n",
       "      <td>6oufpaot</td>\n",
       "      <td>GB</td>\n",
       "      <td>ydecnydr6obf</td>\n",
       "      <td>Dresses</td>\n",
       "      <td>NaN</td>\n",
       "      <td>GBP</td>\n",
       "      <td>19.11</td>\n",
       "      <td>2020-08-03</td>\n",
       "    </tr>\n",
       "    <tr>\n",
       "      <th>1</th>\n",
       "      <td>o79pns1qwo</td>\n",
       "      <td>GB</td>\n",
       "      <td>50xki2yg</td>\n",
       "      <td>GB</td>\n",
       "      <td>38chj507o6h2</td>\n",
       "      <td>Outerwear</td>\n",
       "      <td>Adidas Originals</td>\n",
       "      <td>GBP</td>\n",
       "      <td>15.92</td>\n",
       "      <td>2020-08-09</td>\n",
       "    </tr>\n",
       "    <tr>\n",
       "      <th>2</th>\n",
       "      <td>sjgbjdkhqx</td>\n",
       "      <td>GB</td>\n",
       "      <td>50xki2yg</td>\n",
       "      <td>GB</td>\n",
       "      <td>i9ynyxj5tdp8</td>\n",
       "      <td>Tops - Mens</td>\n",
       "      <td>NaN</td>\n",
       "      <td>GBP</td>\n",
       "      <td>6.37</td>\n",
       "      <td>2020-08-07</td>\n",
       "    </tr>\n",
       "    <tr>\n",
       "      <th>3</th>\n",
       "      <td>o79pns1qwo</td>\n",
       "      <td>GB</td>\n",
       "      <td>s0p322hh</td>\n",
       "      <td>GB</td>\n",
       "      <td>t50xe7moye8v</td>\n",
       "      <td>Tops - Mens</td>\n",
       "      <td>Berghaus</td>\n",
       "      <td>GBP</td>\n",
       "      <td>25.27</td>\n",
       "      <td>2020-08-09</td>\n",
       "    </tr>\n",
       "    <tr>\n",
       "      <th>4</th>\n",
       "      <td>o79pns1qwo</td>\n",
       "      <td>GB</td>\n",
       "      <td>dpkx192v</td>\n",
       "      <td>GB</td>\n",
       "      <td>hp4r9bjq68af</td>\n",
       "      <td>Bottoms - Womens</td>\n",
       "      <td>NaN</td>\n",
       "      <td>GBP</td>\n",
       "      <td>8.90</td>\n",
       "      <td>2020-08-09</td>\n",
       "    </tr>\n",
       "    <tr>\n",
       "      <th>...</th>\n",
       "      <td>...</td>\n",
       "      <td>...</td>\n",
       "      <td>...</td>\n",
       "      <td>...</td>\n",
       "      <td>...</td>\n",
       "      <td>...</td>\n",
       "      <td>...</td>\n",
       "      <td>...</td>\n",
       "      <td>...</td>\n",
       "      <td>...</td>\n",
       "    </tr>\n",
       "    <tr>\n",
       "      <th>237666</th>\n",
       "      <td>p7ibf7soot</td>\n",
       "      <td>GB</td>\n",
       "      <td>ss7jy9ks</td>\n",
       "      <td>GB</td>\n",
       "      <td>hzc7pmjxmsb6</td>\n",
       "      <td>Bottoms - Womens</td>\n",
       "      <td>NaN</td>\n",
       "      <td>GBP</td>\n",
       "      <td>17.11</td>\n",
       "      <td>2020-08-06</td>\n",
       "    </tr>\n",
       "    <tr>\n",
       "      <th>237667</th>\n",
       "      <td>2hg8zirueq</td>\n",
       "      <td>US</td>\n",
       "      <td>bk6apusi</td>\n",
       "      <td>US</td>\n",
       "      <td>fskn84lfyrvz</td>\n",
       "      <td>Home</td>\n",
       "      <td>NaN</td>\n",
       "      <td>USD</td>\n",
       "      <td>69.00</td>\n",
       "      <td>2020-08-05</td>\n",
       "    </tr>\n",
       "    <tr>\n",
       "      <th>237668</th>\n",
       "      <td>k5hmcfxcs6</td>\n",
       "      <td>GB</td>\n",
       "      <td>n2ez0xph</td>\n",
       "      <td>GB</td>\n",
       "      <td>5afe7yhdpcmz</td>\n",
       "      <td>Other</td>\n",
       "      <td>NaN</td>\n",
       "      <td>GBP</td>\n",
       "      <td>58.28</td>\n",
       "      <td>2020-08-05</td>\n",
       "    </tr>\n",
       "    <tr>\n",
       "      <th>237669</th>\n",
       "      <td>ca8nc8qv1x</td>\n",
       "      <td>GB</td>\n",
       "      <td>j1s4nqxb</td>\n",
       "      <td>GB</td>\n",
       "      <td>ktdrjbrq0fo2</td>\n",
       "      <td>Shoes</td>\n",
       "      <td>NaN</td>\n",
       "      <td>GBP</td>\n",
       "      <td>9.46</td>\n",
       "      <td>2020-08-05</td>\n",
       "    </tr>\n",
       "    <tr>\n",
       "      <th>237670</th>\n",
       "      <td>z09h7w9zcd</td>\n",
       "      <td>US</td>\n",
       "      <td>0au7baxi</td>\n",
       "      <td>US</td>\n",
       "      <td>0r1qni2g1zi4</td>\n",
       "      <td>Other</td>\n",
       "      <td>NaN</td>\n",
       "      <td>USD</td>\n",
       "      <td>160.76</td>\n",
       "      <td>2020-08-06</td>\n",
       "    </tr>\n",
       "  </tbody>\n",
       "</table>\n",
       "<p>237671 rows × 10 columns</p>\n",
       "</div>"
      ],
      "text/plain": [
       "          buyer_id buyer_country seller_id seller_country  product_code  \\\n",
       "0       qzpjsi9t0o            GB  6oufpaot             GB  ydecnydr6obf   \n",
       "1       o79pns1qwo            GB  50xki2yg             GB  38chj507o6h2   \n",
       "2       sjgbjdkhqx            GB  50xki2yg             GB  i9ynyxj5tdp8   \n",
       "3       o79pns1qwo            GB  s0p322hh             GB  t50xe7moye8v   \n",
       "4       o79pns1qwo            GB  dpkx192v             GB  hp4r9bjq68af   \n",
       "...            ...           ...       ...            ...           ...   \n",
       "237666  p7ibf7soot            GB  ss7jy9ks             GB  hzc7pmjxmsb6   \n",
       "237667  2hg8zirueq            US  bk6apusi             US  fskn84lfyrvz   \n",
       "237668  k5hmcfxcs6            GB  n2ez0xph             GB  5afe7yhdpcmz   \n",
       "237669  ca8nc8qv1x            GB  j1s4nqxb             GB  ktdrjbrq0fo2   \n",
       "237670  z09h7w9zcd            US  0au7baxi             US  0r1qni2g1zi4   \n",
       "\n",
       "                category             brand currency   price        date  \n",
       "0                Dresses               NaN      GBP   19.11  2020-08-03  \n",
       "1              Outerwear  Adidas Originals      GBP   15.92  2020-08-09  \n",
       "2            Tops - Mens               NaN      GBP    6.37  2020-08-07  \n",
       "3            Tops - Mens          Berghaus      GBP   25.27  2020-08-09  \n",
       "4       Bottoms - Womens               NaN      GBP    8.90  2020-08-09  \n",
       "...                  ...               ...      ...     ...         ...  \n",
       "237666  Bottoms - Womens               NaN      GBP   17.11  2020-08-06  \n",
       "237667              Home               NaN      USD   69.00  2020-08-05  \n",
       "237668             Other               NaN      GBP   58.28  2020-08-05  \n",
       "237669             Shoes               NaN      GBP    9.46  2020-08-05  \n",
       "237670             Other               NaN      USD  160.76  2020-08-06  \n",
       "\n",
       "[237671 rows x 10 columns]"
      ]
     },
     "execution_count": 6,
     "metadata": {},
     "output_type": "execute_result"
    }
   ],
   "source": [
    "df_sales = pd.read_csv('sales_082020.csv')\n",
    "df_sales"
   ]
  },
  {
   "cell_type": "code",
   "execution_count": 7,
   "metadata": {},
   "outputs": [
    {
     "name": "stdout",
     "output_type": "stream",
     "text": [
      "<class 'pandas.core.frame.DataFrame'>\n",
      "RangeIndex: 237671 entries, 0 to 237670\n",
      "Data columns (total 10 columns):\n",
      " #   Column          Non-Null Count   Dtype  \n",
      "---  ------          --------------   -----  \n",
      " 0   buyer_id        237671 non-null  object \n",
      " 1   buyer_country   237671 non-null  object \n",
      " 2   seller_id       237671 non-null  object \n",
      " 3   seller_country  237671 non-null  object \n",
      " 4   product_code    237671 non-null  object \n",
      " 5   category        237655 non-null  object \n",
      " 6   brand           119330 non-null  object \n",
      " 7   currency        237671 non-null  object \n",
      " 8   price           237671 non-null  float64\n",
      " 9   date            237671 non-null  object \n",
      "dtypes: float64(1), object(9)\n",
      "memory usage: 18.1+ MB\n"
     ]
    }
   ],
   "source": [
    "df_sales.info()"
   ]
  },
  {
   "cell_type": "code",
   "execution_count": 25,
   "metadata": {},
   "outputs": [
    {
     "data": {
      "text/html": [
       "<div>\n",
       "<style scoped>\n",
       "    .dataframe tbody tr th:only-of-type {\n",
       "        vertical-align: middle;\n",
       "    }\n",
       "\n",
       "    .dataframe tbody tr th {\n",
       "        vertical-align: top;\n",
       "    }\n",
       "\n",
       "    .dataframe thead th {\n",
       "        text-align: right;\n",
       "    }\n",
       "</style>\n",
       "<table border=\"1\" class=\"dataframe\">\n",
       "  <thead>\n",
       "    <tr style=\"text-align: right;\">\n",
       "      <th></th>\n",
       "      <th>date</th>\n",
       "      <th>price</th>\n",
       "    </tr>\n",
       "  </thead>\n",
       "  <tbody>\n",
       "    <tr>\n",
       "      <th>0</th>\n",
       "      <td>2020-08-03</td>\n",
       "      <td>19.11</td>\n",
       "    </tr>\n",
       "    <tr>\n",
       "      <th>1</th>\n",
       "      <td>2020-08-09</td>\n",
       "      <td>15.92</td>\n",
       "    </tr>\n",
       "    <tr>\n",
       "      <th>2</th>\n",
       "      <td>2020-08-07</td>\n",
       "      <td>6.37</td>\n",
       "    </tr>\n",
       "    <tr>\n",
       "      <th>3</th>\n",
       "      <td>2020-08-09</td>\n",
       "      <td>25.27</td>\n",
       "    </tr>\n",
       "    <tr>\n",
       "      <th>4</th>\n",
       "      <td>2020-08-09</td>\n",
       "      <td>8.90</td>\n",
       "    </tr>\n",
       "    <tr>\n",
       "      <th>...</th>\n",
       "      <td>...</td>\n",
       "      <td>...</td>\n",
       "    </tr>\n",
       "    <tr>\n",
       "      <th>237666</th>\n",
       "      <td>2020-08-06</td>\n",
       "      <td>17.11</td>\n",
       "    </tr>\n",
       "    <tr>\n",
       "      <th>237667</th>\n",
       "      <td>2020-08-05</td>\n",
       "      <td>69.00</td>\n",
       "    </tr>\n",
       "    <tr>\n",
       "      <th>237668</th>\n",
       "      <td>2020-08-05</td>\n",
       "      <td>58.28</td>\n",
       "    </tr>\n",
       "    <tr>\n",
       "      <th>237669</th>\n",
       "      <td>2020-08-05</td>\n",
       "      <td>9.46</td>\n",
       "    </tr>\n",
       "    <tr>\n",
       "      <th>237670</th>\n",
       "      <td>2020-08-06</td>\n",
       "      <td>160.76</td>\n",
       "    </tr>\n",
       "  </tbody>\n",
       "</table>\n",
       "<p>237671 rows × 2 columns</p>\n",
       "</div>"
      ],
      "text/plain": [
       "              date   price\n",
       "0       2020-08-03   19.11\n",
       "1       2020-08-09   15.92\n",
       "2       2020-08-07    6.37\n",
       "3       2020-08-09   25.27\n",
       "4       2020-08-09    8.90\n",
       "...            ...     ...\n",
       "237666  2020-08-06   17.11\n",
       "237667  2020-08-05   69.00\n",
       "237668  2020-08-05   58.28\n",
       "237669  2020-08-05    9.46\n",
       "237670  2020-08-06  160.76\n",
       "\n",
       "[237671 rows x 2 columns]"
      ]
     },
     "execution_count": 25,
     "metadata": {},
     "output_type": "execute_result"
    }
   ],
   "source": []
  },
  {
   "cell_type": "code",
   "execution_count": null,
   "metadata": {},
   "outputs": [],
   "source": []
  },
  {
   "cell_type": "code",
   "execution_count": 22,
   "metadata": {},
   "outputs": [
    {
     "data": {
      "text/plain": [
       "114227"
      ]
     },
     "execution_count": 22,
     "metadata": {},
     "output_type": "execute_result"
    }
   ],
   "source": [
    "# len(df_sales['seller_id'].value_counts())\n",
    "len(df_sales['seller_id'].unique())"
   ]
  },
  {
   "cell_type": "code",
   "execution_count": 14,
   "metadata": {},
   "outputs": [
    {
     "data": {
      "text/html": [
       "<div>\n",
       "<style scoped>\n",
       "    .dataframe tbody tr th:only-of-type {\n",
       "        vertical-align: middle;\n",
       "    }\n",
       "\n",
       "    .dataframe tbody tr th {\n",
       "        vertical-align: top;\n",
       "    }\n",
       "\n",
       "    .dataframe thead th {\n",
       "        text-align: right;\n",
       "    }\n",
       "</style>\n",
       "<table border=\"1\" class=\"dataframe\">\n",
       "  <thead>\n",
       "    <tr style=\"text-align: right;\">\n",
       "      <th></th>\n",
       "      <th>currency</th>\n",
       "      <th>date</th>\n",
       "      <th>rate</th>\n",
       "    </tr>\n",
       "  </thead>\n",
       "  <tbody>\n",
       "    <tr>\n",
       "      <th>0</th>\n",
       "      <td>EUR</td>\n",
       "      <td>8/1/2020</td>\n",
       "      <td>1.0000</td>\n",
       "    </tr>\n",
       "    <tr>\n",
       "      <th>1</th>\n",
       "      <td>EUR</td>\n",
       "      <td>8/2/2020</td>\n",
       "      <td>1.0000</td>\n",
       "    </tr>\n",
       "    <tr>\n",
       "      <th>2</th>\n",
       "      <td>EUR</td>\n",
       "      <td>8/3/2020</td>\n",
       "      <td>1.0000</td>\n",
       "    </tr>\n",
       "    <tr>\n",
       "      <th>3</th>\n",
       "      <td>EUR</td>\n",
       "      <td>8/4/2020</td>\n",
       "      <td>1.0000</td>\n",
       "    </tr>\n",
       "    <tr>\n",
       "      <th>4</th>\n",
       "      <td>EUR</td>\n",
       "      <td>8/5/2020</td>\n",
       "      <td>1.0000</td>\n",
       "    </tr>\n",
       "    <tr>\n",
       "      <th>...</th>\n",
       "      <td>...</td>\n",
       "      <td>...</td>\n",
       "      <td>...</td>\n",
       "    </tr>\n",
       "    <tr>\n",
       "      <th>215</th>\n",
       "      <td>BRL</td>\n",
       "      <td>8/6/2020</td>\n",
       "      <td>6.3324</td>\n",
       "    </tr>\n",
       "    <tr>\n",
       "      <th>216</th>\n",
       "      <td>BRL</td>\n",
       "      <td>8/7/2020</td>\n",
       "      <td>6.4111</td>\n",
       "    </tr>\n",
       "    <tr>\n",
       "      <th>217</th>\n",
       "      <td>BRL</td>\n",
       "      <td>8/8/2020</td>\n",
       "      <td>6.4111</td>\n",
       "    </tr>\n",
       "    <tr>\n",
       "      <th>218</th>\n",
       "      <td>BRL</td>\n",
       "      <td>8/9/2020</td>\n",
       "      <td>6.4111</td>\n",
       "    </tr>\n",
       "    <tr>\n",
       "      <th>219</th>\n",
       "      <td>BRL</td>\n",
       "      <td>8/10/2020</td>\n",
       "      <td>6.4351</td>\n",
       "    </tr>\n",
       "  </tbody>\n",
       "</table>\n",
       "<p>220 rows × 3 columns</p>\n",
       "</div>"
      ],
      "text/plain": [
       "    currency       date    rate\n",
       "0        EUR   8/1/2020  1.0000\n",
       "1        EUR   8/2/2020  1.0000\n",
       "2        EUR   8/3/2020  1.0000\n",
       "3        EUR   8/4/2020  1.0000\n",
       "4        EUR   8/5/2020  1.0000\n",
       "..       ...        ...     ...\n",
       "215      BRL   8/6/2020  6.3324\n",
       "216      BRL   8/7/2020  6.4111\n",
       "217      BRL   8/8/2020  6.4111\n",
       "218      BRL   8/9/2020  6.4111\n",
       "219      BRL  8/10/2020  6.4351\n",
       "\n",
       "[220 rows x 3 columns]"
      ]
     },
     "execution_count": 14,
     "metadata": {},
     "output_type": "execute_result"
    }
   ],
   "source": [
    "df_currency_rates = pd.read_csv('currency_rates_082020_EUR.csv')\n",
    "df_currency_rates\n"
   ]
  },
  {
   "cell_type": "code",
   "execution_count": 15,
   "metadata": {},
   "outputs": [],
   "source": [
    "from datetime import datetime"
   ]
  },
  {
   "cell_type": "code",
   "execution_count": 25,
   "metadata": {},
   "outputs": [
    {
     "name": "stdout",
     "output_type": "stream",
     "text": [
      "<class 'pandas.core.frame.DataFrame'>\n",
      "RangeIndex: 237671 entries, 0 to 237670\n",
      "Data columns (total 10 columns):\n",
      " #   Column          Non-Null Count   Dtype         \n",
      "---  ------          --------------   -----         \n",
      " 0   buyer_id        237671 non-null  object        \n",
      " 1   buyer_country   237671 non-null  object        \n",
      " 2   seller_id       237671 non-null  object        \n",
      " 3   seller_country  237671 non-null  object        \n",
      " 4   product_code    237671 non-null  object        \n",
      " 5   category        237655 non-null  object        \n",
      " 6   brand           119330 non-null  object        \n",
      " 7   currency        237671 non-null  object        \n",
      " 8   price           237671 non-null  float64       \n",
      " 9   date            237671 non-null  datetime64[ns]\n",
      "dtypes: datetime64[ns](1), float64(1), object(8)\n",
      "memory usage: 18.1+ MB\n"
     ]
    }
   ],
   "source": [
    "df_sales['date'] = pd.to_datetime(df_sales['date'])\n",
    "df_sales.info()"
   ]
  },
  {
   "cell_type": "code",
   "execution_count": 81,
   "metadata": {},
   "outputs": [],
   "source": []
  },
  {
   "cell_type": "code",
   "execution_count": 82,
   "metadata": {},
   "outputs": [
    {
     "data": {
      "text/plain": [
       "0        2020-08-03\n",
       "1        2020-08-09\n",
       "2        2020-08-07\n",
       "3        2020-08-09\n",
       "4        2020-08-09\n",
       "            ...    \n",
       "237666   2020-08-06\n",
       "237667   2020-08-05\n",
       "237668   2020-08-05\n",
       "237669   2020-08-05\n",
       "237670   2020-08-06\n",
       "Name: date, Length: 237671, dtype: datetime64[ns]"
      ]
     },
     "execution_count": 82,
     "metadata": {},
     "output_type": "execute_result"
    }
   ],
   "source": [
    "df_sales['date']"
   ]
  },
  {
   "cell_type": "code",
   "execution_count": 67,
   "metadata": {},
   "outputs": [
    {
     "data": {
      "text/html": [
       "<div>\n",
       "<style scoped>\n",
       "    .dataframe tbody tr th:only-of-type {\n",
       "        vertical-align: middle;\n",
       "    }\n",
       "\n",
       "    .dataframe tbody tr th {\n",
       "        vertical-align: top;\n",
       "    }\n",
       "\n",
       "    .dataframe thead th {\n",
       "        text-align: right;\n",
       "    }\n",
       "</style>\n",
       "<table border=\"1\" class=\"dataframe\">\n",
       "  <thead>\n",
       "    <tr style=\"text-align: right;\">\n",
       "      <th></th>\n",
       "      <th>currency_x</th>\n",
       "      <th>price</th>\n",
       "      <th>date</th>\n",
       "      <th>currency_y</th>\n",
       "      <th>rate</th>\n",
       "    </tr>\n",
       "  </thead>\n",
       "  <tbody>\n",
       "    <tr>\n",
       "      <th>0</th>\n",
       "      <td>GBP</td>\n",
       "      <td>19.11</td>\n",
       "      <td>2020-08-03</td>\n",
       "      <td>NaN</td>\n",
       "      <td>NaN</td>\n",
       "    </tr>\n",
       "    <tr>\n",
       "      <th>1</th>\n",
       "      <td>GBP</td>\n",
       "      <td>24.91</td>\n",
       "      <td>2020-08-03</td>\n",
       "      <td>NaN</td>\n",
       "      <td>NaN</td>\n",
       "    </tr>\n",
       "    <tr>\n",
       "      <th>2</th>\n",
       "      <td>GBP</td>\n",
       "      <td>19.31</td>\n",
       "      <td>2020-08-03</td>\n",
       "      <td>NaN</td>\n",
       "      <td>NaN</td>\n",
       "    </tr>\n",
       "    <tr>\n",
       "      <th>3</th>\n",
       "      <td>GBP</td>\n",
       "      <td>16.98</td>\n",
       "      <td>2020-08-03</td>\n",
       "      <td>NaN</td>\n",
       "      <td>NaN</td>\n",
       "    </tr>\n",
       "    <tr>\n",
       "      <th>4</th>\n",
       "      <td>USD</td>\n",
       "      <td>16.29</td>\n",
       "      <td>2020-08-03</td>\n",
       "      <td>NaN</td>\n",
       "      <td>NaN</td>\n",
       "    </tr>\n",
       "    <tr>\n",
       "      <th>...</th>\n",
       "      <td>...</td>\n",
       "      <td>...</td>\n",
       "      <td>...</td>\n",
       "      <td>...</td>\n",
       "      <td>...</td>\n",
       "    </tr>\n",
       "    <tr>\n",
       "      <th>237886</th>\n",
       "      <td>NaN</td>\n",
       "      <td>NaN</td>\n",
       "      <td>8/10/2020</td>\n",
       "      <td>MYR</td>\n",
       "      <td>4.9281</td>\n",
       "    </tr>\n",
       "    <tr>\n",
       "      <th>237887</th>\n",
       "      <td>NaN</td>\n",
       "      <td>NaN</td>\n",
       "      <td>8/10/2020</td>\n",
       "      <td>TWD</td>\n",
       "      <td>34.5476</td>\n",
       "    </tr>\n",
       "    <tr>\n",
       "      <th>237888</th>\n",
       "      <td>NaN</td>\n",
       "      <td>NaN</td>\n",
       "      <td>8/10/2020</td>\n",
       "      <td>HUF</td>\n",
       "      <td>344.8725</td>\n",
       "    </tr>\n",
       "    <tr>\n",
       "      <th>237889</th>\n",
       "      <td>NaN</td>\n",
       "      <td>NaN</td>\n",
       "      <td>8/10/2020</td>\n",
       "      <td>CZK</td>\n",
       "      <td>26.1969</td>\n",
       "    </tr>\n",
       "    <tr>\n",
       "      <th>237890</th>\n",
       "      <td>NaN</td>\n",
       "      <td>NaN</td>\n",
       "      <td>8/10/2020</td>\n",
       "      <td>BRL</td>\n",
       "      <td>6.4351</td>\n",
       "    </tr>\n",
       "  </tbody>\n",
       "</table>\n",
       "<p>237891 rows × 5 columns</p>\n",
       "</div>"
      ],
      "text/plain": [
       "       currency_x  price        date currency_y      rate\n",
       "0             GBP  19.11  2020-08-03        NaN       NaN\n",
       "1             GBP  24.91  2020-08-03        NaN       NaN\n",
       "2             GBP  19.31  2020-08-03        NaN       NaN\n",
       "3             GBP  16.98  2020-08-03        NaN       NaN\n",
       "4             USD  16.29  2020-08-03        NaN       NaN\n",
       "...           ...    ...         ...        ...       ...\n",
       "237886        NaN    NaN   8/10/2020        MYR    4.9281\n",
       "237887        NaN    NaN   8/10/2020        TWD   34.5476\n",
       "237888        NaN    NaN   8/10/2020        HUF  344.8725\n",
       "237889        NaN    NaN   8/10/2020        CZK   26.1969\n",
       "237890        NaN    NaN   8/10/2020        BRL    6.4351\n",
       "\n",
       "[237891 rows x 5 columns]"
      ]
     },
     "execution_count": 67,
     "metadata": {},
     "output_type": "execute_result"
    }
   ],
   "source": [
    "# df_sales.loc[:,['currency','price','date']]\n",
    "df_total_sales = pd.merge(df_sales.loc[:,['currency','price','date']], df_currency_rates, how = 'outer', on = 'date')\n",
    "df_total_sales"
   ]
  },
  {
   "cell_type": "code",
   "execution_count": 63,
   "metadata": {},
   "outputs": [
    {
     "data": {
      "text/html": [
       "<div>\n",
       "<style scoped>\n",
       "    .dataframe tbody tr th:only-of-type {\n",
       "        vertical-align: middle;\n",
       "    }\n",
       "\n",
       "    .dataframe tbody tr th {\n",
       "        vertical-align: top;\n",
       "    }\n",
       "\n",
       "    .dataframe thead th {\n",
       "        text-align: right;\n",
       "    }\n",
       "</style>\n",
       "<table border=\"1\" class=\"dataframe\">\n",
       "  <thead>\n",
       "    <tr style=\"text-align: right;\">\n",
       "      <th></th>\n",
       "      <th>currency</th>\n",
       "      <th>price</th>\n",
       "      <th>date</th>\n",
       "    </tr>\n",
       "  </thead>\n",
       "  <tbody>\n",
       "    <tr>\n",
       "      <th>0</th>\n",
       "      <td>GBP</td>\n",
       "      <td>19.11</td>\n",
       "      <td>2020-08-03</td>\n",
       "    </tr>\n",
       "    <tr>\n",
       "      <th>1</th>\n",
       "      <td>GBP</td>\n",
       "      <td>15.92</td>\n",
       "      <td>2020-08-09</td>\n",
       "    </tr>\n",
       "    <tr>\n",
       "      <th>2</th>\n",
       "      <td>GBP</td>\n",
       "      <td>6.37</td>\n",
       "      <td>2020-08-07</td>\n",
       "    </tr>\n",
       "    <tr>\n",
       "      <th>3</th>\n",
       "      <td>GBP</td>\n",
       "      <td>25.27</td>\n",
       "      <td>2020-08-09</td>\n",
       "    </tr>\n",
       "    <tr>\n",
       "      <th>4</th>\n",
       "      <td>GBP</td>\n",
       "      <td>8.90</td>\n",
       "      <td>2020-08-09</td>\n",
       "    </tr>\n",
       "    <tr>\n",
       "      <th>...</th>\n",
       "      <td>...</td>\n",
       "      <td>...</td>\n",
       "      <td>...</td>\n",
       "    </tr>\n",
       "    <tr>\n",
       "      <th>237666</th>\n",
       "      <td>GBP</td>\n",
       "      <td>17.11</td>\n",
       "      <td>2020-08-06</td>\n",
       "    </tr>\n",
       "    <tr>\n",
       "      <th>237667</th>\n",
       "      <td>USD</td>\n",
       "      <td>69.00</td>\n",
       "      <td>2020-08-05</td>\n",
       "    </tr>\n",
       "    <tr>\n",
       "      <th>237668</th>\n",
       "      <td>GBP</td>\n",
       "      <td>58.28</td>\n",
       "      <td>2020-08-05</td>\n",
       "    </tr>\n",
       "    <tr>\n",
       "      <th>237669</th>\n",
       "      <td>GBP</td>\n",
       "      <td>9.46</td>\n",
       "      <td>2020-08-05</td>\n",
       "    </tr>\n",
       "    <tr>\n",
       "      <th>237670</th>\n",
       "      <td>USD</td>\n",
       "      <td>160.76</td>\n",
       "      <td>2020-08-06</td>\n",
       "    </tr>\n",
       "  </tbody>\n",
       "</table>\n",
       "<p>237671 rows × 3 columns</p>\n",
       "</div>"
      ],
      "text/plain": [
       "       currency   price        date\n",
       "0           GBP   19.11  2020-08-03\n",
       "1           GBP   15.92  2020-08-09\n",
       "2           GBP    6.37  2020-08-07\n",
       "3           GBP   25.27  2020-08-09\n",
       "4           GBP    8.90  2020-08-09\n",
       "...         ...     ...         ...\n",
       "237666      GBP   17.11  2020-08-06\n",
       "237667      USD   69.00  2020-08-05\n",
       "237668      GBP   58.28  2020-08-05\n",
       "237669      GBP    9.46  2020-08-05\n",
       "237670      USD  160.76  2020-08-06\n",
       "\n",
       "[237671 rows x 3 columns]"
      ]
     },
     "execution_count": 63,
     "metadata": {},
     "output_type": "execute_result"
    }
   ],
   "source": [
    "df_sales.loc[:,['currency','price','date']]"
   ]
  },
  {
   "cell_type": "code",
   "execution_count": 83,
   "metadata": {},
   "outputs": [
    {
     "name": "stdout",
     "output_type": "stream",
     "text": [
      "<class 'pandas.core.frame.DataFrame'>\n",
      "RangeIndex: 220 entries, 0 to 219\n",
      "Data columns (total 3 columns):\n",
      " #   Column    Non-Null Count  Dtype  \n",
      "---  ------    --------------  -----  \n",
      " 0   currency  220 non-null    object \n",
      " 1   date      220 non-null    object \n",
      " 2   rate      220 non-null    float64\n",
      "dtypes: float64(1), object(2)\n",
      "memory usage: 5.3+ KB\n"
     ]
    }
   ],
   "source": [
    "df_currency_rates.info()"
   ]
  },
  {
   "cell_type": "code",
   "execution_count": 28,
   "metadata": {},
   "outputs": [
    {
     "name": "stdout",
     "output_type": "stream",
     "text": [
      "<class 'pandas.core.frame.DataFrame'>\n",
      "RangeIndex: 220 entries, 0 to 219\n",
      "Data columns (total 3 columns):\n",
      " #   Column    Non-Null Count  Dtype         \n",
      "---  ------    --------------  -----         \n",
      " 0   currency  220 non-null    object        \n",
      " 1   date      220 non-null    datetime64[ns]\n",
      " 2   rate      220 non-null    float64       \n",
      "dtypes: datetime64[ns](1), float64(1), object(1)\n",
      "memory usage: 5.3+ KB\n"
     ]
    }
   ],
   "source": [
    "df_currency_rates['date'] = pd.to_datetime(df_currency_rates['date'])\n",
    "df_currency_rates.info()"
   ]
  },
  {
   "cell_type": "code",
   "execution_count": 29,
   "metadata": {},
   "outputs": [
    {
     "data": {
      "text/html": [
       "<div>\n",
       "<style scoped>\n",
       "    .dataframe tbody tr th:only-of-type {\n",
       "        vertical-align: middle;\n",
       "    }\n",
       "\n",
       "    .dataframe tbody tr th {\n",
       "        vertical-align: top;\n",
       "    }\n",
       "\n",
       "    .dataframe thead th {\n",
       "        text-align: right;\n",
       "    }\n",
       "</style>\n",
       "<table border=\"1\" class=\"dataframe\">\n",
       "  <thead>\n",
       "    <tr style=\"text-align: right;\">\n",
       "      <th></th>\n",
       "      <th>currency</th>\n",
       "      <th>date</th>\n",
       "      <th>rate</th>\n",
       "    </tr>\n",
       "  </thead>\n",
       "  <tbody>\n",
       "    <tr>\n",
       "      <th>0</th>\n",
       "      <td>EUR</td>\n",
       "      <td>2020-08-01</td>\n",
       "      <td>1.0000</td>\n",
       "    </tr>\n",
       "    <tr>\n",
       "      <th>1</th>\n",
       "      <td>EUR</td>\n",
       "      <td>2020-08-02</td>\n",
       "      <td>1.0000</td>\n",
       "    </tr>\n",
       "    <tr>\n",
       "      <th>2</th>\n",
       "      <td>EUR</td>\n",
       "      <td>2020-08-03</td>\n",
       "      <td>1.0000</td>\n",
       "    </tr>\n",
       "    <tr>\n",
       "      <th>3</th>\n",
       "      <td>EUR</td>\n",
       "      <td>2020-08-04</td>\n",
       "      <td>1.0000</td>\n",
       "    </tr>\n",
       "    <tr>\n",
       "      <th>4</th>\n",
       "      <td>EUR</td>\n",
       "      <td>2020-08-05</td>\n",
       "      <td>1.0000</td>\n",
       "    </tr>\n",
       "    <tr>\n",
       "      <th>...</th>\n",
       "      <td>...</td>\n",
       "      <td>...</td>\n",
       "      <td>...</td>\n",
       "    </tr>\n",
       "    <tr>\n",
       "      <th>215</th>\n",
       "      <td>BRL</td>\n",
       "      <td>2020-08-06</td>\n",
       "      <td>6.3324</td>\n",
       "    </tr>\n",
       "    <tr>\n",
       "      <th>216</th>\n",
       "      <td>BRL</td>\n",
       "      <td>2020-08-07</td>\n",
       "      <td>6.4111</td>\n",
       "    </tr>\n",
       "    <tr>\n",
       "      <th>217</th>\n",
       "      <td>BRL</td>\n",
       "      <td>2020-08-08</td>\n",
       "      <td>6.4111</td>\n",
       "    </tr>\n",
       "    <tr>\n",
       "      <th>218</th>\n",
       "      <td>BRL</td>\n",
       "      <td>2020-08-09</td>\n",
       "      <td>6.4111</td>\n",
       "    </tr>\n",
       "    <tr>\n",
       "      <th>219</th>\n",
       "      <td>BRL</td>\n",
       "      <td>2020-08-10</td>\n",
       "      <td>6.4351</td>\n",
       "    </tr>\n",
       "  </tbody>\n",
       "</table>\n",
       "<p>220 rows × 3 columns</p>\n",
       "</div>"
      ],
      "text/plain": [
       "    currency       date    rate\n",
       "0        EUR 2020-08-01  1.0000\n",
       "1        EUR 2020-08-02  1.0000\n",
       "2        EUR 2020-08-03  1.0000\n",
       "3        EUR 2020-08-04  1.0000\n",
       "4        EUR 2020-08-05  1.0000\n",
       "..       ...        ...     ...\n",
       "215      BRL 2020-08-06  6.3324\n",
       "216      BRL 2020-08-07  6.4111\n",
       "217      BRL 2020-08-08  6.4111\n",
       "218      BRL 2020-08-09  6.4111\n",
       "219      BRL 2020-08-10  6.4351\n",
       "\n",
       "[220 rows x 3 columns]"
      ]
     },
     "execution_count": 29,
     "metadata": {},
     "output_type": "execute_result"
    }
   ],
   "source": [
    "df_currency_rates"
   ]
  },
  {
   "cell_type": "code",
   "execution_count": 94,
   "metadata": {},
   "outputs": [
    {
     "data": {
      "text/html": [
       "<div>\n",
       "<style scoped>\n",
       "    .dataframe tbody tr th:only-of-type {\n",
       "        vertical-align: middle;\n",
       "    }\n",
       "\n",
       "    .dataframe tbody tr th {\n",
       "        vertical-align: top;\n",
       "    }\n",
       "\n",
       "    .dataframe thead th {\n",
       "        text-align: right;\n",
       "    }\n",
       "</style>\n",
       "<table border=\"1\" class=\"dataframe\">\n",
       "  <thead>\n",
       "    <tr style=\"text-align: right;\">\n",
       "      <th></th>\n",
       "      <th>currency</th>\n",
       "      <th>date</th>\n",
       "      <th>rate</th>\n",
       "    </tr>\n",
       "  </thead>\n",
       "  <tbody>\n",
       "    <tr>\n",
       "      <th>0</th>\n",
       "      <td>EUR</td>\n",
       "      <td>2020-01-08</td>\n",
       "      <td>1.0000</td>\n",
       "    </tr>\n",
       "    <tr>\n",
       "      <th>1</th>\n",
       "      <td>EUR</td>\n",
       "      <td>2020-02-08</td>\n",
       "      <td>1.0000</td>\n",
       "    </tr>\n",
       "    <tr>\n",
       "      <th>2</th>\n",
       "      <td>EUR</td>\n",
       "      <td>2020-03-08</td>\n",
       "      <td>1.0000</td>\n",
       "    </tr>\n",
       "    <tr>\n",
       "      <th>3</th>\n",
       "      <td>EUR</td>\n",
       "      <td>2020-04-08</td>\n",
       "      <td>1.0000</td>\n",
       "    </tr>\n",
       "    <tr>\n",
       "      <th>4</th>\n",
       "      <td>EUR</td>\n",
       "      <td>2020-05-08</td>\n",
       "      <td>1.0000</td>\n",
       "    </tr>\n",
       "    <tr>\n",
       "      <th>...</th>\n",
       "      <td>...</td>\n",
       "      <td>...</td>\n",
       "      <td>...</td>\n",
       "    </tr>\n",
       "    <tr>\n",
       "      <th>215</th>\n",
       "      <td>BRL</td>\n",
       "      <td>2020-06-08</td>\n",
       "      <td>6.3324</td>\n",
       "    </tr>\n",
       "    <tr>\n",
       "      <th>216</th>\n",
       "      <td>BRL</td>\n",
       "      <td>2020-07-08</td>\n",
       "      <td>6.4111</td>\n",
       "    </tr>\n",
       "    <tr>\n",
       "      <th>217</th>\n",
       "      <td>BRL</td>\n",
       "      <td>2020-08-08</td>\n",
       "      <td>6.4111</td>\n",
       "    </tr>\n",
       "    <tr>\n",
       "      <th>218</th>\n",
       "      <td>BRL</td>\n",
       "      <td>2020-09-08</td>\n",
       "      <td>6.4111</td>\n",
       "    </tr>\n",
       "    <tr>\n",
       "      <th>219</th>\n",
       "      <td>BRL</td>\n",
       "      <td>2020-10-08</td>\n",
       "      <td>6.4351</td>\n",
       "    </tr>\n",
       "  </tbody>\n",
       "</table>\n",
       "<p>220 rows × 3 columns</p>\n",
       "</div>"
      ],
      "text/plain": [
       "    currency        date    rate\n",
       "0        EUR  2020-01-08  1.0000\n",
       "1        EUR  2020-02-08  1.0000\n",
       "2        EUR  2020-03-08  1.0000\n",
       "3        EUR  2020-04-08  1.0000\n",
       "4        EUR  2020-05-08  1.0000\n",
       "..       ...         ...     ...\n",
       "215      BRL  2020-06-08  6.3324\n",
       "216      BRL  2020-07-08  6.4111\n",
       "217      BRL  2020-08-08  6.4111\n",
       "218      BRL  2020-09-08  6.4111\n",
       "219      BRL  2020-10-08  6.4351\n",
       "\n",
       "[220 rows x 3 columns]"
      ]
     },
     "execution_count": 94,
     "metadata": {},
     "output_type": "execute_result"
    }
   ],
   "source": [
    "# df_currency_rates['date'] = df_currency_rates['date'].dt.strftime('%Y-%d-%m')\n",
    "df_currency_rates.drop('date_2',axis=1,inplace=True)\n",
    "df_currency_rates"
   ]
  },
  {
   "cell_type": "code",
   "execution_count": 96,
   "metadata": {},
   "outputs": [
    {
     "data": {
      "text/html": [
       "<div>\n",
       "<style scoped>\n",
       "    .dataframe tbody tr th:only-of-type {\n",
       "        vertical-align: middle;\n",
       "    }\n",
       "\n",
       "    .dataframe tbody tr th {\n",
       "        vertical-align: top;\n",
       "    }\n",
       "\n",
       "    .dataframe thead th {\n",
       "        text-align: right;\n",
       "    }\n",
       "</style>\n",
       "<table border=\"1\" class=\"dataframe\">\n",
       "  <thead>\n",
       "    <tr style=\"text-align: right;\">\n",
       "      <th></th>\n",
       "      <th>currency</th>\n",
       "      <th>date</th>\n",
       "      <th>price</th>\n",
       "    </tr>\n",
       "  </thead>\n",
       "  <tbody>\n",
       "    <tr>\n",
       "      <th>0</th>\n",
       "      <td>GBP</td>\n",
       "      <td>2020-08-03</td>\n",
       "      <td>19.11</td>\n",
       "    </tr>\n",
       "    <tr>\n",
       "      <th>1</th>\n",
       "      <td>GBP</td>\n",
       "      <td>2020-08-09</td>\n",
       "      <td>15.92</td>\n",
       "    </tr>\n",
       "    <tr>\n",
       "      <th>2</th>\n",
       "      <td>GBP</td>\n",
       "      <td>2020-08-07</td>\n",
       "      <td>6.37</td>\n",
       "    </tr>\n",
       "    <tr>\n",
       "      <th>3</th>\n",
       "      <td>GBP</td>\n",
       "      <td>2020-08-09</td>\n",
       "      <td>25.27</td>\n",
       "    </tr>\n",
       "    <tr>\n",
       "      <th>4</th>\n",
       "      <td>GBP</td>\n",
       "      <td>2020-08-09</td>\n",
       "      <td>8.90</td>\n",
       "    </tr>\n",
       "    <tr>\n",
       "      <th>...</th>\n",
       "      <td>...</td>\n",
       "      <td>...</td>\n",
       "      <td>...</td>\n",
       "    </tr>\n",
       "    <tr>\n",
       "      <th>237666</th>\n",
       "      <td>GBP</td>\n",
       "      <td>2020-08-06</td>\n",
       "      <td>17.11</td>\n",
       "    </tr>\n",
       "    <tr>\n",
       "      <th>237667</th>\n",
       "      <td>USD</td>\n",
       "      <td>2020-08-05</td>\n",
       "      <td>69.00</td>\n",
       "    </tr>\n",
       "    <tr>\n",
       "      <th>237668</th>\n",
       "      <td>GBP</td>\n",
       "      <td>2020-08-05</td>\n",
       "      <td>58.28</td>\n",
       "    </tr>\n",
       "    <tr>\n",
       "      <th>237669</th>\n",
       "      <td>GBP</td>\n",
       "      <td>2020-08-05</td>\n",
       "      <td>9.46</td>\n",
       "    </tr>\n",
       "    <tr>\n",
       "      <th>237670</th>\n",
       "      <td>USD</td>\n",
       "      <td>2020-08-06</td>\n",
       "      <td>160.76</td>\n",
       "    </tr>\n",
       "  </tbody>\n",
       "</table>\n",
       "<p>237671 rows × 3 columns</p>\n",
       "</div>"
      ],
      "text/plain": [
       "       currency       date   price\n",
       "0           GBP 2020-08-03   19.11\n",
       "1           GBP 2020-08-09   15.92\n",
       "2           GBP 2020-08-07    6.37\n",
       "3           GBP 2020-08-09   25.27\n",
       "4           GBP 2020-08-09    8.90\n",
       "...         ...        ...     ...\n",
       "237666      GBP 2020-08-06   17.11\n",
       "237667      USD 2020-08-05   69.00\n",
       "237668      GBP 2020-08-05   58.28\n",
       "237669      GBP 2020-08-05    9.46\n",
       "237670      USD 2020-08-06  160.76\n",
       "\n",
       "[237671 rows x 3 columns]"
      ]
     },
     "execution_count": 96,
     "metadata": {},
     "output_type": "execute_result"
    }
   ],
   "source": [
    "df_sales[['currency','date','price']]"
   ]
  },
  {
   "cell_type": "code",
   "execution_count": 98,
   "metadata": {},
   "outputs": [],
   "source": [
    "# df_total_sales = pd.merge(df_sales.loc[:,['currency','price','date']], df_currency_rates, how = 'outer', on = 'date')\n",
    "# df_total_sales"
   ]
  },
  {
   "cell_type": "code",
   "execution_count": 104,
   "metadata": {},
   "outputs": [],
   "source": [
    "# df_sales['rate']= df_sales.transform(np.where(df_sales['date'].equals(df_currency_rates['date']) & df_sales['currency'].equals(df_currency_rates['currency'] ) , df_currency_rates['date'], np.nan))\n",
    "# df_sales\n",
    "\n"
   ]
  },
  {
   "cell_type": "code",
   "execution_count": 106,
   "metadata": {},
   "outputs": [
    {
     "data": {
      "text/html": [
       "<div>\n",
       "<style scoped>\n",
       "    .dataframe tbody tr th:only-of-type {\n",
       "        vertical-align: middle;\n",
       "    }\n",
       "\n",
       "    .dataframe tbody tr th {\n",
       "        vertical-align: top;\n",
       "    }\n",
       "\n",
       "    .dataframe thead th {\n",
       "        text-align: right;\n",
       "    }\n",
       "</style>\n",
       "<table border=\"1\" class=\"dataframe\">\n",
       "  <thead>\n",
       "    <tr style=\"text-align: right;\">\n",
       "      <th></th>\n",
       "      <th>buyer_id</th>\n",
       "      <th>buyer_country</th>\n",
       "      <th>seller_id</th>\n",
       "      <th>seller_country</th>\n",
       "      <th>product_code</th>\n",
       "      <th>category</th>\n",
       "      <th>brand</th>\n",
       "      <th>currency</th>\n",
       "      <th>price</th>\n",
       "      <th>date</th>\n",
       "    </tr>\n",
       "  </thead>\n",
       "  <tbody>\n",
       "    <tr>\n",
       "      <th>0</th>\n",
       "      <td>qzpjsi9t0o</td>\n",
       "      <td>GB</td>\n",
       "      <td>6oufpaot</td>\n",
       "      <td>GB</td>\n",
       "      <td>ydecnydr6obf</td>\n",
       "      <td>Dresses</td>\n",
       "      <td>NaN</td>\n",
       "      <td>GBP</td>\n",
       "      <td>19.11</td>\n",
       "      <td>2020-08-03</td>\n",
       "    </tr>\n",
       "    <tr>\n",
       "      <th>1</th>\n",
       "      <td>o79pns1qwo</td>\n",
       "      <td>GB</td>\n",
       "      <td>50xki2yg</td>\n",
       "      <td>GB</td>\n",
       "      <td>38chj507o6h2</td>\n",
       "      <td>Outerwear</td>\n",
       "      <td>Adidas Originals</td>\n",
       "      <td>GBP</td>\n",
       "      <td>15.92</td>\n",
       "      <td>2020-08-09</td>\n",
       "    </tr>\n",
       "    <tr>\n",
       "      <th>2</th>\n",
       "      <td>sjgbjdkhqx</td>\n",
       "      <td>GB</td>\n",
       "      <td>50xki2yg</td>\n",
       "      <td>GB</td>\n",
       "      <td>i9ynyxj5tdp8</td>\n",
       "      <td>Tops - Mens</td>\n",
       "      <td>NaN</td>\n",
       "      <td>GBP</td>\n",
       "      <td>6.37</td>\n",
       "      <td>2020-08-07</td>\n",
       "    </tr>\n",
       "    <tr>\n",
       "      <th>3</th>\n",
       "      <td>o79pns1qwo</td>\n",
       "      <td>GB</td>\n",
       "      <td>s0p322hh</td>\n",
       "      <td>GB</td>\n",
       "      <td>t50xe7moye8v</td>\n",
       "      <td>Tops - Mens</td>\n",
       "      <td>Berghaus</td>\n",
       "      <td>GBP</td>\n",
       "      <td>25.27</td>\n",
       "      <td>2020-08-09</td>\n",
       "    </tr>\n",
       "    <tr>\n",
       "      <th>4</th>\n",
       "      <td>o79pns1qwo</td>\n",
       "      <td>GB</td>\n",
       "      <td>dpkx192v</td>\n",
       "      <td>GB</td>\n",
       "      <td>hp4r9bjq68af</td>\n",
       "      <td>Bottoms - Womens</td>\n",
       "      <td>NaN</td>\n",
       "      <td>GBP</td>\n",
       "      <td>8.90</td>\n",
       "      <td>2020-08-09</td>\n",
       "    </tr>\n",
       "  </tbody>\n",
       "</table>\n",
       "</div>"
      ],
      "text/plain": [
       "     buyer_id buyer_country seller_id seller_country  product_code  \\\n",
       "0  qzpjsi9t0o            GB  6oufpaot             GB  ydecnydr6obf   \n",
       "1  o79pns1qwo            GB  50xki2yg             GB  38chj507o6h2   \n",
       "2  sjgbjdkhqx            GB  50xki2yg             GB  i9ynyxj5tdp8   \n",
       "3  o79pns1qwo            GB  s0p322hh             GB  t50xe7moye8v   \n",
       "4  o79pns1qwo            GB  dpkx192v             GB  hp4r9bjq68af   \n",
       "\n",
       "           category             brand currency  price       date  \n",
       "0           Dresses               NaN      GBP  19.11 2020-08-03  \n",
       "1         Outerwear  Adidas Originals      GBP  15.92 2020-08-09  \n",
       "2       Tops - Mens               NaN      GBP   6.37 2020-08-07  \n",
       "3       Tops - Mens          Berghaus      GBP  25.27 2020-08-09  \n",
       "4  Bottoms - Womens               NaN      GBP   8.90 2020-08-09  "
      ]
     },
     "execution_count": 106,
     "metadata": {},
     "output_type": "execute_result"
    }
   ],
   "source": [
    "df_sales.head()"
   ]
  },
  {
   "cell_type": "code",
   "execution_count": 111,
   "metadata": {},
   "outputs": [
    {
     "data": {
      "text/plain": [
       "0                      NaN\n",
       "1         adidas originals\n",
       "2                      NaN\n",
       "3                 berghaus\n",
       "4                      NaN\n",
       "                ...       \n",
       "237666                 NaN\n",
       "237667                 NaN\n",
       "237668                 NaN\n",
       "237669                 NaN\n",
       "237670                 NaN\n",
       "Name: brand, Length: 237671, dtype: object"
      ]
     },
     "execution_count": 111,
     "metadata": {},
     "output_type": "execute_result"
    }
   ],
   "source": [
    "df_sales['brand'].str.lower()"
   ]
  },
  {
   "cell_type": "code",
   "execution_count": 108,
   "metadata": {},
   "outputs": [
    {
     "data": {
      "text/html": [
       "<div>\n",
       "<style scoped>\n",
       "    .dataframe tbody tr th:only-of-type {\n",
       "        vertical-align: middle;\n",
       "    }\n",
       "\n",
       "    .dataframe tbody tr th {\n",
       "        vertical-align: top;\n",
       "    }\n",
       "\n",
       "    .dataframe thead th {\n",
       "        text-align: right;\n",
       "    }\n",
       "</style>\n",
       "<table border=\"1\" class=\"dataframe\">\n",
       "  <thead>\n",
       "    <tr style=\"text-align: right;\">\n",
       "      <th></th>\n",
       "      <th>price</th>\n",
       "    </tr>\n",
       "    <tr>\n",
       "      <th>brand</th>\n",
       "      <th></th>\n",
       "    </tr>\n",
       "  </thead>\n",
       "  <tbody>\n",
       "    <tr>\n",
       "      <th>&amp; Other Stories</th>\n",
       "      <td>4615.52</td>\n",
       "    </tr>\n",
       "    <tr>\n",
       "      <th>032c</th>\n",
       "      <td>376.78</td>\n",
       "    </tr>\n",
       "    <tr>\n",
       "      <th>11 Degrees</th>\n",
       "      <td>432.76</td>\n",
       "    </tr>\n",
       "    <tr>\n",
       "      <th>1822 Denim</th>\n",
       "      <td>150.78</td>\n",
       "    </tr>\n",
       "    <tr>\n",
       "      <th>3.1 Phillip Lim</th>\n",
       "      <td>356.16</td>\n",
       "    </tr>\n",
       "    <tr>\n",
       "      <th>...</th>\n",
       "      <td>...</td>\n",
       "    </tr>\n",
       "    <tr>\n",
       "      <th>ghd</th>\n",
       "      <td>1965.11</td>\n",
       "    </tr>\n",
       "    <tr>\n",
       "      <th>kensie</th>\n",
       "      <td>23.45</td>\n",
       "    </tr>\n",
       "    <tr>\n",
       "      <th>liquid blue</th>\n",
       "      <td>2396.47</td>\n",
       "    </tr>\n",
       "    <tr>\n",
       "      <th>mixxmix</th>\n",
       "      <td>225.45</td>\n",
       "    </tr>\n",
       "    <tr>\n",
       "      <th>philosophy</th>\n",
       "      <td>106.34</td>\n",
       "    </tr>\n",
       "  </tbody>\n",
       "</table>\n",
       "<p>1134 rows × 1 columns</p>\n",
       "</div>"
      ],
      "text/plain": [
       "                   price\n",
       "brand                   \n",
       "& Other Stories  4615.52\n",
       "032c              376.78\n",
       "11 Degrees        432.76\n",
       "1822 Denim        150.78\n",
       "3.1 Phillip Lim   356.16\n",
       "...                  ...\n",
       "ghd              1965.11\n",
       "kensie             23.45\n",
       "liquid blue      2396.47\n",
       "mixxmix           225.45\n",
       "philosophy        106.34\n",
       "\n",
       "[1134 rows x 1 columns]"
      ]
     },
     "execution_count": 108,
     "metadata": {},
     "output_type": "execute_result"
    }
   ],
   "source": [
    "\n",
    "df_sales.groupby('brand').sum()"
   ]
  },
  {
   "cell_type": "code",
   "execution_count": 113,
   "metadata": {},
   "outputs": [
    {
     "data": {
      "text/html": [
       "<div>\n",
       "<style scoped>\n",
       "    .dataframe tbody tr th:only-of-type {\n",
       "        vertical-align: middle;\n",
       "    }\n",
       "\n",
       "    .dataframe tbody tr th {\n",
       "        vertical-align: top;\n",
       "    }\n",
       "\n",
       "    .dataframe thead th {\n",
       "        text-align: right;\n",
       "    }\n",
       "</style>\n",
       "<table border=\"1\" class=\"dataframe\">\n",
       "  <thead>\n",
       "    <tr style=\"text-align: right;\">\n",
       "      <th></th>\n",
       "      <th>price</th>\n",
       "    </tr>\n",
       "    <tr>\n",
       "      <th>brand</th>\n",
       "      <th></th>\n",
       "    </tr>\n",
       "  </thead>\n",
       "  <tbody>\n",
       "    <tr>\n",
       "      <th>&amp; other stories</th>\n",
       "      <td>4615.52</td>\n",
       "    </tr>\n",
       "    <tr>\n",
       "      <th>032c</th>\n",
       "      <td>376.78</td>\n",
       "    </tr>\n",
       "    <tr>\n",
       "      <th>11 degrees</th>\n",
       "      <td>432.76</td>\n",
       "    </tr>\n",
       "    <tr>\n",
       "      <th>1822 denim</th>\n",
       "      <td>150.78</td>\n",
       "    </tr>\n",
       "    <tr>\n",
       "      <th>3.1 phillip lim</th>\n",
       "      <td>356.16</td>\n",
       "    </tr>\n",
       "    <tr>\n",
       "      <th>...</th>\n",
       "      <td>...</td>\n",
       "    </tr>\n",
       "    <tr>\n",
       "      <th>zena jeans</th>\n",
       "      <td>264.96</td>\n",
       "    </tr>\n",
       "    <tr>\n",
       "      <th>zimmermann</th>\n",
       "      <td>59.56</td>\n",
       "    </tr>\n",
       "    <tr>\n",
       "      <th>zoeva</th>\n",
       "      <td>81.28</td>\n",
       "    </tr>\n",
       "    <tr>\n",
       "      <th>zoo york</th>\n",
       "      <td>34.48</td>\n",
       "    </tr>\n",
       "    <tr>\n",
       "      <th>zumiez</th>\n",
       "      <td>1432.03</td>\n",
       "    </tr>\n",
       "  </tbody>\n",
       "</table>\n",
       "<p>1132 rows × 1 columns</p>\n",
       "</div>"
      ],
      "text/plain": [
       "                   price\n",
       "brand                   \n",
       "& other stories  4615.52\n",
       "032c              376.78\n",
       "11 degrees        432.76\n",
       "1822 denim        150.78\n",
       "3.1 phillip lim   356.16\n",
       "...                  ...\n",
       "zena jeans        264.96\n",
       "zimmermann         59.56\n",
       "zoeva              81.28\n",
       "zoo york           34.48\n",
       "zumiez           1432.03\n",
       "\n",
       "[1132 rows x 1 columns]"
      ]
     },
     "execution_count": 113,
     "metadata": {},
     "output_type": "execute_result"
    }
   ],
   "source": [
    "df_sales.groupby(df_sales['brand'].str.lower()).sum()"
   ]
  },
  {
   "cell_type": "code",
   "execution_count": 119,
   "metadata": {},
   "outputs": [
    {
     "data": {
      "text/plain": [
       "brand\n",
       "skagen                   1\n",
       "sunspel                  1\n",
       "rachel comey             1\n",
       "butter london            1\n",
       "needle & thread          1\n",
       "                      ... \n",
       "adidas                3905\n",
       "prettylittle thing    4136\n",
       "topshop               4561\n",
       "brandy melville       5085\n",
       "nike                  9575\n",
       "Name: buyer_id, Length: 1132, dtype: int64"
      ]
     },
     "execution_count": 119,
     "metadata": {},
     "output_type": "execute_result"
    }
   ],
   "source": [
    "df_sales.groupby(df_sales['brand'].str.lower())['buyer_id'].count().sort_values()"
   ]
  },
  {
   "cell_type": "code",
   "execution_count": 120,
   "metadata": {},
   "outputs": [
    {
     "data": {
      "text/plain": [
       "brand\n",
       "LeSportsac               1\n",
       "Popular Sports           1\n",
       "Pop Boutique             1\n",
       "C/meo Collective         1\n",
       "C2H4 Los Angeles         1\n",
       "                      ... \n",
       "Adidas                3905\n",
       "PrettyLittle Thing    4136\n",
       "Topshop               4561\n",
       "Brandy Melville       5065\n",
       "Nike                  9575\n",
       "Name: buyer_id, Length: 1134, dtype: int64"
      ]
     },
     "execution_count": 120,
     "metadata": {},
     "output_type": "execute_result"
    }
   ],
   "source": [
    "df_sales.groupby('brand')['buyer_id'].count().sort_values()"
   ]
  },
  {
   "cell_type": "code",
   "execution_count": 144,
   "metadata": {},
   "outputs": [
    {
     "data": {
      "text/html": [
       "<div>\n",
       "<style scoped>\n",
       "    .dataframe tbody tr th:only-of-type {\n",
       "        vertical-align: middle;\n",
       "    }\n",
       "\n",
       "    .dataframe tbody tr th {\n",
       "        vertical-align: top;\n",
       "    }\n",
       "\n",
       "    .dataframe thead th {\n",
       "        text-align: right;\n",
       "    }\n",
       "</style>\n",
       "<table border=\"1\" class=\"dataframe\">\n",
       "  <thead>\n",
       "    <tr style=\"text-align: right;\">\n",
       "      <th></th>\n",
       "      <th>buyer_id</th>\n",
       "      <th>buyer_country</th>\n",
       "      <th>seller_id</th>\n",
       "      <th>seller_country</th>\n",
       "      <th>product_code</th>\n",
       "      <th>category</th>\n",
       "      <th>brand</th>\n",
       "      <th>currency</th>\n",
       "      <th>price</th>\n",
       "      <th>date</th>\n",
       "    </tr>\n",
       "  </thead>\n",
       "  <tbody>\n",
       "    <tr>\n",
       "      <th>120356</th>\n",
       "      <td>39fn78wp72</td>\n",
       "      <td>RoW</td>\n",
       "      <td>jx12q3qu</td>\n",
       "      <td>GB</td>\n",
       "      <td>rshttkohalvm</td>\n",
       "      <td>Shoes</td>\n",
       "      <td>Nike</td>\n",
       "      <td>GBP</td>\n",
       "      <td>29.44</td>\n",
       "      <td>2020-08-09</td>\n",
       "    </tr>\n",
       "    <tr>\n",
       "      <th>60473</th>\n",
       "      <td>nnpt22jhsg</td>\n",
       "      <td>GB</td>\n",
       "      <td>b8pvuv1k</td>\n",
       "      <td>GB</td>\n",
       "      <td>rc7tylluaeid</td>\n",
       "      <td>Outerwear - Mens</td>\n",
       "      <td>Chaps</td>\n",
       "      <td>GBP</td>\n",
       "      <td>21.52</td>\n",
       "      <td>2020-08-04</td>\n",
       "    </tr>\n",
       "    <tr>\n",
       "      <th>1321</th>\n",
       "      <td>9pw6drxvrl</td>\n",
       "      <td>US</td>\n",
       "      <td>j5uhqy5n</td>\n",
       "      <td>US</td>\n",
       "      <td>l8ym99k46ta6</td>\n",
       "      <td>Tops - Womens</td>\n",
       "      <td>American Vintage</td>\n",
       "      <td>USD</td>\n",
       "      <td>29.59</td>\n",
       "      <td>2020-08-07</td>\n",
       "    </tr>\n",
       "    <tr>\n",
       "      <th>113886</th>\n",
       "      <td>sv9q487p1e</td>\n",
       "      <td>GB</td>\n",
       "      <td>wyouhif8</td>\n",
       "      <td>GB</td>\n",
       "      <td>sef0kjantsz1</td>\n",
       "      <td>Dresses</td>\n",
       "      <td>NaN</td>\n",
       "      <td>GBP</td>\n",
       "      <td>16.40</td>\n",
       "      <td>2020-08-07</td>\n",
       "    </tr>\n",
       "    <tr>\n",
       "      <th>114016</th>\n",
       "      <td>4er2fw8945</td>\n",
       "      <td>GB</td>\n",
       "      <td>zkhsyhvf</td>\n",
       "      <td>GB</td>\n",
       "      <td>tgi6djoc31le</td>\n",
       "      <td>Dresses</td>\n",
       "      <td>In The Style</td>\n",
       "      <td>GBP</td>\n",
       "      <td>16.31</td>\n",
       "      <td>2020-08-03</td>\n",
       "    </tr>\n",
       "  </tbody>\n",
       "</table>\n",
       "</div>"
      ],
      "text/plain": [
       "          buyer_id buyer_country seller_id seller_country  product_code  \\\n",
       "120356  39fn78wp72           RoW  jx12q3qu             GB  rshttkohalvm   \n",
       "60473   nnpt22jhsg            GB  b8pvuv1k             GB  rc7tylluaeid   \n",
       "1321    9pw6drxvrl            US  j5uhqy5n             US  l8ym99k46ta6   \n",
       "113886  sv9q487p1e            GB  wyouhif8             GB  sef0kjantsz1   \n",
       "114016  4er2fw8945            GB  zkhsyhvf             GB  tgi6djoc31le   \n",
       "\n",
       "                category             brand currency  price       date  \n",
       "120356             Shoes              Nike      GBP  29.44 2020-08-09  \n",
       "60473   Outerwear - Mens             Chaps      GBP  21.52 2020-08-04  \n",
       "1321       Tops - Womens  American Vintage      USD  29.59 2020-08-07  \n",
       "113886           Dresses               NaN      GBP  16.40 2020-08-07  \n",
       "114016           Dresses      In The Style      GBP  16.31 2020-08-03  "
      ]
     },
     "execution_count": 144,
     "metadata": {},
     "output_type": "execute_result"
    }
   ],
   "source": [
    "df_sales.sample(5)"
   ]
  },
  {
   "cell_type": "code",
   "execution_count": 138,
   "metadata": {},
   "outputs": [
    {
     "data": {
      "text/plain": [
       "23        NaN\n",
       "48        NaN\n",
       "49        NaN\n",
       "50        NaN\n",
       "51        NaN\n",
       "         ... \n",
       "237545    NaN\n",
       "237568    NaN\n",
       "237569    NaN\n",
       "237616    NaN\n",
       "237643    NaN\n",
       "Name: brand, Length: 14923, dtype: object"
      ]
     },
     "execution_count": 138,
     "metadata": {},
     "output_type": "execute_result"
    }
   ],
   "source": [
    "df_sales[df_sales['category']=='Jewellery']['brand']"
   ]
  },
  {
   "cell_type": "code",
   "execution_count": 134,
   "metadata": {},
   "outputs": [
    {
     "data": {
      "text/plain": [
       "14923"
      ]
     },
     "execution_count": 134,
     "metadata": {},
     "output_type": "execute_result"
    }
   ],
   "source": [
    "df_sales[df_sales['category']=='Jewellery']['brand'].isna().count()"
   ]
  },
  {
   "cell_type": "code",
   "execution_count": 135,
   "metadata": {},
   "outputs": [
    {
     "data": {
      "text/plain": [
       "13525"
      ]
     },
     "execution_count": 135,
     "metadata": {},
     "output_type": "execute_result"
    }
   ],
   "source": [
    "df_sales[df_sales['category']=='Jewellery']['brand'].isna().sum()"
   ]
  },
  {
   "cell_type": "code",
   "execution_count": 137,
   "metadata": {},
   "outputs": [
    {
     "data": {
      "text/plain": [
       "13525"
      ]
     },
     "execution_count": 137,
     "metadata": {},
     "output_type": "execute_result"
    }
   ],
   "source": [
    "df_sales[df_sales['category']=='Jewellery']['brand'].isnull().sum()"
   ]
  },
  {
   "cell_type": "code",
   "execution_count": 149,
   "metadata": {},
   "outputs": [
    {
     "data": {
      "text/plain": [
       "brand            buyer_id  \n",
       "& Other Stories  2dhyotzwb8    3\n",
       "                 di4kyujcsd    2\n",
       "                 ijre86x17v    2\n",
       "                 kyae5x75n9    2\n",
       "                 pqiteyd0nk    2\n",
       "                              ..\n",
       "mixxmix          r2uitblcih    1\n",
       "philosophy       65m4j46pwc    1\n",
       "                 o4c80ddl18    1\n",
       "                 y960w6f4lw    1\n",
       "                 zfhydakqn9    1\n",
       "Name: buyer_id, Length: 106671, dtype: int64"
      ]
     },
     "execution_count": 149,
     "metadata": {},
     "output_type": "execute_result"
    }
   ],
   "source": [
    "df_sales.groupby('brand')['buyer_id'].value_counts()"
   ]
  },
  {
   "cell_type": "code",
   "execution_count": 147,
   "metadata": {},
   "outputs": [
    {
     "data": {
      "text/plain": [
       "brand            seller_id\n",
       "& Other Stories  x0h4yx8s     10\n",
       "                 f8wfih3x      4\n",
       "                 e4eian6i      3\n",
       "                 yd6x3ayt      3\n",
       "                 1me6sgfd      2\n",
       "                              ..\n",
       "mixxmix          xqb7v373      1\n",
       "philosophy       sk94plsd      1\n",
       "                 t5sb17qv      1\n",
       "                 wm7c3qx3      1\n",
       "                 yyl3seo6      1\n",
       "Name: seller_id, Length: 100784, dtype: int64"
      ]
     },
     "execution_count": 147,
     "metadata": {},
     "output_type": "execute_result"
    }
   ],
   "source": [
    "df_sales.groupby('brand')['seller_id'].value_counts()"
   ]
  },
  {
   "cell_type": "code",
   "execution_count": 153,
   "metadata": {},
   "outputs": [
    {
     "data": {
      "text/plain": [
       "brand\n",
       "& Other Stories    151\n",
       "032c                11\n",
       "11 Degrees          33\n",
       "1822 Denim           8\n",
       "3.1 Phillip Lim     10\n",
       "                  ... \n",
       "ghd                 35\n",
       "kensie               1\n",
       "liquid blue         52\n",
       "mixxmix             12\n",
       "philosophy           4\n",
       "Name: buyer_id, Length: 1134, dtype: int64"
      ]
     },
     "execution_count": 153,
     "metadata": {},
     "output_type": "execute_result"
    }
   ],
   "source": [
    "df_sales.groupby('brand')['buyer_id'].count()"
   ]
  },
  {
   "cell_type": "code",
   "execution_count": 154,
   "metadata": {},
   "outputs": [
    {
     "data": {
      "text/plain": [
       "brand\n",
       "& Other Stories    151\n",
       "032c                11\n",
       "11 Degrees          33\n",
       "1822 Denim           8\n",
       "3.1 Phillip Lim     10\n",
       "                  ... \n",
       "ghd                 35\n",
       "kensie               1\n",
       "liquid blue         52\n",
       "mixxmix             12\n",
       "philosophy           4\n",
       "Name: seller_id, Length: 1134, dtype: int64"
      ]
     },
     "execution_count": 154,
     "metadata": {},
     "output_type": "execute_result"
    }
   ],
   "source": [
    "df_sales.groupby('brand')['seller_id'].count()"
   ]
  },
  {
   "cell_type": "code",
   "execution_count": 157,
   "metadata": {},
   "outputs": [
    {
     "data": {
      "text/plain": [
       "brand\n",
       "LeSportsac               1\n",
       "Popular Sports           1\n",
       "Pop Boutique             1\n",
       "C/meo Collective         1\n",
       "C2H4 Los Angeles         1\n",
       "                      ... \n",
       "Adidas                3905\n",
       "PrettyLittle Thing    4136\n",
       "Topshop               4561\n",
       "Brandy Melville       5065\n",
       "Nike                  9575\n",
       "Name: seller_id, Length: 1134, dtype: int64"
      ]
     },
     "execution_count": 157,
     "metadata": {},
     "output_type": "execute_result"
    }
   ],
   "source": [
    "df_sales.groupby('brand')['seller_id'].count().sort_values()"
   ]
  },
  {
   "cell_type": "code",
   "execution_count": null,
   "metadata": {},
   "outputs": [],
   "source": [
    "df_sales.groupby('brand')['seller_id'].count().sort_values()[:,]"
   ]
  },
  {
   "cell_type": "code",
   "execution_count": 138,
   "metadata": {},
   "outputs": [
    {
     "data": {
      "text/plain": [
       "73"
      ]
     },
     "execution_count": 138,
     "metadata": {},
     "output_type": "execute_result"
    }
   ],
   "source": [
    "df_sales.groupby('brand')['brand'].count().apply(lambda x :  ((x > 35) & (x <=55))).sum()"
   ]
  },
  {
   "cell_type": "code",
   "execution_count": 137,
   "metadata": {},
   "outputs": [
    {
     "data": {
      "text/plain": [
       "81"
      ]
     },
     "execution_count": 137,
     "metadata": {},
     "output_type": "execute_result"
    }
   ],
   "source": [
    "df_sales.groupby('brand')['brand'].count().apply(lambda x :  ((x >= 35) & (x <=55))).sum()"
   ]
  },
  {
   "cell_type": "code",
   "execution_count": 130,
   "metadata": {},
   "outputs": [
    {
     "data": {
      "text/plain": [
       "81"
      ]
     },
     "execution_count": 130,
     "metadata": {},
     "output_type": "execute_result"
    }
   ],
   "source": [
    "((df_sales.groupby('brand').brand.count()>= 35)&(df_sales.groupby('brand').brand.count()<= 55)).sum()"
   ]
  },
  {
   "cell_type": "code",
   "execution_count": null,
   "metadata": {},
   "outputs": [],
   "source": [
    "# 4. What is the total value of sales in EUR?(Just write numbers) *\n",
    "# Euro cinsinden satışların toplam değeri nedir? (Yalnızca sayı yazın) *"
   ]
  },
  {
   "cell_type": "code",
   "execution_count": 16,
   "metadata": {},
   "outputs": [
    {
     "data": {
      "text/html": [
       "<div>\n",
       "<style scoped>\n",
       "    .dataframe tbody tr th:only-of-type {\n",
       "        vertical-align: middle;\n",
       "    }\n",
       "\n",
       "    .dataframe tbody tr th {\n",
       "        vertical-align: top;\n",
       "    }\n",
       "\n",
       "    .dataframe thead th {\n",
       "        text-align: right;\n",
       "    }\n",
       "</style>\n",
       "<table border=\"1\" class=\"dataframe\">\n",
       "  <thead>\n",
       "    <tr style=\"text-align: right;\">\n",
       "      <th></th>\n",
       "      <th>buyer_id</th>\n",
       "      <th>buyer_country</th>\n",
       "      <th>seller_id</th>\n",
       "      <th>seller_country</th>\n",
       "      <th>product_code</th>\n",
       "      <th>category</th>\n",
       "      <th>brand</th>\n",
       "      <th>currency</th>\n",
       "      <th>price</th>\n",
       "      <th>date</th>\n",
       "    </tr>\n",
       "  </thead>\n",
       "  <tbody>\n",
       "    <tr>\n",
       "      <th>102492</th>\n",
       "      <td>undjzzsz1g</td>\n",
       "      <td>GB</td>\n",
       "      <td>uj3luoad</td>\n",
       "      <td>GB</td>\n",
       "      <td>sy8qch5mfxnv</td>\n",
       "      <td>Dresses</td>\n",
       "      <td>Brandy Melville</td>\n",
       "      <td>GBP</td>\n",
       "      <td>29.81</td>\n",
       "      <td>2020-08-06</td>\n",
       "    </tr>\n",
       "  </tbody>\n",
       "</table>\n",
       "</div>"
      ],
      "text/plain": [
       "          buyer_id buyer_country seller_id seller_country  product_code  \\\n",
       "102492  undjzzsz1g            GB  uj3luoad             GB  sy8qch5mfxnv   \n",
       "\n",
       "       category            brand currency  price        date  \n",
       "102492  Dresses  Brandy Melville      GBP  29.81  2020-08-06  "
      ]
     },
     "execution_count": 16,
     "metadata": {},
     "output_type": "execute_result"
    }
   ],
   "source": [
    "df_sales.sample()"
   ]
  },
  {
   "cell_type": "code",
   "execution_count": 18,
   "metadata": {},
   "outputs": [
    {
     "data": {
      "text/plain": [
       "array(['GBP', 'USD', 'AUD', 'EUR', 'CAD', 'NZD', 'HKD', 'CHF', 'SEK',\n",
       "       'DKK', 'ILS', 'PLN', 'THB', 'MXN', 'JPY', 'NOK', 'SGD', 'MYR',\n",
       "       'TWD', 'HUF', 'CZK', 'BRL'], dtype=object)"
      ]
     },
     "execution_count": 18,
     "metadata": {},
     "output_type": "execute_result"
    }
   ],
   "source": [
    "df_sales['currency'].unique()"
   ]
  },
  {
   "cell_type": "code",
   "execution_count": 17,
   "metadata": {},
   "outputs": [
    {
     "data": {
      "text/plain": [
       "6739727.730000001"
      ]
     },
     "execution_count": 17,
     "metadata": {},
     "output_type": "execute_result"
    }
   ],
   "source": [
    "# df_sales['price'].sum()"
   ]
  },
  {
   "cell_type": "code",
   "execution_count": 23,
   "metadata": {},
   "outputs": [
    {
     "data": {
      "text/html": [
       "<div>\n",
       "<style scoped>\n",
       "    .dataframe tbody tr th:only-of-type {\n",
       "        vertical-align: middle;\n",
       "    }\n",
       "\n",
       "    .dataframe tbody tr th {\n",
       "        vertical-align: top;\n",
       "    }\n",
       "\n",
       "    .dataframe thead th {\n",
       "        text-align: right;\n",
       "    }\n",
       "</style>\n",
       "<table border=\"1\" class=\"dataframe\">\n",
       "  <thead>\n",
       "    <tr style=\"text-align: right;\">\n",
       "      <th></th>\n",
       "      <th>currency</th>\n",
       "      <th>date</th>\n",
       "      <th>rate</th>\n",
       "    </tr>\n",
       "  </thead>\n",
       "  <tbody>\n",
       "    <tr>\n",
       "      <th>123</th>\n",
       "      <td>THB</td>\n",
       "      <td>8/4/2020</td>\n",
       "      <td>36.621</td>\n",
       "    </tr>\n",
       "  </tbody>\n",
       "</table>\n",
       "</div>"
      ],
      "text/plain": [
       "    currency      date    rate\n",
       "123      THB  8/4/2020  36.621"
      ]
     },
     "execution_count": 23,
     "metadata": {},
     "output_type": "execute_result"
    }
   ],
   "source": [
    "df_currency_rates.sample()"
   ]
  },
  {
   "cell_type": "code",
   "execution_count": 24,
   "metadata": {},
   "outputs": [
    {
     "data": {
      "text/plain": [
       "array(['EUR', 'GBP', 'USD', 'AUD', 'CAD', 'NZD', 'HKD', 'CHF', 'SEK',\n",
       "       'DKK', 'ILS', 'PLN', 'THB', 'MXN', 'JPY', 'NOK', 'SGD', 'MYR',\n",
       "       'TWD', 'HUF', 'CZK', 'BRL'], dtype=object)"
      ]
     },
     "execution_count": 24,
     "metadata": {},
     "output_type": "execute_result"
    }
   ],
   "source": [
    "df_currency_rates.currency.unique()"
   ]
  },
  {
   "cell_type": "code",
   "execution_count": 26,
   "metadata": {},
   "outputs": [
    {
     "data": {
      "text/plain": [
       "59959   2020-08-05\n",
       "Name: date, dtype: datetime64[ns]"
      ]
     },
     "execution_count": 26,
     "metadata": {},
     "output_type": "execute_result"
    }
   ],
   "source": [
    "df_sales['date'].sample()"
   ]
  },
  {
   "cell_type": "code",
   "execution_count": 30,
   "metadata": {},
   "outputs": [
    {
     "data": {
      "text/plain": [
       "176   2020-08-07\n",
       "Name: date, dtype: datetime64[ns]"
      ]
     },
     "execution_count": 30,
     "metadata": {},
     "output_type": "execute_result"
    }
   ],
   "source": [
    "df_currency_rates['date'].sample()"
   ]
  },
  {
   "cell_type": "code",
   "execution_count": 31,
   "metadata": {},
   "outputs": [
    {
     "data": {
      "text/html": [
       "<div>\n",
       "<style scoped>\n",
       "    .dataframe tbody tr th:only-of-type {\n",
       "        vertical-align: middle;\n",
       "    }\n",
       "\n",
       "    .dataframe tbody tr th {\n",
       "        vertical-align: top;\n",
       "    }\n",
       "\n",
       "    .dataframe thead th {\n",
       "        text-align: right;\n",
       "    }\n",
       "</style>\n",
       "<table border=\"1\" class=\"dataframe\">\n",
       "  <thead>\n",
       "    <tr style=\"text-align: right;\">\n",
       "      <th></th>\n",
       "      <th>buyer_id</th>\n",
       "      <th>buyer_country</th>\n",
       "      <th>seller_id</th>\n",
       "      <th>seller_country</th>\n",
       "      <th>product_code</th>\n",
       "      <th>category</th>\n",
       "      <th>brand</th>\n",
       "      <th>currency</th>\n",
       "      <th>price</th>\n",
       "      <th>date</th>\n",
       "    </tr>\n",
       "  </thead>\n",
       "  <tbody>\n",
       "    <tr>\n",
       "      <th>46027</th>\n",
       "      <td>ci13smnh2n</td>\n",
       "      <td>GB</td>\n",
       "      <td>kqn4ydt2</td>\n",
       "      <td>GB</td>\n",
       "      <td>3nfttilfkut1</td>\n",
       "      <td>Jewellery</td>\n",
       "      <td>NaN</td>\n",
       "      <td>GBP</td>\n",
       "      <td>5.72</td>\n",
       "      <td>2020-08-09</td>\n",
       "    </tr>\n",
       "  </tbody>\n",
       "</table>\n",
       "</div>"
      ],
      "text/plain": [
       "         buyer_id buyer_country seller_id seller_country  product_code  \\\n",
       "46027  ci13smnh2n            GB  kqn4ydt2             GB  3nfttilfkut1   \n",
       "\n",
       "        category brand currency  price       date  \n",
       "46027  Jewellery   NaN      GBP   5.72 2020-08-09  "
      ]
     },
     "execution_count": 31,
     "metadata": {},
     "output_type": "execute_result"
    }
   ],
   "source": [
    "df_sales.sample()"
   ]
  },
  {
   "cell_type": "code",
   "execution_count": 36,
   "metadata": {},
   "outputs": [
    {
     "data": {
      "text/html": [
       "<div>\n",
       "<style scoped>\n",
       "    .dataframe tbody tr th:only-of-type {\n",
       "        vertical-align: middle;\n",
       "    }\n",
       "\n",
       "    .dataframe tbody tr th {\n",
       "        vertical-align: top;\n",
       "    }\n",
       "\n",
       "    .dataframe thead th {\n",
       "        text-align: right;\n",
       "    }\n",
       "</style>\n",
       "<table border=\"1\" class=\"dataframe\">\n",
       "  <thead>\n",
       "    <tr style=\"text-align: right;\">\n",
       "      <th></th>\n",
       "      <th>currency</th>\n",
       "      <th>price</th>\n",
       "      <th>date</th>\n",
       "    </tr>\n",
       "  </thead>\n",
       "  <tbody>\n",
       "    <tr>\n",
       "      <th>11523</th>\n",
       "      <td>GBP</td>\n",
       "      <td>33.9</td>\n",
       "      <td>2020-08-04</td>\n",
       "    </tr>\n",
       "  </tbody>\n",
       "</table>\n",
       "</div>"
      ],
      "text/plain": [
       "      currency  price       date\n",
       "11523      GBP   33.9 2020-08-04"
      ]
     },
     "execution_count": 36,
     "metadata": {},
     "output_type": "execute_result"
    }
   ],
   "source": [
    "df_sales_price=df_sales[['currency','price','date']]\n",
    "df_sales_price.sample()"
   ]
  },
  {
   "cell_type": "code",
   "execution_count": 50,
   "metadata": {},
   "outputs": [
    {
     "name": "stdout",
     "output_type": "stream",
     "text": [
      "<class 'pandas.core.frame.DataFrame'>\n",
      "RangeIndex: 237671 entries, 0 to 237670\n",
      "Data columns (total 10 columns):\n",
      " #   Column          Non-Null Count   Dtype         \n",
      "---  ------          --------------   -----         \n",
      " 0   buyer_id        237671 non-null  object        \n",
      " 1   buyer_country   237671 non-null  object        \n",
      " 2   seller_id       237671 non-null  object        \n",
      " 3   seller_country  237671 non-null  object        \n",
      " 4   product_code    237671 non-null  object        \n",
      " 5   category        237655 non-null  object        \n",
      " 6   brand           119330 non-null  object        \n",
      " 7   currency        237671 non-null  object        \n",
      " 8   price           237671 non-null  float64       \n",
      " 9   date            237671 non-null  datetime64[ns]\n",
      "dtypes: datetime64[ns](1), float64(1), object(8)\n",
      "memory usage: 18.1+ MB\n"
     ]
    }
   ],
   "source": [
    "df_sales.info()"
   ]
  },
  {
   "cell_type": "code",
   "execution_count": 32,
   "metadata": {},
   "outputs": [
    {
     "data": {
      "text/html": [
       "<div>\n",
       "<style scoped>\n",
       "    .dataframe tbody tr th:only-of-type {\n",
       "        vertical-align: middle;\n",
       "    }\n",
       "\n",
       "    .dataframe tbody tr th {\n",
       "        vertical-align: top;\n",
       "    }\n",
       "\n",
       "    .dataframe thead th {\n",
       "        text-align: right;\n",
       "    }\n",
       "</style>\n",
       "<table border=\"1\" class=\"dataframe\">\n",
       "  <thead>\n",
       "    <tr style=\"text-align: right;\">\n",
       "      <th></th>\n",
       "      <th>currency</th>\n",
       "      <th>date</th>\n",
       "      <th>rate</th>\n",
       "    </tr>\n",
       "  </thead>\n",
       "  <tbody>\n",
       "    <tr>\n",
       "      <th>18</th>\n",
       "      <td>GBP</td>\n",
       "      <td>2020-08-09</td>\n",
       "      <td>0.90278</td>\n",
       "    </tr>\n",
       "  </tbody>\n",
       "</table>\n",
       "</div>"
      ],
      "text/plain": [
       "   currency       date     rate\n",
       "18      GBP 2020-08-09  0.90278"
      ]
     },
     "execution_count": 32,
     "metadata": {},
     "output_type": "execute_result"
    }
   ],
   "source": [
    "df_currency_rates.sample()"
   ]
  },
  {
   "cell_type": "code",
   "execution_count": 52,
   "metadata": {},
   "outputs": [
    {
     "data": {
      "text/plain": [
       "6471511"
      ]
     },
     "execution_count": 52,
     "metadata": {},
     "output_type": "execute_result"
    }
   ],
   "source": [
    "result = pd.merge(df_sales_price, df_currency_rates, on=[\"currency\",'date'], how=\"inner\")\n",
    "result['total'] = (result.price / result.rate)\n",
    "int(result['total'].sum().round())\n",
    "# result.sample(10)"
   ]
  },
  {
   "cell_type": "code",
   "execution_count": 53,
   "metadata": {},
   "outputs": [
    {
     "data": {
      "text/html": [
       "<div>\n",
       "<style scoped>\n",
       "    .dataframe tbody tr th:only-of-type {\n",
       "        vertical-align: middle;\n",
       "    }\n",
       "\n",
       "    .dataframe tbody tr th {\n",
       "        vertical-align: top;\n",
       "    }\n",
       "\n",
       "    .dataframe thead th {\n",
       "        text-align: right;\n",
       "    }\n",
       "</style>\n",
       "<table border=\"1\" class=\"dataframe\">\n",
       "  <thead>\n",
       "    <tr style=\"text-align: right;\">\n",
       "      <th></th>\n",
       "      <th>currency</th>\n",
       "      <th>price</th>\n",
       "      <th>date</th>\n",
       "      <th>rate</th>\n",
       "      <th>total</th>\n",
       "    </tr>\n",
       "  </thead>\n",
       "  <tbody>\n",
       "    <tr>\n",
       "      <th>60774</th>\n",
       "      <td>GBP</td>\n",
       "      <td>14.85</td>\n",
       "      <td>2020-08-07</td>\n",
       "      <td>0.90286</td>\n",
       "      <td>16.447733</td>\n",
       "    </tr>\n",
       "  </tbody>\n",
       "</table>\n",
       "</div>"
      ],
      "text/plain": [
       "      currency  price       date     rate      total\n",
       "60774      GBP  14.85 2020-08-07  0.90286  16.447733"
      ]
     },
     "execution_count": 53,
     "metadata": {},
     "output_type": "execute_result"
    }
   ],
   "source": [
    "result.sample()"
   ]
  },
  {
   "cell_type": "code",
   "execution_count": 47,
   "metadata": {},
   "outputs": [
    {
     "data": {
      "text/plain": [
       "25111216.067888867"
      ]
     },
     "execution_count": 47,
     "metadata": {},
     "output_type": "execute_result"
    }
   ],
   "source": [
    "(result['price']*result['rate'])"
   ]
  },
  {
   "cell_type": "code",
   "execution_count": null,
   "metadata": {},
   "outputs": [],
   "source": [
    "# 6. How many items in the “Jewelry” category have no brand associated with them?(Just write numbers) *\n",
    "# \"Mücevher\" kategorisindeki kaç öğenin onlarla ilişkili bir markası yoktur? (Yalnızca sayı yazın) *\n"
   ]
  },
  {
   "cell_type": "code",
   "execution_count": 70,
   "metadata": {},
   "outputs": [
    {
     "data": {
      "text/html": [
       "<div>\n",
       "<style scoped>\n",
       "    .dataframe tbody tr th:only-of-type {\n",
       "        vertical-align: middle;\n",
       "    }\n",
       "\n",
       "    .dataframe tbody tr th {\n",
       "        vertical-align: top;\n",
       "    }\n",
       "\n",
       "    .dataframe thead th {\n",
       "        text-align: right;\n",
       "    }\n",
       "</style>\n",
       "<table border=\"1\" class=\"dataframe\">\n",
       "  <thead>\n",
       "    <tr style=\"text-align: right;\">\n",
       "      <th></th>\n",
       "      <th>buyer_id</th>\n",
       "      <th>buyer_country</th>\n",
       "      <th>seller_id</th>\n",
       "      <th>seller_country</th>\n",
       "      <th>product_code</th>\n",
       "      <th>category</th>\n",
       "      <th>brand</th>\n",
       "      <th>currency</th>\n",
       "      <th>price</th>\n",
       "      <th>date</th>\n",
       "    </tr>\n",
       "  </thead>\n",
       "  <tbody>\n",
       "    <tr>\n",
       "      <th>77505</th>\n",
       "      <td>iqy90lrxne</td>\n",
       "      <td>US</td>\n",
       "      <td>46w2j98l</td>\n",
       "      <td>US</td>\n",
       "      <td>0nsco9wiho44</td>\n",
       "      <td>Tops - Mens</td>\n",
       "      <td>Guess</td>\n",
       "      <td>USD</td>\n",
       "      <td>37.87</td>\n",
       "      <td>2020-08-08</td>\n",
       "    </tr>\n",
       "    <tr>\n",
       "      <th>15533</th>\n",
       "      <td>32bwf3q880</td>\n",
       "      <td>GB</td>\n",
       "      <td>uktwzlnj</td>\n",
       "      <td>GB</td>\n",
       "      <td>xbu9fv6d4t0t</td>\n",
       "      <td>Jewellery</td>\n",
       "      <td>NaN</td>\n",
       "      <td>GBP</td>\n",
       "      <td>6.85</td>\n",
       "      <td>2020-08-09</td>\n",
       "    </tr>\n",
       "    <tr>\n",
       "      <th>69754</th>\n",
       "      <td>aavm7vbpda</td>\n",
       "      <td>GB</td>\n",
       "      <td>7npf5rg7</td>\n",
       "      <td>GB</td>\n",
       "      <td>m1mywcwdbpo1</td>\n",
       "      <td>Beauty</td>\n",
       "      <td>NaN</td>\n",
       "      <td>GBP</td>\n",
       "      <td>11.07</td>\n",
       "      <td>2020-08-03</td>\n",
       "    </tr>\n",
       "    <tr>\n",
       "      <th>155882</th>\n",
       "      <td>4cci7ikjgk</td>\n",
       "      <td>GB</td>\n",
       "      <td>u9ppvmjv</td>\n",
       "      <td>GB</td>\n",
       "      <td>zasczrqlf4fn</td>\n",
       "      <td>Tops - Womens</td>\n",
       "      <td>&amp; Other Stories</td>\n",
       "      <td>GBP</td>\n",
       "      <td>42.43</td>\n",
       "      <td>2020-08-06</td>\n",
       "    </tr>\n",
       "    <tr>\n",
       "      <th>110458</th>\n",
       "      <td>9ku5ztfzel</td>\n",
       "      <td>GB</td>\n",
       "      <td>18x5ki1r</td>\n",
       "      <td>GB</td>\n",
       "      <td>b2oyjzx1oxxj</td>\n",
       "      <td>Jewellery</td>\n",
       "      <td>NaN</td>\n",
       "      <td>GBP</td>\n",
       "      <td>10.70</td>\n",
       "      <td>2020-08-06</td>\n",
       "    </tr>\n",
       "  </tbody>\n",
       "</table>\n",
       "</div>"
      ],
      "text/plain": [
       "          buyer_id buyer_country seller_id seller_country  product_code  \\\n",
       "77505   iqy90lrxne            US  46w2j98l             US  0nsco9wiho44   \n",
       "15533   32bwf3q880            GB  uktwzlnj             GB  xbu9fv6d4t0t   \n",
       "69754   aavm7vbpda            GB  7npf5rg7             GB  m1mywcwdbpo1   \n",
       "155882  4cci7ikjgk            GB  u9ppvmjv             GB  zasczrqlf4fn   \n",
       "110458  9ku5ztfzel            GB  18x5ki1r             GB  b2oyjzx1oxxj   \n",
       "\n",
       "             category            brand currency  price       date  \n",
       "77505     Tops - Mens            Guess      USD  37.87 2020-08-08  \n",
       "15533       Jewellery              NaN      GBP   6.85 2020-08-09  \n",
       "69754          Beauty              NaN      GBP  11.07 2020-08-03  \n",
       "155882  Tops - Womens  & Other Stories      GBP  42.43 2020-08-06  \n",
       "110458      Jewellery              NaN      GBP  10.70 2020-08-06  "
      ]
     },
     "execution_count": 70,
     "metadata": {},
     "output_type": "execute_result"
    }
   ],
   "source": [
    "df_sales.sample(5)"
   ]
  },
  {
   "cell_type": "code",
   "execution_count": 90,
   "metadata": {},
   "outputs": [
    {
     "data": {
      "text/plain": [
       "1398"
      ]
     },
     "execution_count": 90,
     "metadata": {},
     "output_type": "execute_result"
    }
   ],
   "source": [
    "df_sales[df_sales['category']=='Jewellery']['brand'].notnull().sum()"
   ]
  },
  {
   "cell_type": "code",
   "execution_count": null,
   "metadata": {},
   "outputs": [],
   "source": [
    "df_sales['product_code'].unique()"
   ]
  },
  {
   "cell_type": "code",
   "execution_count": 125,
   "metadata": {},
   "outputs": [
    {
     "data": {
      "text/plain": [
       "13521"
      ]
     },
     "execution_count": 125,
     "metadata": {},
     "output_type": "execute_result"
    }
   ],
   "source": [
    "# df.drop_duplicates(keep='first', inplace=True)\n",
    "df_sales.drop_duplicates(keep='first', inplace=True)\n",
    "df_sales[df_sales['category']=='Jewellery']['brand'].isna().sum()"
   ]
  },
  {
   "cell_type": "code",
   "execution_count": 120,
   "metadata": {},
   "outputs": [],
   "source": [
    "df_sales['brand']= df_sales['brand'].convert_dtypes('float')"
   ]
  },
  {
   "cell_type": "code",
   "execution_count": 121,
   "metadata": {},
   "outputs": [
    {
     "data": {
      "text/plain": [
       "13525"
      ]
     },
     "execution_count": 121,
     "metadata": {},
     "output_type": "execute_result"
    }
   ],
   "source": [
    "df_sales[df_sales['category']=='Jewellery']['brand'].isna().values.sum()"
   ]
  },
  {
   "cell_type": "code",
   "execution_count": 122,
   "metadata": {},
   "outputs": [
    {
     "data": {
      "text/plain": [
       "14923"
      ]
     },
     "execution_count": 122,
     "metadata": {},
     "output_type": "execute_result"
    }
   ],
   "source": [
    "df_sales[df_sales['category']=='Jewellery']['brand'].isnull().count()"
   ]
  },
  {
   "cell_type": "code",
   "execution_count": null,
   "metadata": {},
   "outputs": [],
   "source": [
    " \n",
    "# 7. How many brands have between 35 and 55 transactions (inclusive)?(Just write numbers)"
   ]
  },
  {
   "cell_type": "code",
   "execution_count": 127,
   "metadata": {},
   "outputs": [
    {
     "data": {
      "text/plain": [
       "False    1053\n",
       "True       81\n",
       "Name: brand, dtype: int64"
      ]
     },
     "execution_count": 127,
     "metadata": {},
     "output_type": "execute_result"
    }
   ],
   "source": [
    "((df_sales.groupby('brand').brand.count()>= 35)&(df_sales.groupby('brand').brand.count()<= 55)).value_counts()"
   ]
  },
  {
   "cell_type": "code",
   "execution_count": 129,
   "metadata": {},
   "outputs": [
    {
     "data": {
      "text/plain": [
       "81"
      ]
     },
     "execution_count": 129,
     "metadata": {},
     "output_type": "execute_result"
    }
   ],
   "source": [
    "((df_sales.groupby('brand').brand.count()>= 35)&(df_sales.groupby('brand').brand.count()<= 55)).sum()"
   ]
  },
  {
   "cell_type": "code",
   "execution_count": null,
   "metadata": {},
   "outputs": [],
   "source": [
    "\n",
    "# 8. How many pairs of shoes were purchased by Australian (AU) buyers?(Just write numbers)\n",
    "# Avustralya (AU) müşterileri kaç çift ayakkabı satın aldı? (Yalnızca sayı yazın)\n"
   ]
  },
  {
   "cell_type": "code",
   "execution_count": 152,
   "metadata": {},
   "outputs": [
    {
     "data": {
      "text/plain": [
       "658"
      ]
     },
     "execution_count": 152,
     "metadata": {},
     "output_type": "execute_result"
    }
   ],
   "source": [
    "df_sales[(df_sales['category']=='Shoes') & (df_sales['buyer_country']=='AU')]['buyer_id'].count()"
   ]
  },
  {
   "cell_type": "code",
   "execution_count": 141,
   "metadata": {},
   "outputs": [
    {
     "data": {
      "text/html": [
       "<div>\n",
       "<style scoped>\n",
       "    .dataframe tbody tr th:only-of-type {\n",
       "        vertical-align: middle;\n",
       "    }\n",
       "\n",
       "    .dataframe tbody tr th {\n",
       "        vertical-align: top;\n",
       "    }\n",
       "\n",
       "    .dataframe thead th {\n",
       "        text-align: right;\n",
       "    }\n",
       "</style>\n",
       "<table border=\"1\" class=\"dataframe\">\n",
       "  <thead>\n",
       "    <tr style=\"text-align: right;\">\n",
       "      <th></th>\n",
       "      <th>buyer_id</th>\n",
       "      <th>buyer_country</th>\n",
       "      <th>seller_id</th>\n",
       "      <th>seller_country</th>\n",
       "      <th>product_code</th>\n",
       "      <th>category</th>\n",
       "      <th>brand</th>\n",
       "      <th>currency</th>\n",
       "      <th>price</th>\n",
       "      <th>date</th>\n",
       "    </tr>\n",
       "  </thead>\n",
       "  <tbody>\n",
       "    <tr>\n",
       "      <th>126300</th>\n",
       "      <td>hxe4upuoar</td>\n",
       "      <td>GB</td>\n",
       "      <td>ymq6zrxv</td>\n",
       "      <td>GB</td>\n",
       "      <td>zab6ya918uux</td>\n",
       "      <td>Dresses</td>\n",
       "      <td>&lt;NA&gt;</td>\n",
       "      <td>GBP</td>\n",
       "      <td>15.05</td>\n",
       "      <td>2020-08-09</td>\n",
       "    </tr>\n",
       "    <tr>\n",
       "      <th>96377</th>\n",
       "      <td>u3q6fzad9o</td>\n",
       "      <td>US</td>\n",
       "      <td>kot5ztrx</td>\n",
       "      <td>CA</td>\n",
       "      <td>1fp8jmq0t5a2</td>\n",
       "      <td>Tops - Mens</td>\n",
       "      <td>&lt;NA&gt;</td>\n",
       "      <td>CAD</td>\n",
       "      <td>20.22</td>\n",
       "      <td>2020-08-03</td>\n",
       "    </tr>\n",
       "    <tr>\n",
       "      <th>83954</th>\n",
       "      <td>y695whofz5</td>\n",
       "      <td>GB</td>\n",
       "      <td>xglquyu0</td>\n",
       "      <td>GB</td>\n",
       "      <td>yif7n3qpor06</td>\n",
       "      <td>Tops - Womens</td>\n",
       "      <td>&lt;NA&gt;</td>\n",
       "      <td>GBP</td>\n",
       "      <td>13.97</td>\n",
       "      <td>2020-08-04</td>\n",
       "    </tr>\n",
       "    <tr>\n",
       "      <th>219435</th>\n",
       "      <td>a9dx91ei1j</td>\n",
       "      <td>US</td>\n",
       "      <td>kuqez0p5</td>\n",
       "      <td>US</td>\n",
       "      <td>v3rsi781208t</td>\n",
       "      <td>Lingerie</td>\n",
       "      <td>&lt;NA&gt;</td>\n",
       "      <td>USD</td>\n",
       "      <td>11.07</td>\n",
       "      <td>2020-08-05</td>\n",
       "    </tr>\n",
       "    <tr>\n",
       "      <th>89889</th>\n",
       "      <td>gubjugwcbz</td>\n",
       "      <td>GB</td>\n",
       "      <td>8bo69x7t</td>\n",
       "      <td>GB</td>\n",
       "      <td>1100espmmmnc</td>\n",
       "      <td>Beauty</td>\n",
       "      <td>&lt;NA&gt;</td>\n",
       "      <td>GBP</td>\n",
       "      <td>5.65</td>\n",
       "      <td>2020-08-03</td>\n",
       "    </tr>\n",
       "    <tr>\n",
       "      <th>17283</th>\n",
       "      <td>u4apacx8d6</td>\n",
       "      <td>GB</td>\n",
       "      <td>rvvqf4m7</td>\n",
       "      <td>GB</td>\n",
       "      <td>tcotsh6m1hvb</td>\n",
       "      <td>Dresses</td>\n",
       "      <td>&lt;NA&gt;</td>\n",
       "      <td>GBP</td>\n",
       "      <td>15.34</td>\n",
       "      <td>2020-08-05</td>\n",
       "    </tr>\n",
       "    <tr>\n",
       "      <th>126219</th>\n",
       "      <td>i9f1vdvcrq</td>\n",
       "      <td>US</td>\n",
       "      <td>ylwoz9o9</td>\n",
       "      <td>US</td>\n",
       "      <td>29rl9lri4kc6</td>\n",
       "      <td>Bottoms - Womens</td>\n",
       "      <td>Levi's</td>\n",
       "      <td>USD</td>\n",
       "      <td>80.50</td>\n",
       "      <td>2020-08-06</td>\n",
       "    </tr>\n",
       "    <tr>\n",
       "      <th>235557</th>\n",
       "      <td>z0owumz5nn</td>\n",
       "      <td>GB</td>\n",
       "      <td>v33lp4hc</td>\n",
       "      <td>GB</td>\n",
       "      <td>dkl4cutj9hg0</td>\n",
       "      <td>Tops - Womens</td>\n",
       "      <td>&lt;NA&gt;</td>\n",
       "      <td>GBP</td>\n",
       "      <td>5.74</td>\n",
       "      <td>2020-08-05</td>\n",
       "    </tr>\n",
       "    <tr>\n",
       "      <th>138220</th>\n",
       "      <td>3bdvbluhiz</td>\n",
       "      <td>GB</td>\n",
       "      <td>mealqtgw</td>\n",
       "      <td>GB</td>\n",
       "      <td>a87cackmczov</td>\n",
       "      <td>Shoes</td>\n",
       "      <td>New Balance</td>\n",
       "      <td>GBP</td>\n",
       "      <td>21.83</td>\n",
       "      <td>2020-08-08</td>\n",
       "    </tr>\n",
       "    <tr>\n",
       "      <th>220092</th>\n",
       "      <td>opd6d2knuw</td>\n",
       "      <td>AU</td>\n",
       "      <td>o8qkdkcm</td>\n",
       "      <td>AU</td>\n",
       "      <td>aquroruxnjjj</td>\n",
       "      <td>Dresses</td>\n",
       "      <td>&lt;NA&gt;</td>\n",
       "      <td>AUD</td>\n",
       "      <td>35.12</td>\n",
       "      <td>2020-08-07</td>\n",
       "    </tr>\n",
       "  </tbody>\n",
       "</table>\n",
       "</div>"
      ],
      "text/plain": [
       "          buyer_id buyer_country seller_id seller_country  product_code  \\\n",
       "126300  hxe4upuoar            GB  ymq6zrxv             GB  zab6ya918uux   \n",
       "96377   u3q6fzad9o            US  kot5ztrx             CA  1fp8jmq0t5a2   \n",
       "83954   y695whofz5            GB  xglquyu0             GB  yif7n3qpor06   \n",
       "219435  a9dx91ei1j            US  kuqez0p5             US  v3rsi781208t   \n",
       "89889   gubjugwcbz            GB  8bo69x7t             GB  1100espmmmnc   \n",
       "17283   u4apacx8d6            GB  rvvqf4m7             GB  tcotsh6m1hvb   \n",
       "126219  i9f1vdvcrq            US  ylwoz9o9             US  29rl9lri4kc6   \n",
       "235557  z0owumz5nn            GB  v33lp4hc             GB  dkl4cutj9hg0   \n",
       "138220  3bdvbluhiz            GB  mealqtgw             GB  a87cackmczov   \n",
       "220092  opd6d2knuw            AU  o8qkdkcm             AU  aquroruxnjjj   \n",
       "\n",
       "                category        brand currency  price       date  \n",
       "126300           Dresses         <NA>      GBP  15.05 2020-08-09  \n",
       "96377        Tops - Mens         <NA>      CAD  20.22 2020-08-03  \n",
       "83954      Tops - Womens         <NA>      GBP  13.97 2020-08-04  \n",
       "219435          Lingerie         <NA>      USD  11.07 2020-08-05  \n",
       "89889             Beauty         <NA>      GBP   5.65 2020-08-03  \n",
       "17283            Dresses         <NA>      GBP  15.34 2020-08-05  \n",
       "126219  Bottoms - Womens       Levi's      USD  80.50 2020-08-06  \n",
       "235557     Tops - Womens         <NA>      GBP   5.74 2020-08-05  \n",
       "138220             Shoes  New Balance      GBP  21.83 2020-08-08  \n",
       "220092           Dresses         <NA>      AUD  35.12 2020-08-07  "
      ]
     },
     "execution_count": 141,
     "metadata": {},
     "output_type": "execute_result"
    }
   ],
   "source": [
    "df_sales.sample(10)"
   ]
  },
  {
   "cell_type": "code",
   "execution_count": null,
   "metadata": {},
   "outputs": [],
   "source": [
    " \n",
    "# 9. Which brand has the highest average transaction value? (Just write brand name)\n",
    "# Hangi marka en yüksek ortalama işlem değerine sahiptir? (Sadece marka adını yazın)\n"
   ]
  },
  {
   "cell_type": "code",
   "execution_count": 179,
   "metadata": {},
   "outputs": [
    {
     "data": {
      "text/html": [
       "<div>\n",
       "<style scoped>\n",
       "    .dataframe tbody tr th:only-of-type {\n",
       "        vertical-align: middle;\n",
       "    }\n",
       "\n",
       "    .dataframe tbody tr th {\n",
       "        vertical-align: top;\n",
       "    }\n",
       "\n",
       "    .dataframe thead th {\n",
       "        text-align: right;\n",
       "    }\n",
       "</style>\n",
       "<table border=\"1\" class=\"dataframe\">\n",
       "  <thead>\n",
       "    <tr style=\"text-align: right;\">\n",
       "      <th></th>\n",
       "      <th>buyer_id</th>\n",
       "      <th>buyer_country</th>\n",
       "      <th>seller_id</th>\n",
       "      <th>seller_country</th>\n",
       "      <th>product_code</th>\n",
       "      <th>category</th>\n",
       "      <th>brand</th>\n",
       "      <th>currency</th>\n",
       "      <th>price</th>\n",
       "      <th>date</th>\n",
       "    </tr>\n",
       "  </thead>\n",
       "  <tbody>\n",
       "    <tr>\n",
       "      <th>134993</th>\n",
       "      <td>ivis1d98hv</td>\n",
       "      <td>GB</td>\n",
       "      <td>4fn127mg</td>\n",
       "      <td>GB</td>\n",
       "      <td>3i9ait9bfp4g</td>\n",
       "      <td>Bottoms - Womens</td>\n",
       "      <td>Pull&amp;Bear</td>\n",
       "      <td>GBP</td>\n",
       "      <td>9.98</td>\n",
       "      <td>2020-08-06</td>\n",
       "    </tr>\n",
       "    <tr>\n",
       "      <th>233202</th>\n",
       "      <td>cwth366pkr</td>\n",
       "      <td>GB</td>\n",
       "      <td>uzlzzgd6</td>\n",
       "      <td>GB</td>\n",
       "      <td>979tuskob5wj</td>\n",
       "      <td>Tops - Mens</td>\n",
       "      <td>Supreme</td>\n",
       "      <td>GBP</td>\n",
       "      <td>80.53</td>\n",
       "      <td>2020-08-03</td>\n",
       "    </tr>\n",
       "    <tr>\n",
       "      <th>152573</th>\n",
       "      <td>0z44nnnpgn</td>\n",
       "      <td>GB</td>\n",
       "      <td>4anr700i</td>\n",
       "      <td>GB</td>\n",
       "      <td>i8pfq287xksz</td>\n",
       "      <td>Shoes</td>\n",
       "      <td>Nike</td>\n",
       "      <td>GBP</td>\n",
       "      <td>11.94</td>\n",
       "      <td>2020-08-09</td>\n",
       "    </tr>\n",
       "  </tbody>\n",
       "</table>\n",
       "</div>"
      ],
      "text/plain": [
       "          buyer_id buyer_country seller_id seller_country  product_code  \\\n",
       "134993  ivis1d98hv            GB  4fn127mg             GB  3i9ait9bfp4g   \n",
       "233202  cwth366pkr            GB  uzlzzgd6             GB  979tuskob5wj   \n",
       "152573  0z44nnnpgn            GB  4anr700i             GB  i8pfq287xksz   \n",
       "\n",
       "                category      brand currency  price       date  \n",
       "134993  Bottoms - Womens  Pull&Bear      GBP   9.98 2020-08-06  \n",
       "233202       Tops - Mens    Supreme      GBP  80.53 2020-08-03  \n",
       "152573             Shoes       Nike      GBP  11.94 2020-08-09  "
      ]
     },
     "execution_count": 179,
     "metadata": {},
     "output_type": "execute_result"
    }
   ],
   "source": [
    "df_sales.sample(3)"
   ]
  },
  {
   "cell_type": "code",
   "execution_count": 203,
   "metadata": {},
   "outputs": [
    {
     "data": {
      "text/html": [
       "<div>\n",
       "<style scoped>\n",
       "    .dataframe tbody tr th:only-of-type {\n",
       "        vertical-align: middle;\n",
       "    }\n",
       "\n",
       "    .dataframe tbody tr th {\n",
       "        vertical-align: top;\n",
       "    }\n",
       "\n",
       "    .dataframe thead th {\n",
       "        text-align: right;\n",
       "    }\n",
       "</style>\n",
       "<table border=\"1\" class=\"dataframe\">\n",
       "  <thead>\n",
       "    <tr style=\"text-align: right;\">\n",
       "      <th></th>\n",
       "      <th>price</th>\n",
       "    </tr>\n",
       "    <tr>\n",
       "      <th>brand</th>\n",
       "      <th></th>\n",
       "    </tr>\n",
       "  </thead>\n",
       "  <tbody>\n",
       "    <tr>\n",
       "      <th>Goyard</th>\n",
       "      <td>339.363333</td>\n",
       "    </tr>\n",
       "  </tbody>\n",
       "</table>\n",
       "</div>"
      ],
      "text/plain": [
       "             price\n",
       "brand             \n",
       "Goyard  339.363333"
      ]
     },
     "execution_count": 203,
     "metadata": {},
     "output_type": "execute_result"
    }
   ],
   "source": [
    "df_sales.groupby('brand').mean().sort_values('price',ascending=False).head(1)"
   ]
  },
  {
   "cell_type": "code",
   "execution_count": 185,
   "metadata": {},
   "outputs": [
    {
     "data": {
      "text/plain": [
       "'Nike'"
      ]
     },
     "execution_count": 185,
     "metadata": {},
     "output_type": "execute_result"
    }
   ],
   "source": [
    "\n",
    "df_sales['brand'].value_counts().idxmax()"
   ]
  },
  {
   "cell_type": "code",
   "execution_count": 186,
   "metadata": {},
   "outputs": [
    {
     "data": {
      "text/plain": [
       "105.22751322751323"
      ]
     },
     "execution_count": 186,
     "metadata": {},
     "output_type": "execute_result"
    }
   ],
   "source": [
    "df_sales['brand'].value_counts().mean()"
   ]
  },
  {
   "cell_type": "code",
   "execution_count": null,
   "metadata": {},
   "outputs": [],
   "source": [
    "\n",
    "# 10. What is the total value of items purchased by GB buyers from GB sellers? (Just write numbers)\n",
    "# GB alıcıları tarafından GB satıcılarından satın alınan ürünlerin toplam değeri nedir?(Sadece sayı yazın)"
   ]
  },
  {
   "cell_type": "code",
   "execution_count": 207,
   "metadata": {},
   "outputs": [
    {
     "data": {
      "text/html": [
       "<div>\n",
       "<style scoped>\n",
       "    .dataframe tbody tr th:only-of-type {\n",
       "        vertical-align: middle;\n",
       "    }\n",
       "\n",
       "    .dataframe tbody tr th {\n",
       "        vertical-align: top;\n",
       "    }\n",
       "\n",
       "    .dataframe thead th {\n",
       "        text-align: right;\n",
       "    }\n",
       "</style>\n",
       "<table border=\"1\" class=\"dataframe\">\n",
       "  <thead>\n",
       "    <tr style=\"text-align: right;\">\n",
       "      <th></th>\n",
       "      <th>buyer_id</th>\n",
       "      <th>buyer_country</th>\n",
       "      <th>seller_id</th>\n",
       "      <th>seller_country</th>\n",
       "      <th>product_code</th>\n",
       "      <th>category</th>\n",
       "      <th>brand</th>\n",
       "      <th>currency</th>\n",
       "      <th>price</th>\n",
       "      <th>date</th>\n",
       "    </tr>\n",
       "  </thead>\n",
       "  <tbody>\n",
       "    <tr>\n",
       "      <th>88522</th>\n",
       "      <td>znrxfjdo1k</td>\n",
       "      <td>GB</td>\n",
       "      <td>maandy8z</td>\n",
       "      <td>GB</td>\n",
       "      <td>zh4kfyrs4137</td>\n",
       "      <td>Tops - Mens</td>\n",
       "      <td>Polo Ralph Lauren</td>\n",
       "      <td>GBP</td>\n",
       "      <td>20.5</td>\n",
       "      <td>2020-08-03</td>\n",
       "    </tr>\n",
       "  </tbody>\n",
       "</table>\n",
       "</div>"
      ],
      "text/plain": [
       "         buyer_id buyer_country seller_id seller_country  product_code  \\\n",
       "88522  znrxfjdo1k            GB  maandy8z             GB  zh4kfyrs4137   \n",
       "\n",
       "          category              brand currency  price       date  \n",
       "88522  Tops - Mens  Polo Ralph Lauren      GBP   20.5 2020-08-03  "
      ]
     },
     "execution_count": 207,
     "metadata": {},
     "output_type": "execute_result"
    }
   ],
   "source": [
    "df_sales.sample()"
   ]
  },
  {
   "cell_type": "code",
   "execution_count": 232,
   "metadata": {},
   "outputs": [
    {
     "ename": "AttributeError",
     "evalue": "'DataFrameGroupBy' object has no attribute 'loc'",
     "output_type": "error",
     "traceback": [
      "\u001b[1;31m---------------------------------------------------------------------------\u001b[0m",
      "\u001b[1;31mAttributeError\u001b[0m                            Traceback (most recent call last)",
      "\u001b[1;32m~\\AppData\\Local\\Temp/ipykernel_42188/1668961610.py\u001b[0m in \u001b[0;36m<module>\u001b[1;34m\u001b[0m\n\u001b[1;32m----> 1\u001b[1;33m \u001b[0mdf_sales\u001b[0m\u001b[1;33m.\u001b[0m\u001b[0mgroupby\u001b[0m\u001b[1;33m(\u001b[0m\u001b[1;33m[\u001b[0m\u001b[1;34m'buyer_country'\u001b[0m\u001b[1;33m,\u001b[0m\u001b[1;34m'seller_country'\u001b[0m\u001b[1;33m]\u001b[0m\u001b[1;33m)\u001b[0m\u001b[1;33m.\u001b[0m\u001b[0mloc\u001b[0m\u001b[1;33m[\u001b[0m\u001b[1;34m'buyer_country'\u001b[0m\u001b[1;33m==\u001b[0m\u001b[1;34m'GB'\u001b[0m\u001b[1;33m]\u001b[0m\u001b[1;33m\u001b[0m\u001b[1;33m\u001b[0m\u001b[0m\n\u001b[0m",
      "\u001b[1;32m~\\AppData\\Local\\Programs\\Python\\Python310\\lib\\site-packages\\pandas\\core\\groupby\\groupby.py\u001b[0m in \u001b[0;36m__getattr__\u001b[1;34m(self, attr)\u001b[0m\n\u001b[0;32m    909\u001b[0m             \u001b[1;32mreturn\u001b[0m \u001b[0mself\u001b[0m\u001b[1;33m[\u001b[0m\u001b[0mattr\u001b[0m\u001b[1;33m]\u001b[0m\u001b[1;33m\u001b[0m\u001b[1;33m\u001b[0m\u001b[0m\n\u001b[0;32m    910\u001b[0m \u001b[1;33m\u001b[0m\u001b[0m\n\u001b[1;32m--> 911\u001b[1;33m         raise AttributeError(\n\u001b[0m\u001b[0;32m    912\u001b[0m             \u001b[1;34mf\"'{type(self).__name__}' object has no attribute '{attr}'\"\u001b[0m\u001b[1;33m\u001b[0m\u001b[1;33m\u001b[0m\u001b[0m\n\u001b[0;32m    913\u001b[0m         )\n",
      "\u001b[1;31mAttributeError\u001b[0m: 'DataFrameGroupBy' object has no attribute 'loc'"
     ]
    }
   ],
   "source": [
    "df_sales.groupby(['buyer_country','seller_country']).loc['buyer_country'=='GB']"
   ]
  },
  {
   "cell_type": "code",
   "execution_count": 206,
   "metadata": {},
   "outputs": [
    {
     "data": {
      "text/html": [
       "<div>\n",
       "<style scoped>\n",
       "    .dataframe tbody tr th:only-of-type {\n",
       "        vertical-align: middle;\n",
       "    }\n",
       "\n",
       "    .dataframe tbody tr th {\n",
       "        vertical-align: top;\n",
       "    }\n",
       "\n",
       "    .dataframe thead th {\n",
       "        text-align: right;\n",
       "    }\n",
       "</style>\n",
       "<table border=\"1\" class=\"dataframe\">\n",
       "  <thead>\n",
       "    <tr style=\"text-align: right;\">\n",
       "      <th></th>\n",
       "      <th>price</th>\n",
       "    </tr>\n",
       "    <tr>\n",
       "      <th>buyer_country</th>\n",
       "      <th></th>\n",
       "    </tr>\n",
       "  </thead>\n",
       "  <tbody>\n",
       "    <tr>\n",
       "      <th>AU</th>\n",
       "      <td>342408.66</td>\n",
       "    </tr>\n",
       "    <tr>\n",
       "      <th>CA</th>\n",
       "      <td>89554.93</td>\n",
       "    </tr>\n",
       "    <tr>\n",
       "      <th>DE</th>\n",
       "      <td>25617.71</td>\n",
       "    </tr>\n",
       "    <tr>\n",
       "      <th>FR</th>\n",
       "      <td>21112.17</td>\n",
       "    </tr>\n",
       "    <tr>\n",
       "      <th>GB</th>\n",
       "      <td>3252463.34</td>\n",
       "    </tr>\n",
       "    <tr>\n",
       "      <th>IE</th>\n",
       "      <td>112471.21</td>\n",
       "    </tr>\n",
       "    <tr>\n",
       "      <th>IT</th>\n",
       "      <td>167269.56</td>\n",
       "    </tr>\n",
       "    <tr>\n",
       "      <th>RoW</th>\n",
       "      <td>178337.51</td>\n",
       "    </tr>\n",
       "    <tr>\n",
       "      <th>US</th>\n",
       "      <td>2550211.87</td>\n",
       "    </tr>\n",
       "  </tbody>\n",
       "</table>\n",
       "</div>"
      ],
      "text/plain": [
       "                    price\n",
       "buyer_country            \n",
       "AU              342408.66\n",
       "CA               89554.93\n",
       "DE               25617.71\n",
       "FR               21112.17\n",
       "GB             3252463.34\n",
       "IE              112471.21\n",
       "IT              167269.56\n",
       "RoW             178337.51\n",
       "US             2550211.87"
      ]
     },
     "execution_count": 206,
     "metadata": {},
     "output_type": "execute_result"
    }
   ],
   "source": [
    "df_sales.groupby('buyer_country').sum()"
   ]
  },
  {
   "cell_type": "code",
   "execution_count": 238,
   "metadata": {},
   "outputs": [
    {
     "data": {
      "text/plain": [
       "3184474.27"
      ]
     },
     "execution_count": 238,
     "metadata": {},
     "output_type": "execute_result"
    }
   ],
   "source": [
    "df_sales[(df_sales['seller_country']=='GB') & (df_sales['buyer_country']=='GB')]['price'].sum()"
   ]
  },
  {
   "cell_type": "code",
   "execution_count": 239,
   "metadata": {},
   "outputs": [
    {
     "data": {
      "text/plain": [
       "3438092.8299999996"
      ]
     },
     "execution_count": 239,
     "metadata": {},
     "output_type": "execute_result"
    }
   ],
   "source": [
    "df_sales[(df_sales['seller_country']=='GB')]['price'].sum()"
   ]
  },
  {
   "cell_type": "code",
   "execution_count": 240,
   "metadata": {},
   "outputs": [
    {
     "data": {
      "text/plain": [
       "3252463.3399999994"
      ]
     },
     "execution_count": 240,
     "metadata": {},
     "output_type": "execute_result"
    }
   ],
   "source": [
    "df_sales[(df_sales['buyer_country']=='GB')]['price'].sum()"
   ]
  },
  {
   "cell_type": "code",
   "execution_count": 241,
   "metadata": {},
   "outputs": [
    {
     "data": {
      "text/plain": [
       "3506081.9000000004"
      ]
     },
     "execution_count": 241,
     "metadata": {},
     "output_type": "execute_result"
    }
   ],
   "source": [
    "df_sales[(df_sales['seller_country']=='GB') | (df_sales['buyer_country']=='GB')]['price'].sum()"
   ]
  },
  {
   "cell_type": "code",
   "execution_count": 242,
   "metadata": {},
   "outputs": [
    {
     "ename": "KeyboardInterrupt",
     "evalue": "",
     "output_type": "error",
     "traceback": [
      "\u001b[1;31m---------------------------------------------------------------------------\u001b[0m",
      "\u001b[1;31mKeyboardInterrupt\u001b[0m                         Traceback (most recent call last)",
      "\u001b[1;32m~\\AppData\\Local\\Temp/ipykernel_42188/1097280861.py\u001b[0m in \u001b[0;36m<module>\u001b[1;34m\u001b[0m\n\u001b[1;32m----> 1\u001b[1;33m \u001b[0mdf_sales\u001b[0m\u001b[1;33m[\u001b[0m\u001b[1;33m(\u001b[0m\u001b[0mdf_sales\u001b[0m\u001b[1;33m[\u001b[0m\u001b[1;34m'seller_country'\u001b[0m\u001b[1;33m]\u001b[0m\u001b[1;33m==\u001b[0m\u001b[1;34m'GB'\u001b[0m\u001b[1;33m)\u001b[0m \u001b[1;33m|\u001b[0m \u001b[1;33m(\u001b[0m\u001b[0mdf_sales\u001b[0m\u001b[1;33m[\u001b[0m\u001b[1;34m'buyer_country'\u001b[0m\u001b[1;33m]\u001b[0m\u001b[1;33m==\u001b[0m\u001b[1;34m'GB'\u001b[0m\u001b[1;33m)\u001b[0m\u001b[1;33m]\u001b[0m\u001b[1;33m.\u001b[0m\u001b[0msum\u001b[0m\u001b[1;33m(\u001b[0m\u001b[1;33m)\u001b[0m\u001b[1;33m\u001b[0m\u001b[1;33m\u001b[0m\u001b[0m\n\u001b[0m",
      "\u001b[1;32m~\\AppData\\Local\\Programs\\Python\\Python310\\lib\\site-packages\\pandas\\core\\generic.py\u001b[0m in \u001b[0;36msum\u001b[1;34m(self, axis, skipna, level, numeric_only, min_count, **kwargs)\u001b[0m\n\u001b[0;32m  10706\u001b[0m             \u001b[1;33m**\u001b[0m\u001b[0mkwargs\u001b[0m\u001b[1;33m,\u001b[0m\u001b[1;33m\u001b[0m\u001b[1;33m\u001b[0m\u001b[0m\n\u001b[0;32m  10707\u001b[0m         ):\n\u001b[1;32m> 10708\u001b[1;33m             return NDFrame.sum(\n\u001b[0m\u001b[0;32m  10709\u001b[0m                 \u001b[0mself\u001b[0m\u001b[1;33m,\u001b[0m \u001b[0maxis\u001b[0m\u001b[1;33m,\u001b[0m \u001b[0mskipna\u001b[0m\u001b[1;33m,\u001b[0m \u001b[0mlevel\u001b[0m\u001b[1;33m,\u001b[0m \u001b[0mnumeric_only\u001b[0m\u001b[1;33m,\u001b[0m \u001b[0mmin_count\u001b[0m\u001b[1;33m,\u001b[0m \u001b[1;33m**\u001b[0m\u001b[0mkwargs\u001b[0m\u001b[1;33m\u001b[0m\u001b[1;33m\u001b[0m\u001b[0m\n\u001b[0;32m  10710\u001b[0m             )\n",
      "\u001b[1;32m~\\AppData\\Local\\Programs\\Python\\Python310\\lib\\site-packages\\pandas\\core\\generic.py\u001b[0m in \u001b[0;36msum\u001b[1;34m(self, axis, skipna, level, numeric_only, min_count, **kwargs)\u001b[0m\n\u001b[0;32m  10444\u001b[0m         \u001b[1;33m**\u001b[0m\u001b[0mkwargs\u001b[0m\u001b[1;33m,\u001b[0m\u001b[1;33m\u001b[0m\u001b[1;33m\u001b[0m\u001b[0m\n\u001b[0;32m  10445\u001b[0m     ):\n\u001b[1;32m> 10446\u001b[1;33m         return self._min_count_stat_function(\n\u001b[0m\u001b[0;32m  10447\u001b[0m             \u001b[1;34m\"sum\"\u001b[0m\u001b[1;33m,\u001b[0m \u001b[0mnanops\u001b[0m\u001b[1;33m.\u001b[0m\u001b[0mnansum\u001b[0m\u001b[1;33m,\u001b[0m \u001b[0maxis\u001b[0m\u001b[1;33m,\u001b[0m \u001b[0mskipna\u001b[0m\u001b[1;33m,\u001b[0m \u001b[0mlevel\u001b[0m\u001b[1;33m,\u001b[0m \u001b[0mnumeric_only\u001b[0m\u001b[1;33m,\u001b[0m \u001b[0mmin_count\u001b[0m\u001b[1;33m,\u001b[0m \u001b[1;33m**\u001b[0m\u001b[0mkwargs\u001b[0m\u001b[1;33m\u001b[0m\u001b[1;33m\u001b[0m\u001b[0m\n\u001b[0;32m  10448\u001b[0m         )\n",
      "\u001b[1;32m~\\AppData\\Local\\Programs\\Python\\Python310\\lib\\site-packages\\pandas\\core\\generic.py\u001b[0m in \u001b[0;36m_min_count_stat_function\u001b[1;34m(self, name, func, axis, skipna, level, numeric_only, min_count, **kwargs)\u001b[0m\n\u001b[0;32m  10426\u001b[0m                 \u001b[0mnumeric_only\u001b[0m\u001b[1;33m=\u001b[0m\u001b[0mnumeric_only\u001b[0m\u001b[1;33m,\u001b[0m\u001b[1;33m\u001b[0m\u001b[1;33m\u001b[0m\u001b[0m\n\u001b[0;32m  10427\u001b[0m             )\n\u001b[1;32m> 10428\u001b[1;33m         return self._reduce(\n\u001b[0m\u001b[0;32m  10429\u001b[0m             \u001b[0mfunc\u001b[0m\u001b[1;33m,\u001b[0m\u001b[1;33m\u001b[0m\u001b[1;33m\u001b[0m\u001b[0m\n\u001b[0;32m  10430\u001b[0m             \u001b[0mname\u001b[0m\u001b[1;33m=\u001b[0m\u001b[0mname\u001b[0m\u001b[1;33m,\u001b[0m\u001b[1;33m\u001b[0m\u001b[1;33m\u001b[0m\u001b[0m\n",
      "\u001b[1;32m~\\AppData\\Local\\Programs\\Python\\Python310\\lib\\site-packages\\pandas\\core\\frame.py\u001b[0m in \u001b[0;36m_reduce\u001b[1;34m(self, op, name, axis, skipna, numeric_only, filter_type, **kwds)\u001b[0m\n\u001b[0;32m   9849\u001b[0m             \u001b[1;31m# After possibly _get_data and transposing, we are now in the\u001b[0m\u001b[1;33m\u001b[0m\u001b[1;33m\u001b[0m\u001b[0m\n\u001b[0;32m   9850\u001b[0m             \u001b[1;31m#  simple case where we can use BlockManager.reduce\u001b[0m\u001b[1;33m\u001b[0m\u001b[1;33m\u001b[0m\u001b[0m\n\u001b[1;32m-> 9851\u001b[1;33m             \u001b[0mres\u001b[0m\u001b[1;33m,\u001b[0m \u001b[0m_\u001b[0m \u001b[1;33m=\u001b[0m \u001b[0mdf\u001b[0m\u001b[1;33m.\u001b[0m\u001b[0m_mgr\u001b[0m\u001b[1;33m.\u001b[0m\u001b[0mreduce\u001b[0m\u001b[1;33m(\u001b[0m\u001b[0mblk_func\u001b[0m\u001b[1;33m,\u001b[0m \u001b[0mignore_failures\u001b[0m\u001b[1;33m=\u001b[0m\u001b[0mignore_failures\u001b[0m\u001b[1;33m)\u001b[0m\u001b[1;33m\u001b[0m\u001b[1;33m\u001b[0m\u001b[0m\n\u001b[0m\u001b[0;32m   9852\u001b[0m             \u001b[0mout\u001b[0m \u001b[1;33m=\u001b[0m \u001b[0mdf\u001b[0m\u001b[1;33m.\u001b[0m\u001b[0m_constructor\u001b[0m\u001b[1;33m(\u001b[0m\u001b[0mres\u001b[0m\u001b[1;33m)\u001b[0m\u001b[1;33m.\u001b[0m\u001b[0miloc\u001b[0m\u001b[1;33m[\u001b[0m\u001b[1;36m0\u001b[0m\u001b[1;33m]\u001b[0m\u001b[1;33m\u001b[0m\u001b[1;33m\u001b[0m\u001b[0m\n\u001b[0;32m   9853\u001b[0m             \u001b[1;32mif\u001b[0m \u001b[0mout_dtype\u001b[0m \u001b[1;32mis\u001b[0m \u001b[1;32mnot\u001b[0m \u001b[1;32mNone\u001b[0m\u001b[1;33m:\u001b[0m\u001b[1;33m\u001b[0m\u001b[1;33m\u001b[0m\u001b[0m\n",
      "\u001b[1;32m~\\AppData\\Local\\Programs\\Python\\Python310\\lib\\site-packages\\pandas\\core\\internals\\managers.py\u001b[0m in \u001b[0;36mreduce\u001b[1;34m(self, func, ignore_failures)\u001b[0m\n\u001b[0;32m   1281\u001b[0m         \u001b[0mres_blocks\u001b[0m\u001b[1;33m:\u001b[0m \u001b[0mlist\u001b[0m\u001b[1;33m[\u001b[0m\u001b[0mBlock\u001b[0m\u001b[1;33m]\u001b[0m \u001b[1;33m=\u001b[0m \u001b[1;33m[\u001b[0m\u001b[1;33m]\u001b[0m\u001b[1;33m\u001b[0m\u001b[1;33m\u001b[0m\u001b[0m\n\u001b[0;32m   1282\u001b[0m         \u001b[1;32mfor\u001b[0m \u001b[0mblk\u001b[0m \u001b[1;32min\u001b[0m \u001b[0mself\u001b[0m\u001b[1;33m.\u001b[0m\u001b[0mblocks\u001b[0m\u001b[1;33m:\u001b[0m\u001b[1;33m\u001b[0m\u001b[1;33m\u001b[0m\u001b[0m\n\u001b[1;32m-> 1283\u001b[1;33m             \u001b[0mnbs\u001b[0m \u001b[1;33m=\u001b[0m \u001b[0mblk\u001b[0m\u001b[1;33m.\u001b[0m\u001b[0mreduce\u001b[0m\u001b[1;33m(\u001b[0m\u001b[0mfunc\u001b[0m\u001b[1;33m,\u001b[0m \u001b[0mignore_failures\u001b[0m\u001b[1;33m)\u001b[0m\u001b[1;33m\u001b[0m\u001b[1;33m\u001b[0m\u001b[0m\n\u001b[0m\u001b[0;32m   1284\u001b[0m             \u001b[0mres_blocks\u001b[0m\u001b[1;33m.\u001b[0m\u001b[0mextend\u001b[0m\u001b[1;33m(\u001b[0m\u001b[0mnbs\u001b[0m\u001b[1;33m)\u001b[0m\u001b[1;33m\u001b[0m\u001b[1;33m\u001b[0m\u001b[0m\n\u001b[0;32m   1285\u001b[0m \u001b[1;33m\u001b[0m\u001b[0m\n",
      "\u001b[1;32m~\\AppData\\Local\\Programs\\Python\\Python310\\lib\\site-packages\\pandas\\core\\internals\\blocks.py\u001b[0m in \u001b[0;36mnewfunc\u001b[1;34m(self, *args, **kwargs)\u001b[0m\n\u001b[0;32m    139\u001b[0m         \u001b[1;32melse\u001b[0m\u001b[1;33m:\u001b[0m\u001b[1;33m\u001b[0m\u001b[1;33m\u001b[0m\u001b[0m\n\u001b[0;32m    140\u001b[0m             \u001b[1;31m# Split and operate column-by-column\u001b[0m\u001b[1;33m\u001b[0m\u001b[1;33m\u001b[0m\u001b[0m\n\u001b[1;32m--> 141\u001b[1;33m             \u001b[1;32mreturn\u001b[0m \u001b[0mself\u001b[0m\u001b[1;33m.\u001b[0m\u001b[0msplit_and_operate\u001b[0m\u001b[1;33m(\u001b[0m\u001b[0mmeth\u001b[0m\u001b[1;33m,\u001b[0m \u001b[1;33m*\u001b[0m\u001b[0margs\u001b[0m\u001b[1;33m,\u001b[0m \u001b[1;33m**\u001b[0m\u001b[0mkwargs\u001b[0m\u001b[1;33m)\u001b[0m\u001b[1;33m\u001b[0m\u001b[1;33m\u001b[0m\u001b[0m\n\u001b[0m\u001b[0;32m    142\u001b[0m \u001b[1;33m\u001b[0m\u001b[0m\n\u001b[0;32m    143\u001b[0m     \u001b[1;32mreturn\u001b[0m \u001b[0mcast\u001b[0m\u001b[1;33m(\u001b[0m\u001b[0mF\u001b[0m\u001b[1;33m,\u001b[0m \u001b[0mnewfunc\u001b[0m\u001b[1;33m)\u001b[0m\u001b[1;33m\u001b[0m\u001b[1;33m\u001b[0m\u001b[0m\n",
      "\u001b[1;32m~\\AppData\\Local\\Programs\\Python\\Python310\\lib\\site-packages\\pandas\\core\\internals\\blocks.py\u001b[0m in \u001b[0;36msplit_and_operate\u001b[1;34m(self, func, *args, **kwargs)\u001b[0m\n\u001b[0;32m    503\u001b[0m         \u001b[0mres_blocks\u001b[0m \u001b[1;33m=\u001b[0m \u001b[1;33m[\u001b[0m\u001b[1;33m]\u001b[0m\u001b[1;33m\u001b[0m\u001b[1;33m\u001b[0m\u001b[0m\n\u001b[0;32m    504\u001b[0m         \u001b[1;32mfor\u001b[0m \u001b[0mnb\u001b[0m \u001b[1;32min\u001b[0m \u001b[0mself\u001b[0m\u001b[1;33m.\u001b[0m\u001b[0m_split\u001b[0m\u001b[1;33m(\u001b[0m\u001b[1;33m)\u001b[0m\u001b[1;33m:\u001b[0m\u001b[1;33m\u001b[0m\u001b[1;33m\u001b[0m\u001b[0m\n\u001b[1;32m--> 505\u001b[1;33m             \u001b[0mrbs\u001b[0m \u001b[1;33m=\u001b[0m \u001b[0mfunc\u001b[0m\u001b[1;33m(\u001b[0m\u001b[0mnb\u001b[0m\u001b[1;33m,\u001b[0m \u001b[1;33m*\u001b[0m\u001b[0margs\u001b[0m\u001b[1;33m,\u001b[0m \u001b[1;33m**\u001b[0m\u001b[0mkwargs\u001b[0m\u001b[1;33m)\u001b[0m\u001b[1;33m\u001b[0m\u001b[1;33m\u001b[0m\u001b[0m\n\u001b[0m\u001b[0;32m    506\u001b[0m             \u001b[0mres_blocks\u001b[0m\u001b[1;33m.\u001b[0m\u001b[0mextend\u001b[0m\u001b[1;33m(\u001b[0m\u001b[0mrbs\u001b[0m\u001b[1;33m)\u001b[0m\u001b[1;33m\u001b[0m\u001b[1;33m\u001b[0m\u001b[0m\n\u001b[0;32m    507\u001b[0m         \u001b[1;32mreturn\u001b[0m \u001b[0mres_blocks\u001b[0m\u001b[1;33m\u001b[0m\u001b[1;33m\u001b[0m\u001b[0m\n",
      "\u001b[1;32m~\\AppData\\Local\\Programs\\Python\\Python310\\lib\\site-packages\\pandas\\core\\internals\\blocks.py\u001b[0m in \u001b[0;36mreduce\u001b[1;34m(self, func, ignore_failures)\u001b[0m\n\u001b[0;32m   1807\u001b[0m \u001b[1;33m\u001b[0m\u001b[0m\n\u001b[0;32m   1808\u001b[0m         \u001b[1;32mtry\u001b[0m\u001b[1;33m:\u001b[0m\u001b[1;33m\u001b[0m\u001b[1;33m\u001b[0m\u001b[0m\n\u001b[1;32m-> 1809\u001b[1;33m             \u001b[0mres\u001b[0m \u001b[1;33m=\u001b[0m \u001b[0mfunc\u001b[0m\u001b[1;33m(\u001b[0m\u001b[0mself\u001b[0m\u001b[1;33m.\u001b[0m\u001b[0mvalues\u001b[0m\u001b[1;33m)\u001b[0m\u001b[1;33m\u001b[0m\u001b[1;33m\u001b[0m\u001b[0m\n\u001b[0m\u001b[0;32m   1810\u001b[0m         \u001b[1;32mexcept\u001b[0m \u001b[0mTypeError\u001b[0m\u001b[1;33m:\u001b[0m\u001b[1;33m\u001b[0m\u001b[1;33m\u001b[0m\u001b[0m\n\u001b[0;32m   1811\u001b[0m             \u001b[1;32mif\u001b[0m \u001b[1;32mnot\u001b[0m \u001b[0mignore_failures\u001b[0m\u001b[1;33m:\u001b[0m\u001b[1;33m\u001b[0m\u001b[1;33m\u001b[0m\u001b[0m\n",
      "\u001b[1;32m~\\AppData\\Local\\Programs\\Python\\Python310\\lib\\site-packages\\pandas\\core\\frame.py\u001b[0m in \u001b[0;36mblk_func\u001b[1;34m(values, axis)\u001b[0m\n\u001b[0;32m   9821\u001b[0m                 \u001b[1;32mreturn\u001b[0m \u001b[0mvalues\u001b[0m\u001b[1;33m.\u001b[0m\u001b[0m_reduce\u001b[0m\u001b[1;33m(\u001b[0m\u001b[0mname\u001b[0m\u001b[1;33m,\u001b[0m \u001b[0mskipna\u001b[0m\u001b[1;33m=\u001b[0m\u001b[0mskipna\u001b[0m\u001b[1;33m,\u001b[0m \u001b[1;33m**\u001b[0m\u001b[0mkwds\u001b[0m\u001b[1;33m)\u001b[0m\u001b[1;33m\u001b[0m\u001b[1;33m\u001b[0m\u001b[0m\n\u001b[0;32m   9822\u001b[0m             \u001b[1;32melse\u001b[0m\u001b[1;33m:\u001b[0m\u001b[1;33m\u001b[0m\u001b[1;33m\u001b[0m\u001b[0m\n\u001b[1;32m-> 9823\u001b[1;33m                 \u001b[1;32mreturn\u001b[0m \u001b[0mop\u001b[0m\u001b[1;33m(\u001b[0m\u001b[0mvalues\u001b[0m\u001b[1;33m,\u001b[0m \u001b[0maxis\u001b[0m\u001b[1;33m=\u001b[0m\u001b[0maxis\u001b[0m\u001b[1;33m,\u001b[0m \u001b[0mskipna\u001b[0m\u001b[1;33m=\u001b[0m\u001b[0mskipna\u001b[0m\u001b[1;33m,\u001b[0m \u001b[1;33m**\u001b[0m\u001b[0mkwds\u001b[0m\u001b[1;33m)\u001b[0m\u001b[1;33m\u001b[0m\u001b[1;33m\u001b[0m\u001b[0m\n\u001b[0m\u001b[0;32m   9824\u001b[0m \u001b[1;33m\u001b[0m\u001b[0m\n\u001b[0;32m   9825\u001b[0m         \u001b[1;32mdef\u001b[0m \u001b[0m_get_data\u001b[0m\u001b[1;33m(\u001b[0m\u001b[1;33m)\u001b[0m \u001b[1;33m->\u001b[0m \u001b[0mDataFrame\u001b[0m\u001b[1;33m:\u001b[0m\u001b[1;33m\u001b[0m\u001b[1;33m\u001b[0m\u001b[0m\n",
      "\u001b[1;32m~\\AppData\\Local\\Programs\\Python\\Python310\\lib\\site-packages\\pandas\\core\\nanops.py\u001b[0m in \u001b[0;36m_f\u001b[1;34m(*args, **kwargs)\u001b[0m\n\u001b[0;32m     92\u001b[0m             \u001b[1;32mtry\u001b[0m\u001b[1;33m:\u001b[0m\u001b[1;33m\u001b[0m\u001b[1;33m\u001b[0m\u001b[0m\n\u001b[0;32m     93\u001b[0m                 \u001b[1;32mwith\u001b[0m \u001b[0mnp\u001b[0m\u001b[1;33m.\u001b[0m\u001b[0merrstate\u001b[0m\u001b[1;33m(\u001b[0m\u001b[0minvalid\u001b[0m\u001b[1;33m=\u001b[0m\u001b[1;34m\"ignore\"\u001b[0m\u001b[1;33m)\u001b[0m\u001b[1;33m:\u001b[0m\u001b[1;33m\u001b[0m\u001b[1;33m\u001b[0m\u001b[0m\n\u001b[1;32m---> 94\u001b[1;33m                     \u001b[1;32mreturn\u001b[0m \u001b[0mf\u001b[0m\u001b[1;33m(\u001b[0m\u001b[1;33m*\u001b[0m\u001b[0margs\u001b[0m\u001b[1;33m,\u001b[0m \u001b[1;33m**\u001b[0m\u001b[0mkwargs\u001b[0m\u001b[1;33m)\u001b[0m\u001b[1;33m\u001b[0m\u001b[1;33m\u001b[0m\u001b[0m\n\u001b[0m\u001b[0;32m     95\u001b[0m             \u001b[1;32mexcept\u001b[0m \u001b[0mValueError\u001b[0m \u001b[1;32mas\u001b[0m \u001b[0me\u001b[0m\u001b[1;33m:\u001b[0m\u001b[1;33m\u001b[0m\u001b[1;33m\u001b[0m\u001b[0m\n\u001b[0;32m     96\u001b[0m                 \u001b[1;31m# we want to transform an object array\u001b[0m\u001b[1;33m\u001b[0m\u001b[1;33m\u001b[0m\u001b[0m\n",
      "\u001b[1;32m~\\AppData\\Local\\Programs\\Python\\Python310\\lib\\site-packages\\pandas\\core\\nanops.py\u001b[0m in \u001b[0;36mnew_func\u001b[1;34m(values, axis, skipna, mask, **kwargs)\u001b[0m\n\u001b[0;32m    409\u001b[0m             \u001b[0mmask\u001b[0m \u001b[1;33m=\u001b[0m \u001b[0misna\u001b[0m\u001b[1;33m(\u001b[0m\u001b[0mvalues\u001b[0m\u001b[1;33m)\u001b[0m\u001b[1;33m\u001b[0m\u001b[1;33m\u001b[0m\u001b[0m\n\u001b[0;32m    410\u001b[0m \u001b[1;33m\u001b[0m\u001b[0m\n\u001b[1;32m--> 411\u001b[1;33m         \u001b[0mresult\u001b[0m \u001b[1;33m=\u001b[0m \u001b[0mfunc\u001b[0m\u001b[1;33m(\u001b[0m\u001b[0mvalues\u001b[0m\u001b[1;33m,\u001b[0m \u001b[0maxis\u001b[0m\u001b[1;33m=\u001b[0m\u001b[0maxis\u001b[0m\u001b[1;33m,\u001b[0m \u001b[0mskipna\u001b[0m\u001b[1;33m=\u001b[0m\u001b[0mskipna\u001b[0m\u001b[1;33m,\u001b[0m \u001b[0mmask\u001b[0m\u001b[1;33m=\u001b[0m\u001b[0mmask\u001b[0m\u001b[1;33m,\u001b[0m \u001b[1;33m**\u001b[0m\u001b[0mkwargs\u001b[0m\u001b[1;33m)\u001b[0m\u001b[1;33m\u001b[0m\u001b[1;33m\u001b[0m\u001b[0m\n\u001b[0m\u001b[0;32m    412\u001b[0m \u001b[1;33m\u001b[0m\u001b[0m\n\u001b[0;32m    413\u001b[0m         \u001b[1;32mif\u001b[0m \u001b[0mdatetimelike\u001b[0m\u001b[1;33m:\u001b[0m\u001b[1;33m\u001b[0m\u001b[1;33m\u001b[0m\u001b[0m\n",
      "\u001b[1;32m~\\AppData\\Local\\Programs\\Python\\Python310\\lib\\site-packages\\pandas\\core\\nanops.py\u001b[0m in \u001b[0;36mnansum\u001b[1;34m(values, axis, skipna, min_count, mask)\u001b[0m\n\u001b[0;32m    589\u001b[0m         \u001b[0mdtype_sum\u001b[0m \u001b[1;33m=\u001b[0m \u001b[0mnp\u001b[0m\u001b[1;33m.\u001b[0m\u001b[0mfloat64\u001b[0m  \u001b[1;31m# type: ignore[assignment]\u001b[0m\u001b[1;33m\u001b[0m\u001b[1;33m\u001b[0m\u001b[0m\n\u001b[0;32m    590\u001b[0m \u001b[1;33m\u001b[0m\u001b[0m\n\u001b[1;32m--> 591\u001b[1;33m     \u001b[0mthe_sum\u001b[0m \u001b[1;33m=\u001b[0m \u001b[0mvalues\u001b[0m\u001b[1;33m.\u001b[0m\u001b[0msum\u001b[0m\u001b[1;33m(\u001b[0m\u001b[0maxis\u001b[0m\u001b[1;33m,\u001b[0m \u001b[0mdtype\u001b[0m\u001b[1;33m=\u001b[0m\u001b[0mdtype_sum\u001b[0m\u001b[1;33m)\u001b[0m\u001b[1;33m\u001b[0m\u001b[1;33m\u001b[0m\u001b[0m\n\u001b[0m\u001b[0;32m    592\u001b[0m     \u001b[0mthe_sum\u001b[0m \u001b[1;33m=\u001b[0m \u001b[0m_maybe_null_out\u001b[0m\u001b[1;33m(\u001b[0m\u001b[0mthe_sum\u001b[0m\u001b[1;33m,\u001b[0m \u001b[0maxis\u001b[0m\u001b[1;33m,\u001b[0m \u001b[0mmask\u001b[0m\u001b[1;33m,\u001b[0m \u001b[0mvalues\u001b[0m\u001b[1;33m.\u001b[0m\u001b[0mshape\u001b[0m\u001b[1;33m,\u001b[0m \u001b[0mmin_count\u001b[0m\u001b[1;33m=\u001b[0m\u001b[0mmin_count\u001b[0m\u001b[1;33m)\u001b[0m\u001b[1;33m\u001b[0m\u001b[1;33m\u001b[0m\u001b[0m\n\u001b[0;32m    593\u001b[0m \u001b[1;33m\u001b[0m\u001b[0m\n",
      "\u001b[1;31mKeyboardInterrupt\u001b[0m: "
     ]
    }
   ],
   "source": [
    "df_sales[(df_sales['seller_country']=='GB') | (df_sales['buyer_country']=='GB')].sum()"
   ]
  }
 ],
 "metadata": {
  "interpreter": {
   "hash": "9920565f38e5baefdb4026c37eef4637400a2582ed12a30c7a979c1724ec1673"
  },
  "kernelspec": {
   "display_name": "Python 3.10.2 64-bit",
   "language": "python",
   "name": "python3"
  },
  "language_info": {
   "codemirror_mode": {
    "name": "ipython",
    "version": 3
   },
   "file_extension": ".py",
   "mimetype": "text/x-python",
   "name": "python",
   "nbconvert_exporter": "python",
   "pygments_lexer": "ipython3",
   "version": "3.10.2"
  },
  "orig_nbformat": 4
 },
 "nbformat": 4,
 "nbformat_minor": 2
}
