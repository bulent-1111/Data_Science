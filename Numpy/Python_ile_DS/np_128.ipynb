{
 "cells": [
  {
   "cell_type": "code",
   "execution_count": 2,
   "metadata": {},
   "outputs": [
    {
     "name": "stdout",
     "output_type": "stream",
     "text": [
      "[23, 24, 54, 42, 36, 78, 95, 73, 89, 100]\n",
      "[33, 44, 43, 25, 66, 83, 56, 38, 98, 100]\n",
      "[ 28.   34.   48.5  33.5  51.   80.5  75.5  55.5  93.5 100. ]\n",
      "[ 51.   80.5  75.5  55.5  93.5 100. ]\n",
      "76.0\n",
      "60.0\n"
     ]
    }
   ],
   "source": [
    "import numpy as np\n",
    "exam_1= [23,24,54,42,36,78,95,73,89,100]\n",
    "exam_2= [33,44,43,25,66,83,56,38,98,100]\n",
    "\n",
    "exam_1_array = np.array(exam_1)\n",
    "exam_2_array = np.array(exam_2)\n",
    "exam_av_array= exam_1_array/2+exam_2_array/2\n",
    "print(exam_1)\n",
    "print(exam_2)\n",
    "print(exam_av_array)\n",
    "print(exam_av_array[exam_av_array>49])\n",
    "print(np.average(exam_av_array[exam_av_array>49]))\n",
    "print(np.average(exam_av_array))"
   ]
  },
  {
   "cell_type": "code",
   "execution_count": 9,
   "metadata": {},
   "outputs": [
    {
     "data": {
      "text/plain": [
       "array([ 1,  2,  3,  4,  5,  6,  7,  8,  9, 10, 11, 12, 13, 14, 15, 16, 17,\n",
       "       18, 19, 20])"
      ]
     },
     "execution_count": 9,
     "metadata": {},
     "output_type": "execute_result"
    }
   ],
   "source": [
    "arr= np.arange(1,21)\n",
    "arr"
   ]
  },
  {
   "cell_type": "code",
   "execution_count": 10,
   "metadata": {},
   "outputs": [
    {
     "data": {
      "text/plain": [
       "array([[ 1,  2,  3,  4,  5],\n",
       "       [ 6,  7,  8,  9, 10],\n",
       "       [11, 12, 13, 14, 15],\n",
       "       [16, 17, 18, 19, 20]])"
      ]
     },
     "execution_count": 10,
     "metadata": {},
     "output_type": "execute_result"
    }
   ],
   "source": [
    "matrix = arr.reshape(4,5)\n",
    "matrix"
   ]
  },
  {
   "cell_type": "code",
   "execution_count": 14,
   "metadata": {},
   "outputs": [
    {
     "data": {
      "text/plain": [
       "array([[1, 2, 3],\n",
       "       [6, 7, 8]])"
      ]
     },
     "execution_count": 14,
     "metadata": {},
     "output_type": "execute_result"
    }
   ],
   "source": [
    "matrix[2:3,3:4]\n",
    "matrix[2,3]\n",
    "matrix[2:,3:]\n",
    "matrix[:2,:3]"
   ]
  },
  {
   "cell_type": "code",
   "execution_count": 16,
   "metadata": {},
   "outputs": [
    {
     "data": {
      "text/plain": [
       "array([40. , 40. , 48.5, 40. , 51. , 70. , 70. , 55.5, 70. , 70. ])"
      ]
     },
     "execution_count": 16,
     "metadata": {},
     "output_type": "execute_result"
    }
   ],
   "source": [
    "exam_av_array.clip(40,70)"
   ]
  },
  {
   "cell_type": "code",
   "execution_count": 20,
   "metadata": {},
   "outputs": [
    {
     "name": "stdout",
     "output_type": "stream",
     "text": [
      "[ 28.   34.   48.5  33.5  51.   80.5  75.5  55.5  93.5 100. ]\n"
     ]
    },
    {
     "data": {
      "text/plain": [
       "array([ 28.,  34.,  48.,  34.,  51.,  80.,  76.,  56.,  94., 100.])"
      ]
     },
     "execution_count": 20,
     "metadata": {},
     "output_type": "execute_result"
    }
   ],
   "source": [
    "print(exam_av_array)\n",
    "exam_av_array.round(0)"
   ]
  },
  {
   "cell_type": "code",
   "execution_count": 24,
   "metadata": {},
   "outputs": [
    {
     "data": {
      "text/plain": [
       "array([[1, 2, 3],\n",
       "       [4, 5, 6],\n",
       "       [7, 8, 9]])"
      ]
     },
     "execution_count": 24,
     "metadata": {},
     "output_type": "execute_result"
    }
   ],
   "source": [
    "ar_2=np.arange(1,10).reshape(3,3)\n",
    "ar_2"
   ]
  },
  {
   "cell_type": "code",
   "execution_count": 25,
   "metadata": {},
   "outputs": [
    {
     "data": {
      "text/plain": [
       "15"
      ]
     },
     "execution_count": 25,
     "metadata": {},
     "output_type": "execute_result"
    }
   ],
   "source": [
    "ar_2.trace()"
   ]
  },
  {
   "cell_type": "code",
   "execution_count": 31,
   "metadata": {},
   "outputs": [
    {
     "name": "stdout",
     "output_type": "stream",
     "text": [
      "[[10 20 30]\n",
      " [40 50 20]\n",
      " [30 40 80]]\n",
      "140\n"
     ]
    }
   ],
   "source": [
    "l = [10,20,30,40,50,20,30,40,80]\n",
    "ar_3=np.array(l)\n",
    "print(ar_3.reshape(3,3))\n",
    "print(ar_3.reshape(3,3).trace())\n"
   ]
  },
  {
   "cell_type": "code",
   "execution_count": 34,
   "metadata": {},
   "outputs": [
    {
     "name": "stdout",
     "output_type": "stream",
     "text": [
      "[ 1  2  3  4  5  6  7  8  9 10]\n",
      "[11 12 13 14 15 16 17 18 19 20]\n"
     ]
    },
    {
     "data": {
      "text/plain": [
       "3628800"
      ]
     },
     "execution_count": 34,
     "metadata": {},
     "output_type": "execute_result"
    }
   ],
   "source": [
    "a_1 = np.arange(1,11)\n",
    "a_2 = np.arange(11,21)\n",
    "print(a_1)\n",
    "print(a_2)\n",
    "np.prod(a_1)  # dizideki sayilari carpar"
   ]
  },
  {
   "cell_type": "code",
   "execution_count": 68,
   "metadata": {},
   "outputs": [
    {
     "data": {
      "text/plain": [
       "array([[3, 8, 3],\n",
       "       [7, 6, 4],\n",
       "       [7, 0, 2]])"
      ]
     },
     "execution_count": 68,
     "metadata": {},
     "output_type": "execute_result"
    }
   ],
   "source": [
    "q = np.random.randint(10,size=(3,3))\n",
    "q"
   ]
  },
  {
   "cell_type": "code",
   "execution_count": 62,
   "metadata": {},
   "outputs": [
    {
     "data": {
      "text/plain": [
       "array([[0, 3, 9],\n",
       "       [1, 2, 8],\n",
       "       [0, 7, 8]])"
      ]
     },
     "execution_count": 62,
     "metadata": {},
     "output_type": "execute_result"
    }
   ],
   "source": [
    "q.sort()\n",
    "q"
   ]
  },
  {
   "cell_type": "code",
   "execution_count": 69,
   "metadata": {},
   "outputs": [
    {
     "data": {
      "text/plain": [
       "array([[3, 0, 2],\n",
       "       [7, 6, 3],\n",
       "       [7, 8, 4]])"
      ]
     },
     "execution_count": 69,
     "metadata": {},
     "output_type": "execute_result"
    }
   ],
   "source": [
    "q.sort(axis=0)\n",
    "q"
   ]
  },
  {
   "cell_type": "code",
   "execution_count": 70,
   "metadata": {},
   "outputs": [
    {
     "data": {
      "text/plain": [
       "array([[0, 2, 3],\n",
       "       [3, 6, 7],\n",
       "       [4, 7, 8]])"
      ]
     },
     "execution_count": 70,
     "metadata": {},
     "output_type": "execute_result"
    }
   ],
   "source": [
    "np.sort(q,axis=1)"
   ]
  }
 ],
 "metadata": {
  "interpreter": {
   "hash": "9920565f38e5baefdb4026c37eef4637400a2582ed12a30c7a979c1724ec1673"
  },
  "kernelspec": {
   "display_name": "Python 3.10.0 64-bit",
   "language": "python",
   "name": "python3"
  },
  "language_info": {
   "codemirror_mode": {
    "name": "ipython",
    "version": 3
   },
   "file_extension": ".py",
   "mimetype": "text/x-python",
   "name": "python",
   "nbconvert_exporter": "python",
   "pygments_lexer": "ipython3",
   "version": "3.10.0"
  },
  "orig_nbformat": 4
 },
 "nbformat": 4,
 "nbformat_minor": 2
}
