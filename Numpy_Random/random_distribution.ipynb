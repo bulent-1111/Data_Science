{
 "cells": [
  {
   "cell_type": "markdown",
   "metadata": {},
   "source": [
    "A random distribution is a set of random numbers that follow a certain probability density function.\n",
    "\n",
    "Probability Density Function: A function that describes a continuous probability. i.e. probability of all values in an array.\n",
    "\n",
    "Olasılık Yoğunluk Fonksiyonu: Sürekli bir olasılığı tanımlayan fonksiyon. yani bir dizideki tüm değerlerin olasılığı."
   ]
  },
  {
   "cell_type": "markdown",
   "metadata": {},
   "source": [
    "Her değerin 3, 5, 7 veya 9 olması gereken 100 değer içeren 1 boyutlu bir dizi oluşturun.\n",
    "\n",
    "Değerin 3 olma olasılığı 0,1 olarak ayarlanmıştır.\n",
    "\n",
    "Değerin 5 olma olasılığı 0,3 olarak ayarlanmıştır.\n",
    "\n",
    "Değerin 7 olma olasılığı 0,6 olarak ayarlanmıştır.\n",
    "\n",
    "Değerin 9 olma olasılığı 0 olarak ayarlanmıştır."
   ]
  },
  {
   "cell_type": "code",
   "execution_count": 1,
   "metadata": {},
   "outputs": [
    {
     "name": "stdout",
     "output_type": "stream",
     "text": [
      "[7 5 5 7 7 7 3 3 5 5 7 7 7 7 7 3 7 5 7 7 7 5 5 7 3 5 7 5 7 5 5 7 5 7 7 5 5\n",
      " 7 7 7 5 5 7 7 7 7 7 5 7 7 7 5 7 7 7 3 5 5 7 7 7 5 7 3 7 5 7 5 7 5 7 7 7 3\n",
      " 5 7 5 7 5 7 7 7 7 7 7 7 5 7 7 5 7 7 5 3 7 7 7 5 7 5]\n"
     ]
    }
   ],
   "source": [
    "from numpy import random\n",
    "\n",
    "x = random.choice([3, 5, 7, 9], p=[0.1, 0.3, 0.6, 0.0], size=(100))\n",
    "\n",
    "print(x)\n",
    "\n",
    "# Tüm olasılık sayılarının toplamı 1 olmalıdır."
   ]
  },
  {
   "cell_type": "code",
   "execution_count": 2,
   "metadata": {},
   "outputs": [
    {
     "name": "stdout",
     "output_type": "stream",
     "text": [
      "[[7 7 7 5 7]\n",
      " [7 5 7 7 5]\n",
      " [5 7 7 5 5]]\n"
     ]
    }
   ],
   "source": [
    "from numpy import random\n",
    "x= random.choice([3,5,7,9],p=[0.1,0.3,0.6,0.0],size = (3, 5))\n",
    "print(x)"
   ]
  },
  {
   "cell_type": "code",
   "execution_count": null,
   "metadata": {},
   "outputs": [],
   "source": []
  }
 ],
 "metadata": {
  "interpreter": {
   "hash": "9920565f38e5baefdb4026c37eef4637400a2582ed12a30c7a979c1724ec1673"
  },
  "kernelspec": {
   "display_name": "Python 3.10.0 64-bit",
   "language": "python",
   "name": "python3"
  },
  "language_info": {
   "codemirror_mode": {
    "name": "ipython",
    "version": 3
   },
   "file_extension": ".py",
   "mimetype": "text/x-python",
   "name": "python",
   "nbconvert_exporter": "python",
   "pygments_lexer": "ipython3",
   "version": "3.10.0"
  },
  "orig_nbformat": 4
 },
 "nbformat": 4,
 "nbformat_minor": 2
}
