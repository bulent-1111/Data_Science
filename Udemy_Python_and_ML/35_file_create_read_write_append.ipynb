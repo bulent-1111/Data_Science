{
 "cells": [
  {
   "cell_type": "markdown",
   "metadata": {},
   "source": [
    "'r': okumaya açık (varsayılan)\n",
    "\n",
    "'w': yazmak için aç, önce dosyayı kes\n",
    "\n",
    "'x': özel oluşturma için aç, dosya zaten varsa başarısız oluyor\n",
    "\n",
    "'a': yazmak için aç, varsa dosyanın sonuna ekler\n",
    "\n",
    "'b': ikili mod\n",
    "\n",
    "'t': metin modu (varsayılan)\n",
    "\n",
    "'+': güncelleme için bir disk dosyası açın (okuma ve yazma)\n",
    "\n",
    "'U': evrensel yeni satır modu (kullanımdan kaldırıldı)\n",
    "\n",
    "\"r/w/a\" ile kullanılamaz\n",
    "\"x\" yalnızca yazılabilir. \"x+\" yazabilir ve okuyabilir\n",
    "Dosya daha önce mevcut olmamalıdır\n",
    "Dosya sonra oluşturulacak"
   ]
  },
  {
   "cell_type": "code",
   "execution_count": 6,
   "metadata": {},
   "outputs": [
    {
     "name": "stdout",
     "output_type": "stream",
     "text": [
      "Some textThis text owerwrite the content of our file\n",
      "This text owerwrite the content of our file\n"
     ]
    }
   ],
   "source": [
    "f = open(\"test.txt\",\"a\")\n",
    "f.write(\"\\nThis text owerwrite the content of our file\")\n",
    "f = open(\"test.txt\",\"r\")\n",
    "print(f.read())"
   ]
  }
 ],
 "metadata": {
  "interpreter": {
   "hash": "9920565f38e5baefdb4026c37eef4637400a2582ed12a30c7a979c1724ec1673"
  },
  "kernelspec": {
   "display_name": "Python 3.10.2 64-bit",
   "language": "python",
   "name": "python3"
  },
  "language_info": {
   "codemirror_mode": {
    "name": "ipython",
    "version": 3
   },
   "file_extension": ".py",
   "mimetype": "text/x-python",
   "name": "python",
   "nbconvert_exporter": "python",
   "pygments_lexer": "ipython3",
   "version": "3.10.2"
  },
  "orig_nbformat": 4
 },
 "nbformat": 4,
 "nbformat_minor": 2
}
