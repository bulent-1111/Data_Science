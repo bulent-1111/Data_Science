{
 "cells": [
  {
   "cell_type": "code",
   "execution_count": 13,
   "metadata": {},
   "outputs": [
    {
     "name": "stdout",
     "output_type": "stream",
     "text": [
      "['sales', 'customers']\n",
      "        Date             Customer  Invoice  Amount\n",
      "0 2018-12-01  Steel Brothers Inc.       98    1340\n",
      "1 2018-12-10             MMC Inc.       99    1900\n",
      "2 2018-12-12             MMC Inc.      100    2900\n",
      "3 2018-12-18  Steel Brothers Inc.      101     977\n",
      "4 2018-12-21     Steel & Iron LLC      102    3400\n",
      "<class 'pandas.core.frame.DataFrame'>\n",
      "0   2018-12-01\n",
      "1   2018-12-10\n",
      "2   2018-12-12\n",
      "3   2018-12-18\n",
      "4   2018-12-21\n",
      "Name: Date, dtype: datetime64[ns]\n",
      "0    1340\n",
      "1    1900\n",
      "2    2900\n",
      "3     977\n",
      "4    3400\n",
      "Name: Amount, dtype: int64\n",
      "Amount sum: 10517\n",
      "\n",
      "\n",
      "\n",
      "Date        2018-12-01 00:00:00\n",
      "Customer    Steel Brothers Inc.\n",
      "Invoice                      98\n",
      "Amount                     1340\n",
      "Name: 0, dtype: object\n"
     ]
    }
   ],
   "source": [
    "#  pip install openpyxl\n",
    "#  pip install xlrd\n",
    "#  pip install pandas\n",
    "import pandas as pd\n",
    "file = pd.ExcelFile(\"sales.xlsx\")\n",
    "print(file.sheet_names)\n",
    "\n",
    "sheet = file.parse('sales')\n",
    "print(sheet)\n",
    "print(type(sheet))\n",
    "print(sheet.Date)\n",
    "print(sheet.Amount)\n",
    "print(\"Amount sum:\", sheet.Amount.sum())\n",
    "print('\\n\\n')\n"
   ]
  },
  {
   "cell_type": "code",
   "execution_count": 14,
   "metadata": {},
   "outputs": [
    {
     "data": {
      "text/plain": [
       "Date        2018-12-01 00:00:00\n",
       "Customer    Steel Brothers Inc.\n",
       "Invoice                      98\n",
       "Amount                     1340\n",
       "Name: 0, dtype: object"
      ]
     },
     "execution_count": 14,
     "metadata": {},
     "output_type": "execute_result"
    }
   ],
   "source": [
    "sheet.loc[0]"
   ]
  },
  {
   "cell_type": "code",
   "execution_count": 15,
   "metadata": {},
   "outputs": [
    {
     "data": {
      "text/plain": [
       "1340"
      ]
     },
     "execution_count": 15,
     "metadata": {},
     "output_type": "execute_result"
    }
   ],
   "source": [
    "sheet.loc[0,'Amount']"
   ]
  },
  {
   "cell_type": "code",
   "execution_count": 18,
   "metadata": {},
   "outputs": [
    {
     "data": {
      "text/html": [
       "<div>\n",
       "<style scoped>\n",
       "    .dataframe tbody tr th:only-of-type {\n",
       "        vertical-align: middle;\n",
       "    }\n",
       "\n",
       "    .dataframe tbody tr th {\n",
       "        vertical-align: top;\n",
       "    }\n",
       "\n",
       "    .dataframe thead th {\n",
       "        text-align: right;\n",
       "    }\n",
       "</style>\n",
       "<table border=\"1\" class=\"dataframe\">\n",
       "  <thead>\n",
       "    <tr style=\"text-align: right;\">\n",
       "      <th></th>\n",
       "      <th>Date</th>\n",
       "      <th>Invoice</th>\n",
       "      <th>Amount</th>\n",
       "    </tr>\n",
       "    <tr>\n",
       "      <th>Customer</th>\n",
       "      <th></th>\n",
       "      <th></th>\n",
       "      <th></th>\n",
       "    </tr>\n",
       "  </thead>\n",
       "  <tbody>\n",
       "    <tr>\n",
       "      <th>MMC Inc.</th>\n",
       "      <td>2018-12-10</td>\n",
       "      <td>99</td>\n",
       "      <td>1900</td>\n",
       "    </tr>\n",
       "    <tr>\n",
       "      <th>MMC Inc.</th>\n",
       "      <td>2018-12-12</td>\n",
       "      <td>100</td>\n",
       "      <td>2900</td>\n",
       "    </tr>\n",
       "  </tbody>\n",
       "</table>\n",
       "</div>"
      ],
      "text/plain": [
       "               Date  Invoice  Amount\n",
       "Customer                            \n",
       "MMC Inc. 2018-12-10       99    1900\n",
       "MMC Inc. 2018-12-12      100    2900"
      ]
     },
     "execution_count": 18,
     "metadata": {},
     "output_type": "execute_result"
    }
   ],
   "source": [
    "sheet.set_index('Customer',inplace=True)\n",
    "sheet.loc['MMC Inc.']"
   ]
  },
  {
   "cell_type": "code",
   "execution_count": 19,
   "metadata": {},
   "outputs": [
    {
     "data": {
      "text/html": [
       "<div>\n",
       "<style scoped>\n",
       "    .dataframe tbody tr th:only-of-type {\n",
       "        vertical-align: middle;\n",
       "    }\n",
       "\n",
       "    .dataframe tbody tr th {\n",
       "        vertical-align: top;\n",
       "    }\n",
       "\n",
       "    .dataframe thead th {\n",
       "        text-align: right;\n",
       "    }\n",
       "</style>\n",
       "<table border=\"1\" class=\"dataframe\">\n",
       "  <thead>\n",
       "    <tr style=\"text-align: right;\">\n",
       "      <th></th>\n",
       "      <th>Customer</th>\n",
       "      <th>Date</th>\n",
       "      <th>Invoice</th>\n",
       "      <th>Amount</th>\n",
       "    </tr>\n",
       "  </thead>\n",
       "  <tbody>\n",
       "    <tr>\n",
       "      <th>0</th>\n",
       "      <td>Steel Brothers Inc.</td>\n",
       "      <td>2018-12-01</td>\n",
       "      <td>98</td>\n",
       "      <td>1340</td>\n",
       "    </tr>\n",
       "    <tr>\n",
       "      <th>1</th>\n",
       "      <td>MMC Inc.</td>\n",
       "      <td>2018-12-10</td>\n",
       "      <td>99</td>\n",
       "      <td>1900</td>\n",
       "    </tr>\n",
       "    <tr>\n",
       "      <th>2</th>\n",
       "      <td>MMC Inc.</td>\n",
       "      <td>2018-12-12</td>\n",
       "      <td>100</td>\n",
       "      <td>2900</td>\n",
       "    </tr>\n",
       "    <tr>\n",
       "      <th>3</th>\n",
       "      <td>Steel Brothers Inc.</td>\n",
       "      <td>2018-12-18</td>\n",
       "      <td>101</td>\n",
       "      <td>977</td>\n",
       "    </tr>\n",
       "    <tr>\n",
       "      <th>4</th>\n",
       "      <td>Steel &amp; Iron LLC</td>\n",
       "      <td>2018-12-21</td>\n",
       "      <td>102</td>\n",
       "      <td>3400</td>\n",
       "    </tr>\n",
       "  </tbody>\n",
       "</table>\n",
       "</div>"
      ],
      "text/plain": [
       "              Customer       Date  Invoice  Amount\n",
       "0  Steel Brothers Inc. 2018-12-01       98    1340\n",
       "1             MMC Inc. 2018-12-10       99    1900\n",
       "2             MMC Inc. 2018-12-12      100    2900\n",
       "3  Steel Brothers Inc. 2018-12-18      101     977\n",
       "4     Steel & Iron LLC 2018-12-21      102    3400"
      ]
     },
     "execution_count": 19,
     "metadata": {},
     "output_type": "execute_result"
    }
   ],
   "source": [
    "sheet= sheet.reset_index()\n",
    "sheet"
   ]
  }
 ],
 "metadata": {
  "interpreter": {
   "hash": "9920565f38e5baefdb4026c37eef4637400a2582ed12a30c7a979c1724ec1673"
  },
  "kernelspec": {
   "display_name": "Python 3.10.2 64-bit",
   "language": "python",
   "name": "python3"
  },
  "language_info": {
   "codemirror_mode": {
    "name": "ipython",
    "version": 3
   },
   "file_extension": ".py",
   "mimetype": "text/x-python",
   "name": "python",
   "nbconvert_exporter": "python",
   "pygments_lexer": "ipython3",
   "version": "3.10.2"
  },
  "orig_nbformat": 4
 },
 "nbformat": 4,
 "nbformat_minor": 2
}
