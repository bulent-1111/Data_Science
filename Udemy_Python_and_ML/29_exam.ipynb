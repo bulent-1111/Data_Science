{
 "cells": [
  {
   "cell_type": "code",
   "execution_count": 5,
   "metadata": {},
   "outputs": [
    {
     "name": "stdout",
     "output_type": "stream",
     "text": [
      "This program will help you type faster. You will have to type thr word \"proramming\"..\n",
      "You made0mistakes.\n",
      "Now let's see your evolution\n"
     ]
    },
    {
     "data": {
      "image/png": "[encoded data removed]",
      "text/plain": [
       "<Figure size 432x288 with 1 Axes>"
      ]
     },
     "metadata": {
      "needs_background": "light"
     },
     "output_type": "display_data"
    }
   ],
   "source": [
    "import matplotlib.pyplot as plt\n",
    "import time as t\n",
    "times = []\n",
    "mistakes = 0\n",
    "print('This program will help you type faster. You will have to type thr word \"proramming\"..')\n",
    "input (\"Press enter to contuinue\")\n",
    "\n",
    "while len(times) <5:\n",
    "    start = t.time()\n",
    "    word = input(\"Type the word\")\n",
    "    end = t.time()\n",
    "    time_elapsed= end - start\n",
    "\n",
    "    times.append(time_elapsed)\n",
    "\n",
    "    if (word.lower() != 'programming'):\n",
    "        mistakes += 1\n",
    "    \n",
    "print('You made'+ str(mistakes) + 'mistakes.')\n",
    "print(\"Now let's see your evolution\")\n",
    "t.sleep(3)\n",
    "\n",
    "x=[1,2,3,4,5]\n",
    "y= times\n",
    "plt.plot(x,y)\n",
    "plt.show()\n",
    "\n",
    "\n",
    "\n"
   ]
  },
  {
   "cell_type": "code",
   "execution_count": null,
   "metadata": {},
   "outputs": [],
   "source": [
    "import matplotlib.pyplot as plt\n",
    "import time as t\n",
    "times = []\n",
    "mistakes = 0\n",
    "print('This program will help you type faster. You will have to type thr word \"proramming\"..')\n",
    "input (\"Press enter to contuinue\")\n",
    "\n",
    "while len(times) <5:\n",
    "    start = t.time()\n",
    "    word = input(\"Type the word\")\n",
    "    end = t.time()\n",
    "    time_elapsed= end - start\n",
    "\n",
    "    times.append(time_elapsed)\n",
    "\n",
    "    if (word.lower() != 'programming'):\n",
    "        mistakes += 1\n",
    "    \n",
    "print('You made'+ str(mistakes) + 'mistakes.')\n",
    "print(\"Now let's see your evolution\")\n",
    "t.sleep(3)\n",
    "\n",
    "x=[1,2,3,4,5]\n",
    "y= times\n",
    "plt.plot(x,y)\n",
    "legends =['1','2','3','4','5']\n",
    "plt.ylabels('Time in seconds')\n",
    "plt.ylabels('Attempts')\n",
    "plt.title('Your typing evolution')\n",
    "plt.show()\n"
   ]
  }
 ],
 "metadata": {
  "interpreter": {
   "hash": "9920565f38e5baefdb4026c37eef4637400a2582ed12a30c7a979c1724ec1673"
  },
  "kernelspec": {
   "display_name": "Python 3.10.0 64-bit",
   "language": "python",
   "name": "python3"
  },
  "language_info": {
   "codemirror_mode": {
    "name": "ipython",
    "version": 3
   },
   "file_extension": ".py",
   "mimetype": "text/x-python",
   "name": "python",
   "nbconvert_exporter": "python",
   "pygments_lexer": "ipython3",
   "version": "3.10.0"
  },
  "orig_nbformat": 4
 },
 "nbformat": 4,
 "nbformat_minor": 2
}
