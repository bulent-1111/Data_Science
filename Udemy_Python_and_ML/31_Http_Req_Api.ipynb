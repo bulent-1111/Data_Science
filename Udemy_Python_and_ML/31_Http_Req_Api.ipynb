{
 "cells": [
  {
   "cell_type": "code",
   "execution_count": null,
   "metadata": {},
   "outputs": [],
   "source": [
    "# https://opentdb.com/api_config.php\n",
    "# https://opentdb.com/api.php?amount=1&category=12&difficulty=easy&type=multiple\n",
    "# json file generated "
   ]
  }
 ],
 "metadata": {
  "language_info": {
   "name": "python"
  },
  "orig_nbformat": 4
 },
 "nbformat": 4,
 "nbformat_minor": 2
}
