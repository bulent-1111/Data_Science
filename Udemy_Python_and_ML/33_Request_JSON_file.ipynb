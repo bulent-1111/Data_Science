{
 "cells": [
  {
   "cell_type": "markdown",
   "metadata": {},
   "source": []
  },
  {
   "cell_type": "code",
   "execution_count": 3,
   "metadata": {},
   "outputs": [
    {
     "name": "stdout",
     "output_type": "stream",
     "text": [
      "\"The A Team\" first aired in the USA and in the UK in what year?\n",
      "\n",
      "1-1987\n",
      "2-1985\n",
      "3-1981\n",
      "4-1983\n",
      "Sorry: 1985is in correct! The correct answer is 1983\n",
      "Which nation claims ownership of Antarctica?\n",
      "\n",
      "1-United Nations\n",
      "2-No one, but there are claims.\n",
      "3-Australia\n",
      "4-United States of America\n",
      "Congregulation! Your answer ist correct! The correct answer was :No one, but there are claims.\n",
      "This movie contains the quote, \"I love the smell of napalm in the morning!\"\n",
      "\n",
      "1-Platoon\n",
      "2-The Deer Hunter\n",
      "3-Full Metal Jacket\n",
      "4-Apocalypse Now\n",
      "Sorry: Platoonis in correct! The correct answer is Apocalypse Now\n",
      "In which movie does Robin Williams' character have to disguise themselves into a woman?\n",
      "\n",
      "1-Old Dogs\n",
      "2-Awakenings\n",
      "3-Jumanji\n",
      "4-Mrs. Doubtfire\n",
      "Congregulation! Your answer ist correct! The correct answer was :Mrs. Doubtfire\n",
      "Thanks for playing\n"
     ]
    }
   ],
   "source": [
    "import requests\n",
    "import json\n",
    "import pprint\n",
    "import random\n",
    "import html\n",
    "\n",
    "url='https://opentdb.com/api.php?amount=1'\n",
    "endGame =\"\"\n",
    "while endGame!= \"quit\":\n",
    "    r = requests.get(url)\n",
    "    if(r.status_code != 200):\n",
    "        endGame =input(\"Sorry, tehere was a problem retrieving the question. \\n\\\n",
    "            Press enterto try again or type 'quit' to quit\").lower()\n",
    "    else:\n",
    "        answer_number=1\n",
    "        data = json.loads(r.text)\n",
    "        question = data['results'][0]['question']\n",
    "        answers = data['results'][0]['incorrect_answers']\n",
    "        correct_answer = data['results'][0]['correct_answer']\n",
    "        answers.append(correct_answer)\n",
    "        random.shuffle(answers)\n",
    "\n",
    "        print(html.unescape(question) + \"\\n\"  )\n",
    "\n",
    "        for answer in answers:\n",
    "            print(str(answer_number)+'-'+ html.unescape(answer))\n",
    "            answer_number+=1\n",
    "        user_answer = input(\"\\nTypethe number of the correct answer\")\n",
    "        user_answer = answers[int(user_answer)-1]\n",
    "        if user_answer== correct_answer:\n",
    "            print(\"Congregulation! Your answer ist correct! The correct answer was :\"+ html.unescape(correct_answer))\n",
    "        else : \n",
    "            print(\"Sorry: \"+ html.unescape(user_answer)+ \"is in correct! The correct answer is \"+html.unescape(correct_answer))\n",
    "        \n",
    "        endGame = input(\"\\n Press enterto try again or type 'quit' to quit the game\").lower()\n",
    "print('Thanks for playing')\n",
    "\n"
   ]
  }
 ],
 "metadata": {
  "interpreter": {
   "hash": "9920565f38e5baefdb4026c37eef4637400a2582ed12a30c7a979c1724ec1673"
  },
  "kernelspec": {
   "display_name": "Python 3.10.2 64-bit",
   "language": "python",
   "name": "python3"
  },
  "language_info": {
   "codemirror_mode": {
    "name": "ipython",
    "version": 3
   },
   "file_extension": ".py",
   "mimetype": "text/x-python",
   "name": "python",
   "nbconvert_exporter": "python",
   "pygments_lexer": "ipython3",
   "version": "3.10.2"
  },
  "orig_nbformat": 4
 },
 "nbformat": 4,
 "nbformat_minor": 2
}
