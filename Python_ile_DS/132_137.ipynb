{
 "cells": [
  {
   "cell_type": "code",
   "execution_count": 9,
   "metadata": {},
   "outputs": [
    {
     "name": "stdout",
     "output_type": "stream",
     "text": [
      "[[ 3  4  5]\n",
      " [ 6  7  8]\n",
      " [ 9 10 11]]\n",
      "[[1. 0. 0.]\n",
      " [0. 1. 0.]\n",
      " [0. 0. 1.]]\n"
     ]
    },
    {
     "data": {
      "text/plain": [
       "array([[ 3.,  4.,  5.],\n",
       "       [ 6.,  7.,  8.],\n",
       "       [ 9., 10., 11.]])"
      ]
     },
     "execution_count": 9,
     "metadata": {},
     "output_type": "execute_result"
    }
   ],
   "source": [
    "import numpy as np\n",
    "a = np.arange(3,12).reshape(3,3)\n",
    "b = np.eye(3,3)\n",
    "print(a)\n",
    "print(b)\n",
    "np.matmul(a,b)"
   ]
  },
  {
   "cell_type": "code",
   "execution_count": 10,
   "metadata": {},
   "outputs": [
    {
     "data": {
      "text/plain": [
       "array([[ 1,  4,  7],\n",
       "       [10, 13, 16],\n",
       "       [19, 22, 25]])"
      ]
     },
     "execution_count": 10,
     "metadata": {},
     "output_type": "execute_result"
    }
   ],
   "source": [
    "data = np.arange(1,27,3).reshape(3,3)\n",
    "data"
   ]
  },
  {
   "cell_type": "code",
   "execution_count": 11,
   "metadata": {},
   "outputs": [
    {
     "data": {
      "text/plain": [
       "39"
      ]
     },
     "execution_count": 11,
     "metadata": {},
     "output_type": "execute_result"
    }
   ],
   "source": [
    "np.sum(data[:,1])"
   ]
  },
  {
   "cell_type": "code",
   "execution_count": 12,
   "metadata": {},
   "outputs": [
    {
     "data": {
      "text/plain": [
       "16.0"
      ]
     },
     "execution_count": 12,
     "metadata": {},
     "output_type": "execute_result"
    }
   ],
   "source": [
    "np.mean(data[:,2])"
   ]
  },
  {
   "cell_type": "code",
   "execution_count": 13,
   "metadata": {},
   "outputs": [
    {
     "data": {
      "text/plain": [
       "13.0"
      ]
     },
     "execution_count": 13,
     "metadata": {},
     "output_type": "execute_result"
    }
   ],
   "source": [
    "np.median(data[1,:])"
   ]
  },
  {
   "cell_type": "code",
   "execution_count": 27,
   "metadata": {},
   "outputs": [
    {
     "name": "stdout",
     "output_type": "stream",
     "text": [
      "[[0.76086579 1.95509632]\n",
      " [5.7073057  2.4349138 ]\n",
      " [4.59500442 3.17493909]\n",
      " [9.81269729 0.69350349]\n",
      " [8.1212643  4.94803137]\n",
      " [0.41339759 7.71797479]\n",
      " [5.51063647 0.49450654]\n",
      " [8.78274683 5.42731117]]\n",
      "1. sütunun sdtandart sapmasi:  3.2678524297679266\n",
      "1. ve 2 sütunlarin corelasyon katsayisi:  [[ 1.         -0.26294109]\n",
      " [-0.26294109  1.        ]]\n",
      "1. ve 2 sütunlarin corelasyon katsayisi:  -0.2629410935399321\n"
     ]
    }
   ],
   "source": [
    "random_data=(np.random.rand(16)*10).reshape(8,2)\n",
    "print(random_data)\n",
    "st_1 = np.std(random_data[:,0]) # 1. sütunun sdtandart sapmasi\n",
    "print(\"1. sütunun sdtandart sapmasi: \",st_1)\n",
    "st_2 = np.corrcoef(random_data[:,0],random_data[:,1])\n",
    "# print(\"1. ve 2 sütunlarin corelasyon katsayisi: \",st_2)\n",
    "print(\"1. ve 2 sütunlarin corelasyon katsayisi: \",st_2[0][1])\n",
    "\n"
   ]
  },
  {
   "cell_type": "code",
   "execution_count": 28,
   "metadata": {},
   "outputs": [
    {
     "data": {
      "text/plain": [
       "array([[0.76086579, 1.95509632],\n",
       "       [5.7073057 , 2.4349138 ],\n",
       "       [4.59500442, 3.17493909],\n",
       "       [9.81269729, 0.69350349],\n",
       "       [8.1212643 , 4.94803137],\n",
       "       [0.41339759, 7.71797479],\n",
       "       [5.51063647, 0.49450654],\n",
       "       [8.78274683, 5.42731117]])"
      ]
     },
     "execution_count": 28,
     "metadata": {},
     "output_type": "execute_result"
    }
   ],
   "source": [
    "random_data"
   ]
  },
  {
   "cell_type": "code",
   "execution_count": 29,
   "metadata": {},
   "outputs": [
    {
     "name": "stdout",
     "output_type": "stream",
     "text": [
      "[0.76086579 1.95509632]\n",
      "[5.7073057 2.4349138]\n",
      "[4.59500442 3.17493909]\n",
      "[9.81269729 0.69350349]\n",
      "[8.1212643  4.94803137]\n",
      "[0.41339759 7.71797479]\n",
      "[5.51063647 0.49450654]\n",
      "[8.78274683 5.42731117]\n"
     ]
    }
   ],
   "source": [
    "for i in random_data:\n",
    "    print(i)"
   ]
  },
  {
   "cell_type": "code",
   "execution_count": 34,
   "metadata": {},
   "outputs": [
    {
     "name": "stdout",
     "output_type": "stream",
     "text": [
      "0.7608657931269269\n",
      "1.9550963209740835\n",
      "5.707305697164669\n",
      "2.434913799322392\n",
      "4.595004422387186\n",
      "3.1749390853965354\n",
      "9.812697286987051\n",
      "0.693503488389825\n",
      "8.121264302716838\n",
      "4.948031370458933\n",
      "0.4133975930367617\n",
      "7.717974787289181\n",
      "5.5106364726049275\n",
      "0.49450654007766826\n",
      "8.782746832731785\n",
      "5.427311174660726\n"
     ]
    }
   ],
   "source": [
    "for i in np.nditer(random_data,order='C'): # satir satir siraliyor\n",
    "    print(i)"
   ]
  },
  {
   "cell_type": "code",
   "execution_count": 35,
   "metadata": {},
   "outputs": [
    {
     "name": "stdout",
     "output_type": "stream",
     "text": [
      "0.7608657931269269\n",
      "5.707305697164669\n",
      "4.595004422387186\n",
      "9.812697286987051\n",
      "8.121264302716838\n",
      "0.4133975930367617\n",
      "5.5106364726049275\n",
      "8.782746832731785\n",
      "1.9550963209740835\n",
      "2.434913799322392\n",
      "3.1749390853965354\n",
      "0.693503488389825\n",
      "4.948031370458933\n",
      "7.717974787289181\n",
      "0.49450654007766826\n",
      "5.427311174660726\n"
     ]
    }
   ],
   "source": [
    "for i in np.nditer(random_data,order='F'): # sütun sütun siraliyor\n",
    "    print(i)"
   ]
  },
  {
   "cell_type": "code",
   "execution_count": 46,
   "metadata": {},
   "outputs": [
    {
     "data": {
      "text/plain": [
       "array([[28.419, 32.873, 17.93 , 35.742],\n",
       "       [11.327, 14.279, 43.665,  7.345],\n",
       "       [17.264, 12.329,  1.678,  5.608],\n",
       "       [ 1.371, 43.984,  5.331, 27.556]])"
      ]
     },
     "execution_count": 46,
     "metadata": {},
     "output_type": "execute_result"
    }
   ],
   "source": [
    "x_data = np.random.uniform(low=1, high=50, size=16).round(3).reshape(4,4)\n",
    "x_data\n"
   ]
  },
  {
   "cell_type": "code",
   "execution_count": 47,
   "metadata": {},
   "outputs": [
    {
     "name": "stdout",
     "output_type": "stream",
     "text": [
      "[28.419 43.984 43.665 35.742]\n",
      "[35.742 43.665 17.264 43.984]\n"
     ]
    }
   ],
   "source": [
    "print(np.amax(x_data,axis=0))\n",
    "print(np.amax(x_data,axis=1))"
   ]
  },
  {
   "cell_type": "code",
   "execution_count": 48,
   "metadata": {},
   "outputs": [
    {
     "data": {
      "text/plain": [
       "array([[2, 0, 1, 3],\n",
       "       [3, 0, 1, 2],\n",
       "       [2, 3, 1, 0],\n",
       "       [0, 2, 3, 1]], dtype=int64)"
      ]
     },
     "execution_count": 48,
     "metadata": {},
     "output_type": "execute_result"
    }
   ],
   "source": [
    "np.argsort(x_data)"
   ]
  },
  {
   "cell_type": "code",
   "execution_count": 51,
   "metadata": {},
   "outputs": [
    {
     "name": "stdout",
     "output_type": "stream",
     "text": [
      "[500 600 300 400 700 100 200]\n",
      "[5 6 2 3 0 1 4]\n"
     ]
    }
   ],
   "source": [
    "import numpy as np\n",
    "\n",
    "Score_arr = np.array([500, 600, 300, 400, 700, 100, 200])\n",
    "\n",
    "Sorted_Score_arr = np.argsort(Score_arr)\n",
    "print(Score_arr)\n",
    "print(Sorted_Score_arr)"
   ]
  },
  {
   "cell_type": "code",
   "execution_count": null,
   "metadata": {},
   "outputs": [],
   "source": []
  },
  {
   "cell_type": "code",
   "execution_count": null,
   "metadata": {},
   "outputs": [],
   "source": []
  }
 ],
 "metadata": {
  "interpreter": {
   "hash": "9920565f38e5baefdb4026c37eef4637400a2582ed12a30c7a979c1724ec1673"
  },
  "kernelspec": {
   "display_name": "Python 3.10.0 64-bit",
   "language": "python",
   "name": "python3"
  },
  "language_info": {
   "codemirror_mode": {
    "name": "ipython",
    "version": 3
   },
   "file_extension": ".py",
   "mimetype": "text/x-python",
   "name": "python",
   "nbconvert_exporter": "python",
   "pygments_lexer": "ipython3",
   "version": "3.10.0"
  },
  "orig_nbformat": 4
 },
 "nbformat": 4,
 "nbformat_minor": 2
}
